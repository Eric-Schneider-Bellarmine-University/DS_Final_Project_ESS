{
 "cells": [
  {
   "cell_type": "code",
   "execution_count": 93,
   "id": "04bc5a20",
   "metadata": {},
   "outputs": [],
   "source": [
    "import pandas"
   ]
  },
  {
   "cell_type": "code",
   "execution_count": 94,
   "id": "a6990c4b",
   "metadata": {},
   "outputs": [],
   "source": [
    "stock_info=pandas.read_csv('Stock_Dataset.csv')"
   ]
  },
  {
   "cell_type": "code",
   "execution_count": 95,
   "id": "53087d82",
   "metadata": {},
   "outputs": [
    {
     "data": {
      "text/html": [
       "<div>\n",
       "<style scoped>\n",
       "    .dataframe tbody tr th:only-of-type {\n",
       "        vertical-align: middle;\n",
       "    }\n",
       "\n",
       "    .dataframe tbody tr th {\n",
       "        vertical-align: top;\n",
       "    }\n",
       "\n",
       "    .dataframe thead th {\n",
       "        text-align: right;\n",
       "    }\n",
       "</style>\n",
       "<table border=\"1\" class=\"dataframe\">\n",
       "  <thead>\n",
       "    <tr style=\"text-align: right;\">\n",
       "      <th></th>\n",
       "      <th>Unnamed: 0</th>\n",
       "      <th>Return_On_Equity</th>\n",
       "      <th>Current_Ratio</th>\n",
       "      <th>Asster_Turnover</th>\n",
       "      <th>WACC</th>\n",
       "      <th>Dividend_Yield</th>\n",
       "      <th>Earnings_Yield</th>\n",
       "      <th>Revenue_Change</th>\n",
       "      <th>Net_Income_Change</th>\n",
       "      <th>Price_Change</th>\n",
       "    </tr>\n",
       "  </thead>\n",
       "  <tbody>\n",
       "    <tr>\n",
       "      <th>0</th>\n",
       "      <td>0</td>\n",
       "      <td>0.212147</td>\n",
       "      <td>2.611354</td>\n",
       "      <td>0.634860</td>\n",
       "      <td>0.082314</td>\n",
       "      <td>0.006483</td>\n",
       "      <td>0.030353</td>\n",
       "      <td>0.997810</td>\n",
       "      <td>0.988836</td>\n",
       "      <td>-0.012635</td>\n",
       "    </tr>\n",
       "    <tr>\n",
       "      <th>1</th>\n",
       "      <td>1</td>\n",
       "      <td>0.236381</td>\n",
       "      <td>2.030091</td>\n",
       "      <td>0.650209</td>\n",
       "      <td>0.079688</td>\n",
       "      <td>0.005628</td>\n",
       "      <td>0.028202</td>\n",
       "      <td>1.083716</td>\n",
       "      <td>1.036364</td>\n",
       "      <td>-0.015849</td>\n",
       "    </tr>\n",
       "    <tr>\n",
       "      <th>2</th>\n",
       "      <td>2</td>\n",
       "      <td>-0.153140</td>\n",
       "      <td>1.453795</td>\n",
       "      <td>0.745390</td>\n",
       "      <td>0.144074</td>\n",
       "      <td>0.011897</td>\n",
       "      <td>-0.107353</td>\n",
       "      <td>0.847402</td>\n",
       "      <td>5.292683</td>\n",
       "      <td>-0.026000</td>\n",
       "    </tr>\n",
       "    <tr>\n",
       "      <th>3</th>\n",
       "      <td>3</td>\n",
       "      <td>-0.024232</td>\n",
       "      <td>1.747670</td>\n",
       "      <td>0.843792</td>\n",
       "      <td>0.131412</td>\n",
       "      <td>0.008853</td>\n",
       "      <td>-0.015133</td>\n",
       "      <td>1.024605</td>\n",
       "      <td>-0.286713</td>\n",
       "      <td>0.001992</td>\n",
       "    </tr>\n",
       "    <tr>\n",
       "      <th>4</th>\n",
       "      <td>4</td>\n",
       "      <td>-0.334683</td>\n",
       "      <td>0.223087</td>\n",
       "      <td>0.435904</td>\n",
       "      <td>0.078395</td>\n",
       "      <td>NaN</td>\n",
       "      <td>-1.310345</td>\n",
       "      <td>1.022805</td>\n",
       "      <td>1.423283</td>\n",
       "      <td>0.032787</td>\n",
       "    </tr>\n",
       "    <tr>\n",
       "      <th>...</th>\n",
       "      <td>...</td>\n",
       "      <td>...</td>\n",
       "      <td>...</td>\n",
       "      <td>...</td>\n",
       "      <td>...</td>\n",
       "      <td>...</td>\n",
       "      <td>...</td>\n",
       "      <td>...</td>\n",
       "      <td>...</td>\n",
       "      <td>...</td>\n",
       "    </tr>\n",
       "    <tr>\n",
       "      <th>8108</th>\n",
       "      <td>8108</td>\n",
       "      <td>-0.582772</td>\n",
       "      <td>1.497216</td>\n",
       "      <td>0.785805</td>\n",
       "      <td>0.111011</td>\n",
       "      <td>0.000000</td>\n",
       "      <td>-0.125786</td>\n",
       "      <td>1.135283</td>\n",
       "      <td>1.358748</td>\n",
       "      <td>-0.014501</td>\n",
       "    </tr>\n",
       "    <tr>\n",
       "      <th>8109</th>\n",
       "      <td>8109</td>\n",
       "      <td>0.252235</td>\n",
       "      <td>5.696272</td>\n",
       "      <td>0.635835</td>\n",
       "      <td>0.094126</td>\n",
       "      <td>0.000000</td>\n",
       "      <td>0.183831</td>\n",
       "      <td>15.460345</td>\n",
       "      <td>-0.586949</td>\n",
       "      <td>-0.051572</td>\n",
       "    </tr>\n",
       "    <tr>\n",
       "      <th>8110</th>\n",
       "      <td>8110</td>\n",
       "      <td>-0.850454</td>\n",
       "      <td>4.011245</td>\n",
       "      <td>0.068563</td>\n",
       "      <td>0.088064</td>\n",
       "      <td>0.000000</td>\n",
       "      <td>-0.522901</td>\n",
       "      <td>0.684963</td>\n",
       "      <td>1.173307</td>\n",
       "      <td>0.029715</td>\n",
       "    </tr>\n",
       "    <tr>\n",
       "      <th>8111</th>\n",
       "      <td>8111</td>\n",
       "      <td>0.256909</td>\n",
       "      <td>3.298824</td>\n",
       "      <td>1.358053</td>\n",
       "      <td>0.052428</td>\n",
       "      <td>0.008625</td>\n",
       "      <td>0.040404</td>\n",
       "      <td>1.213859</td>\n",
       "      <td>0.996784</td>\n",
       "      <td>-0.020466</td>\n",
       "    </tr>\n",
       "    <tr>\n",
       "      <th>8112</th>\n",
       "      <td>8112</td>\n",
       "      <td>0.231356</td>\n",
       "      <td>3.615452</td>\n",
       "      <td>0.977693</td>\n",
       "      <td>0.049102</td>\n",
       "      <td>0.000002</td>\n",
       "      <td>0.032351</td>\n",
       "      <td>1.626282</td>\n",
       "      <td>1.884836</td>\n",
       "      <td>0.016798</td>\n",
       "    </tr>\n",
       "  </tbody>\n",
       "</table>\n",
       "<p>8113 rows × 10 columns</p>\n",
       "</div>"
      ],
      "text/plain": [
       "      Unnamed: 0  Return_On_Equity  Current_Ratio  Asster_Turnover      WACC  \\\n",
       "0              0          0.212147       2.611354         0.634860  0.082314   \n",
       "1              1          0.236381       2.030091         0.650209  0.079688   \n",
       "2              2         -0.153140       1.453795         0.745390  0.144074   \n",
       "3              3         -0.024232       1.747670         0.843792  0.131412   \n",
       "4              4         -0.334683       0.223087         0.435904  0.078395   \n",
       "...          ...               ...            ...              ...       ...   \n",
       "8108        8108         -0.582772       1.497216         0.785805  0.111011   \n",
       "8109        8109          0.252235       5.696272         0.635835  0.094126   \n",
       "8110        8110         -0.850454       4.011245         0.068563  0.088064   \n",
       "8111        8111          0.256909       3.298824         1.358053  0.052428   \n",
       "8112        8112          0.231356       3.615452         0.977693  0.049102   \n",
       "\n",
       "      Dividend_Yield  Earnings_Yield  Revenue_Change  Net_Income_Change  \\\n",
       "0           0.006483        0.030353        0.997810           0.988836   \n",
       "1           0.005628        0.028202        1.083716           1.036364   \n",
       "2           0.011897       -0.107353        0.847402           5.292683   \n",
       "3           0.008853       -0.015133        1.024605          -0.286713   \n",
       "4                NaN       -1.310345        1.022805           1.423283   \n",
       "...              ...             ...             ...                ...   \n",
       "8108        0.000000       -0.125786        1.135283           1.358748   \n",
       "8109        0.000000        0.183831       15.460345          -0.586949   \n",
       "8110        0.000000       -0.522901        0.684963           1.173307   \n",
       "8111        0.008625        0.040404        1.213859           0.996784   \n",
       "8112        0.000002        0.032351        1.626282           1.884836   \n",
       "\n",
       "      Price_Change  \n",
       "0        -0.012635  \n",
       "1        -0.015849  \n",
       "2        -0.026000  \n",
       "3         0.001992  \n",
       "4         0.032787  \n",
       "...            ...  \n",
       "8108     -0.014501  \n",
       "8109     -0.051572  \n",
       "8110      0.029715  \n",
       "8111     -0.020466  \n",
       "8112      0.016798  \n",
       "\n",
       "[8113 rows x 10 columns]"
      ]
     },
     "execution_count": 95,
     "metadata": {},
     "output_type": "execute_result"
    }
   ],
   "source": [
    "stock_info"
   ]
  },
  {
   "cell_type": "markdown",
   "id": "c712fc2f",
   "metadata": {},
   "source": [
    "Since each of the columns are made of quantitative data, there is not need for one hot encoding. Since the majority of columns have less than 5% missing data as well, it is also better to simply impute the datas with means to begin. In this case, any and all cleaning consisted in a simple mean imputation accross the columns to fill in the individual missing data."
   ]
  },
  {
   "cell_type": "code",
   "execution_count": 96,
   "id": "33623ec3",
   "metadata": {},
   "outputs": [],
   "source": [
    "from sklearn.model_selection import train_test_split\n",
    "from sklearn.neighbors import KNeighborsRegressor\n",
    "from sklearn.metrics import mean_squared_error\n",
    "from seaborn import scatterplot"
   ]
  },
  {
   "cell_type": "code",
   "execution_count": 97,
   "id": "c5864c59",
   "metadata": {},
   "outputs": [],
   "source": [
    "y=stock_info.iloc[:,-1:]\n",
    "x=stock_info.iloc[:,:-1]"
   ]
  },
  {
   "cell_type": "code",
   "execution_count": 98,
   "id": "36731919",
   "metadata": {},
   "outputs": [
    {
     "data": {
      "text/html": [
       "<div>\n",
       "<style scoped>\n",
       "    .dataframe tbody tr th:only-of-type {\n",
       "        vertical-align: middle;\n",
       "    }\n",
       "\n",
       "    .dataframe tbody tr th {\n",
       "        vertical-align: top;\n",
       "    }\n",
       "\n",
       "    .dataframe thead th {\n",
       "        text-align: right;\n",
       "    }\n",
       "</style>\n",
       "<table border=\"1\" class=\"dataframe\">\n",
       "  <thead>\n",
       "    <tr style=\"text-align: right;\">\n",
       "      <th></th>\n",
       "      <th>Unnamed: 0</th>\n",
       "      <th>Return_On_Equity</th>\n",
       "      <th>Current_Ratio</th>\n",
       "      <th>Asster_Turnover</th>\n",
       "      <th>WACC</th>\n",
       "      <th>Dividend_Yield</th>\n",
       "      <th>Earnings_Yield</th>\n",
       "      <th>Revenue_Change</th>\n",
       "      <th>Net_Income_Change</th>\n",
       "    </tr>\n",
       "  </thead>\n",
       "  <tbody>\n",
       "    <tr>\n",
       "      <th>0</th>\n",
       "      <td>0</td>\n",
       "      <td>0.212147</td>\n",
       "      <td>2.611354</td>\n",
       "      <td>0.634860</td>\n",
       "      <td>0.082314</td>\n",
       "      <td>0.006483</td>\n",
       "      <td>0.030353</td>\n",
       "      <td>0.997810</td>\n",
       "      <td>0.988836</td>\n",
       "    </tr>\n",
       "    <tr>\n",
       "      <th>1</th>\n",
       "      <td>1</td>\n",
       "      <td>0.236381</td>\n",
       "      <td>2.030091</td>\n",
       "      <td>0.650209</td>\n",
       "      <td>0.079688</td>\n",
       "      <td>0.005628</td>\n",
       "      <td>0.028202</td>\n",
       "      <td>1.083716</td>\n",
       "      <td>1.036364</td>\n",
       "    </tr>\n",
       "    <tr>\n",
       "      <th>2</th>\n",
       "      <td>2</td>\n",
       "      <td>-0.153140</td>\n",
       "      <td>1.453795</td>\n",
       "      <td>0.745390</td>\n",
       "      <td>0.144074</td>\n",
       "      <td>0.011897</td>\n",
       "      <td>-0.107353</td>\n",
       "      <td>0.847402</td>\n",
       "      <td>5.292683</td>\n",
       "    </tr>\n",
       "    <tr>\n",
       "      <th>3</th>\n",
       "      <td>3</td>\n",
       "      <td>-0.024232</td>\n",
       "      <td>1.747670</td>\n",
       "      <td>0.843792</td>\n",
       "      <td>0.131412</td>\n",
       "      <td>0.008853</td>\n",
       "      <td>-0.015133</td>\n",
       "      <td>1.024605</td>\n",
       "      <td>-0.286713</td>\n",
       "    </tr>\n",
       "    <tr>\n",
       "      <th>4</th>\n",
       "      <td>4</td>\n",
       "      <td>-0.334683</td>\n",
       "      <td>0.223087</td>\n",
       "      <td>0.435904</td>\n",
       "      <td>0.078395</td>\n",
       "      <td>NaN</td>\n",
       "      <td>-1.310345</td>\n",
       "      <td>1.022805</td>\n",
       "      <td>1.423283</td>\n",
       "    </tr>\n",
       "    <tr>\n",
       "      <th>...</th>\n",
       "      <td>...</td>\n",
       "      <td>...</td>\n",
       "      <td>...</td>\n",
       "      <td>...</td>\n",
       "      <td>...</td>\n",
       "      <td>...</td>\n",
       "      <td>...</td>\n",
       "      <td>...</td>\n",
       "      <td>...</td>\n",
       "    </tr>\n",
       "    <tr>\n",
       "      <th>8108</th>\n",
       "      <td>8108</td>\n",
       "      <td>-0.582772</td>\n",
       "      <td>1.497216</td>\n",
       "      <td>0.785805</td>\n",
       "      <td>0.111011</td>\n",
       "      <td>0.000000</td>\n",
       "      <td>-0.125786</td>\n",
       "      <td>1.135283</td>\n",
       "      <td>1.358748</td>\n",
       "    </tr>\n",
       "    <tr>\n",
       "      <th>8109</th>\n",
       "      <td>8109</td>\n",
       "      <td>0.252235</td>\n",
       "      <td>5.696272</td>\n",
       "      <td>0.635835</td>\n",
       "      <td>0.094126</td>\n",
       "      <td>0.000000</td>\n",
       "      <td>0.183831</td>\n",
       "      <td>15.460345</td>\n",
       "      <td>-0.586949</td>\n",
       "    </tr>\n",
       "    <tr>\n",
       "      <th>8110</th>\n",
       "      <td>8110</td>\n",
       "      <td>-0.850454</td>\n",
       "      <td>4.011245</td>\n",
       "      <td>0.068563</td>\n",
       "      <td>0.088064</td>\n",
       "      <td>0.000000</td>\n",
       "      <td>-0.522901</td>\n",
       "      <td>0.684963</td>\n",
       "      <td>1.173307</td>\n",
       "    </tr>\n",
       "    <tr>\n",
       "      <th>8111</th>\n",
       "      <td>8111</td>\n",
       "      <td>0.256909</td>\n",
       "      <td>3.298824</td>\n",
       "      <td>1.358053</td>\n",
       "      <td>0.052428</td>\n",
       "      <td>0.008625</td>\n",
       "      <td>0.040404</td>\n",
       "      <td>1.213859</td>\n",
       "      <td>0.996784</td>\n",
       "    </tr>\n",
       "    <tr>\n",
       "      <th>8112</th>\n",
       "      <td>8112</td>\n",
       "      <td>0.231356</td>\n",
       "      <td>3.615452</td>\n",
       "      <td>0.977693</td>\n",
       "      <td>0.049102</td>\n",
       "      <td>0.000002</td>\n",
       "      <td>0.032351</td>\n",
       "      <td>1.626282</td>\n",
       "      <td>1.884836</td>\n",
       "    </tr>\n",
       "  </tbody>\n",
       "</table>\n",
       "<p>8113 rows × 9 columns</p>\n",
       "</div>"
      ],
      "text/plain": [
       "      Unnamed: 0  Return_On_Equity  Current_Ratio  Asster_Turnover      WACC  \\\n",
       "0              0          0.212147       2.611354         0.634860  0.082314   \n",
       "1              1          0.236381       2.030091         0.650209  0.079688   \n",
       "2              2         -0.153140       1.453795         0.745390  0.144074   \n",
       "3              3         -0.024232       1.747670         0.843792  0.131412   \n",
       "4              4         -0.334683       0.223087         0.435904  0.078395   \n",
       "...          ...               ...            ...              ...       ...   \n",
       "8108        8108         -0.582772       1.497216         0.785805  0.111011   \n",
       "8109        8109          0.252235       5.696272         0.635835  0.094126   \n",
       "8110        8110         -0.850454       4.011245         0.068563  0.088064   \n",
       "8111        8111          0.256909       3.298824         1.358053  0.052428   \n",
       "8112        8112          0.231356       3.615452         0.977693  0.049102   \n",
       "\n",
       "      Dividend_Yield  Earnings_Yield  Revenue_Change  Net_Income_Change  \n",
       "0           0.006483        0.030353        0.997810           0.988836  \n",
       "1           0.005628        0.028202        1.083716           1.036364  \n",
       "2           0.011897       -0.107353        0.847402           5.292683  \n",
       "3           0.008853       -0.015133        1.024605          -0.286713  \n",
       "4                NaN       -1.310345        1.022805           1.423283  \n",
       "...              ...             ...             ...                ...  \n",
       "8108        0.000000       -0.125786        1.135283           1.358748  \n",
       "8109        0.000000        0.183831       15.460345          -0.586949  \n",
       "8110        0.000000       -0.522901        0.684963           1.173307  \n",
       "8111        0.008625        0.040404        1.213859           0.996784  \n",
       "8112        0.000002        0.032351        1.626282           1.884836  \n",
       "\n",
       "[8113 rows x 9 columns]"
      ]
     },
     "execution_count": 98,
     "metadata": {},
     "output_type": "execute_result"
    }
   ],
   "source": [
    "x"
   ]
  },
  {
   "cell_type": "code",
   "execution_count": 99,
   "id": "270c3c4f",
   "metadata": {},
   "outputs": [
    {
     "data": {
      "text/html": [
       "<div>\n",
       "<style scoped>\n",
       "    .dataframe tbody tr th:only-of-type {\n",
       "        vertical-align: middle;\n",
       "    }\n",
       "\n",
       "    .dataframe tbody tr th {\n",
       "        vertical-align: top;\n",
       "    }\n",
       "\n",
       "    .dataframe thead th {\n",
       "        text-align: right;\n",
       "    }\n",
       "</style>\n",
       "<table border=\"1\" class=\"dataframe\">\n",
       "  <thead>\n",
       "    <tr style=\"text-align: right;\">\n",
       "      <th></th>\n",
       "      <th>Price_Change</th>\n",
       "    </tr>\n",
       "  </thead>\n",
       "  <tbody>\n",
       "    <tr>\n",
       "      <th>0</th>\n",
       "      <td>-0.012635</td>\n",
       "    </tr>\n",
       "    <tr>\n",
       "      <th>1</th>\n",
       "      <td>-0.015849</td>\n",
       "    </tr>\n",
       "    <tr>\n",
       "      <th>2</th>\n",
       "      <td>-0.026000</td>\n",
       "    </tr>\n",
       "    <tr>\n",
       "      <th>3</th>\n",
       "      <td>0.001992</td>\n",
       "    </tr>\n",
       "    <tr>\n",
       "      <th>4</th>\n",
       "      <td>0.032787</td>\n",
       "    </tr>\n",
       "    <tr>\n",
       "      <th>...</th>\n",
       "      <td>...</td>\n",
       "    </tr>\n",
       "    <tr>\n",
       "      <th>8108</th>\n",
       "      <td>-0.014501</td>\n",
       "    </tr>\n",
       "    <tr>\n",
       "      <th>8109</th>\n",
       "      <td>-0.051572</td>\n",
       "    </tr>\n",
       "    <tr>\n",
       "      <th>8110</th>\n",
       "      <td>0.029715</td>\n",
       "    </tr>\n",
       "    <tr>\n",
       "      <th>8111</th>\n",
       "      <td>-0.020466</td>\n",
       "    </tr>\n",
       "    <tr>\n",
       "      <th>8112</th>\n",
       "      <td>0.016798</td>\n",
       "    </tr>\n",
       "  </tbody>\n",
       "</table>\n",
       "<p>8113 rows × 1 columns</p>\n",
       "</div>"
      ],
      "text/plain": [
       "      Price_Change\n",
       "0        -0.012635\n",
       "1        -0.015849\n",
       "2        -0.026000\n",
       "3         0.001992\n",
       "4         0.032787\n",
       "...            ...\n",
       "8108     -0.014501\n",
       "8109     -0.051572\n",
       "8110      0.029715\n",
       "8111     -0.020466\n",
       "8112      0.016798\n",
       "\n",
       "[8113 rows x 1 columns]"
      ]
     },
     "execution_count": 99,
     "metadata": {},
     "output_type": "execute_result"
    }
   ],
   "source": [
    "y"
   ]
  },
  {
   "cell_type": "code",
   "execution_count": null,
   "id": "4852d2b7",
   "metadata": {},
   "outputs": [],
   "source": []
  },
  {
   "cell_type": "code",
   "execution_count": 125,
   "id": "46c86665",
   "metadata": {},
   "outputs": [],
   "source": [
    "x_train,x_test,y_train,y_test=train_test_split(x,y,random_state=432,test_size=0.15,shuffle=True)"
   ]
  },
  {
   "cell_type": "code",
   "execution_count": 126,
   "id": "203ac015",
   "metadata": {},
   "outputs": [
    {
     "data": {
      "text/plain": [
       "1217"
      ]
     },
     "execution_count": 126,
     "metadata": {},
     "output_type": "execute_result"
    }
   ],
   "source": [
    "len(x_test)"
   ]
  },
  {
   "cell_type": "code",
   "execution_count": 127,
   "id": "54b8791c",
   "metadata": {},
   "outputs": [],
   "source": [
    "x_test,x_val,y_test,y_val=train_test_split(x_test,y_test,random_state=145,test_size=0.2,shuffle=True)"
   ]
  },
  {
   "cell_type": "code",
   "execution_count": 128,
   "id": "9b6d3147",
   "metadata": {},
   "outputs": [
    {
     "name": "stdout",
     "output_type": "stream",
     "text": [
      "6896 973 244\n"
     ]
    }
   ],
   "source": [
    "print(len(x_train),len(x_test),len(x_val))"
   ]
  },
  {
   "cell_type": "code",
   "execution_count": null,
   "id": "963b4784",
   "metadata": {},
   "outputs": [],
   "source": []
  },
  {
   "cell_type": "code",
   "execution_count": 129,
   "id": "46d2e3a9",
   "metadata": {},
   "outputs": [],
   "source": [
    "x_train=x_train.apply(lambda col: col.fillna(col.mean()))\n",
    "x_test=x_test.apply(lambda col: col.fillna(col.mean()))\n",
    "x_val=x_val.apply(lambda col: col.fillna(col.mean()))\n",
    "y_train=y_train.apply(lambda col: col.fillna(col.mean()))\n",
    "y_test=y_test.apply(lambda col: col.fillna(col.mean()))\n",
    "y_val=y_val.apply(lambda col: col.fillna(col.mean()))"
   ]
  },
  {
   "cell_type": "code",
   "execution_count": 130,
   "id": "ba383897",
   "metadata": {},
   "outputs": [
    {
     "data": {
      "text/plain": [
       "Unnamed: 0           0.0\n",
       "Return_On_Equity     0.0\n",
       "Current_Ratio        0.0\n",
       "Asster_Turnover      0.0\n",
       "WACC                 0.0\n",
       "Dividend_Yield       0.0\n",
       "Earnings_Yield       0.0\n",
       "Revenue_Change       0.0\n",
       "Net_Income_Change    0.0\n",
       "dtype: float64"
      ]
     },
     "execution_count": 130,
     "metadata": {},
     "output_type": "execute_result"
    }
   ],
   "source": [
    "x_train.isnull().astype(int).sum()/len(x_train)"
   ]
  },
  {
   "cell_type": "code",
   "execution_count": 131,
   "id": "d5bc8c8e",
   "metadata": {},
   "outputs": [],
   "source": [
    "y_train=y_train.pop('Price_Change')\n",
    "y_test=y_test.pop('Price_Change')\n",
    "y_val=y_val.pop('Price_Change')"
   ]
  },
  {
   "cell_type": "code",
   "execution_count": 132,
   "id": "66961f20",
   "metadata": {},
   "outputs": [],
   "source": [
    "neighbor=KNeighborsRegressor(n_neighbors=3)"
   ]
  },
  {
   "cell_type": "code",
   "execution_count": 133,
   "id": "159c5250",
   "metadata": {},
   "outputs": [
    {
     "data": {
      "text/html": [
       "<style>#sk-container-id-5 {color: black;}#sk-container-id-5 pre{padding: 0;}#sk-container-id-5 div.sk-toggleable {background-color: white;}#sk-container-id-5 label.sk-toggleable__label {cursor: pointer;display: block;width: 100%;margin-bottom: 0;padding: 0.3em;box-sizing: border-box;text-align: center;}#sk-container-id-5 label.sk-toggleable__label-arrow:before {content: \"▸\";float: left;margin-right: 0.25em;color: #696969;}#sk-container-id-5 label.sk-toggleable__label-arrow:hover:before {color: black;}#sk-container-id-5 div.sk-estimator:hover label.sk-toggleable__label-arrow:before {color: black;}#sk-container-id-5 div.sk-toggleable__content {max-height: 0;max-width: 0;overflow: hidden;text-align: left;background-color: #f0f8ff;}#sk-container-id-5 div.sk-toggleable__content pre {margin: 0.2em;color: black;border-radius: 0.25em;background-color: #f0f8ff;}#sk-container-id-5 input.sk-toggleable__control:checked~div.sk-toggleable__content {max-height: 200px;max-width: 100%;overflow: auto;}#sk-container-id-5 input.sk-toggleable__control:checked~label.sk-toggleable__label-arrow:before {content: \"▾\";}#sk-container-id-5 div.sk-estimator input.sk-toggleable__control:checked~label.sk-toggleable__label {background-color: #d4ebff;}#sk-container-id-5 div.sk-label input.sk-toggleable__control:checked~label.sk-toggleable__label {background-color: #d4ebff;}#sk-container-id-5 input.sk-hidden--visually {border: 0;clip: rect(1px 1px 1px 1px);clip: rect(1px, 1px, 1px, 1px);height: 1px;margin: -1px;overflow: hidden;padding: 0;position: absolute;width: 1px;}#sk-container-id-5 div.sk-estimator {font-family: monospace;background-color: #f0f8ff;border: 1px dotted black;border-radius: 0.25em;box-sizing: border-box;margin-bottom: 0.5em;}#sk-container-id-5 div.sk-estimator:hover {background-color: #d4ebff;}#sk-container-id-5 div.sk-parallel-item::after {content: \"\";width: 100%;border-bottom: 1px solid gray;flex-grow: 1;}#sk-container-id-5 div.sk-label:hover label.sk-toggleable__label {background-color: #d4ebff;}#sk-container-id-5 div.sk-serial::before {content: \"\";position: absolute;border-left: 1px solid gray;box-sizing: border-box;top: 0;bottom: 0;left: 50%;z-index: 0;}#sk-container-id-5 div.sk-serial {display: flex;flex-direction: column;align-items: center;background-color: white;padding-right: 0.2em;padding-left: 0.2em;position: relative;}#sk-container-id-5 div.sk-item {position: relative;z-index: 1;}#sk-container-id-5 div.sk-parallel {display: flex;align-items: stretch;justify-content: center;background-color: white;position: relative;}#sk-container-id-5 div.sk-item::before, #sk-container-id-5 div.sk-parallel-item::before {content: \"\";position: absolute;border-left: 1px solid gray;box-sizing: border-box;top: 0;bottom: 0;left: 50%;z-index: -1;}#sk-container-id-5 div.sk-parallel-item {display: flex;flex-direction: column;z-index: 1;position: relative;background-color: white;}#sk-container-id-5 div.sk-parallel-item:first-child::after {align-self: flex-end;width: 50%;}#sk-container-id-5 div.sk-parallel-item:last-child::after {align-self: flex-start;width: 50%;}#sk-container-id-5 div.sk-parallel-item:only-child::after {width: 0;}#sk-container-id-5 div.sk-dashed-wrapped {border: 1px dashed gray;margin: 0 0.4em 0.5em 0.4em;box-sizing: border-box;padding-bottom: 0.4em;background-color: white;}#sk-container-id-5 div.sk-label label {font-family: monospace;font-weight: bold;display: inline-block;line-height: 1.2em;}#sk-container-id-5 div.sk-label-container {text-align: center;}#sk-container-id-5 div.sk-container {/* jupyter's `normalize.less` sets `[hidden] { display: none; }` but bootstrap.min.css set `[hidden] { display: none !important; }` so we also need the `!important` here to be able to override the default hidden behavior on the sphinx rendered scikit-learn.org. See: https://github.com/scikit-learn/scikit-learn/issues/21755 */display: inline-block !important;position: relative;}#sk-container-id-5 div.sk-text-repr-fallback {display: none;}</style><div id=\"sk-container-id-5\" class=\"sk-top-container\"><div class=\"sk-text-repr-fallback\"><pre>KNeighborsRegressor(n_neighbors=3)</pre><b>In a Jupyter environment, please rerun this cell to show the HTML representation or trust the notebook. <br />On GitHub, the HTML representation is unable to render, please try loading this page with nbviewer.org.</b></div><div class=\"sk-container\" hidden><div class=\"sk-item\"><div class=\"sk-estimator sk-toggleable\"><input class=\"sk-toggleable__control sk-hidden--visually\" id=\"sk-estimator-id-5\" type=\"checkbox\" checked><label for=\"sk-estimator-id-5\" class=\"sk-toggleable__label sk-toggleable__label-arrow\">KNeighborsRegressor</label><div class=\"sk-toggleable__content\"><pre>KNeighborsRegressor(n_neighbors=3)</pre></div></div></div></div></div>"
      ],
      "text/plain": [
       "KNeighborsRegressor(n_neighbors=3)"
      ]
     },
     "execution_count": 133,
     "metadata": {},
     "output_type": "execute_result"
    }
   ],
   "source": [
    "neighbor.fit(x_train,y_train)"
   ]
  },
  {
   "cell_type": "code",
   "execution_count": 134,
   "id": "b6b3de0b",
   "metadata": {},
   "outputs": [
    {
     "name": "stderr",
     "output_type": "stream",
     "text": [
      "C:\\Users\\essch\\anaconda3\\Lib\\site-packages\\sklearn\\base.py:464: UserWarning: X does not have valid feature names, but KNeighborsRegressor was fitted with feature names\n",
      "  warnings.warn(\n"
     ]
    }
   ],
   "source": [
    "y_predict=neighbor.predict(x_test.values)"
   ]
  },
  {
   "cell_type": "code",
   "execution_count": 135,
   "id": "de9acec8",
   "metadata": {},
   "outputs": [
    {
     "data": {
      "text/plain": [
       "1777    0.000000\n",
       "3847   -0.013915\n",
       "7645   -0.004283\n",
       "3170   -0.004069\n",
       "1675    0.000000\n",
       "          ...   \n",
       "4865   -0.004624\n",
       "7918    0.017021\n",
       "6191   -0.012069\n",
       "467     0.030452\n",
       "6644    0.029525\n",
       "Name: Price_Change, Length: 973, dtype: float64"
      ]
     },
     "execution_count": 135,
     "metadata": {},
     "output_type": "execute_result"
    }
   ],
   "source": [
    "y_test"
   ]
  },
  {
   "cell_type": "code",
   "execution_count": null,
   "id": "65603744",
   "metadata": {},
   "outputs": [],
   "source": []
  },
  {
   "cell_type": "code",
   "execution_count": 136,
   "id": "31070865",
   "metadata": {},
   "outputs": [
    {
     "data": {
      "text/plain": [
       "<Axes: xlabel='Price_Change'>"
      ]
     },
     "execution_count": 136,
     "metadata": {},
     "output_type": "execute_result"
    },
    {
     "data": {
      "image/png": "[encoded data removed]",
      "text/plain": [
       "<Figure size 640x480 with 1 Axes>"
      ]
     },
     "metadata": {},
     "output_type": "display_data"
    }
   ],
   "source": [
    "scatterplot(x=y_test,y=y_predict)"
   ]
  },
  {
   "cell_type": "code",
   "execution_count": 137,
   "id": "ebbe4d67",
   "metadata": {},
   "outputs": [
    {
     "data": {
      "text/plain": [
       "0.03893280963966189"
      ]
     },
     "execution_count": 137,
     "metadata": {},
     "output_type": "execute_result"
    }
   ],
   "source": [
    "error=(mean_squared_error(y_test,y_predict)**.5)\n",
    "error"
   ]
  },
  {
   "cell_type": "markdown",
   "id": "1bf7fabe",
   "metadata": {},
   "source": [
    "Sensitivity analysis of Kneighbors"
   ]
  },
  {
   "cell_type": "code",
   "execution_count": 138,
   "id": "dabcf051",
   "metadata": {
    "scrolled": true
   },
   "outputs": [
    {
     "name": "stderr",
     "output_type": "stream",
     "text": [
      "C:\\Users\\essch\\anaconda3\\Lib\\site-packages\\sklearn\\base.py:464: UserWarning: X does not have valid feature names, but KNeighborsRegressor was fitted with feature names\n",
      "  warnings.warn(\n",
      "C:\\Users\\essch\\anaconda3\\Lib\\site-packages\\sklearn\\base.py:464: UserWarning: X does not have valid feature names, but KNeighborsRegressor was fitted with feature names\n",
      "  warnings.warn(\n",
      "C:\\Users\\essch\\anaconda3\\Lib\\site-packages\\sklearn\\base.py:464: UserWarning: X does not have valid feature names, but KNeighborsRegressor was fitted with feature names\n",
      "  warnings.warn(\n",
      "C:\\Users\\essch\\anaconda3\\Lib\\site-packages\\sklearn\\base.py:464: UserWarning: X does not have valid feature names, but KNeighborsRegressor was fitted with feature names\n",
      "  warnings.warn(\n",
      "C:\\Users\\essch\\anaconda3\\Lib\\site-packages\\sklearn\\base.py:464: UserWarning: X does not have valid feature names, but KNeighborsRegressor was fitted with feature names\n",
      "  warnings.warn(\n",
      "C:\\Users\\essch\\anaconda3\\Lib\\site-packages\\sklearn\\base.py:464: UserWarning: X does not have valid feature names, but KNeighborsRegressor was fitted with feature names\n",
      "  warnings.warn(\n",
      "C:\\Users\\essch\\anaconda3\\Lib\\site-packages\\sklearn\\base.py:464: UserWarning: X does not have valid feature names, but KNeighborsRegressor was fitted with feature names\n",
      "  warnings.warn(\n",
      "C:\\Users\\essch\\anaconda3\\Lib\\site-packages\\sklearn\\base.py:464: UserWarning: X does not have valid feature names, but KNeighborsRegressor was fitted with feature names\n",
      "  warnings.warn(\n",
      "C:\\Users\\essch\\anaconda3\\Lib\\site-packages\\sklearn\\base.py:464: UserWarning: X does not have valid feature names, but KNeighborsRegressor was fitted with feature names\n",
      "  warnings.warn(\n",
      "C:\\Users\\essch\\anaconda3\\Lib\\site-packages\\sklearn\\base.py:464: UserWarning: X does not have valid feature names, but KNeighborsRegressor was fitted with feature names\n",
      "  warnings.warn(\n",
      "C:\\Users\\essch\\anaconda3\\Lib\\site-packages\\sklearn\\base.py:464: UserWarning: X does not have valid feature names, but KNeighborsRegressor was fitted with feature names\n",
      "  warnings.warn(\n",
      "C:\\Users\\essch\\anaconda3\\Lib\\site-packages\\sklearn\\base.py:464: UserWarning: X does not have valid feature names, but KNeighborsRegressor was fitted with feature names\n",
      "  warnings.warn(\n",
      "C:\\Users\\essch\\anaconda3\\Lib\\site-packages\\sklearn\\base.py:464: UserWarning: X does not have valid feature names, but KNeighborsRegressor was fitted with feature names\n",
      "  warnings.warn(\n",
      "C:\\Users\\essch\\anaconda3\\Lib\\site-packages\\sklearn\\base.py:464: UserWarning: X does not have valid feature names, but KNeighborsRegressor was fitted with feature names\n",
      "  warnings.warn(\n",
      "C:\\Users\\essch\\anaconda3\\Lib\\site-packages\\sklearn\\base.py:464: UserWarning: X does not have valid feature names, but KNeighborsRegressor was fitted with feature names\n",
      "  warnings.warn(\n",
      "C:\\Users\\essch\\anaconda3\\Lib\\site-packages\\sklearn\\base.py:464: UserWarning: X does not have valid feature names, but KNeighborsRegressor was fitted with feature names\n",
      "  warnings.warn(\n",
      "C:\\Users\\essch\\anaconda3\\Lib\\site-packages\\sklearn\\base.py:464: UserWarning: X does not have valid feature names, but KNeighborsRegressor was fitted with feature names\n",
      "  warnings.warn(\n",
      "C:\\Users\\essch\\anaconda3\\Lib\\site-packages\\sklearn\\base.py:464: UserWarning: X does not have valid feature names, but KNeighborsRegressor was fitted with feature names\n",
      "  warnings.warn(\n",
      "C:\\Users\\essch\\anaconda3\\Lib\\site-packages\\sklearn\\base.py:464: UserWarning: X does not have valid feature names, but KNeighborsRegressor was fitted with feature names\n",
      "  warnings.warn(\n",
      "C:\\Users\\essch\\anaconda3\\Lib\\site-packages\\sklearn\\base.py:464: UserWarning: X does not have valid feature names, but KNeighborsRegressor was fitted with feature names\n",
      "  warnings.warn(\n",
      "C:\\Users\\essch\\anaconda3\\Lib\\site-packages\\sklearn\\base.py:464: UserWarning: X does not have valid feature names, but KNeighborsRegressor was fitted with feature names\n",
      "  warnings.warn(\n",
      "C:\\Users\\essch\\anaconda3\\Lib\\site-packages\\sklearn\\base.py:464: UserWarning: X does not have valid feature names, but KNeighborsRegressor was fitted with feature names\n",
      "  warnings.warn(\n",
      "C:\\Users\\essch\\anaconda3\\Lib\\site-packages\\sklearn\\base.py:464: UserWarning: X does not have valid feature names, but KNeighborsRegressor was fitted with feature names\n",
      "  warnings.warn(\n",
      "C:\\Users\\essch\\anaconda3\\Lib\\site-packages\\sklearn\\base.py:464: UserWarning: X does not have valid feature names, but KNeighborsRegressor was fitted with feature names\n",
      "  warnings.warn(\n",
      "C:\\Users\\essch\\anaconda3\\Lib\\site-packages\\sklearn\\base.py:464: UserWarning: X does not have valid feature names, but KNeighborsRegressor was fitted with feature names\n",
      "  warnings.warn(\n",
      "C:\\Users\\essch\\anaconda3\\Lib\\site-packages\\sklearn\\base.py:464: UserWarning: X does not have valid feature names, but KNeighborsRegressor was fitted with feature names\n",
      "  warnings.warn(\n",
      "C:\\Users\\essch\\anaconda3\\Lib\\site-packages\\sklearn\\base.py:464: UserWarning: X does not have valid feature names, but KNeighborsRegressor was fitted with feature names\n",
      "  warnings.warn(\n",
      "C:\\Users\\essch\\anaconda3\\Lib\\site-packages\\sklearn\\base.py:464: UserWarning: X does not have valid feature names, but KNeighborsRegressor was fitted with feature names\n",
      "  warnings.warn(\n",
      "C:\\Users\\essch\\anaconda3\\Lib\\site-packages\\sklearn\\base.py:464: UserWarning: X does not have valid feature names, but KNeighborsRegressor was fitted with feature names\n",
      "  warnings.warn(\n",
      "C:\\Users\\essch\\anaconda3\\Lib\\site-packages\\sklearn\\base.py:464: UserWarning: X does not have valid feature names, but KNeighborsRegressor was fitted with feature names\n",
      "  warnings.warn(\n",
      "C:\\Users\\essch\\anaconda3\\Lib\\site-packages\\sklearn\\base.py:464: UserWarning: X does not have valid feature names, but KNeighborsRegressor was fitted with feature names\n",
      "  warnings.warn(\n",
      "C:\\Users\\essch\\anaconda3\\Lib\\site-packages\\sklearn\\base.py:464: UserWarning: X does not have valid feature names, but KNeighborsRegressor was fitted with feature names\n",
      "  warnings.warn(\n",
      "C:\\Users\\essch\\anaconda3\\Lib\\site-packages\\sklearn\\base.py:464: UserWarning: X does not have valid feature names, but KNeighborsRegressor was fitted with feature names\n",
      "  warnings.warn(\n",
      "C:\\Users\\essch\\anaconda3\\Lib\\site-packages\\sklearn\\base.py:464: UserWarning: X does not have valid feature names, but KNeighborsRegressor was fitted with feature names\n",
      "  warnings.warn(\n",
      "C:\\Users\\essch\\anaconda3\\Lib\\site-packages\\sklearn\\base.py:464: UserWarning: X does not have valid feature names, but KNeighborsRegressor was fitted with feature names\n",
      "  warnings.warn(\n",
      "C:\\Users\\essch\\anaconda3\\Lib\\site-packages\\sklearn\\base.py:464: UserWarning: X does not have valid feature names, but KNeighborsRegressor was fitted with feature names\n",
      "  warnings.warn(\n",
      "C:\\Users\\essch\\anaconda3\\Lib\\site-packages\\sklearn\\base.py:464: UserWarning: X does not have valid feature names, but KNeighborsRegressor was fitted with feature names\n",
      "  warnings.warn(\n",
      "C:\\Users\\essch\\anaconda3\\Lib\\site-packages\\sklearn\\base.py:464: UserWarning: X does not have valid feature names, but KNeighborsRegressor was fitted with feature names\n",
      "  warnings.warn(\n",
      "C:\\Users\\essch\\anaconda3\\Lib\\site-packages\\sklearn\\base.py:464: UserWarning: X does not have valid feature names, but KNeighborsRegressor was fitted with feature names\n",
      "  warnings.warn(\n",
      "C:\\Users\\essch\\anaconda3\\Lib\\site-packages\\sklearn\\base.py:464: UserWarning: X does not have valid feature names, but KNeighborsRegressor was fitted with feature names\n",
      "  warnings.warn(\n",
      "C:\\Users\\essch\\anaconda3\\Lib\\site-packages\\sklearn\\base.py:464: UserWarning: X does not have valid feature names, but KNeighborsRegressor was fitted with feature names\n",
      "  warnings.warn(\n",
      "C:\\Users\\essch\\anaconda3\\Lib\\site-packages\\sklearn\\base.py:464: UserWarning: X does not have valid feature names, but KNeighborsRegressor was fitted with feature names\n",
      "  warnings.warn(\n",
      "C:\\Users\\essch\\anaconda3\\Lib\\site-packages\\sklearn\\base.py:464: UserWarning: X does not have valid feature names, but KNeighborsRegressor was fitted with feature names\n",
      "  warnings.warn(\n",
      "C:\\Users\\essch\\anaconda3\\Lib\\site-packages\\sklearn\\base.py:464: UserWarning: X does not have valid feature names, but KNeighborsRegressor was fitted with feature names\n",
      "  warnings.warn(\n",
      "C:\\Users\\essch\\anaconda3\\Lib\\site-packages\\sklearn\\base.py:464: UserWarning: X does not have valid feature names, but KNeighborsRegressor was fitted with feature names\n",
      "  warnings.warn(\n",
      "C:\\Users\\essch\\anaconda3\\Lib\\site-packages\\sklearn\\base.py:464: UserWarning: X does not have valid feature names, but KNeighborsRegressor was fitted with feature names\n",
      "  warnings.warn(\n",
      "C:\\Users\\essch\\anaconda3\\Lib\\site-packages\\sklearn\\base.py:464: UserWarning: X does not have valid feature names, but KNeighborsRegressor was fitted with feature names\n",
      "  warnings.warn(\n"
     ]
    },
    {
     "name": "stderr",
     "output_type": "stream",
     "text": [
      "C:\\Users\\essch\\anaconda3\\Lib\\site-packages\\sklearn\\base.py:464: UserWarning: X does not have valid feature names, but KNeighborsRegressor was fitted with feature names\n",
      "  warnings.warn(\n",
      "C:\\Users\\essch\\anaconda3\\Lib\\site-packages\\sklearn\\base.py:464: UserWarning: X does not have valid feature names, but KNeighborsRegressor was fitted with feature names\n",
      "  warnings.warn(\n",
      "C:\\Users\\essch\\anaconda3\\Lib\\site-packages\\sklearn\\base.py:464: UserWarning: X does not have valid feature names, but KNeighborsRegressor was fitted with feature names\n",
      "  warnings.warn(\n",
      "C:\\Users\\essch\\anaconda3\\Lib\\site-packages\\sklearn\\base.py:464: UserWarning: X does not have valid feature names, but KNeighborsRegressor was fitted with feature names\n",
      "  warnings.warn(\n",
      "C:\\Users\\essch\\anaconda3\\Lib\\site-packages\\sklearn\\base.py:464: UserWarning: X does not have valid feature names, but KNeighborsRegressor was fitted with feature names\n",
      "  warnings.warn(\n",
      "C:\\Users\\essch\\anaconda3\\Lib\\site-packages\\sklearn\\base.py:464: UserWarning: X does not have valid feature names, but KNeighborsRegressor was fitted with feature names\n",
      "  warnings.warn(\n",
      "C:\\Users\\essch\\anaconda3\\Lib\\site-packages\\sklearn\\base.py:464: UserWarning: X does not have valid feature names, but KNeighborsRegressor was fitted with feature names\n",
      "  warnings.warn(\n",
      "C:\\Users\\essch\\anaconda3\\Lib\\site-packages\\sklearn\\base.py:464: UserWarning: X does not have valid feature names, but KNeighborsRegressor was fitted with feature names\n",
      "  warnings.warn(\n",
      "C:\\Users\\essch\\anaconda3\\Lib\\site-packages\\sklearn\\base.py:464: UserWarning: X does not have valid feature names, but KNeighborsRegressor was fitted with feature names\n",
      "  warnings.warn(\n",
      "C:\\Users\\essch\\anaconda3\\Lib\\site-packages\\sklearn\\base.py:464: UserWarning: X does not have valid feature names, but KNeighborsRegressor was fitted with feature names\n",
      "  warnings.warn(\n",
      "C:\\Users\\essch\\anaconda3\\Lib\\site-packages\\sklearn\\base.py:464: UserWarning: X does not have valid feature names, but KNeighborsRegressor was fitted with feature names\n",
      "  warnings.warn(\n",
      "C:\\Users\\essch\\anaconda3\\Lib\\site-packages\\sklearn\\base.py:464: UserWarning: X does not have valid feature names, but KNeighborsRegressor was fitted with feature names\n",
      "  warnings.warn(\n",
      "C:\\Users\\essch\\anaconda3\\Lib\\site-packages\\sklearn\\base.py:464: UserWarning: X does not have valid feature names, but KNeighborsRegressor was fitted with feature names\n",
      "  warnings.warn(\n",
      "C:\\Users\\essch\\anaconda3\\Lib\\site-packages\\sklearn\\base.py:464: UserWarning: X does not have valid feature names, but KNeighborsRegressor was fitted with feature names\n",
      "  warnings.warn(\n",
      "C:\\Users\\essch\\anaconda3\\Lib\\site-packages\\sklearn\\base.py:464: UserWarning: X does not have valid feature names, but KNeighborsRegressor was fitted with feature names\n",
      "  warnings.warn(\n",
      "C:\\Users\\essch\\anaconda3\\Lib\\site-packages\\sklearn\\base.py:464: UserWarning: X does not have valid feature names, but KNeighborsRegressor was fitted with feature names\n",
      "  warnings.warn(\n",
      "C:\\Users\\essch\\anaconda3\\Lib\\site-packages\\sklearn\\base.py:464: UserWarning: X does not have valid feature names, but KNeighborsRegressor was fitted with feature names\n",
      "  warnings.warn(\n",
      "C:\\Users\\essch\\anaconda3\\Lib\\site-packages\\sklearn\\base.py:464: UserWarning: X does not have valid feature names, but KNeighborsRegressor was fitted with feature names\n",
      "  warnings.warn(\n",
      "C:\\Users\\essch\\anaconda3\\Lib\\site-packages\\sklearn\\base.py:464: UserWarning: X does not have valid feature names, but KNeighborsRegressor was fitted with feature names\n",
      "  warnings.warn(\n",
      "C:\\Users\\essch\\anaconda3\\Lib\\site-packages\\sklearn\\base.py:464: UserWarning: X does not have valid feature names, but KNeighborsRegressor was fitted with feature names\n",
      "  warnings.warn(\n",
      "C:\\Users\\essch\\anaconda3\\Lib\\site-packages\\sklearn\\base.py:464: UserWarning: X does not have valid feature names, but KNeighborsRegressor was fitted with feature names\n",
      "  warnings.warn(\n",
      "C:\\Users\\essch\\anaconda3\\Lib\\site-packages\\sklearn\\base.py:464: UserWarning: X does not have valid feature names, but KNeighborsRegressor was fitted with feature names\n",
      "  warnings.warn(\n",
      "C:\\Users\\essch\\anaconda3\\Lib\\site-packages\\sklearn\\base.py:464: UserWarning: X does not have valid feature names, but KNeighborsRegressor was fitted with feature names\n",
      "  warnings.warn(\n",
      "C:\\Users\\essch\\anaconda3\\Lib\\site-packages\\sklearn\\base.py:464: UserWarning: X does not have valid feature names, but KNeighborsRegressor was fitted with feature names\n",
      "  warnings.warn(\n",
      "C:\\Users\\essch\\anaconda3\\Lib\\site-packages\\sklearn\\base.py:464: UserWarning: X does not have valid feature names, but KNeighborsRegressor was fitted with feature names\n",
      "  warnings.warn(\n",
      "C:\\Users\\essch\\anaconda3\\Lib\\site-packages\\sklearn\\base.py:464: UserWarning: X does not have valid feature names, but KNeighborsRegressor was fitted with feature names\n",
      "  warnings.warn(\n",
      "C:\\Users\\essch\\anaconda3\\Lib\\site-packages\\sklearn\\base.py:464: UserWarning: X does not have valid feature names, but KNeighborsRegressor was fitted with feature names\n",
      "  warnings.warn(\n",
      "C:\\Users\\essch\\anaconda3\\Lib\\site-packages\\sklearn\\base.py:464: UserWarning: X does not have valid feature names, but KNeighborsRegressor was fitted with feature names\n",
      "  warnings.warn(\n",
      "C:\\Users\\essch\\anaconda3\\Lib\\site-packages\\sklearn\\base.py:464: UserWarning: X does not have valid feature names, but KNeighborsRegressor was fitted with feature names\n",
      "  warnings.warn(\n",
      "C:\\Users\\essch\\anaconda3\\Lib\\site-packages\\sklearn\\base.py:464: UserWarning: X does not have valid feature names, but KNeighborsRegressor was fitted with feature names\n",
      "  warnings.warn(\n",
      "C:\\Users\\essch\\anaconda3\\Lib\\site-packages\\sklearn\\base.py:464: UserWarning: X does not have valid feature names, but KNeighborsRegressor was fitted with feature names\n",
      "  warnings.warn(\n",
      "C:\\Users\\essch\\anaconda3\\Lib\\site-packages\\sklearn\\base.py:464: UserWarning: X does not have valid feature names, but KNeighborsRegressor was fitted with feature names\n",
      "  warnings.warn(\n",
      "C:\\Users\\essch\\anaconda3\\Lib\\site-packages\\sklearn\\base.py:464: UserWarning: X does not have valid feature names, but KNeighborsRegressor was fitted with feature names\n",
      "  warnings.warn(\n",
      "C:\\Users\\essch\\anaconda3\\Lib\\site-packages\\sklearn\\base.py:464: UserWarning: X does not have valid feature names, but KNeighborsRegressor was fitted with feature names\n",
      "  warnings.warn(\n",
      "C:\\Users\\essch\\anaconda3\\Lib\\site-packages\\sklearn\\base.py:464: UserWarning: X does not have valid feature names, but KNeighborsRegressor was fitted with feature names\n",
      "  warnings.warn(\n",
      "C:\\Users\\essch\\anaconda3\\Lib\\site-packages\\sklearn\\base.py:464: UserWarning: X does not have valid feature names, but KNeighborsRegressor was fitted with feature names\n",
      "  warnings.warn(\n",
      "C:\\Users\\essch\\anaconda3\\Lib\\site-packages\\sklearn\\base.py:464: UserWarning: X does not have valid feature names, but KNeighborsRegressor was fitted with feature names\n",
      "  warnings.warn(\n",
      "C:\\Users\\essch\\anaconda3\\Lib\\site-packages\\sklearn\\base.py:464: UserWarning: X does not have valid feature names, but KNeighborsRegressor was fitted with feature names\n",
      "  warnings.warn(\n",
      "C:\\Users\\essch\\anaconda3\\Lib\\site-packages\\sklearn\\base.py:464: UserWarning: X does not have valid feature names, but KNeighborsRegressor was fitted with feature names\n",
      "  warnings.warn(\n",
      "C:\\Users\\essch\\anaconda3\\Lib\\site-packages\\sklearn\\base.py:464: UserWarning: X does not have valid feature names, but KNeighborsRegressor was fitted with feature names\n",
      "  warnings.warn(\n",
      "C:\\Users\\essch\\anaconda3\\Lib\\site-packages\\sklearn\\base.py:464: UserWarning: X does not have valid feature names, but KNeighborsRegressor was fitted with feature names\n",
      "  warnings.warn(\n",
      "C:\\Users\\essch\\anaconda3\\Lib\\site-packages\\sklearn\\base.py:464: UserWarning: X does not have valid feature names, but KNeighborsRegressor was fitted with feature names\n",
      "  warnings.warn(\n",
      "C:\\Users\\essch\\anaconda3\\Lib\\site-packages\\sklearn\\base.py:464: UserWarning: X does not have valid feature names, but KNeighborsRegressor was fitted with feature names\n",
      "  warnings.warn(\n",
      "C:\\Users\\essch\\anaconda3\\Lib\\site-packages\\sklearn\\base.py:464: UserWarning: X does not have valid feature names, but KNeighborsRegressor was fitted with feature names\n",
      "  warnings.warn(\n",
      "C:\\Users\\essch\\anaconda3\\Lib\\site-packages\\sklearn\\base.py:464: UserWarning: X does not have valid feature names, but KNeighborsRegressor was fitted with feature names\n",
      "  warnings.warn(\n"
     ]
    },
    {
     "name": "stderr",
     "output_type": "stream",
     "text": [
      "C:\\Users\\essch\\anaconda3\\Lib\\site-packages\\sklearn\\base.py:464: UserWarning: X does not have valid feature names, but KNeighborsRegressor was fitted with feature names\n",
      "  warnings.warn(\n",
      "C:\\Users\\essch\\anaconda3\\Lib\\site-packages\\sklearn\\base.py:464: UserWarning: X does not have valid feature names, but KNeighborsRegressor was fitted with feature names\n",
      "  warnings.warn(\n",
      "C:\\Users\\essch\\anaconda3\\Lib\\site-packages\\sklearn\\base.py:464: UserWarning: X does not have valid feature names, but KNeighborsRegressor was fitted with feature names\n",
      "  warnings.warn(\n",
      "C:\\Users\\essch\\anaconda3\\Lib\\site-packages\\sklearn\\base.py:464: UserWarning: X does not have valid feature names, but KNeighborsRegressor was fitted with feature names\n",
      "  warnings.warn(\n",
      "C:\\Users\\essch\\anaconda3\\Lib\\site-packages\\sklearn\\base.py:464: UserWarning: X does not have valid feature names, but KNeighborsRegressor was fitted with feature names\n",
      "  warnings.warn(\n",
      "C:\\Users\\essch\\anaconda3\\Lib\\site-packages\\sklearn\\base.py:464: UserWarning: X does not have valid feature names, but KNeighborsRegressor was fitted with feature names\n",
      "  warnings.warn(\n",
      "C:\\Users\\essch\\anaconda3\\Lib\\site-packages\\sklearn\\base.py:464: UserWarning: X does not have valid feature names, but KNeighborsRegressor was fitted with feature names\n",
      "  warnings.warn(\n",
      "C:\\Users\\essch\\anaconda3\\Lib\\site-packages\\sklearn\\base.py:464: UserWarning: X does not have valid feature names, but KNeighborsRegressor was fitted with feature names\n",
      "  warnings.warn(\n"
     ]
    }
   ],
   "source": [
    "errors=[]\n",
    "for k in list(range(0,100)):\n",
    "    neighbor=KNeighborsRegressor(n_neighbors=k+1)\n",
    "    neighbor.fit(x_train,y_train)\n",
    "    y_predict=neighbor.predict(x_test.values)\n",
    "    error=(mean_squared_error(y_test,y_predict)**.5)*100\n",
    "    errors.append(error)"
   ]
  },
  {
   "cell_type": "code",
   "execution_count": 139,
   "id": "bb96a949",
   "metadata": {},
   "outputs": [
    {
     "name": "stdout",
     "output_type": "stream",
     "text": [
      "A neighbor count of 100 yields the lowest stanadrd error of 3.493234867928938%.\n"
     ]
    }
   ],
   "source": [
    "min_k_error=errors.index(min(errors))+1\n",
    "min_error=errors[min_k_error-1]\n",
    "print(\"A neighbor count of \"+str(min_k_error)+\" yields the lowest stanadrd error of \"+str(min_error)+\"%.\")"
   ]
  },
  {
   "cell_type": "code",
   "execution_count": 140,
   "id": "24e34a7f",
   "metadata": {},
   "outputs": [
    {
     "name": "stdout",
     "output_type": "stream",
     "text": [
      "-6.846740341140718 6.846740341140718\n"
     ]
    }
   ],
   "source": [
    "print((-1.96*min_error),(1.96*min_error))"
   ]
  },
  {
   "cell_type": "markdown",
   "id": "06109ed5",
   "metadata": {},
   "source": [
    "A further sensitivity analysis can be utilized with the splits between training and test data, but it appears that the model's standard error won't stray far from 3.5%, leading to a 95% confidence interval range of 12%. In terms of grading the model, it is extremely inacurate seeing how the goal is to reduce error to less than 3%. However, it gives a baseline for future models. The reason for this could be a problem with the fundemental assumptions in the data. I do not believe that all of the ratios are normally distributed. The dividend ratio seems to follow a pareto distribution and net income differential seems to follow a heavily right skewed distribution. K Nearest Neighbor should be able to account for these issues, but there are also some points which are imputed to disrupt the distribution. K nearest neighbor is incredibly sensitive to fabricated data, and with some columns having even 5-10% of data being imputed, it heavily pulls the standard error of the model away from 0."
   ]
  },
  {
   "cell_type": "markdown",
   "id": "fb8dd980",
   "metadata": {},
   "source": [
    "Final Evaluation of Model"
   ]
  },
  {
   "cell_type": "code",
   "execution_count": 141,
   "id": "897f74ca",
   "metadata": {},
   "outputs": [
    {
     "name": "stderr",
     "output_type": "stream",
     "text": [
      "C:\\Users\\essch\\anaconda3\\Lib\\site-packages\\sklearn\\base.py:464: UserWarning: X does not have valid feature names, but KNeighborsRegressor was fitted with feature names\n",
      "  warnings.warn(\n"
     ]
    }
   ],
   "source": [
    "neighbor=KNeighborsRegressor(n_neighbors=13)\n",
    "neighbor.fit(x_train,y_train)\n",
    "y_evaluation=neighbor.predict(x_val.values)\n",
    "error=(mean_squared_error(y_val,y_evaluation)**.5)*100"
   ]
  },
  {
   "cell_type": "code",
   "execution_count": 142,
   "id": "ed62efbd",
   "metadata": {},
   "outputs": [
    {
     "name": "stdout",
     "output_type": "stream",
     "text": [
      "3.7182358834720493\n"
     ]
    }
   ],
   "source": [
    "print(error)"
   ]
  },
  {
   "cell_type": "markdown",
   "id": "db52fd14",
   "metadata": {},
   "source": [
    "95% confidence interval for error"
   ]
  },
  {
   "cell_type": "code",
   "execution_count": 143,
   "id": "9fbcbd42",
   "metadata": {},
   "outputs": [
    {
     "name": "stdout",
     "output_type": "stream",
     "text": [
      "-7.287742331605217 7.287742331605217\n"
     ]
    }
   ],
   "source": [
    "print((-1.96*error),(1.96*error))"
   ]
  },
  {
   "cell_type": "code",
   "execution_count": null,
   "id": "b332019d",
   "metadata": {},
   "outputs": [],
   "source": []
  }
 ],
 "metadata": {
  "kernelspec": {
   "display_name": "Python 3 (ipykernel)",
   "language": "python",
   "name": "python3"
  },
  "language_info": {
   "codemirror_mode": {
    "name": "ipython",
    "version": 3
   },
   "file_extension": ".py",
   "mimetype": "text/x-python",
   "name": "python",
   "nbconvert_exporter": "python",
   "pygments_lexer": "ipython3",
   "version": "3.11.5"
  }
 },
 "nbformat": 4,
 "nbformat_minor": 5
}
