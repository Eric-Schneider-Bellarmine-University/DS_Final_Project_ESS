{
 "cells": [
  {
   "cell_type": "code",
   "execution_count": 1,
   "id": "5d7e985a",
   "metadata": {},
   "outputs": [],
   "source": [
    "import pandas"
   ]
  },
  {
   "cell_type": "code",
   "execution_count": 2,
   "id": "f6c4d49d",
   "metadata": {},
   "outputs": [],
   "source": [
    "stock_info=pandas.read_csv('Stock_Dataset.csv')"
   ]
  },
  {
   "cell_type": "code",
   "execution_count": 3,
   "id": "b708c9e8",
   "metadata": {},
   "outputs": [
    {
     "data": {
      "text/html": [
       "<div>\n",
       "<style scoped>\n",
       "    .dataframe tbody tr th:only-of-type {\n",
       "        vertical-align: middle;\n",
       "    }\n",
       "\n",
       "    .dataframe tbody tr th {\n",
       "        vertical-align: top;\n",
       "    }\n",
       "\n",
       "    .dataframe thead th {\n",
       "        text-align: right;\n",
       "    }\n",
       "</style>\n",
       "<table border=\"1\" class=\"dataframe\">\n",
       "  <thead>\n",
       "    <tr style=\"text-align: right;\">\n",
       "      <th></th>\n",
       "      <th>Return_On_Equity</th>\n",
       "      <th>Current_Ratio</th>\n",
       "      <th>Asster_Turnover</th>\n",
       "      <th>WACC</th>\n",
       "      <th>Dividend_Yield</th>\n",
       "      <th>Earnings_Yield</th>\n",
       "      <th>Revenue_Change</th>\n",
       "      <th>Net_Income_Change</th>\n",
       "      <th>Price_Change</th>\n",
       "    </tr>\n",
       "  </thead>\n",
       "  <tbody>\n",
       "    <tr>\n",
       "      <th>0</th>\n",
       "      <td>0.212147</td>\n",
       "      <td>2.611354</td>\n",
       "      <td>0.634860</td>\n",
       "      <td>0.082314</td>\n",
       "      <td>0.006483</td>\n",
       "      <td>0.030353</td>\n",
       "      <td>0.997810</td>\n",
       "      <td>0.988836</td>\n",
       "      <td>-0.012635</td>\n",
       "    </tr>\n",
       "    <tr>\n",
       "      <th>1</th>\n",
       "      <td>0.236381</td>\n",
       "      <td>2.030091</td>\n",
       "      <td>0.650209</td>\n",
       "      <td>0.079688</td>\n",
       "      <td>0.005628</td>\n",
       "      <td>0.028202</td>\n",
       "      <td>1.083716</td>\n",
       "      <td>1.036364</td>\n",
       "      <td>-0.015849</td>\n",
       "    </tr>\n",
       "    <tr>\n",
       "      <th>2</th>\n",
       "      <td>-0.153140</td>\n",
       "      <td>1.453795</td>\n",
       "      <td>0.745390</td>\n",
       "      <td>0.144074</td>\n",
       "      <td>0.011897</td>\n",
       "      <td>-0.107353</td>\n",
       "      <td>0.847402</td>\n",
       "      <td>5.292683</td>\n",
       "      <td>-0.026000</td>\n",
       "    </tr>\n",
       "    <tr>\n",
       "      <th>3</th>\n",
       "      <td>-0.024232</td>\n",
       "      <td>1.747670</td>\n",
       "      <td>0.843792</td>\n",
       "      <td>0.131412</td>\n",
       "      <td>0.008853</td>\n",
       "      <td>-0.015133</td>\n",
       "      <td>1.024605</td>\n",
       "      <td>-0.286713</td>\n",
       "      <td>0.001992</td>\n",
       "    </tr>\n",
       "    <tr>\n",
       "      <th>4</th>\n",
       "      <td>-0.334683</td>\n",
       "      <td>0.223087</td>\n",
       "      <td>0.435904</td>\n",
       "      <td>0.078395</td>\n",
       "      <td>NaN</td>\n",
       "      <td>-1.310345</td>\n",
       "      <td>1.022805</td>\n",
       "      <td>1.423283</td>\n",
       "      <td>0.032787</td>\n",
       "    </tr>\n",
       "    <tr>\n",
       "      <th>...</th>\n",
       "      <td>...</td>\n",
       "      <td>...</td>\n",
       "      <td>...</td>\n",
       "      <td>...</td>\n",
       "      <td>...</td>\n",
       "      <td>...</td>\n",
       "      <td>...</td>\n",
       "      <td>...</td>\n",
       "      <td>...</td>\n",
       "    </tr>\n",
       "    <tr>\n",
       "      <th>8108</th>\n",
       "      <td>-0.582772</td>\n",
       "      <td>1.497216</td>\n",
       "      <td>0.785805</td>\n",
       "      <td>0.111011</td>\n",
       "      <td>0.000000</td>\n",
       "      <td>-0.125786</td>\n",
       "      <td>1.135283</td>\n",
       "      <td>1.358748</td>\n",
       "      <td>-0.014501</td>\n",
       "    </tr>\n",
       "    <tr>\n",
       "      <th>8109</th>\n",
       "      <td>0.252235</td>\n",
       "      <td>5.696272</td>\n",
       "      <td>0.635835</td>\n",
       "      <td>0.094126</td>\n",
       "      <td>0.000000</td>\n",
       "      <td>0.183831</td>\n",
       "      <td>15.460345</td>\n",
       "      <td>-0.586949</td>\n",
       "      <td>-0.051572</td>\n",
       "    </tr>\n",
       "    <tr>\n",
       "      <th>8110</th>\n",
       "      <td>-0.850454</td>\n",
       "      <td>4.011245</td>\n",
       "      <td>0.068563</td>\n",
       "      <td>0.088064</td>\n",
       "      <td>0.000000</td>\n",
       "      <td>-0.522901</td>\n",
       "      <td>0.684963</td>\n",
       "      <td>1.173307</td>\n",
       "      <td>0.029715</td>\n",
       "    </tr>\n",
       "    <tr>\n",
       "      <th>8111</th>\n",
       "      <td>0.256909</td>\n",
       "      <td>3.298824</td>\n",
       "      <td>1.358053</td>\n",
       "      <td>0.052428</td>\n",
       "      <td>0.008625</td>\n",
       "      <td>0.040404</td>\n",
       "      <td>1.213859</td>\n",
       "      <td>0.996784</td>\n",
       "      <td>-0.020466</td>\n",
       "    </tr>\n",
       "    <tr>\n",
       "      <th>8112</th>\n",
       "      <td>0.231356</td>\n",
       "      <td>3.615452</td>\n",
       "      <td>0.977693</td>\n",
       "      <td>0.049102</td>\n",
       "      <td>0.000002</td>\n",
       "      <td>0.032351</td>\n",
       "      <td>1.626282</td>\n",
       "      <td>1.884836</td>\n",
       "      <td>0.016798</td>\n",
       "    </tr>\n",
       "  </tbody>\n",
       "</table>\n",
       "<p>8113 rows × 9 columns</p>\n",
       "</div>"
      ],
      "text/plain": [
       "      Return_On_Equity  Current_Ratio  Asster_Turnover      WACC  \\\n",
       "0             0.212147       2.611354         0.634860  0.082314   \n",
       "1             0.236381       2.030091         0.650209  0.079688   \n",
       "2            -0.153140       1.453795         0.745390  0.144074   \n",
       "3            -0.024232       1.747670         0.843792  0.131412   \n",
       "4            -0.334683       0.223087         0.435904  0.078395   \n",
       "...                ...            ...              ...       ...   \n",
       "8108         -0.582772       1.497216         0.785805  0.111011   \n",
       "8109          0.252235       5.696272         0.635835  0.094126   \n",
       "8110         -0.850454       4.011245         0.068563  0.088064   \n",
       "8111          0.256909       3.298824         1.358053  0.052428   \n",
       "8112          0.231356       3.615452         0.977693  0.049102   \n",
       "\n",
       "      Dividend_Yield  Earnings_Yield  Revenue_Change  Net_Income_Change  \\\n",
       "0           0.006483        0.030353        0.997810           0.988836   \n",
       "1           0.005628        0.028202        1.083716           1.036364   \n",
       "2           0.011897       -0.107353        0.847402           5.292683   \n",
       "3           0.008853       -0.015133        1.024605          -0.286713   \n",
       "4                NaN       -1.310345        1.022805           1.423283   \n",
       "...              ...             ...             ...                ...   \n",
       "8108        0.000000       -0.125786        1.135283           1.358748   \n",
       "8109        0.000000        0.183831       15.460345          -0.586949   \n",
       "8110        0.000000       -0.522901        0.684963           1.173307   \n",
       "8111        0.008625        0.040404        1.213859           0.996784   \n",
       "8112        0.000002        0.032351        1.626282           1.884836   \n",
       "\n",
       "      Price_Change  \n",
       "0        -0.012635  \n",
       "1        -0.015849  \n",
       "2        -0.026000  \n",
       "3         0.001992  \n",
       "4         0.032787  \n",
       "...            ...  \n",
       "8108     -0.014501  \n",
       "8109     -0.051572  \n",
       "8110      0.029715  \n",
       "8111     -0.020466  \n",
       "8112      0.016798  \n",
       "\n",
       "[8113 rows x 9 columns]"
      ]
     },
     "execution_count": 3,
     "metadata": {},
     "output_type": "execute_result"
    }
   ],
   "source": [
    "stock_info"
   ]
  },
  {
   "cell_type": "code",
   "execution_count": 4,
   "id": "da52b61e",
   "metadata": {},
   "outputs": [],
   "source": [
    "from sklearn.model_selection import train_test_split\n",
    "from sklearn.linear_model import TweedieRegressor\n",
    "from sklearn.metrics import mean_squared_error\n",
    "from sklearn.impute import KNNImputer\n",
    "from seaborn import scatterplot"
   ]
  },
  {
   "cell_type": "markdown",
   "id": "12c761ff",
   "metadata": {},
   "source": [
    "A tweedie regressor is best used for distributions which are otherwise approximately normal if not for an abnormal spike in the percentage equal to exactly 0. Since this distribution models the distribution for dividend yield, this regression model seems promising"
   ]
  },
  {
   "cell_type": "code",
   "execution_count": 5,
   "id": "43bff809",
   "metadata": {},
   "outputs": [],
   "source": [
    "y=stock_info.iloc[:,-1:]\n",
    "x=stock_info.iloc[:,:-1]"
   ]
  },
  {
   "cell_type": "code",
   "execution_count": 6,
   "id": "ba06ce28",
   "metadata": {},
   "outputs": [
    {
     "data": {
      "text/html": [
       "<div>\n",
       "<style scoped>\n",
       "    .dataframe tbody tr th:only-of-type {\n",
       "        vertical-align: middle;\n",
       "    }\n",
       "\n",
       "    .dataframe tbody tr th {\n",
       "        vertical-align: top;\n",
       "    }\n",
       "\n",
       "    .dataframe thead th {\n",
       "        text-align: right;\n",
       "    }\n",
       "</style>\n",
       "<table border=\"1\" class=\"dataframe\">\n",
       "  <thead>\n",
       "    <tr style=\"text-align: right;\">\n",
       "      <th></th>\n",
       "      <th>Return_On_Equity</th>\n",
       "      <th>Current_Ratio</th>\n",
       "      <th>Asster_Turnover</th>\n",
       "      <th>WACC</th>\n",
       "      <th>Dividend_Yield</th>\n",
       "      <th>Earnings_Yield</th>\n",
       "      <th>Revenue_Change</th>\n",
       "      <th>Net_Income_Change</th>\n",
       "    </tr>\n",
       "  </thead>\n",
       "  <tbody>\n",
       "    <tr>\n",
       "      <th>0</th>\n",
       "      <td>0.212147</td>\n",
       "      <td>2.611354</td>\n",
       "      <td>0.634860</td>\n",
       "      <td>0.082314</td>\n",
       "      <td>0.006483</td>\n",
       "      <td>0.030353</td>\n",
       "      <td>0.997810</td>\n",
       "      <td>0.988836</td>\n",
       "    </tr>\n",
       "    <tr>\n",
       "      <th>1</th>\n",
       "      <td>0.236381</td>\n",
       "      <td>2.030091</td>\n",
       "      <td>0.650209</td>\n",
       "      <td>0.079688</td>\n",
       "      <td>0.005628</td>\n",
       "      <td>0.028202</td>\n",
       "      <td>1.083716</td>\n",
       "      <td>1.036364</td>\n",
       "    </tr>\n",
       "    <tr>\n",
       "      <th>2</th>\n",
       "      <td>-0.153140</td>\n",
       "      <td>1.453795</td>\n",
       "      <td>0.745390</td>\n",
       "      <td>0.144074</td>\n",
       "      <td>0.011897</td>\n",
       "      <td>-0.107353</td>\n",
       "      <td>0.847402</td>\n",
       "      <td>5.292683</td>\n",
       "    </tr>\n",
       "    <tr>\n",
       "      <th>3</th>\n",
       "      <td>-0.024232</td>\n",
       "      <td>1.747670</td>\n",
       "      <td>0.843792</td>\n",
       "      <td>0.131412</td>\n",
       "      <td>0.008853</td>\n",
       "      <td>-0.015133</td>\n",
       "      <td>1.024605</td>\n",
       "      <td>-0.286713</td>\n",
       "    </tr>\n",
       "    <tr>\n",
       "      <th>4</th>\n",
       "      <td>-0.334683</td>\n",
       "      <td>0.223087</td>\n",
       "      <td>0.435904</td>\n",
       "      <td>0.078395</td>\n",
       "      <td>NaN</td>\n",
       "      <td>-1.310345</td>\n",
       "      <td>1.022805</td>\n",
       "      <td>1.423283</td>\n",
       "    </tr>\n",
       "    <tr>\n",
       "      <th>...</th>\n",
       "      <td>...</td>\n",
       "      <td>...</td>\n",
       "      <td>...</td>\n",
       "      <td>...</td>\n",
       "      <td>...</td>\n",
       "      <td>...</td>\n",
       "      <td>...</td>\n",
       "      <td>...</td>\n",
       "    </tr>\n",
       "    <tr>\n",
       "      <th>8108</th>\n",
       "      <td>-0.582772</td>\n",
       "      <td>1.497216</td>\n",
       "      <td>0.785805</td>\n",
       "      <td>0.111011</td>\n",
       "      <td>0.000000</td>\n",
       "      <td>-0.125786</td>\n",
       "      <td>1.135283</td>\n",
       "      <td>1.358748</td>\n",
       "    </tr>\n",
       "    <tr>\n",
       "      <th>8109</th>\n",
       "      <td>0.252235</td>\n",
       "      <td>5.696272</td>\n",
       "      <td>0.635835</td>\n",
       "      <td>0.094126</td>\n",
       "      <td>0.000000</td>\n",
       "      <td>0.183831</td>\n",
       "      <td>15.460345</td>\n",
       "      <td>-0.586949</td>\n",
       "    </tr>\n",
       "    <tr>\n",
       "      <th>8110</th>\n",
       "      <td>-0.850454</td>\n",
       "      <td>4.011245</td>\n",
       "      <td>0.068563</td>\n",
       "      <td>0.088064</td>\n",
       "      <td>0.000000</td>\n",
       "      <td>-0.522901</td>\n",
       "      <td>0.684963</td>\n",
       "      <td>1.173307</td>\n",
       "    </tr>\n",
       "    <tr>\n",
       "      <th>8111</th>\n",
       "      <td>0.256909</td>\n",
       "      <td>3.298824</td>\n",
       "      <td>1.358053</td>\n",
       "      <td>0.052428</td>\n",
       "      <td>0.008625</td>\n",
       "      <td>0.040404</td>\n",
       "      <td>1.213859</td>\n",
       "      <td>0.996784</td>\n",
       "    </tr>\n",
       "    <tr>\n",
       "      <th>8112</th>\n",
       "      <td>0.231356</td>\n",
       "      <td>3.615452</td>\n",
       "      <td>0.977693</td>\n",
       "      <td>0.049102</td>\n",
       "      <td>0.000002</td>\n",
       "      <td>0.032351</td>\n",
       "      <td>1.626282</td>\n",
       "      <td>1.884836</td>\n",
       "    </tr>\n",
       "  </tbody>\n",
       "</table>\n",
       "<p>8113 rows × 8 columns</p>\n",
       "</div>"
      ],
      "text/plain": [
       "      Return_On_Equity  Current_Ratio  Asster_Turnover      WACC  \\\n",
       "0             0.212147       2.611354         0.634860  0.082314   \n",
       "1             0.236381       2.030091         0.650209  0.079688   \n",
       "2            -0.153140       1.453795         0.745390  0.144074   \n",
       "3            -0.024232       1.747670         0.843792  0.131412   \n",
       "4            -0.334683       0.223087         0.435904  0.078395   \n",
       "...                ...            ...              ...       ...   \n",
       "8108         -0.582772       1.497216         0.785805  0.111011   \n",
       "8109          0.252235       5.696272         0.635835  0.094126   \n",
       "8110         -0.850454       4.011245         0.068563  0.088064   \n",
       "8111          0.256909       3.298824         1.358053  0.052428   \n",
       "8112          0.231356       3.615452         0.977693  0.049102   \n",
       "\n",
       "      Dividend_Yield  Earnings_Yield  Revenue_Change  Net_Income_Change  \n",
       "0           0.006483        0.030353        0.997810           0.988836  \n",
       "1           0.005628        0.028202        1.083716           1.036364  \n",
       "2           0.011897       -0.107353        0.847402           5.292683  \n",
       "3           0.008853       -0.015133        1.024605          -0.286713  \n",
       "4                NaN       -1.310345        1.022805           1.423283  \n",
       "...              ...             ...             ...                ...  \n",
       "8108        0.000000       -0.125786        1.135283           1.358748  \n",
       "8109        0.000000        0.183831       15.460345          -0.586949  \n",
       "8110        0.000000       -0.522901        0.684963           1.173307  \n",
       "8111        0.008625        0.040404        1.213859           0.996784  \n",
       "8112        0.000002        0.032351        1.626282           1.884836  \n",
       "\n",
       "[8113 rows x 8 columns]"
      ]
     },
     "execution_count": 6,
     "metadata": {},
     "output_type": "execute_result"
    }
   ],
   "source": [
    "x"
   ]
  },
  {
   "cell_type": "code",
   "execution_count": 7,
   "id": "5c2ebb38",
   "metadata": {},
   "outputs": [
    {
     "data": {
      "text/html": [
       "<div>\n",
       "<style scoped>\n",
       "    .dataframe tbody tr th:only-of-type {\n",
       "        vertical-align: middle;\n",
       "    }\n",
       "\n",
       "    .dataframe tbody tr th {\n",
       "        vertical-align: top;\n",
       "    }\n",
       "\n",
       "    .dataframe thead th {\n",
       "        text-align: right;\n",
       "    }\n",
       "</style>\n",
       "<table border=\"1\" class=\"dataframe\">\n",
       "  <thead>\n",
       "    <tr style=\"text-align: right;\">\n",
       "      <th></th>\n",
       "      <th>Price_Change</th>\n",
       "    </tr>\n",
       "  </thead>\n",
       "  <tbody>\n",
       "    <tr>\n",
       "      <th>0</th>\n",
       "      <td>-0.012635</td>\n",
       "    </tr>\n",
       "    <tr>\n",
       "      <th>1</th>\n",
       "      <td>-0.015849</td>\n",
       "    </tr>\n",
       "    <tr>\n",
       "      <th>2</th>\n",
       "      <td>-0.026000</td>\n",
       "    </tr>\n",
       "    <tr>\n",
       "      <th>3</th>\n",
       "      <td>0.001992</td>\n",
       "    </tr>\n",
       "    <tr>\n",
       "      <th>4</th>\n",
       "      <td>0.032787</td>\n",
       "    </tr>\n",
       "    <tr>\n",
       "      <th>...</th>\n",
       "      <td>...</td>\n",
       "    </tr>\n",
       "    <tr>\n",
       "      <th>8108</th>\n",
       "      <td>-0.014501</td>\n",
       "    </tr>\n",
       "    <tr>\n",
       "      <th>8109</th>\n",
       "      <td>-0.051572</td>\n",
       "    </tr>\n",
       "    <tr>\n",
       "      <th>8110</th>\n",
       "      <td>0.029715</td>\n",
       "    </tr>\n",
       "    <tr>\n",
       "      <th>8111</th>\n",
       "      <td>-0.020466</td>\n",
       "    </tr>\n",
       "    <tr>\n",
       "      <th>8112</th>\n",
       "      <td>0.016798</td>\n",
       "    </tr>\n",
       "  </tbody>\n",
       "</table>\n",
       "<p>8113 rows × 1 columns</p>\n",
       "</div>"
      ],
      "text/plain": [
       "      Price_Change\n",
       "0        -0.012635\n",
       "1        -0.015849\n",
       "2        -0.026000\n",
       "3         0.001992\n",
       "4         0.032787\n",
       "...            ...\n",
       "8108     -0.014501\n",
       "8109     -0.051572\n",
       "8110      0.029715\n",
       "8111     -0.020466\n",
       "8112      0.016798\n",
       "\n",
       "[8113 rows x 1 columns]"
      ]
     },
     "execution_count": 7,
     "metadata": {},
     "output_type": "execute_result"
    }
   ],
   "source": [
    "y"
   ]
  },
  {
   "cell_type": "code",
   "execution_count": 8,
   "id": "6e3838b4",
   "metadata": {},
   "outputs": [],
   "source": [
    "x_train,x_test,y_train,y_test=train_test_split(x,y,random_state=432,test_size=0.15,shuffle=True)"
   ]
  },
  {
   "cell_type": "code",
   "execution_count": 9,
   "id": "c78ee5f0",
   "metadata": {},
   "outputs": [
    {
     "data": {
      "text/plain": [
       "1217"
      ]
     },
     "execution_count": 9,
     "metadata": {},
     "output_type": "execute_result"
    }
   ],
   "source": [
    "len(x_test)"
   ]
  },
  {
   "cell_type": "code",
   "execution_count": 10,
   "id": "dac0dd91",
   "metadata": {},
   "outputs": [],
   "source": [
    "x_test,x_val,y_test,y_val=train_test_split(x_test,y_test,random_state=145,test_size=0.2,shuffle=True)"
   ]
  },
  {
   "cell_type": "code",
   "execution_count": 11,
   "id": "43c76397",
   "metadata": {},
   "outputs": [
    {
     "name": "stdout",
     "output_type": "stream",
     "text": [
      "6896 973 244\n"
     ]
    }
   ],
   "source": [
    "print(len(x_train),len(x_test),len(x_val))"
   ]
  },
  {
   "cell_type": "code",
   "execution_count": 12,
   "id": "02891192",
   "metadata": {},
   "outputs": [],
   "source": [
    "def x_imputer(dataset):\n",
    "    imputer=KNNImputer(n_neighbors=3)\n",
    "    x_impute=imputer.fit_transform(dataset)\n",
    "    x_impute=pandas.DataFrame(data=x_impute,columns=['Return_On_Equity','Current_Ratio','Asster_Turnover','WACC','Dividend_Yield','Earnings_Yield','Revenue_Change','Net_Income_Change'])\n",
    "    return x_impute\n",
    "x_train=x_imputer(x_train)\n",
    "x_test=x_imputer(x_test)\n",
    "x_val=x_imputer(x_val)\n",
    "\n",
    "y_train=y_train.apply(lambda col: col.fillna(col.mean()))\n",
    "y_test=y_test.apply(lambda col: col.fillna(col.mean()))\n",
    "y_val=y_val.apply(lambda col: col.fillna(col.mean()))"
   ]
  },
  {
   "cell_type": "code",
   "execution_count": 13,
   "id": "b621e490",
   "metadata": {},
   "outputs": [
    {
     "data": {
      "text/plain": [
       "Return_On_Equity     0.0\n",
       "Current_Ratio        0.0\n",
       "Asster_Turnover      0.0\n",
       "WACC                 0.0\n",
       "Dividend_Yield       0.0\n",
       "Earnings_Yield       0.0\n",
       "Revenue_Change       0.0\n",
       "Net_Income_Change    0.0\n",
       "dtype: float64"
      ]
     },
     "execution_count": 13,
     "metadata": {},
     "output_type": "execute_result"
    }
   ],
   "source": [
    "x_train.isnull().astype(int).sum()/len(x_train)"
   ]
  },
  {
   "cell_type": "code",
   "execution_count": 14,
   "id": "b5ea1e14",
   "metadata": {},
   "outputs": [],
   "source": [
    "y_train=y_train.pop('Price_Change')\n",
    "y_test=y_test.pop('Price_Change')\n",
    "y_val=y_val.pop('Price_Change')"
   ]
  },
  {
   "cell_type": "code",
   "execution_count": 15,
   "id": "ed1a42d2",
   "metadata": {},
   "outputs": [],
   "source": [
    "tweedie=TweedieRegressor()"
   ]
  },
  {
   "cell_type": "code",
   "execution_count": 16,
   "id": "7a874bf4",
   "metadata": {},
   "outputs": [
    {
     "data": {
      "text/html": [
       "<style>#sk-container-id-1 {color: black;}#sk-container-id-1 pre{padding: 0;}#sk-container-id-1 div.sk-toggleable {background-color: white;}#sk-container-id-1 label.sk-toggleable__label {cursor: pointer;display: block;width: 100%;margin-bottom: 0;padding: 0.3em;box-sizing: border-box;text-align: center;}#sk-container-id-1 label.sk-toggleable__label-arrow:before {content: \"▸\";float: left;margin-right: 0.25em;color: #696969;}#sk-container-id-1 label.sk-toggleable__label-arrow:hover:before {color: black;}#sk-container-id-1 div.sk-estimator:hover label.sk-toggleable__label-arrow:before {color: black;}#sk-container-id-1 div.sk-toggleable__content {max-height: 0;max-width: 0;overflow: hidden;text-align: left;background-color: #f0f8ff;}#sk-container-id-1 div.sk-toggleable__content pre {margin: 0.2em;color: black;border-radius: 0.25em;background-color: #f0f8ff;}#sk-container-id-1 input.sk-toggleable__control:checked~div.sk-toggleable__content {max-height: 200px;max-width: 100%;overflow: auto;}#sk-container-id-1 input.sk-toggleable__control:checked~label.sk-toggleable__label-arrow:before {content: \"▾\";}#sk-container-id-1 div.sk-estimator input.sk-toggleable__control:checked~label.sk-toggleable__label {background-color: #d4ebff;}#sk-container-id-1 div.sk-label input.sk-toggleable__control:checked~label.sk-toggleable__label {background-color: #d4ebff;}#sk-container-id-1 input.sk-hidden--visually {border: 0;clip: rect(1px 1px 1px 1px);clip: rect(1px, 1px, 1px, 1px);height: 1px;margin: -1px;overflow: hidden;padding: 0;position: absolute;width: 1px;}#sk-container-id-1 div.sk-estimator {font-family: monospace;background-color: #f0f8ff;border: 1px dotted black;border-radius: 0.25em;box-sizing: border-box;margin-bottom: 0.5em;}#sk-container-id-1 div.sk-estimator:hover {background-color: #d4ebff;}#sk-container-id-1 div.sk-parallel-item::after {content: \"\";width: 100%;border-bottom: 1px solid gray;flex-grow: 1;}#sk-container-id-1 div.sk-label:hover label.sk-toggleable__label {background-color: #d4ebff;}#sk-container-id-1 div.sk-serial::before {content: \"\";position: absolute;border-left: 1px solid gray;box-sizing: border-box;top: 0;bottom: 0;left: 50%;z-index: 0;}#sk-container-id-1 div.sk-serial {display: flex;flex-direction: column;align-items: center;background-color: white;padding-right: 0.2em;padding-left: 0.2em;position: relative;}#sk-container-id-1 div.sk-item {position: relative;z-index: 1;}#sk-container-id-1 div.sk-parallel {display: flex;align-items: stretch;justify-content: center;background-color: white;position: relative;}#sk-container-id-1 div.sk-item::before, #sk-container-id-1 div.sk-parallel-item::before {content: \"\";position: absolute;border-left: 1px solid gray;box-sizing: border-box;top: 0;bottom: 0;left: 50%;z-index: -1;}#sk-container-id-1 div.sk-parallel-item {display: flex;flex-direction: column;z-index: 1;position: relative;background-color: white;}#sk-container-id-1 div.sk-parallel-item:first-child::after {align-self: flex-end;width: 50%;}#sk-container-id-1 div.sk-parallel-item:last-child::after {align-self: flex-start;width: 50%;}#sk-container-id-1 div.sk-parallel-item:only-child::after {width: 0;}#sk-container-id-1 div.sk-dashed-wrapped {border: 1px dashed gray;margin: 0 0.4em 0.5em 0.4em;box-sizing: border-box;padding-bottom: 0.4em;background-color: white;}#sk-container-id-1 div.sk-label label {font-family: monospace;font-weight: bold;display: inline-block;line-height: 1.2em;}#sk-container-id-1 div.sk-label-container {text-align: center;}#sk-container-id-1 div.sk-container {/* jupyter's `normalize.less` sets `[hidden] { display: none; }` but bootstrap.min.css set `[hidden] { display: none !important; }` so we also need the `!important` here to be able to override the default hidden behavior on the sphinx rendered scikit-learn.org. See: https://github.com/scikit-learn/scikit-learn/issues/21755 */display: inline-block !important;position: relative;}#sk-container-id-1 div.sk-text-repr-fallback {display: none;}</style><div id=\"sk-container-id-1\" class=\"sk-top-container\"><div class=\"sk-text-repr-fallback\"><pre>TweedieRegressor()</pre><b>In a Jupyter environment, please rerun this cell to show the HTML representation or trust the notebook. <br />On GitHub, the HTML representation is unable to render, please try loading this page with nbviewer.org.</b></div><div class=\"sk-container\" hidden><div class=\"sk-item\"><div class=\"sk-estimator sk-toggleable\"><input class=\"sk-toggleable__control sk-hidden--visually\" id=\"sk-estimator-id-1\" type=\"checkbox\" checked><label for=\"sk-estimator-id-1\" class=\"sk-toggleable__label sk-toggleable__label-arrow\">TweedieRegressor</label><div class=\"sk-toggleable__content\"><pre>TweedieRegressor()</pre></div></div></div></div></div>"
      ],
      "text/plain": [
       "TweedieRegressor()"
      ]
     },
     "execution_count": 16,
     "metadata": {},
     "output_type": "execute_result"
    }
   ],
   "source": [
    "tweedie.fit(x_train,y_train)"
   ]
  },
  {
   "cell_type": "code",
   "execution_count": 17,
   "id": "b1e19db1",
   "metadata": {},
   "outputs": [
    {
     "name": "stderr",
     "output_type": "stream",
     "text": [
      "C:\\Users\\essch\\anaconda3\\Lib\\site-packages\\sklearn\\base.py:464: UserWarning: X does not have valid feature names, but TweedieRegressor was fitted with feature names\n",
      "  warnings.warn(\n"
     ]
    }
   ],
   "source": [
    "y_predict=tweedie.predict(x_test.values)"
   ]
  },
  {
   "cell_type": "code",
   "execution_count": 18,
   "id": "169c03e8",
   "metadata": {},
   "outputs": [
    {
     "data": {
      "text/plain": [
       "<Axes: xlabel='Price_Change'>"
      ]
     },
     "execution_count": 18,
     "metadata": {},
     "output_type": "execute_result"
    },
    {
     "data": {
      "image/png": "[encoded data removed]",
      "text/plain": [
       "<Figure size 640x480 with 1 Axes>"
      ]
     },
     "metadata": {},
     "output_type": "display_data"
    }
   ],
   "source": [
    "scatterplot(x=y_test,y=y_predict)"
   ]
  },
  {
   "cell_type": "code",
   "execution_count": 19,
   "id": "e08e483d",
   "metadata": {},
   "outputs": [
    {
     "data": {
      "text/plain": [
       "0.034844720347377275"
      ]
     },
     "execution_count": 19,
     "metadata": {},
     "output_type": "execute_result"
    }
   ],
   "source": [
    "error=(mean_squared_error(y_test,y_predict)**.5)\n",
    "error"
   ]
  },
  {
   "cell_type": "markdown",
   "id": "b3d7b8ae",
   "metadata": {},
   "source": [
    "Final evaluation of model"
   ]
  },
  {
   "cell_type": "code",
   "execution_count": 20,
   "id": "e6c0ea2e",
   "metadata": {},
   "outputs": [
    {
     "name": "stderr",
     "output_type": "stream",
     "text": [
      "C:\\Users\\essch\\anaconda3\\Lib\\site-packages\\sklearn\\base.py:464: UserWarning: X does not have valid feature names, but TweedieRegressor was fitted with feature names\n",
      "  warnings.warn(\n"
     ]
    }
   ],
   "source": [
    "y_evaluation=tweedie.predict(x_val.values)\n",
    "error=(mean_squared_error(y_val,y_evaluation)**.5)*100"
   ]
  },
  {
   "cell_type": "code",
   "execution_count": 21,
   "id": "fd089cde",
   "metadata": {},
   "outputs": [
    {
     "name": "stdout",
     "output_type": "stream",
     "text": [
      "3.6779340966639\n"
     ]
    }
   ],
   "source": [
    "print(error)"
   ]
  },
  {
   "cell_type": "code",
   "execution_count": 22,
   "id": "7338a228",
   "metadata": {},
   "outputs": [
    {
     "data": {
      "text/plain": [
       "<Axes: xlabel='Price_Change'>"
      ]
     },
     "execution_count": 22,
     "metadata": {},
     "output_type": "execute_result"
    },
    {
     "data": {
      "image/png": "[encoded data removed]",
      "text/plain": [
       "<Figure size 640x480 with 1 Axes>"
      ]
     },
     "metadata": {},
     "output_type": "display_data"
    }
   ],
   "source": [
    "scatterplot(x=y_val,y=y_evaluation)"
   ]
  },
  {
   "cell_type": "code",
   "execution_count": 23,
   "id": "1408d58a",
   "metadata": {},
   "outputs": [
    {
     "name": "stdout",
     "output_type": "stream",
     "text": [
      "-7.208750829461244 7.208750829461244\n"
     ]
    }
   ],
   "source": [
    "print((-1.96*error),(1.96*error))"
   ]
  },
  {
   "cell_type": "code",
   "execution_count": null,
   "id": "89b0f9ef",
   "metadata": {},
   "outputs": [],
   "source": []
  }
 ],
 "metadata": {
  "kernelspec": {
   "display_name": "Python 3 (ipykernel)",
   "language": "python",
   "name": "python3"
  },
  "language_info": {
   "codemirror_mode": {
    "name": "ipython",
    "version": 3
   },
   "file_extension": ".py",
   "mimetype": "text/x-python",
   "name": "python",
   "nbconvert_exporter": "python",
   "pygments_lexer": "ipython3",
   "version": "3.11.5"
  }
 },
 "nbformat": 4,
 "nbformat_minor": 5
}
