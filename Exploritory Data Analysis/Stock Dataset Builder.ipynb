{
 "cells": [
  {
   "cell_type": "code",
   "execution_count": 1,
   "id": "8b1af159",
   "metadata": {},
   "outputs": [],
   "source": [
    "import pandas\n",
    "import random"
   ]
  },
  {
   "cell_type": "code",
   "execution_count": 2,
   "id": "88af2f48",
   "metadata": {},
   "outputs": [
    {
     "name": "stdout",
     "output_type": "stream",
     "text": [
      "Requirement already satisfied: yfinance in c:\\users\\essch\\anaconda3\\lib\\site-packages (0.2.36)\n",
      "Requirement already satisfied: pandas>=1.3.0 in c:\\users\\essch\\anaconda3\\lib\\site-packages (from yfinance) (2.0.3)\n",
      "Requirement already satisfied: numpy>=1.16.5 in c:\\users\\essch\\anaconda3\\lib\\site-packages (from yfinance) (1.24.3)\n",
      "Requirement already satisfied: requests>=2.31 in c:\\users\\essch\\anaconda3\\lib\\site-packages (from yfinance) (2.31.0)\n",
      "Requirement already satisfied: multitasking>=0.0.7 in c:\\users\\essch\\anaconda3\\lib\\site-packages (from yfinance) (0.0.11)\n",
      "Requirement already satisfied: lxml>=4.9.1 in c:\\users\\essch\\anaconda3\\lib\\site-packages (from yfinance) (4.9.3)\n",
      "Requirement already satisfied: appdirs>=1.4.4 in c:\\users\\essch\\anaconda3\\lib\\site-packages (from yfinance) (1.4.4)\n",
      "Requirement already satisfied: pytz>=2022.5 in c:\\users\\essch\\anaconda3\\lib\\site-packages (from yfinance) (2023.3.post1)\n",
      "Requirement already satisfied: frozendict>=2.3.4 in c:\\users\\essch\\anaconda3\\lib\\site-packages (from yfinance) (2.4.0)\n",
      "Requirement already satisfied: peewee>=3.16.2 in c:\\users\\essch\\anaconda3\\lib\\site-packages (from yfinance) (3.17.0)\n",
      "Requirement already satisfied: beautifulsoup4>=4.11.1 in c:\\users\\essch\\anaconda3\\lib\\site-packages (from yfinance) (4.12.2)\n",
      "Requirement already satisfied: html5lib>=1.1 in c:\\users\\essch\\anaconda3\\lib\\site-packages (from yfinance) (1.1)\n",
      "Requirement already satisfied: soupsieve>1.2 in c:\\users\\essch\\anaconda3\\lib\\site-packages (from beautifulsoup4>=4.11.1->yfinance) (2.4)\n",
      "Requirement already satisfied: six>=1.9 in c:\\users\\essch\\anaconda3\\lib\\site-packages (from html5lib>=1.1->yfinance) (1.16.0)\n",
      "Requirement already satisfied: webencodings in c:\\users\\essch\\anaconda3\\lib\\site-packages (from html5lib>=1.1->yfinance) (0.5.1)\n",
      "Requirement already satisfied: python-dateutil>=2.8.2 in c:\\users\\essch\\anaconda3\\lib\\site-packages (from pandas>=1.3.0->yfinance) (2.8.2)\n",
      "Requirement already satisfied: tzdata>=2022.1 in c:\\users\\essch\\anaconda3\\lib\\site-packages (from pandas>=1.3.0->yfinance) (2023.3)\n",
      "Requirement already satisfied: charset-normalizer<4,>=2 in c:\\users\\essch\\anaconda3\\lib\\site-packages (from requests>=2.31->yfinance) (2.0.4)\n",
      "Requirement already satisfied: idna<4,>=2.5 in c:\\users\\essch\\anaconda3\\lib\\site-packages (from requests>=2.31->yfinance) (3.4)\n",
      "Requirement already satisfied: urllib3<3,>=1.21.1 in c:\\users\\essch\\anaconda3\\lib\\site-packages (from requests>=2.31->yfinance) (1.26.16)\n",
      "Requirement already satisfied: certifi>=2017.4.17 in c:\\users\\essch\\anaconda3\\lib\\site-packages (from requests>=2.31->yfinance) (2023.11.17)\n"
     ]
    }
   ],
   "source": [
    "!pip install yfinance"
   ]
  },
  {
   "cell_type": "code",
   "execution_count": 3,
   "id": "a615bc9f",
   "metadata": {},
   "outputs": [],
   "source": [
    "import yfinance"
   ]
  },
  {
   "cell_type": "code",
   "execution_count": 4,
   "id": "cc4d1e12",
   "metadata": {},
   "outputs": [],
   "source": [
    "stocks=pandas.read_csv(\"Stock List Pile.csv\")"
   ]
  },
  {
   "cell_type": "code",
   "execution_count": 5,
   "id": "12b03663",
   "metadata": {},
   "outputs": [],
   "source": [
    "stocks_list=stocks[\"Symbol\"]"
   ]
  },
  {
   "cell_type": "code",
   "execution_count": 6,
   "id": "d92fa98e",
   "metadata": {},
   "outputs": [],
   "source": [
    "stocks_list=list(stocks_list)"
   ]
  },
  {
   "cell_type": "code",
   "execution_count": 7,
   "id": "9d92a9d7",
   "metadata": {},
   "outputs": [
    {
     "data": {
      "text/plain": [
       "8049"
      ]
     },
     "execution_count": 7,
     "metadata": {},
     "output_type": "execute_result"
    }
   ],
   "source": [
    "len(stocks_list)"
   ]
  },
  {
   "cell_type": "markdown",
   "id": "75604721",
   "metadata": {},
   "source": [
    "AB, ABMD, and GYRO in particular became a bit of a nuisance in the encoding process, so I decided to hardcode to drop them from the list"
   ]
  },
  {
   "cell_type": "code",
   "execution_count": 8,
   "id": "4327a1a9",
   "metadata": {},
   "outputs": [],
   "source": [
    "stocks_list.remove('AB')\n",
    "stocks_list.remove('ABMD')\n",
    "stocks_list.remove('GYRO')"
   ]
  },
  {
   "cell_type": "markdown",
   "id": "45a1c6e6",
   "metadata": {},
   "source": [
    "The current stock list is a near comprehensive list of all of the stocks sold on the New York Stock Exchange. To ensure the randomness of the sample, its best to randomly remove a set number of stocks. This ensures that the data is as much of a simple random sample as possible without compromising the size of the dataset. In this case, reducing the number of cases to 8000 seems appropriate."
   ]
  },
  {
   "cell_type": "code",
   "execution_count": 9,
   "id": "626356ac",
   "metadata": {},
   "outputs": [],
   "source": [
    "def random_set(dset,removal):\n",
    "    '''takes the list of stocks and randomly removes a given amount in order to ensure a random sample'''\n",
    "    for removals in range(0,removal):\n",
    "        dset.remove(dset[random.choice(range(0,len(dset)))])\n",
    "    return dset"
   ]
  },
  {
   "cell_type": "code",
   "execution_count": 10,
   "id": "5b7b8830",
   "metadata": {},
   "outputs": [],
   "source": [
    "stocks_list=random_set(stocks_list,46)"
   ]
  },
  {
   "cell_type": "code",
   "execution_count": 11,
   "id": "bab3029e",
   "metadata": {},
   "outputs": [
    {
     "data": {
      "text/plain": [
       "8000"
      ]
     },
     "execution_count": 11,
     "metadata": {},
     "output_type": "execute_result"
    }
   ],
   "source": [
    "len(stocks_list)"
   ]
  },
  {
   "cell_type": "code",
   "execution_count": 12,
   "id": "9f6e1f53",
   "metadata": {},
   "outputs": [
    {
     "data": {
      "text/plain": [
       "['A',\n",
       " 'AA',\n",
       " 'AAAU',\n",
       " 'AACG',\n",
       " 'AADR',\n",
       " 'AAL',\n",
       " 'AAMC',\n",
       " 'AAME',\n",
       " 'AAN',\n",
       " 'AAOI',\n",
       " 'AAON',\n",
       " 'AAP',\n",
       " 'AAPL',\n",
       " 'AAT',\n",
       " 'AAU',\n",
       " 'AAWW',\n",
       " 'AAXJ',\n",
       " 'AAXN',\n",
       " 'ABB',\n",
       " 'ABBV',\n",
       " 'ABC',\n",
       " 'ABCB',\n",
       " 'ABEO',\n",
       " 'ABEQ',\n",
       " 'ABEV',\n",
       " 'ABG',\n",
       " 'ABIO',\n",
       " 'ABM',\n",
       " 'ABR',\n",
       " 'ABT',\n",
       " 'ABTX',\n",
       " 'ABUS',\n",
       " 'AC',\n",
       " 'ACA',\n",
       " 'ACAD',\n",
       " 'ACAM',\n",
       " 'ACAMU',\n",
       " 'ACB',\n",
       " 'ACBI',\n",
       " 'ACC',\n",
       " 'ACCO',\n",
       " 'ACEL',\n",
       " 'ACER',\n",
       " 'ACES',\n",
       " 'ACGL',\n",
       " 'ACGLO',\n",
       " 'ACGLP',\n",
       " 'ACH',\n",
       " 'ACHC',\n",
       " 'ACHV',\n",
       " 'ACIA',\n",
       " 'ACIO',\n",
       " 'ACIU',\n",
       " 'ACIW',\n",
       " 'ACLS',\n",
       " 'ACM',\n",
       " 'ACMR',\n",
       " 'ACN',\n",
       " 'ACNB',\n",
       " 'ACOR',\n",
       " 'ACP',\n",
       " 'ACRE',\n",
       " 'ACRS',\n",
       " 'ACRX',\n",
       " 'ACSG',\n",
       " 'ACSI',\n",
       " 'ACST',\n",
       " 'ACT',\n",
       " 'ACTG',\n",
       " 'ACTT',\n",
       " 'ACTTU',\n",
       " 'ACU',\n",
       " 'ACV',\n",
       " 'ACWF',\n",
       " 'ACWI',\n",
       " 'ACWV',\n",
       " 'ACWX',\n",
       " 'ACY',\n",
       " 'ADAP',\n",
       " 'ADBE',\n",
       " 'ADC',\n",
       " 'ADES',\n",
       " 'ADI',\n",
       " 'ADIL',\n",
       " 'ADM',\n",
       " 'ADMA',\n",
       " 'ADME',\n",
       " 'ADMP',\n",
       " 'ADMS',\n",
       " 'ADNT',\n",
       " 'ADP',\n",
       " 'ADPT',\n",
       " 'ADRE',\n",
       " 'ADRO',\n",
       " 'ADS',\n",
       " 'ADSK',\n",
       " 'ADSW',\n",
       " 'ADT',\n",
       " 'ADTN',\n",
       " 'ADUS',\n",
       " 'ADVM',\n",
       " 'ADX',\n",
       " 'ADXN',\n",
       " 'ADXS',\n",
       " 'AE',\n",
       " 'AEB',\n",
       " 'AEE',\n",
       " 'AEF',\n",
       " 'AEFC',\n",
       " 'AEG',\n",
       " 'AEGN',\n",
       " 'AEHR',\n",
       " 'AEIS',\n",
       " 'AEL',\n",
       " 'AEM',\n",
       " 'AEMD',\n",
       " 'AEO',\n",
       " 'AEP',\n",
       " 'AER',\n",
       " 'AERI',\n",
       " 'AES',\n",
       " 'AESE',\n",
       " 'AESR',\n",
       " 'AEY',\n",
       " 'AEYE',\n",
       " 'AEZS',\n",
       " 'AFB',\n",
       " 'AFC',\n",
       " 'AFG',\n",
       " 'AFGC',\n",
       " 'AFGH',\n",
       " 'AFH',\n",
       " 'AFI',\n",
       " 'AFIF',\n",
       " 'AFIN',\n",
       " 'AFINP',\n",
       " 'AFK',\n",
       " 'AFL',\n",
       " 'AFLG',\n",
       " 'AFMC',\n",
       " 'AFMD',\n",
       " 'AFSM',\n",
       " 'AFT',\n",
       " 'AFTY',\n",
       " 'AFYA',\n",
       " 'AG',\n",
       " 'AGBA',\n",
       " 'AGBAU',\n",
       " 'AGCO',\n",
       " 'AGD',\n",
       " 'AGE',\n",
       " 'AGEN',\n",
       " 'AGFS',\n",
       " 'AGG',\n",
       " 'AGGP',\n",
       " 'AGGY',\n",
       " 'AGI',\n",
       " 'AGIO',\n",
       " 'AGLE',\n",
       " 'AGM',\n",
       " 'AGM$A',\n",
       " 'AGMH',\n",
       " 'AGN',\n",
       " 'AGNC',\n",
       " 'AGNCM',\n",
       " 'AGNCN',\n",
       " 'AGNCO',\n",
       " 'AGNCP',\n",
       " 'AGND',\n",
       " 'AGO',\n",
       " 'AGQ',\n",
       " 'AGR',\n",
       " 'AGRO',\n",
       " 'AGRX',\n",
       " 'AGS',\n",
       " 'AGT',\n",
       " 'AGTC',\n",
       " 'AGX',\n",
       " 'AGYS',\n",
       " 'AGZ',\n",
       " 'AGZD',\n",
       " 'AHC',\n",
       " 'AHCO',\n",
       " 'AHH',\n",
       " 'AHPI',\n",
       " 'AHT',\n",
       " 'AI',\n",
       " 'AIA',\n",
       " 'AIC',\n",
       " 'AIEQ',\n",
       " 'AIF',\n",
       " 'AIG',\n",
       " 'AIH',\n",
       " 'AIHS',\n",
       " 'AIIQ',\n",
       " 'AIKI',\n",
       " 'AIM',\n",
       " 'AIMC',\n",
       " 'AIMT',\n",
       " 'AIN',\n",
       " 'AINC',\n",
       " 'AINV',\n",
       " 'AIO',\n",
       " 'AIQ',\n",
       " 'AIR',\n",
       " 'AIRG',\n",
       " 'AIRI',\n",
       " 'AIRR',\n",
       " 'AIRT',\n",
       " 'AIRTP',\n",
       " 'AIT',\n",
       " 'AIV',\n",
       " 'AIW',\n",
       " 'AIZ',\n",
       " 'AIZP',\n",
       " 'AJG',\n",
       " 'AJRD',\n",
       " 'AJX',\n",
       " 'AJXA',\n",
       " 'AKAM',\n",
       " 'AKBA',\n",
       " 'AKCA',\n",
       " 'AKER',\n",
       " 'AKG',\n",
       " 'AKR',\n",
       " 'AKRO',\n",
       " 'AKRX',\n",
       " 'AKTS',\n",
       " 'AKTX',\n",
       " 'AL',\n",
       " 'ALAC',\n",
       " 'ALACR',\n",
       " 'ALACU',\n",
       " 'ALBO',\n",
       " 'ALC',\n",
       " 'ALCO',\n",
       " 'ALDX',\n",
       " 'ALE',\n",
       " 'ALEC',\n",
       " 'ALEX',\n",
       " 'ALFA',\n",
       " 'ALG',\n",
       " 'ALGN',\n",
       " 'ALGR',\n",
       " 'ALGRU',\n",
       " 'ALGT',\n",
       " 'ALIM',\n",
       " 'ALJJ',\n",
       " 'ALK',\n",
       " 'ALKS',\n",
       " 'ALL',\n",
       " 'ALLE',\n",
       " 'ALLK',\n",
       " 'ALLO',\n",
       " 'ALLT',\n",
       " 'ALLY',\n",
       " 'ALNA',\n",
       " 'ALNY',\n",
       " 'ALO',\n",
       " 'ALOT',\n",
       " 'ALPN',\n",
       " 'ALRM',\n",
       " 'ALRN',\n",
       " 'ALRS',\n",
       " 'ALSK',\n",
       " 'ALSN',\n",
       " 'ALT',\n",
       " 'ALTG',\n",
       " 'ALTM',\n",
       " 'ALTR',\n",
       " 'ALTS',\n",
       " 'ALTY',\n",
       " 'ALUS',\n",
       " 'ALV',\n",
       " 'ALX',\n",
       " 'ALXN',\n",
       " 'ALYA',\n",
       " 'AM',\n",
       " 'AMAG',\n",
       " 'AMAL',\n",
       " 'AMAT',\n",
       " 'AMBA',\n",
       " 'AMBC',\n",
       " 'AMBO',\n",
       " 'AMC',\n",
       " 'AMCA',\n",
       " 'AMCI',\n",
       " 'AMCIU',\n",
       " 'AMCR',\n",
       " 'AMCX',\n",
       " 'AMD',\n",
       " 'AME',\n",
       " 'AMED',\n",
       " 'AMEH',\n",
       " 'AMG',\n",
       " 'AMGN',\n",
       " 'AMH',\n",
       " 'AMHC',\n",
       " 'AMHCU',\n",
       " 'AMJ',\n",
       " 'AMK',\n",
       " 'AMKR',\n",
       " 'AMLP',\n",
       " 'AMN',\n",
       " 'AMNB',\n",
       " 'AMOM',\n",
       " 'AMOT',\n",
       " 'AMOV',\n",
       " 'AMP',\n",
       " 'AMPE',\n",
       " 'AMPH',\n",
       " 'AMPY',\n",
       " 'AMRB',\n",
       " 'AMRC',\n",
       " 'AMRH',\n",
       " 'AMRK',\n",
       " 'AMRN',\n",
       " 'AMRS',\n",
       " 'AMRX',\n",
       " 'AMS',\n",
       " 'AMSC',\n",
       " 'AMSF',\n",
       " 'AMSWA',\n",
       " 'AMT',\n",
       " 'AMTB',\n",
       " 'AMTBB',\n",
       " 'AMTD',\n",
       " 'AMTX',\n",
       " 'AMU',\n",
       " 'AMUB',\n",
       " 'AMWD',\n",
       " 'AMX',\n",
       " 'AMZA',\n",
       " 'AMZN',\n",
       " 'AN',\n",
       " 'ANAB',\n",
       " 'ANAT',\n",
       " 'ANCN',\n",
       " 'ANDA',\n",
       " 'ANDAU',\n",
       " 'ANDE',\n",
       " 'ANET',\n",
       " 'ANF',\n",
       " 'ANGI',\n",
       " 'ANGL',\n",
       " 'ANGO',\n",
       " 'ANH',\n",
       " 'ANIK',\n",
       " 'ANIP',\n",
       " 'ANIX',\n",
       " 'ANPC',\n",
       " 'ANSS',\n",
       " 'ANTE',\n",
       " 'ANTM',\n",
       " 'ANVS',\n",
       " 'ANY',\n",
       " 'AOA',\n",
       " 'AOBC',\n",
       " 'AOD',\n",
       " 'AOK',\n",
       " 'AOM',\n",
       " 'AON',\n",
       " 'AOR',\n",
       " 'AOS',\n",
       " 'AOSL',\n",
       " 'AP',\n",
       " 'APA',\n",
       " 'APAM',\n",
       " 'APD',\n",
       " 'APDN',\n",
       " 'APEI',\n",
       " 'APEN',\n",
       " 'APEX',\n",
       " 'APH',\n",
       " 'APHA',\n",
       " 'APLE',\n",
       " 'APLS',\n",
       " 'APLT',\n",
       " 'APM',\n",
       " 'APO',\n",
       " 'APOG',\n",
       " 'APOP',\n",
       " 'APPF',\n",
       " 'APPS',\n",
       " 'APRE',\n",
       " 'APRN',\n",
       " 'APT',\n",
       " 'APTO',\n",
       " 'APTS',\n",
       " 'APTV',\n",
       " 'APTX',\n",
       " 'APVO',\n",
       " 'APWC',\n",
       " 'APXT',\n",
       " 'APXTU',\n",
       " 'APY',\n",
       " 'APYX',\n",
       " 'AQB',\n",
       " 'AQMS',\n",
       " 'AQN',\n",
       " 'AQNA',\n",
       " 'AQNB',\n",
       " 'AQST',\n",
       " 'AQUA',\n",
       " 'AR',\n",
       " 'ARA',\n",
       " 'ARAV',\n",
       " 'ARAY',\n",
       " 'ARC',\n",
       " 'ARCB',\n",
       " 'ARCC',\n",
       " 'ARCE',\n",
       " 'ARCH',\n",
       " 'ARCM',\n",
       " 'ARCO',\n",
       " 'ARCT',\n",
       " 'ARD',\n",
       " 'ARDC',\n",
       " 'ARDS',\n",
       " 'ARDX',\n",
       " 'ARE',\n",
       " 'AREC',\n",
       " 'ARES',\n",
       " 'ARGD',\n",
       " 'ARGO',\n",
       " 'ARGT',\n",
       " 'ARGX',\n",
       " 'ARKF',\n",
       " 'ARKG',\n",
       " 'ARKK',\n",
       " 'ARKQ',\n",
       " 'ARKR',\n",
       " 'ARKW',\n",
       " 'ARL',\n",
       " 'ARLO',\n",
       " 'ARLP',\n",
       " 'ARMK',\n",
       " 'ARMP',\n",
       " 'ARMR',\n",
       " 'ARNA',\n",
       " 'ARNC',\n",
       " 'AROC',\n",
       " 'AROW',\n",
       " 'ARPO',\n",
       " 'ARQT',\n",
       " 'ARR',\n",
       " 'ARTL',\n",
       " 'ARTNA',\n",
       " 'ARTW',\n",
       " 'ARVN',\n",
       " 'ARW',\n",
       " 'ARWR',\n",
       " 'ARYA',\n",
       " 'ARYAU',\n",
       " 'ASA',\n",
       " 'ASB',\n",
       " 'ASC',\n",
       " 'ASEA',\n",
       " 'ASET',\n",
       " 'ASFI',\n",
       " 'ASG',\n",
       " 'ASGN',\n",
       " 'ASH',\n",
       " 'ASHR',\n",
       " 'ASHS',\n",
       " 'ASHX',\n",
       " 'ASIX',\n",
       " 'ASLN',\n",
       " 'ASM',\n",
       " 'ASMB',\n",
       " 'ASML',\n",
       " 'ASNA',\n",
       " 'ASND',\n",
       " 'ASPN',\n",
       " 'ASPS',\n",
       " 'ASPU',\n",
       " 'ASR',\n",
       " 'ASRT',\n",
       " 'ASRV',\n",
       " 'ASRVP',\n",
       " 'ASTC',\n",
       " 'ASTE',\n",
       " 'ASUR',\n",
       " 'ASX',\n",
       " 'ASYS',\n",
       " 'AT',\n",
       " 'ATAX',\n",
       " 'ATCO',\n",
       " 'ATCX',\n",
       " 'ATEC',\n",
       " 'ATEN',\n",
       " 'ATEX',\n",
       " 'ATGE',\n",
       " 'ATH',\n",
       " 'ATHE',\n",
       " 'ATHM',\n",
       " 'ATHX',\n",
       " 'ATI',\n",
       " 'ATKR',\n",
       " 'ATLC',\n",
       " 'ATLO',\n",
       " 'ATMP',\n",
       " 'ATNI',\n",
       " 'ATNM',\n",
       " 'ATNX',\n",
       " 'ATO',\n",
       " 'ATOM',\n",
       " 'ATOS',\n",
       " 'ATR',\n",
       " 'ATRA',\n",
       " 'ATRC',\n",
       " 'ATRI',\n",
       " 'ATRO',\n",
       " 'ATRS',\n",
       " 'ATSG',\n",
       " 'ATTO',\n",
       " 'ATUS',\n",
       " 'ATV',\n",
       " 'ATVI',\n",
       " 'ATXI',\n",
       " 'AU',\n",
       " 'AUB',\n",
       " 'AUBN',\n",
       " 'AUDC',\n",
       " 'AUG',\n",
       " 'AUMN',\n",
       " 'AUPH',\n",
       " 'AUSF',\n",
       " 'AUTL',\n",
       " 'AUTO',\n",
       " 'AUY',\n",
       " 'AVA',\n",
       " 'AVAL',\n",
       " 'AVAV',\n",
       " 'AVB',\n",
       " 'AVCO',\n",
       " 'AVD',\n",
       " 'AVDE',\n",
       " 'AVDL',\n",
       " 'AVDV',\n",
       " 'AVEM',\n",
       " 'AVEO',\n",
       " 'AVGO',\n",
       " 'AVGOP',\n",
       " 'AVGR',\n",
       " 'AVH',\n",
       " 'AVID',\n",
       " 'AVK',\n",
       " 'AVLR',\n",
       " 'AVNS',\n",
       " 'AVNW',\n",
       " 'AVRO',\n",
       " 'AVT',\n",
       " 'AVTR',\n",
       " 'AVUS',\n",
       " 'AVUV',\n",
       " 'AVXL',\n",
       " 'AVY',\n",
       " 'AVYA',\n",
       " 'AWAY',\n",
       " 'AWF',\n",
       " 'AWI',\n",
       " 'AWK',\n",
       " 'AWP',\n",
       " 'AWR',\n",
       " 'AWRE',\n",
       " 'AWTM',\n",
       " 'AWX',\n",
       " 'AX',\n",
       " 'AXAS',\n",
       " 'AXDX',\n",
       " 'AXE',\n",
       " 'AXGN',\n",
       " 'AXGT',\n",
       " 'AXJL',\n",
       " 'AXL',\n",
       " 'AXLA',\n",
       " 'AXNX',\n",
       " 'AXO',\n",
       " 'AXP',\n",
       " 'AXR',\n",
       " 'AXS',\n",
       " 'AXSM',\n",
       " 'AXTA',\n",
       " 'AXTI',\n",
       " 'AXU',\n",
       " 'AY',\n",
       " 'AYI',\n",
       " 'AYTU',\n",
       " 'AYX',\n",
       " 'AZN',\n",
       " 'AZO',\n",
       " 'AZPN',\n",
       " 'AZRE',\n",
       " 'AZRX',\n",
       " 'AZUL',\n",
       " 'AZZ',\n",
       " 'B',\n",
       " 'BA',\n",
       " 'BAB',\n",
       " 'BABA',\n",
       " 'BAC',\n",
       " 'BAF',\n",
       " 'BAH',\n",
       " 'BAK',\n",
       " 'BAL',\n",
       " 'BAM',\n",
       " 'BANC',\n",
       " 'BAND',\n",
       " 'BANF',\n",
       " 'BANFP',\n",
       " 'BANR',\n",
       " 'BANX',\n",
       " 'BAP',\n",
       " 'BAPR',\n",
       " 'BAR',\n",
       " 'BASI',\n",
       " 'BATL',\n",
       " 'BATRA',\n",
       " 'BATRK',\n",
       " 'BATT',\n",
       " 'BAUG',\n",
       " 'BAX',\n",
       " 'BB',\n",
       " 'BBAR',\n",
       " 'BBAX',\n",
       " 'BBBY',\n",
       " 'BBC',\n",
       " 'BBCA',\n",
       " 'BBCP',\n",
       " 'BBD',\n",
       " 'BBDC',\n",
       " 'BBDO',\n",
       " 'BBEU',\n",
       " 'BBF',\n",
       " 'BBGI',\n",
       " 'BBH',\n",
       " 'BBI',\n",
       " 'BBIN',\n",
       " 'BBIO',\n",
       " 'BBJP',\n",
       " 'BBK',\n",
       " 'BBL',\n",
       " 'BBN',\n",
       " 'BBP',\n",
       " 'BBQ',\n",
       " 'BBRE',\n",
       " 'BBSA',\n",
       " 'BBSI',\n",
       " 'BBU',\n",
       " 'BBUS',\n",
       " 'BBVA',\n",
       " 'BBW',\n",
       " 'BBX',\n",
       " 'BBY',\n",
       " 'BC',\n",
       " 'BCBP',\n",
       " 'BCC',\n",
       " 'BCD',\n",
       " 'BCDA',\n",
       " 'BCE',\n",
       " 'BCEI',\n",
       " 'BCEL',\n",
       " 'BCH',\n",
       " 'BCI',\n",
       " 'BCLI',\n",
       " 'BCM',\n",
       " 'BCML',\n",
       " 'BCO',\n",
       " 'BCOM',\n",
       " 'BCOR',\n",
       " 'BCOV',\n",
       " 'BCOW',\n",
       " 'BCPC',\n",
       " 'BCRX',\n",
       " 'BCS',\n",
       " 'BCSF',\n",
       " 'BCTF',\n",
       " 'BCV',\n",
       " 'BCX',\n",
       " 'BCYC',\n",
       " 'BDC',\n",
       " 'BDCS',\n",
       " 'BDCY',\n",
       " 'BDCZ',\n",
       " 'BDEC',\n",
       " 'BDGE',\n",
       " 'BDJ',\n",
       " 'BDL',\n",
       " 'BDN',\n",
       " 'BDR',\n",
       " 'BDRY',\n",
       " 'BDSI',\n",
       " 'BDTX',\n",
       " 'BDX',\n",
       " 'BDXA',\n",
       " 'BE',\n",
       " 'BEAM',\n",
       " 'BEAT',\n",
       " 'BECN',\n",
       " 'BEDU',\n",
       " 'BELFA',\n",
       " 'BELFB',\n",
       " 'BEN',\n",
       " 'BEP',\n",
       " 'BERY',\n",
       " 'BEST',\n",
       " 'BFAM',\n",
       " 'BFC',\n",
       " 'BFEB',\n",
       " 'BFIN',\n",
       " 'BFIT',\n",
       " 'BFK',\n",
       " 'BFO',\n",
       " 'BFOR',\n",
       " 'BFRA',\n",
       " 'BFS',\n",
       " 'BFST',\n",
       " 'BFY',\n",
       " 'BFYT',\n",
       " 'BFZ',\n",
       " 'BG',\n",
       " 'BGB',\n",
       " 'BGCP',\n",
       " 'BGFV',\n",
       " 'BGG',\n",
       " 'BGH',\n",
       " 'BGI',\n",
       " 'BGIO',\n",
       " 'BGNE',\n",
       " 'BGR',\n",
       " 'BGRN',\n",
       " 'BGS',\n",
       " 'BGSF',\n",
       " 'BGT',\n",
       " 'BGX',\n",
       " 'BGY',\n",
       " 'BH',\n",
       " 'BHAT',\n",
       " 'BHB',\n",
       " 'BHC',\n",
       " 'BHE',\n",
       " 'BHF',\n",
       " 'BHFAL',\n",
       " 'BHFAP',\n",
       " 'BHK',\n",
       " 'BHLB',\n",
       " 'BHP',\n",
       " 'BHR',\n",
       " 'BHTG',\n",
       " 'BHV',\n",
       " 'BHVN',\n",
       " 'BIB',\n",
       " 'BIBL',\n",
       " 'BICK',\n",
       " 'BIDU',\n",
       " 'BIF',\n",
       " 'BIG',\n",
       " 'BIIB',\n",
       " 'BIL',\n",
       " 'BILI',\n",
       " 'BILL',\n",
       " 'BIMI',\n",
       " 'BIO',\n",
       " 'BIOC',\n",
       " 'BIOL',\n",
       " 'BIOX',\n",
       " 'BIP',\n",
       " 'BIS',\n",
       " 'BIT',\n",
       " 'BITA',\n",
       " 'BIV',\n",
       " 'BIZD',\n",
       " 'BJ',\n",
       " 'BJAN',\n",
       " 'BJK',\n",
       " 'BJRI',\n",
       " 'BJUL',\n",
       " 'BJUN',\n",
       " 'BK',\n",
       " 'BKCC',\n",
       " 'BKD',\n",
       " 'BKE',\n",
       " 'BKEP',\n",
       " 'BKEPP',\n",
       " 'BKF',\n",
       " 'BKH',\n",
       " 'BKI',\n",
       " 'BKK',\n",
       " 'BKLN',\n",
       " 'BKN',\n",
       " 'BKNG',\n",
       " 'BKR',\n",
       " 'BKSC',\n",
       " 'BKT',\n",
       " 'BKTI',\n",
       " 'BKU',\n",
       " 'BKYI',\n",
       " 'BL',\n",
       " 'BLBD',\n",
       " 'BLCM',\n",
       " 'BLCN',\n",
       " 'BLD',\n",
       " 'BLDP',\n",
       " 'BLDR',\n",
       " 'BLE',\n",
       " 'BLES',\n",
       " 'BLFS',\n",
       " 'BLHY',\n",
       " 'BLIN',\n",
       " 'BLK',\n",
       " 'BLKB',\n",
       " 'BLL',\n",
       " 'BLMN',\n",
       " 'BLNK',\n",
       " 'BLOK',\n",
       " 'BLPH',\n",
       " 'BLRX',\n",
       " 'BLU',\n",
       " 'BLUE',\n",
       " 'BLV',\n",
       " 'BLW',\n",
       " 'BLX',\n",
       " 'BMA',\n",
       " 'BMAR',\n",
       " 'BMCH',\n",
       " 'BME',\n",
       " 'BMEZ',\n",
       " 'BMI',\n",
       " 'BMLP',\n",
       " 'BMO',\n",
       " 'BMRA',\n",
       " 'BMRC',\n",
       " 'BMRN',\n",
       " 'BMTC',\n",
       " 'BMY',\n",
       " 'BND',\n",
       " 'BNDC',\n",
       " 'BNDW',\n",
       " 'BNDX',\n",
       " 'BNED',\n",
       " 'BNFT',\n",
       " 'BNGO',\n",
       " 'BNKD',\n",
       " 'BNKO',\n",
       " 'BNKU',\n",
       " 'BNKZ',\n",
       " 'BNO',\n",
       " 'BNOV',\n",
       " 'BNS',\n",
       " 'BNSO',\n",
       " 'BNTC',\n",
       " 'BNTX',\n",
       " 'BNY',\n",
       " 'BOCH',\n",
       " 'BOCT',\n",
       " 'BOE',\n",
       " 'BOH',\n",
       " 'BOIL',\n",
       " 'BOKF',\n",
       " 'BOKFL',\n",
       " 'BOMN',\n",
       " 'BOND',\n",
       " 'BOOM',\n",
       " 'BOOT',\n",
       " 'BORR',\n",
       " 'BOSC',\n",
       " 'BOSS',\n",
       " 'BOTJ',\n",
       " 'BOTZ',\n",
       " 'BOUT',\n",
       " 'BOX',\n",
       " 'BOXL',\n",
       " 'BP',\n",
       " 'BPFH',\n",
       " 'BPMC',\n",
       " 'BPMP',\n",
       " 'BPMX',\n",
       " 'BPOP',\n",
       " 'BPOPM',\n",
       " 'BPOPN',\n",
       " 'BPRN',\n",
       " 'BPT',\n",
       " 'BPTH',\n",
       " 'BPY',\n",
       " 'BPYPN',\n",
       " 'BPYPO',\n",
       " 'BPYU',\n",
       " 'BPYUP',\n",
       " 'BQH',\n",
       " 'BR',\n",
       " 'BRBR',\n",
       " 'BRBS',\n",
       " 'BRC',\n",
       " 'BREW',\n",
       " 'BRF',\n",
       " 'BRFS',\n",
       " 'BRG',\n",
       " 'BRID',\n",
       " 'BRKL',\n",
       " 'BRKR',\n",
       " 'BRKS',\n",
       " 'BRMK',\n",
       " 'BRN',\n",
       " 'BRO',\n",
       " 'BROG',\n",
       " 'BRP',\n",
       " 'BRPA',\n",
       " 'BRPAR',\n",
       " 'BRPAU',\n",
       " 'BRQS',\n",
       " 'BRT',\n",
       " 'BRX',\n",
       " 'BRY',\n",
       " 'BRZU',\n",
       " 'BSA',\n",
       " 'BSAC',\n",
       " 'BSAE',\n",
       " 'BSBE',\n",
       " 'BSBK',\n",
       " 'BSBR',\n",
       " 'BSCE',\n",
       " 'BSCK',\n",
       " 'BSCL',\n",
       " 'BSCM',\n",
       " 'BSCN',\n",
       " 'BSCO',\n",
       " 'BSCP',\n",
       " 'BSCQ',\n",
       " 'BSCR',\n",
       " 'BSCS',\n",
       " 'BSCT',\n",
       " 'BSD',\n",
       " 'BSDE',\n",
       " 'BSE',\n",
       " 'BSEP',\n",
       " 'BSET',\n",
       " 'BSGM',\n",
       " 'BSIG',\n",
       " 'BSJK',\n",
       " 'BSJL',\n",
       " 'BSJM',\n",
       " 'BSJN',\n",
       " 'BSJO',\n",
       " 'BSJP',\n",
       " 'BSJQ',\n",
       " 'BSJR',\n",
       " 'BSL',\n",
       " 'BSM',\n",
       " 'BSML',\n",
       " 'BSMM',\n",
       " 'BSMN',\n",
       " 'BSMO',\n",
       " 'BSMP',\n",
       " 'BSMQ',\n",
       " 'BSMR',\n",
       " 'BSMS',\n",
       " 'BSMT',\n",
       " 'BSMX',\n",
       " 'BSQR',\n",
       " 'BSRR',\n",
       " 'BST',\n",
       " 'BSTC',\n",
       " 'BSTZ',\n",
       " 'BSV',\n",
       " 'BSVN',\n",
       " 'BSX',\n",
       " 'BTA',\n",
       " 'BTAI',\n",
       " 'BTAL',\n",
       " 'BTE',\n",
       " 'BTEC',\n",
       " 'BTG',\n",
       " 'BTI',\n",
       " 'BTN',\n",
       " 'BTO',\n",
       " 'BTU',\n",
       " 'BTYS',\n",
       " 'BTZ',\n",
       " 'BUD',\n",
       " 'BUG',\n",
       " 'BUI',\n",
       " 'BUL',\n",
       " 'BURL',\n",
       " 'BUSE',\n",
       " 'BUY',\n",
       " 'BUYN',\n",
       " 'BUYZ',\n",
       " 'BV',\n",
       " 'BVAL',\n",
       " 'BVN',\n",
       " 'BVSN',\n",
       " 'BVXV',\n",
       " 'BW',\n",
       " 'BWA',\n",
       " 'BWAY',\n",
       " 'BWB',\n",
       " 'BWEN',\n",
       " 'BWFG',\n",
       " 'BWG',\n",
       " ...]"
      ]
     },
     "execution_count": 12,
     "metadata": {},
     "output_type": "execute_result"
    }
   ],
   "source": [
    "stocks_list"
   ]
  },
  {
   "cell_type": "markdown",
   "id": "1af00596",
   "metadata": {},
   "source": [
    "Code for the testing of how the yfinance package works"
   ]
  },
  {
   "cell_type": "code",
   "execution_count": 13,
   "id": "5ca0fa37",
   "metadata": {},
   "outputs": [],
   "source": [
    "tickersymbol='A'\n",
    "start='2020-01-01'\n",
    "end='2021-01-01'\n",
    "stockdata=yfinance.Ticker(tickersymbol).history(start='2023-01-01',end='2024-01-01')\n",
    "stockinfo=yfinance.Ticker(tickersymbol).info"
   ]
  },
  {
   "cell_type": "code",
   "execution_count": null,
   "id": "bd33a3cd",
   "metadata": {},
   "outputs": [],
   "source": []
  },
  {
   "cell_type": "code",
   "execution_count": null,
   "id": "6406b5ad",
   "metadata": {},
   "outputs": [],
   "source": []
  },
  {
   "cell_type": "code",
   "execution_count": 14,
   "id": "05081d0f",
   "metadata": {},
   "outputs": [
    {
     "data": {
      "text/plain": [
       "{'address1': '5301 Stevens Creek Boulevard',\n",
       " 'city': 'Santa Clara',\n",
       " 'state': 'CA',\n",
       " 'zip': '95051',\n",
       " 'country': 'United States',\n",
       " 'phone': '800 227 9770',\n",
       " 'fax': '866 497 1134',\n",
       " 'website': 'https://www.agilent.com',\n",
       " 'industry': 'Diagnostics & Research',\n",
       " 'industryKey': 'diagnostics-research',\n",
       " 'industryDisp': 'Diagnostics & Research',\n",
       " 'sector': 'Healthcare',\n",
       " 'sectorKey': 'healthcare',\n",
       " 'sectorDisp': 'Healthcare',\n",
       " 'longBusinessSummary': \"Agilent Technologies, Inc. provides application focused solutions to the life sciences, diagnostics, and applied chemical markets worldwide. The company operates in three segments: Life Sciences and Applied Markets, Diagnostics and Genomics, and Agilent CrossLab. The Life Sciences and Applied Markets segment offers liquid chromatography systems and components; liquid chromatography mass spectrometry systems; gas chromatography systems and components; gas chromatography mass spectrometry systems; inductively coupled plasma mass spectrometry instruments; atomic absorption instruments; microwave plasma-atomic emission spectrometry instruments; inductively coupled plasma optical emission spectrometry instruments; raman spectroscopy; cell analysis plate based assays; flow cytometer; real-time cell analyzer; cell imaging systems; microplate reader; laboratory software; information management and analytics; laboratory automation and robotic systems; dissolution testing; and vacuum pumps, and measurement technologies. The Diagnostics and Genomics segment focuses on genomics, nucleic acid contract manufacturing and research and development, pathology, companion diagnostics, reagent partnership, and biomolecular analysis businesses. The Agilent CrossLab segment provides GC and LC columns, sample preparation products, custom chemistries, and laboratory instrument supplies; and offers services portfolio, including repairs, parts, maintenance, installations, training, compliance support, software as a service, asset management, and consulting services. The company markets its products through direct sales, distributors, resellers, manufacturer's representatives, and electronic commerce. Agilent Technologies, Inc. was incorporated in 1999 and is headquartered in Santa Clara, California.\",\n",
       " 'fullTimeEmployees': 18100,\n",
       " 'companyOfficers': [{'maxAge': 1,\n",
       "   'name': 'Mr. Michael R. McMullen',\n",
       "   'age': 62,\n",
       "   'title': 'CEO, President & Director',\n",
       "   'yearBorn': 1961,\n",
       "   'fiscalYear': 2022,\n",
       "   'totalPay': 3658272,\n",
       "   'exercisedValue': 1239419,\n",
       "   'unexercisedValue': 21559030},\n",
       "  {'maxAge': 1,\n",
       "   'name': 'Mr. Robert W. McMahon',\n",
       "   'age': 54,\n",
       "   'title': 'Senior VP, CFO and Interim President of Diagnostics & Genomics Group',\n",
       "   'yearBorn': 1969,\n",
       "   'fiscalYear': 2022,\n",
       "   'totalPay': 1543369,\n",
       "   'exercisedValue': 0,\n",
       "   'unexercisedValue': 163077},\n",
       "  {'maxAge': 1,\n",
       "   'name': 'Mr. Henrik  Ancher-Jensen',\n",
       "   'age': 58,\n",
       "   'title': 'Senior VP and President of Order Fulfillment & Supply Chain',\n",
       "   'yearBorn': 1965,\n",
       "   'fiscalYear': 2022,\n",
       "   'totalPay': 1305221,\n",
       "   'exercisedValue': 0,\n",
       "   'unexercisedValue': 97835},\n",
       "  {'maxAge': 1,\n",
       "   'name': 'Mr. Rodney  Gonsalves',\n",
       "   'age': 57,\n",
       "   'title': 'Principal Accounting Officer, VP & Corporate Controller',\n",
       "   'yearBorn': 1966,\n",
       "   'fiscalYear': 2022,\n",
       "   'exercisedValue': 0,\n",
       "   'unexercisedValue': 0},\n",
       "  {'maxAge': 1,\n",
       "   'name': 'Mr. John  Kohl',\n",
       "   'title': 'Senior Vice President & Chief Information Officer',\n",
       "   'fiscalYear': 2022,\n",
       "   'exercisedValue': 0,\n",
       "   'unexercisedValue': 0},\n",
       "  {'maxAge': 1,\n",
       "   'name': 'Ms. P. Diana Chiu',\n",
       "   'title': 'VP, Interim General Counsel & Secretary',\n",
       "   'fiscalYear': 2022,\n",
       "   'exercisedValue': 0,\n",
       "   'unexercisedValue': 0},\n",
       "  {'maxAge': 1,\n",
       "   'name': 'Mr. Dominique P. Grau',\n",
       "   'age': 64,\n",
       "   'title': 'Senior Vice President of Human Resources & Global Communications',\n",
       "   'yearBorn': 1959,\n",
       "   'fiscalYear': 2022,\n",
       "   'totalPay': 936311,\n",
       "   'exercisedValue': 0,\n",
       "   'unexercisedValue': 2955722},\n",
       "  {'maxAge': 1,\n",
       "   'name': 'Ms. Allison  Ballmer',\n",
       "   'title': 'Senior Vice President of Strategy & Corporate Development',\n",
       "   'fiscalYear': 2022,\n",
       "   'exercisedValue': 0,\n",
       "   'unexercisedValue': 0},\n",
       "  {'maxAge': 1,\n",
       "   'name': 'Ms. Yvonne  Mackie',\n",
       "   'title': 'MD of UK & Ireland Operations and VP of Human Resources - Europe',\n",
       "   'fiscalYear': 2022,\n",
       "   'exercisedValue': 0,\n",
       "   'unexercisedValue': 0},\n",
       "  {'maxAge': 1,\n",
       "   'name': 'Mr. Padraig  McDonnell',\n",
       "   'title': 'Senior VP, Chief Commercial Officer of Agilent & President of Agilent CrossLab Group',\n",
       "   'fiscalYear': 2022,\n",
       "   'totalPay': 1681188,\n",
       "   'exercisedValue': 0,\n",
       "   'unexercisedValue': 0}],\n",
       " 'auditRisk': 10,\n",
       " 'boardRisk': 4,\n",
       " 'compensationRisk': 5,\n",
       " 'shareHolderRightsRisk': 9,\n",
       " 'overallRisk': 8,\n",
       " 'governanceEpochDate': 1706400000,\n",
       " 'compensationAsOfEpochDate': 1672444800,\n",
       " 'maxAge': 86400,\n",
       " 'priceHint': 2,\n",
       " 'previousClose': 132.83,\n",
       " 'open': 132.83,\n",
       " 'dayLow': 132.69,\n",
       " 'dayHigh': 134.52,\n",
       " 'regularMarketPreviousClose': 132.83,\n",
       " 'regularMarketOpen': 132.83,\n",
       " 'regularMarketDayLow': 132.69,\n",
       " 'regularMarketDayHigh': 134.52,\n",
       " 'dividendRate': 0.94,\n",
       " 'dividendYield': 0.0070999996,\n",
       " 'exDividendDate': 1703808000,\n",
       " 'payoutRatio': 0.2148,\n",
       " 'fiveYearAvgDividendYield': 0.69,\n",
       " 'beta': 1.127,\n",
       " 'trailingPE': 32.1244,\n",
       " 'forwardPE': 22.19504,\n",
       " 'volume': 1352459,\n",
       " 'regularMarketVolume': 1352459,\n",
       " 'averageVolume': 1826593,\n",
       " 'averageVolume10days': 1292460,\n",
       " 'averageDailyVolume10Day': 1292460,\n",
       " 'bid': 131.35,\n",
       " 'ask': 136.06,\n",
       " 'bidSize': 800,\n",
       " 'askSize': 2200,\n",
       " 'marketCap': 39344578560,\n",
       " 'fiftyTwoWeekLow': 96.8,\n",
       " 'fiftyTwoWeekHigh': 157.31,\n",
       " 'priceToSalesTrailing12Months': 5.758024,\n",
       " 'fiftyDayAverage': 130.3684,\n",
       " 'twoHundredDayAverage': 122.35635,\n",
       " 'trailingAnnualDividendRate': 0.9,\n",
       " 'trailingAnnualDividendYield': 0.0067755776,\n",
       " 'currency': 'USD',\n",
       " 'enterpriseValue': 40228732928,\n",
       " 'profitMargins': 0.18146999,\n",
       " 'floatShares': 291867246,\n",
       " 'sharesOutstanding': 293004000,\n",
       " 'sharesShort': 2785630,\n",
       " 'sharesShortPriorMonth': 5229349,\n",
       " 'sharesShortPreviousMonthDate': 1702598400,\n",
       " 'dateShortInterest': 1705017600,\n",
       " 'sharesPercentSharesOut': 0.0095,\n",
       " 'heldPercentInsiders': 0.0031299999,\n",
       " 'heldPercentInstitutions': 0.90309,\n",
       " 'shortRatio': 1.61,\n",
       " 'shortPercentOfFloat': 0.0107,\n",
       " 'impliedSharesOutstanding': 293004000,\n",
       " 'bookValue': 20.009,\n",
       " 'priceToBook': 6.71098,\n",
       " 'lastFiscalYearEnd': 1698710400,\n",
       " 'nextFiscalYearEnd': 1730332800,\n",
       " 'mostRecentQuarter': 1698710400,\n",
       " 'earningsQuarterlyGrowth': 0.291,\n",
       " 'netIncomeToCommon': 1240000000,\n",
       " 'trailingEps': 4.18,\n",
       " 'forwardEps': 6.05,\n",
       " 'pegRatio': 3.15,\n",
       " 'lastSplitFactor': '1398:1000',\n",
       " 'lastSplitDate': 1414972800,\n",
       " 'enterpriseToRevenue': 5.887,\n",
       " 'enterpriseToEbitda': 23.989,\n",
       " '52WeekChange': -0.1265781,\n",
       " 'SandP52WeekChange': 0.19632888,\n",
       " 'lastDividendValue': 0.236,\n",
       " 'lastDividendDate': 1703808000,\n",
       " 'exchange': 'NYQ',\n",
       " 'quoteType': 'EQUITY',\n",
       " 'symbol': 'A',\n",
       " 'underlyingSymbol': 'A',\n",
       " 'shortName': 'Agilent Technologies, Inc.',\n",
       " 'longName': 'Agilent Technologies, Inc.',\n",
       " 'firstTradeDateEpochUtc': 942935400,\n",
       " 'timeZoneFullName': 'America/New_York',\n",
       " 'timeZoneShortName': 'EST',\n",
       " 'uuid': '7fc56270-e7a7-3fa8-9a59-35b72eacbe29',\n",
       " 'messageBoardId': 'finmb_154924',\n",
       " 'gmtOffSetMilliseconds': -18000000,\n",
       " 'currentPrice': 134.28,\n",
       " 'targetHighPrice': 165.0,\n",
       " 'targetLowPrice': 119.0,\n",
       " 'targetMeanPrice': 137.81,\n",
       " 'targetMedianPrice': 137.5,\n",
       " 'recommendationMean': 2.4,\n",
       " 'recommendationKey': 'buy',\n",
       " 'numberOfAnalystOpinions': 16,\n",
       " 'totalCash': 1590000000,\n",
       " 'totalCashPerShare': 5.427,\n",
       " 'ebitda': 1676999936,\n",
       " 'totalDebt': 2899000064,\n",
       " 'quickRatio': 1.86,\n",
       " 'currentRatio': 2.611,\n",
       " 'totalRevenue': 6832999936,\n",
       " 'debtToEquity': 49.598,\n",
       " 'revenuePerShare': 23.241,\n",
       " 'returnOnAssets': 0.08253,\n",
       " 'returnOnEquity': 0.22242,\n",
       " 'freeCashflow': 816374976,\n",
       " 'operatingCashflow': 1772000000,\n",
       " 'earningsGrowth': 0.313,\n",
       " 'revenueGrowth': -0.087,\n",
       " 'grossMargins': 0.5071,\n",
       " 'ebitdaMargins': 0.24543,\n",
       " 'operatingMargins': 0.26836002,\n",
       " 'financialCurrency': 'USD',\n",
       " 'trailingPegRatio': 2.5515}"
      ]
     },
     "execution_count": 14,
     "metadata": {},
     "output_type": "execute_result"
    }
   ],
   "source": [
    "stockinfo"
   ]
  },
  {
   "cell_type": "code",
   "execution_count": 15,
   "id": "03a07305",
   "metadata": {},
   "outputs": [],
   "source": [
    "beta=stockinfo['beta']"
   ]
  },
  {
   "cell_type": "code",
   "execution_count": 16,
   "id": "300a4051",
   "metadata": {},
   "outputs": [
    {
     "data": {
      "text/html": [
       "<div>\n",
       "<style scoped>\n",
       "    .dataframe tbody tr th:only-of-type {\n",
       "        vertical-align: middle;\n",
       "    }\n",
       "\n",
       "    .dataframe tbody tr th {\n",
       "        vertical-align: top;\n",
       "    }\n",
       "\n",
       "    .dataframe thead th {\n",
       "        text-align: right;\n",
       "    }\n",
       "</style>\n",
       "<table border=\"1\" class=\"dataframe\">\n",
       "  <thead>\n",
       "    <tr style=\"text-align: right;\">\n",
       "      <th></th>\n",
       "      <th>Open</th>\n",
       "      <th>High</th>\n",
       "      <th>Low</th>\n",
       "      <th>Close</th>\n",
       "      <th>Volume</th>\n",
       "      <th>Dividends</th>\n",
       "      <th>Stock Splits</th>\n",
       "    </tr>\n",
       "    <tr>\n",
       "      <th>Date</th>\n",
       "      <th></th>\n",
       "      <th></th>\n",
       "      <th></th>\n",
       "      <th></th>\n",
       "      <th></th>\n",
       "      <th></th>\n",
       "      <th></th>\n",
       "    </tr>\n",
       "  </thead>\n",
       "  <tbody>\n",
       "    <tr>\n",
       "      <th>2023-01-03 00:00:00-05:00</th>\n",
       "      <td>150.863851</td>\n",
       "      <td>152.025409</td>\n",
       "      <td>147.399020</td>\n",
       "      <td>148.957687</td>\n",
       "      <td>1414300</td>\n",
       "      <td>0.000</td>\n",
       "      <td>0.0</td>\n",
       "    </tr>\n",
       "    <tr>\n",
       "      <th>2023-01-04 00:00:00-05:00</th>\n",
       "      <td>150.556083</td>\n",
       "      <td>151.936056</td>\n",
       "      <td>149.156265</td>\n",
       "      <td>150.575943</td>\n",
       "      <td>1247400</td>\n",
       "      <td>0.000</td>\n",
       "      <td>0.0</td>\n",
       "    </tr>\n",
       "    <tr>\n",
       "      <th>2023-01-05 00:00:00-05:00</th>\n",
       "      <td>148.917976</td>\n",
       "      <td>151.965838</td>\n",
       "      <td>147.696853</td>\n",
       "      <td>151.012756</td>\n",
       "      <td>1714600</td>\n",
       "      <td>0.000</td>\n",
       "      <td>0.0</td>\n",
       "    </tr>\n",
       "    <tr>\n",
       "      <th>2023-01-06 00:00:00-05:00</th>\n",
       "      <td>153.246542</td>\n",
       "      <td>153.524521</td>\n",
       "      <td>141.978408</td>\n",
       "      <td>146.604797</td>\n",
       "      <td>2445000</td>\n",
       "      <td>0.000</td>\n",
       "      <td>0.0</td>\n",
       "    </tr>\n",
       "    <tr>\n",
       "      <th>2023-01-09 00:00:00-05:00</th>\n",
       "      <td>148.610207</td>\n",
       "      <td>150.188733</td>\n",
       "      <td>146.138163</td>\n",
       "      <td>146.406219</td>\n",
       "      <td>1269600</td>\n",
       "      <td>0.000</td>\n",
       "      <td>0.0</td>\n",
       "    </tr>\n",
       "    <tr>\n",
       "      <th>...</th>\n",
       "      <td>...</td>\n",
       "      <td>...</td>\n",
       "      <td>...</td>\n",
       "      <td>...</td>\n",
       "      <td>...</td>\n",
       "      <td>...</td>\n",
       "      <td>...</td>\n",
       "    </tr>\n",
       "    <tr>\n",
       "      <th>2023-12-22 00:00:00-05:00</th>\n",
       "      <td>139.374276</td>\n",
       "      <td>140.123010</td>\n",
       "      <td>138.555654</td>\n",
       "      <td>139.334351</td>\n",
       "      <td>1204100</td>\n",
       "      <td>0.000</td>\n",
       "      <td>0.0</td>\n",
       "    </tr>\n",
       "    <tr>\n",
       "      <th>2023-12-26 00:00:00-05:00</th>\n",
       "      <td>139.074773</td>\n",
       "      <td>140.232818</td>\n",
       "      <td>138.855143</td>\n",
       "      <td>139.573929</td>\n",
       "      <td>948400</td>\n",
       "      <td>0.000</td>\n",
       "      <td>0.0</td>\n",
       "    </tr>\n",
       "    <tr>\n",
       "      <th>2023-12-27 00:00:00-05:00</th>\n",
       "      <td>139.543982</td>\n",
       "      <td>139.923346</td>\n",
       "      <td>138.845167</td>\n",
       "      <td>139.583923</td>\n",
       "      <td>1182300</td>\n",
       "      <td>0.000</td>\n",
       "      <td>0.0</td>\n",
       "    </tr>\n",
       "    <tr>\n",
       "      <th>2023-12-28 00:00:00-05:00</th>\n",
       "      <td>140.302701</td>\n",
       "      <td>140.572249</td>\n",
       "      <td>139.414204</td>\n",
       "      <td>139.534012</td>\n",
       "      <td>892600</td>\n",
       "      <td>0.000</td>\n",
       "      <td>0.0</td>\n",
       "    </tr>\n",
       "    <tr>\n",
       "      <th>2023-12-29 00:00:00-05:00</th>\n",
       "      <td>139.070007</td>\n",
       "      <td>139.699997</td>\n",
       "      <td>138.360001</td>\n",
       "      <td>139.029999</td>\n",
       "      <td>1014400</td>\n",
       "      <td>0.236</td>\n",
       "      <td>0.0</td>\n",
       "    </tr>\n",
       "  </tbody>\n",
       "</table>\n",
       "<p>250 rows × 7 columns</p>\n",
       "</div>"
      ],
      "text/plain": [
       "                                 Open        High         Low       Close  \\\n",
       "Date                                                                        \n",
       "2023-01-03 00:00:00-05:00  150.863851  152.025409  147.399020  148.957687   \n",
       "2023-01-04 00:00:00-05:00  150.556083  151.936056  149.156265  150.575943   \n",
       "2023-01-05 00:00:00-05:00  148.917976  151.965838  147.696853  151.012756   \n",
       "2023-01-06 00:00:00-05:00  153.246542  153.524521  141.978408  146.604797   \n",
       "2023-01-09 00:00:00-05:00  148.610207  150.188733  146.138163  146.406219   \n",
       "...                               ...         ...         ...         ...   \n",
       "2023-12-22 00:00:00-05:00  139.374276  140.123010  138.555654  139.334351   \n",
       "2023-12-26 00:00:00-05:00  139.074773  140.232818  138.855143  139.573929   \n",
       "2023-12-27 00:00:00-05:00  139.543982  139.923346  138.845167  139.583923   \n",
       "2023-12-28 00:00:00-05:00  140.302701  140.572249  139.414204  139.534012   \n",
       "2023-12-29 00:00:00-05:00  139.070007  139.699997  138.360001  139.029999   \n",
       "\n",
       "                            Volume  Dividends  Stock Splits  \n",
       "Date                                                         \n",
       "2023-01-03 00:00:00-05:00  1414300      0.000           0.0  \n",
       "2023-01-04 00:00:00-05:00  1247400      0.000           0.0  \n",
       "2023-01-05 00:00:00-05:00  1714600      0.000           0.0  \n",
       "2023-01-06 00:00:00-05:00  2445000      0.000           0.0  \n",
       "2023-01-09 00:00:00-05:00  1269600      0.000           0.0  \n",
       "...                            ...        ...           ...  \n",
       "2023-12-22 00:00:00-05:00  1204100      0.000           0.0  \n",
       "2023-12-26 00:00:00-05:00   948400      0.000           0.0  \n",
       "2023-12-27 00:00:00-05:00  1182300      0.000           0.0  \n",
       "2023-12-28 00:00:00-05:00   892600      0.000           0.0  \n",
       "2023-12-29 00:00:00-05:00  1014400      0.236           0.0  \n",
       "\n",
       "[250 rows x 7 columns]"
      ]
     },
     "execution_count": 16,
     "metadata": {},
     "output_type": "execute_result"
    }
   ],
   "source": [
    "stockdata"
   ]
  },
  {
   "cell_type": "code",
   "execution_count": 17,
   "id": "ab236e75",
   "metadata": {},
   "outputs": [],
   "source": [
    "balance=yfinance.Ticker(tickersymbol).balance_sheet.T"
   ]
  },
  {
   "cell_type": "code",
   "execution_count": 18,
   "id": "6d86dfa2",
   "metadata": {},
   "outputs": [
    {
     "data": {
      "text/plain": [
       "4"
      ]
     },
     "execution_count": 18,
     "metadata": {},
     "output_type": "execute_result"
    }
   ],
   "source": [
    "len(balance)"
   ]
  },
  {
   "cell_type": "code",
   "execution_count": 19,
   "id": "2756f7ec",
   "metadata": {},
   "outputs": [
    {
     "data": {
      "text/plain": [
       "Index(['Ordinary Shares Number', 'Share Issued', 'Net Debt', 'Total Debt',\n",
       "       'Tangible Book Value', 'Invested Capital', 'Working Capital',\n",
       "       'Net Tangible Assets', 'Common Stock Equity', 'Total Capitalization',\n",
       "       'Total Equity Gross Minority Interest', 'Stockholders Equity',\n",
       "       'Gains Losses Not Affecting Retained Earnings',\n",
       "       'Other Equity Adjustments', 'Retained Earnings',\n",
       "       'Additional Paid In Capital', 'Capital Stock', 'Common Stock',\n",
       "       'Preferred Stock', 'Total Liabilities Net Minority Interest',\n",
       "       'Total Non Current Liabilities Net Minority Interest',\n",
       "       'Other Non Current Liabilities', 'Employee Benefits',\n",
       "       'Non Current Pension And Other Postretirement Benefit Plans',\n",
       "       'Long Term Debt And Capital Lease Obligation', 'Long Term Debt',\n",
       "       'Current Liabilities', 'Current Deferred Liabilities',\n",
       "       'Current Deferred Revenue', 'Current Debt And Capital Lease Obligation',\n",
       "       'Current Debt', 'Commercial Paper',\n",
       "       'Pensionand Other Post Retirement Benefit Plans Current',\n",
       "       'Payables And Accrued Expenses', 'Current Accrued Expenses', 'Payables',\n",
       "       'Accounts Payable', 'Total Assets', 'Total Non Current Assets',\n",
       "       'Other Non Current Assets', 'Investments And Advances',\n",
       "       'Goodwill And Other Intangible Assets', 'Other Intangible Assets',\n",
       "       'Goodwill', 'Net PPE', 'Accumulated Depreciation', 'Gross PPE',\n",
       "       'Machinery Furniture Equipment', 'Buildings And Improvements',\n",
       "       'Land And Improvements', 'Properties', 'Current Assets',\n",
       "       'Other Current Assets', 'Inventory', 'Finished Goods', 'Raw Materials',\n",
       "       'Receivables', 'Accounts Receivable',\n",
       "       'Cash Cash Equivalents And Short Term Investments',\n",
       "       'Other Short Term Investments', 'Cash And Cash Equivalents'],\n",
       "      dtype='object')"
      ]
     },
     "execution_count": 19,
     "metadata": {},
     "output_type": "execute_result"
    }
   ],
   "source": [
    "balance.columns"
   ]
  },
  {
   "cell_type": "code",
   "execution_count": 20,
   "id": "11bcf235",
   "metadata": {},
   "outputs": [
    {
     "data": {
      "text/html": [
       "<div>\n",
       "<style scoped>\n",
       "    .dataframe tbody tr th:only-of-type {\n",
       "        vertical-align: middle;\n",
       "    }\n",
       "\n",
       "    .dataframe tbody tr th {\n",
       "        vertical-align: top;\n",
       "    }\n",
       "\n",
       "    .dataframe thead th {\n",
       "        text-align: right;\n",
       "    }\n",
       "</style>\n",
       "<table border=\"1\" class=\"dataframe\">\n",
       "  <thead>\n",
       "    <tr style=\"text-align: right;\">\n",
       "      <th></th>\n",
       "      <th>Ordinary Shares Number</th>\n",
       "      <th>Share Issued</th>\n",
       "      <th>Net Debt</th>\n",
       "      <th>Total Debt</th>\n",
       "      <th>Tangible Book Value</th>\n",
       "      <th>Invested Capital</th>\n",
       "      <th>Working Capital</th>\n",
       "      <th>Net Tangible Assets</th>\n",
       "      <th>Common Stock Equity</th>\n",
       "      <th>Total Capitalization</th>\n",
       "      <th>...</th>\n",
       "      <th>Current Assets</th>\n",
       "      <th>Other Current Assets</th>\n",
       "      <th>Inventory</th>\n",
       "      <th>Finished Goods</th>\n",
       "      <th>Raw Materials</th>\n",
       "      <th>Receivables</th>\n",
       "      <th>Accounts Receivable</th>\n",
       "      <th>Cash Cash Equivalents And Short Term Investments</th>\n",
       "      <th>Other Short Term Investments</th>\n",
       "      <th>Cash And Cash Equivalents</th>\n",
       "    </tr>\n",
       "  </thead>\n",
       "  <tbody>\n",
       "    <tr>\n",
       "      <th>2023-10-31</th>\n",
       "      <td>292123241.0</td>\n",
       "      <td>292123241.0</td>\n",
       "      <td>1145000000.0</td>\n",
       "      <td>2735000000.0</td>\n",
       "      <td>1410000000.0</td>\n",
       "      <td>8580000000.0</td>\n",
       "      <td>2583000000.0</td>\n",
       "      <td>1410000000.0</td>\n",
       "      <td>5845000000.0</td>\n",
       "      <td>8580000000.0</td>\n",
       "      <td>...</td>\n",
       "      <td>4186000000.0</td>\n",
       "      <td>274000000.0</td>\n",
       "      <td>1031000000.0</td>\n",
       "      <td>570000000.0</td>\n",
       "      <td>461000000.0</td>\n",
       "      <td>1291000000.0</td>\n",
       "      <td>1291000000.0</td>\n",
       "      <td>1590000000.0</td>\n",
       "      <td>NaN</td>\n",
       "      <td>1590000000.0</td>\n",
       "    </tr>\n",
       "    <tr>\n",
       "      <th>2022-10-31</th>\n",
       "      <td>295000000.0</td>\n",
       "      <td>295000000.0</td>\n",
       "      <td>1716000000.0</td>\n",
       "      <td>2769000000.0</td>\n",
       "      <td>532000000.0</td>\n",
       "      <td>8074000000.0</td>\n",
       "      <td>1917000000.0</td>\n",
       "      <td>532000000.0</td>\n",
       "      <td>5305000000.0</td>\n",
       "      <td>8038000000.0</td>\n",
       "      <td>...</td>\n",
       "      <td>3778000000.0</td>\n",
       "      <td>282000000.0</td>\n",
       "      <td>1038000000.0</td>\n",
       "      <td>555000000.0</td>\n",
       "      <td>483000000.0</td>\n",
       "      <td>1405000000.0</td>\n",
       "      <td>1405000000.0</td>\n",
       "      <td>1053000000.0</td>\n",
       "      <td>0.0</td>\n",
       "      <td>1053000000.0</td>\n",
       "    </tr>\n",
       "    <tr>\n",
       "      <th>2021-10-31</th>\n",
       "      <td>302000000.0</td>\n",
       "      <td>302000000.0</td>\n",
       "      <td>1245000000.0</td>\n",
       "      <td>2729000000.0</td>\n",
       "      <td>433000000.0</td>\n",
       "      <td>8118000000.0</td>\n",
       "      <td>2091000000.0</td>\n",
       "      <td>433000000.0</td>\n",
       "      <td>5389000000.0</td>\n",
       "      <td>8118000000.0</td>\n",
       "      <td>...</td>\n",
       "      <td>3799000000.0</td>\n",
       "      <td>222000000.0</td>\n",
       "      <td>830000000.0</td>\n",
       "      <td>463000000.0</td>\n",
       "      <td>367000000.0</td>\n",
       "      <td>1172000000.0</td>\n",
       "      <td>1172000000.0</td>\n",
       "      <td>1575000000.0</td>\n",
       "      <td>91000000.0</td>\n",
       "      <td>1484000000.0</td>\n",
       "    </tr>\n",
       "    <tr>\n",
       "      <th>2020-10-31</th>\n",
       "      <td>306000000.0</td>\n",
       "      <td>306000000.0</td>\n",
       "      <td>918000000.0</td>\n",
       "      <td>2359000000.0</td>\n",
       "      <td>440000000.0</td>\n",
       "      <td>7232000000.0</td>\n",
       "      <td>1948000000.0</td>\n",
       "      <td>440000000.0</td>\n",
       "      <td>4873000000.0</td>\n",
       "      <td>7157000000.0</td>\n",
       "      <td>...</td>\n",
       "      <td>3415000000.0</td>\n",
       "      <td>216000000.0</td>\n",
       "      <td>720000000.0</td>\n",
       "      <td>417000000.0</td>\n",
       "      <td>303000000.0</td>\n",
       "      <td>1038000000.0</td>\n",
       "      <td>1038000000.0</td>\n",
       "      <td>1441000000.0</td>\n",
       "      <td>0.0</td>\n",
       "      <td>1441000000.0</td>\n",
       "    </tr>\n",
       "  </tbody>\n",
       "</table>\n",
       "<p>4 rows × 61 columns</p>\n",
       "</div>"
      ],
      "text/plain": [
       "           Ordinary Shares Number Share Issued      Net Debt    Total Debt  \\\n",
       "2023-10-31            292123241.0  292123241.0  1145000000.0  2735000000.0   \n",
       "2022-10-31            295000000.0  295000000.0  1716000000.0  2769000000.0   \n",
       "2021-10-31            302000000.0  302000000.0  1245000000.0  2729000000.0   \n",
       "2020-10-31            306000000.0  306000000.0   918000000.0  2359000000.0   \n",
       "\n",
       "           Tangible Book Value Invested Capital Working Capital  \\\n",
       "2023-10-31        1410000000.0     8580000000.0    2583000000.0   \n",
       "2022-10-31         532000000.0     8074000000.0    1917000000.0   \n",
       "2021-10-31         433000000.0     8118000000.0    2091000000.0   \n",
       "2020-10-31         440000000.0     7232000000.0    1948000000.0   \n",
       "\n",
       "           Net Tangible Assets Common Stock Equity Total Capitalization  ...  \\\n",
       "2023-10-31        1410000000.0        5845000000.0         8580000000.0  ...   \n",
       "2022-10-31         532000000.0        5305000000.0         8038000000.0  ...   \n",
       "2021-10-31         433000000.0        5389000000.0         8118000000.0  ...   \n",
       "2020-10-31         440000000.0        4873000000.0         7157000000.0  ...   \n",
       "\n",
       "           Current Assets Other Current Assets     Inventory Finished Goods  \\\n",
       "2023-10-31   4186000000.0          274000000.0  1031000000.0    570000000.0   \n",
       "2022-10-31   3778000000.0          282000000.0  1038000000.0    555000000.0   \n",
       "2021-10-31   3799000000.0          222000000.0   830000000.0    463000000.0   \n",
       "2020-10-31   3415000000.0          216000000.0   720000000.0    417000000.0   \n",
       "\n",
       "           Raw Materials   Receivables Accounts Receivable  \\\n",
       "2023-10-31   461000000.0  1291000000.0        1291000000.0   \n",
       "2022-10-31   483000000.0  1405000000.0        1405000000.0   \n",
       "2021-10-31   367000000.0  1172000000.0        1172000000.0   \n",
       "2020-10-31   303000000.0  1038000000.0        1038000000.0   \n",
       "\n",
       "           Cash Cash Equivalents And Short Term Investments  \\\n",
       "2023-10-31                                     1590000000.0   \n",
       "2022-10-31                                     1053000000.0   \n",
       "2021-10-31                                     1575000000.0   \n",
       "2020-10-31                                     1441000000.0   \n",
       "\n",
       "           Other Short Term Investments Cash And Cash Equivalents  \n",
       "2023-10-31                          NaN              1590000000.0  \n",
       "2022-10-31                          0.0              1053000000.0  \n",
       "2021-10-31                   91000000.0              1484000000.0  \n",
       "2020-10-31                          0.0              1441000000.0  \n",
       "\n",
       "[4 rows x 61 columns]"
      ]
     },
     "execution_count": 20,
     "metadata": {},
     "output_type": "execute_result"
    }
   ],
   "source": [
    "balance"
   ]
  },
  {
   "cell_type": "code",
   "execution_count": 21,
   "id": "5f69a3b7",
   "metadata": {},
   "outputs": [],
   "source": [
    "income=yfinance.Ticker(tickersymbol).income_stmt.T"
   ]
  },
  {
   "cell_type": "code",
   "execution_count": 22,
   "id": "b650a2a9",
   "metadata": {},
   "outputs": [
    {
     "data": {
      "text/html": [
       "<div>\n",
       "<style scoped>\n",
       "    .dataframe tbody tr th:only-of-type {\n",
       "        vertical-align: middle;\n",
       "    }\n",
       "\n",
       "    .dataframe tbody tr th {\n",
       "        vertical-align: top;\n",
       "    }\n",
       "\n",
       "    .dataframe thead th {\n",
       "        text-align: right;\n",
       "    }\n",
       "</style>\n",
       "<table border=\"1\" class=\"dataframe\">\n",
       "  <thead>\n",
       "    <tr style=\"text-align: right;\">\n",
       "      <th></th>\n",
       "      <th>Tax Effect Of Unusual Items</th>\n",
       "      <th>Tax Rate For Calcs</th>\n",
       "      <th>Normalized EBITDA</th>\n",
       "      <th>Net Income From Continuing Operation Net Minority Interest</th>\n",
       "      <th>Reconciled Depreciation</th>\n",
       "      <th>Reconciled Cost Of Revenue</th>\n",
       "      <th>EBITDA</th>\n",
       "      <th>EBIT</th>\n",
       "      <th>Net Interest Income</th>\n",
       "      <th>Interest Expense</th>\n",
       "      <th>...</th>\n",
       "      <th>Interest Expense Non Operating</th>\n",
       "      <th>Interest Income Non Operating</th>\n",
       "      <th>Operating Income</th>\n",
       "      <th>Operating Expense</th>\n",
       "      <th>Research And Development</th>\n",
       "      <th>Selling General And Administration</th>\n",
       "      <th>Gross Profit</th>\n",
       "      <th>Cost Of Revenue</th>\n",
       "      <th>Total Revenue</th>\n",
       "      <th>Operating Revenue</th>\n",
       "    </tr>\n",
       "  </thead>\n",
       "  <tbody>\n",
       "    <tr>\n",
       "      <th>2023-10-31</th>\n",
       "      <td>0.0</td>\n",
       "      <td>0.074</td>\n",
       "      <td>1705000000.0</td>\n",
       "      <td>1240000000.0</td>\n",
       "      <td>271000000.0</td>\n",
       "      <td>3368000000.0</td>\n",
       "      <td>1705000000.0</td>\n",
       "      <td>1434000000.0</td>\n",
       "      <td>-44000000.0</td>\n",
       "      <td>95000000.0</td>\n",
       "      <td>...</td>\n",
       "      <td>95000000.0</td>\n",
       "      <td>51000000.0</td>\n",
       "      <td>1350000000.0</td>\n",
       "      <td>2115000000.0</td>\n",
       "      <td>481000000.0</td>\n",
       "      <td>1634000000.0</td>\n",
       "      <td>3465000000.0</td>\n",
       "      <td>3368000000.0</td>\n",
       "      <td>6833000000.0</td>\n",
       "      <td>6833000000.0</td>\n",
       "    </tr>\n",
       "    <tr>\n",
       "      <th>2022-10-31</th>\n",
       "      <td>0.0</td>\n",
       "      <td>0.166</td>\n",
       "      <td>1905000000.0</td>\n",
       "      <td>1254000000.0</td>\n",
       "      <td>317000000.0</td>\n",
       "      <td>3126000000.0</td>\n",
       "      <td>1905000000.0</td>\n",
       "      <td>1588000000.0</td>\n",
       "      <td>-75000000.0</td>\n",
       "      <td>84000000.0</td>\n",
       "      <td>...</td>\n",
       "      <td>84000000.0</td>\n",
       "      <td>9000000.0</td>\n",
       "      <td>1618000000.0</td>\n",
       "      <td>2104000000.0</td>\n",
       "      <td>467000000.0</td>\n",
       "      <td>1637000000.0</td>\n",
       "      <td>3722000000.0</td>\n",
       "      <td>3126000000.0</td>\n",
       "      <td>6848000000.0</td>\n",
       "      <td>6848000000.0</td>\n",
       "    </tr>\n",
       "    <tr>\n",
       "      <th>2021-10-31</th>\n",
       "      <td>0.0</td>\n",
       "      <td>0.11</td>\n",
       "      <td>1762000000.0</td>\n",
       "      <td>1210000000.0</td>\n",
       "      <td>321000000.0</td>\n",
       "      <td>2912000000.0</td>\n",
       "      <td>1762000000.0</td>\n",
       "      <td>1441000000.0</td>\n",
       "      <td>-79000000.0</td>\n",
       "      <td>81000000.0</td>\n",
       "      <td>...</td>\n",
       "      <td>81000000.0</td>\n",
       "      <td>2000000.0</td>\n",
       "      <td>1347000000.0</td>\n",
       "      <td>2060000000.0</td>\n",
       "      <td>441000000.0</td>\n",
       "      <td>1619000000.0</td>\n",
       "      <td>3407000000.0</td>\n",
       "      <td>2912000000.0</td>\n",
       "      <td>6319000000.0</td>\n",
       "      <td>6319000000.0</td>\n",
       "    </tr>\n",
       "    <tr>\n",
       "      <th>2020-10-31</th>\n",
       "      <td>0.0</td>\n",
       "      <td>0.146</td>\n",
       "      <td>1228000000.0</td>\n",
       "      <td>719000000.0</td>\n",
       "      <td>308000000.0</td>\n",
       "      <td>2502000000.0</td>\n",
       "      <td>1228000000.0</td>\n",
       "      <td>920000000.0</td>\n",
       "      <td>-70000000.0</td>\n",
       "      <td>78000000.0</td>\n",
       "      <td>...</td>\n",
       "      <td>78000000.0</td>\n",
       "      <td>8000000.0</td>\n",
       "      <td>846000000.0</td>\n",
       "      <td>1991000000.0</td>\n",
       "      <td>495000000.0</td>\n",
       "      <td>1496000000.0</td>\n",
       "      <td>2837000000.0</td>\n",
       "      <td>2502000000.0</td>\n",
       "      <td>5339000000.0</td>\n",
       "      <td>5339000000.0</td>\n",
       "    </tr>\n",
       "  </tbody>\n",
       "</table>\n",
       "<p>4 rows × 39 columns</p>\n",
       "</div>"
      ],
      "text/plain": [
       "           Tax Effect Of Unusual Items Tax Rate For Calcs Normalized EBITDA  \\\n",
       "2023-10-31                         0.0              0.074      1705000000.0   \n",
       "2022-10-31                         0.0              0.166      1905000000.0   \n",
       "2021-10-31                         0.0               0.11      1762000000.0   \n",
       "2020-10-31                         0.0              0.146      1228000000.0   \n",
       "\n",
       "           Net Income From Continuing Operation Net Minority Interest  \\\n",
       "2023-10-31                                       1240000000.0           \n",
       "2022-10-31                                       1254000000.0           \n",
       "2021-10-31                                       1210000000.0           \n",
       "2020-10-31                                        719000000.0           \n",
       "\n",
       "           Reconciled Depreciation Reconciled Cost Of Revenue        EBITDA  \\\n",
       "2023-10-31             271000000.0               3368000000.0  1705000000.0   \n",
       "2022-10-31             317000000.0               3126000000.0  1905000000.0   \n",
       "2021-10-31             321000000.0               2912000000.0  1762000000.0   \n",
       "2020-10-31             308000000.0               2502000000.0  1228000000.0   \n",
       "\n",
       "                    EBIT Net Interest Income Interest Expense  ...  \\\n",
       "2023-10-31  1434000000.0         -44000000.0       95000000.0  ...   \n",
       "2022-10-31  1588000000.0         -75000000.0       84000000.0  ...   \n",
       "2021-10-31  1441000000.0         -79000000.0       81000000.0  ...   \n",
       "2020-10-31   920000000.0         -70000000.0       78000000.0  ...   \n",
       "\n",
       "           Interest Expense Non Operating Interest Income Non Operating  \\\n",
       "2023-10-31                     95000000.0                    51000000.0   \n",
       "2022-10-31                     84000000.0                     9000000.0   \n",
       "2021-10-31                     81000000.0                     2000000.0   \n",
       "2020-10-31                     78000000.0                     8000000.0   \n",
       "\n",
       "           Operating Income Operating Expense Research And Development  \\\n",
       "2023-10-31     1350000000.0      2115000000.0              481000000.0   \n",
       "2022-10-31     1618000000.0      2104000000.0              467000000.0   \n",
       "2021-10-31     1347000000.0      2060000000.0              441000000.0   \n",
       "2020-10-31      846000000.0      1991000000.0              495000000.0   \n",
       "\n",
       "           Selling General And Administration  Gross Profit Cost Of Revenue  \\\n",
       "2023-10-31                       1634000000.0  3465000000.0    3368000000.0   \n",
       "2022-10-31                       1637000000.0  3722000000.0    3126000000.0   \n",
       "2021-10-31                       1619000000.0  3407000000.0    2912000000.0   \n",
       "2020-10-31                       1496000000.0  2837000000.0    2502000000.0   \n",
       "\n",
       "           Total Revenue Operating Revenue  \n",
       "2023-10-31  6833000000.0      6833000000.0  \n",
       "2022-10-31  6848000000.0      6848000000.0  \n",
       "2021-10-31  6319000000.0      6319000000.0  \n",
       "2020-10-31  5339000000.0      5339000000.0  \n",
       "\n",
       "[4 rows x 39 columns]"
      ]
     },
     "execution_count": 22,
     "metadata": {},
     "output_type": "execute_result"
    }
   ],
   "source": [
    "income"
   ]
  },
  {
   "cell_type": "code",
   "execution_count": 23,
   "id": "c54b61b3",
   "metadata": {
    "scrolled": false
   },
   "outputs": [
    {
     "data": {
      "text/plain": [
       "Index(['Tax Effect Of Unusual Items', 'Tax Rate For Calcs',\n",
       "       'Normalized EBITDA',\n",
       "       'Net Income From Continuing Operation Net Minority Interest',\n",
       "       'Reconciled Depreciation', 'Reconciled Cost Of Revenue', 'EBITDA',\n",
       "       'EBIT', 'Net Interest Income', 'Interest Expense', 'Interest Income',\n",
       "       'Normalized Income',\n",
       "       'Net Income From Continuing And Discontinued Operation',\n",
       "       'Total Expenses', 'Total Operating Income As Reported',\n",
       "       'Diluted Average Shares', 'Basic Average Shares', 'Diluted EPS',\n",
       "       'Basic EPS', 'Diluted NI Availto Com Stockholders',\n",
       "       'Net Income Common Stockholders', 'Net Income',\n",
       "       'Net Income Including Noncontrolling Interests',\n",
       "       'Net Income Continuous Operations', 'Tax Provision', 'Pretax Income',\n",
       "       'Other Income Expense', 'Other Non Operating Income Expenses',\n",
       "       'Net Non Operating Interest Income Expense',\n",
       "       'Interest Expense Non Operating', 'Interest Income Non Operating',\n",
       "       'Operating Income', 'Operating Expense', 'Research And Development',\n",
       "       'Selling General And Administration', 'Gross Profit', 'Cost Of Revenue',\n",
       "       'Total Revenue', 'Operating Revenue'],\n",
       "      dtype='object')"
      ]
     },
     "execution_count": 23,
     "metadata": {},
     "output_type": "execute_result"
    }
   ],
   "source": [
    "income.columns"
   ]
  },
  {
   "cell_type": "code",
   "execution_count": 24,
   "id": "2f9814d7",
   "metadata": {},
   "outputs": [
    {
     "data": {
      "text/plain": [
       "0.21214713430282292"
      ]
     },
     "execution_count": 24,
     "metadata": {},
     "output_type": "execute_result"
    }
   ],
   "source": [
    "income['Net Income'][0]/balance['Stockholders Equity'][0]"
   ]
  },
  {
   "cell_type": "code",
   "execution_count": null,
   "id": "4ea92f0d",
   "metadata": {},
   "outputs": [],
   "source": []
  },
  {
   "cell_type": "code",
   "execution_count": 25,
   "id": "ae09119b",
   "metadata": {},
   "outputs": [
    {
     "data": {
      "text/plain": [
       "0.21214713430282292"
      ]
     },
     "execution_count": 25,
     "metadata": {},
     "output_type": "execute_result"
    }
   ],
   "source": [
    "yfinance.Ticker(tickersymbol).income_stmt.T['Net Income'][0]/yfinance.Ticker(tickersymbol).balance_sheet.T['Stockholders Equity'][0]"
   ]
  },
  {
   "cell_type": "code",
   "execution_count": null,
   "id": "0e49f38a",
   "metadata": {},
   "outputs": [],
   "source": []
  },
  {
   "cell_type": "code",
   "execution_count": 26,
   "id": "32c7e94a",
   "metadata": {},
   "outputs": [],
   "source": [
    "cashflow=yfinance.Ticker(tickersymbol).cash_flow.T"
   ]
  },
  {
   "cell_type": "code",
   "execution_count": 27,
   "id": "5e95da85",
   "metadata": {},
   "outputs": [
    {
     "data": {
      "text/plain": [
       "Index(['Free Cash Flow', 'Repurchase Of Capital Stock', 'Repayment Of Debt',\n",
       "       'Issuance Of Debt', 'Capital Expenditure',\n",
       "       'Interest Paid Supplemental Data', 'Income Tax Paid Supplemental Data',\n",
       "       'End Cash Position', 'Beginning Cash Position',\n",
       "       'Effect Of Exchange Rate Changes', 'Changes In Cash',\n",
       "       'Financing Cash Flow', 'Cash Flow From Continuing Financing Activities',\n",
       "       'Net Other Financing Charges', 'Proceeds From Stock Option Exercised',\n",
       "       'Cash Dividends Paid', 'Common Stock Dividend Paid',\n",
       "       'Net Common Stock Issuance', 'Common Stock Payments',\n",
       "       'Net Issuance Payments Of Debt', 'Net Short Term Debt Issuance',\n",
       "       'Short Term Debt Payments', 'Short Term Debt Issuance',\n",
       "       'Net Long Term Debt Issuance', 'Long Term Debt Payments',\n",
       "       'Long Term Debt Issuance', 'Investing Cash Flow',\n",
       "       'Cash Flow From Continuing Investing Activities',\n",
       "       'Net Other Investing Changes', 'Net Investment Purchase And Sale',\n",
       "       'Sale Of Investment', 'Purchase Of Investment',\n",
       "       'Net Business Purchase And Sale', 'Sale Of Business',\n",
       "       'Purchase Of Business', 'Net Intangibles Purchase And Sale',\n",
       "       'Purchase Of Intangibles', 'Net PPE Purchase And Sale', 'Sale Of PPE',\n",
       "       'Purchase Of PPE', 'Operating Cash Flow',\n",
       "       'Cash Flow From Continuing Operating Activities',\n",
       "       'Change In Working Capital', 'Change In Other Working Capital',\n",
       "       'Change In Payables And Accrued Expense', 'Change In Payable',\n",
       "       'Change In Account Payable', 'Change In Inventory',\n",
       "       'Change In Receivables', 'Changes In Account Receivables',\n",
       "       'Other Non Cash Items', 'Stock Based Compensation',\n",
       "       'Unrealized Gain Loss On Investment Securities',\n",
       "       'Provisionand Write Offof Assets', 'Asset Impairment Charge',\n",
       "       'Deferred Tax', 'Deferred Income Tax',\n",
       "       'Depreciation Amortization Depletion', 'Depreciation And Amortization',\n",
       "       'Operating Gains Losses', 'Gain Loss On Investment Securities',\n",
       "       'Gain Loss On Sale Of Business',\n",
       "       'Net Income From Continuing Operations'],\n",
       "      dtype='object')"
      ]
     },
     "execution_count": 27,
     "metadata": {},
     "output_type": "execute_result"
    }
   ],
   "source": [
    "cashflow.columns"
   ]
  },
  {
   "cell_type": "code",
   "execution_count": 28,
   "id": "91c5954e",
   "metadata": {},
   "outputs": [
    {
     "data": {
      "text/plain": [
       "Index(['Tax Effect Of Unusual Items', 'Tax Rate For Calcs',\n",
       "       'Normalized EBITDA',\n",
       "       'Net Income From Continuing Operation Net Minority Interest',\n",
       "       'Reconciled Depreciation', 'Reconciled Cost Of Revenue', 'EBITDA',\n",
       "       'EBIT', 'Net Interest Income', 'Interest Expense', 'Interest Income',\n",
       "       'Normalized Income',\n",
       "       'Net Income From Continuing And Discontinued Operation',\n",
       "       'Total Expenses', 'Total Operating Income As Reported',\n",
       "       'Diluted Average Shares', 'Basic Average Shares', 'Diluted EPS',\n",
       "       'Basic EPS', 'Diluted NI Availto Com Stockholders',\n",
       "       'Net Income Common Stockholders', 'Net Income',\n",
       "       'Net Income Including Noncontrolling Interests',\n",
       "       'Net Income Continuous Operations', 'Tax Provision', 'Pretax Income',\n",
       "       'Other Income Expense', 'Other Non Operating Income Expenses',\n",
       "       'Net Non Operating Interest Income Expense',\n",
       "       'Interest Expense Non Operating', 'Interest Income Non Operating',\n",
       "       'Operating Income', 'Operating Expense', 'Research And Development',\n",
       "       'Selling General And Administration', 'Gross Profit', 'Cost Of Revenue',\n",
       "       'Total Revenue', 'Operating Revenue'],\n",
       "      dtype='object')"
      ]
     },
     "execution_count": 28,
     "metadata": {},
     "output_type": "execute_result"
    }
   ],
   "source": [
    "income.columns"
   ]
  },
  {
   "cell_type": "code",
   "execution_count": null,
   "id": "0a04c19e",
   "metadata": {},
   "outputs": [],
   "source": []
  },
  {
   "cell_type": "code",
   "execution_count": 49,
   "id": "6ee4a224",
   "metadata": {},
   "outputs": [],
   "source": [
    "def get_roe(balance,income):\n",
    "    if len(income)==0 or len(balance)==0:\n",
    "        return None\n",
    "    else:\n",
    "        try:\n",
    "            equity=balance['Stockholders Equity'][0]\n",
    "        except:\n",
    "            return 0\n",
    "        else:\n",
    "            equity=balance['Stockholders Equity'][0]\n",
    "        net=income['Net Income'][0]\n",
    "        return net/equity if equity!=0 else None"
   ]
  },
  {
   "cell_type": "code",
   "execution_count": 30,
   "id": "ba17ee4a",
   "metadata": {},
   "outputs": [],
   "source": [
    "def get_current(balance):\n",
    "    if len(balance)==0:\n",
    "        return None\n",
    "    else:\n",
    "        \n",
    "        try:\n",
    "            c_asset=balance['Current Assets'][0]\n",
    "        except:\n",
    "            c_asset=0\n",
    "        else:\n",
    "            c_asset=balance['Current Assets'][0]   \n",
    "            \n",
    "        try:\n",
    "            c_liab=balance['Current Liabilities'][0]\n",
    "        except:\n",
    "            try:\n",
    "                c_liab=balance['Current Debt'][0]\n",
    "            except:\n",
    "                c_liab=0\n",
    "            else:\n",
    "                c_liab=balance['Current Debt'][0]\n",
    "        else:\n",
    "            c_liab=balance['Current Liabilities'][0]\n",
    "        return c_asset/c_liab if c_liab!=0 else None"
   ]
  },
  {
   "cell_type": "code",
   "execution_count": 31,
   "id": "b22b40d3",
   "metadata": {},
   "outputs": [],
   "source": [
    "def get_turnover(balance,income):\n",
    "    if len(balance)==0:\n",
    "        return None\n",
    "    else:\n",
    "        \n",
    "        try:\n",
    "            sales=income['Total Revenue'][0]\n",
    "        except:\n",
    "            return 1\n",
    "        else:\n",
    "            sales=income['Total Revenue'][0]\n",
    "            \n",
    "        assets=balance['Total Assets'][0]\n",
    "        return sales/assets if assets!=0 else None"
   ]
  },
  {
   "cell_type": "code",
   "execution_count": 32,
   "id": "d28b981f",
   "metadata": {},
   "outputs": [],
   "source": [
    "def get_wacc(balance,income,beta):\n",
    "    if len(income)==0:\n",
    "        return None\n",
    "    else:\n",
    "        risk_free_rate=.0438\n",
    "        market_rate=.093\n",
    "        \n",
    "        try:\n",
    "            tax_rate=income['Tax Provision'][0]/income['Pretax Income'][0]\n",
    "        except:\n",
    "            tax_rate=0\n",
    "        else:\n",
    "            tax_rate=income['Tax Provision'][0]/income['Pretax Income'][0]\n",
    "        \n",
    "        \n",
    "        try:\n",
    "            cap=balance['Total Capitalization'][0]\n",
    "        except:\n",
    "            cap=1\n",
    "        else:\n",
    "            cap=balance['Total Capitalization'][0]\n",
    "        \n",
    "        try:\n",
    "            liab=balance['Total Debt'][0]\n",
    "        except:\n",
    "            liab=1\n",
    "        else:\n",
    "            liab=balance['Total Debt'][0]\n",
    "        w_e=cap/(cap+liab)\n",
    "        w_d=liab/(cap+liab)\n",
    "        \n",
    "#Not every company has interest expense on their income statements.\n",
    "        try:\n",
    "            interest=income['Interest Expense'][0]\n",
    "        except:\n",
    "            interest=0\n",
    "        else:\n",
    "            interest=income['Interest Expense'][0]\n",
    "        \n",
    "        try:\n",
    "            avg_liab=(balance['Total Debt'][0]+balance['Total Debt'][1])/2\n",
    "        except:\n",
    "            avg_liab=1\n",
    "        else:\n",
    "            avg_liab=(balance['Total Debt'][0]+balance['Total Debt'][1])/2\n",
    "            \n",
    "        k_e=risk_free_rate+beta*(market_rate-risk_free_rate)\n",
    "        k_d=(interest/avg_liab)*(1-tax_rate)\n",
    "        return w_e*k_e+w_d*k_d"
   ]
  },
  {
   "cell_type": "code",
   "execution_count": 33,
   "id": "399bc1ed",
   "metadata": {},
   "outputs": [],
   "source": [
    "def get_div(income,cashflow,price):\n",
    "    if len(price)==0:\n",
    "        return None\n",
    "    else:\n",
    "        div=cashflow['Cash Dividends Paid'][0]\n",
    "        try:\n",
    "            shares=income['Basic Average Shares'][0]\n",
    "        except:\n",
    "            shares=0\n",
    "        else:\n",
    "            shares=income['Basic Average Shares'][0]\n",
    "\n",
    "        end_price=price['Close'][0]\n",
    "        if shares==0 or end_price==0:\n",
    "            return 0\n",
    "        else:\n",
    "            return ((div*-1)/shares)/end_price"
   ]
  },
  {
   "cell_type": "code",
   "execution_count": 34,
   "id": "86a48b8a",
   "metadata": {},
   "outputs": [],
   "source": [
    "def get_earnings(income,price):\n",
    "    if len(price)==0:\n",
    "        return None\n",
    "    else:\n",
    "        try:\n",
    "            eps=income['Basic EPS'][0]\n",
    "        except:\n",
    "            eps=0\n",
    "        else:\n",
    "            eps=income['Basic EPS'][0]\n",
    "            \n",
    "        end_price=price['Close'][-1]\n",
    "        return eps/end_price if end_price!=0 else None"
   ]
  },
  {
   "cell_type": "code",
   "execution_count": 35,
   "id": "aba90798",
   "metadata": {},
   "outputs": [],
   "source": [
    "def get_rev(income):\n",
    "    if len(income)==0:\n",
    "        return None\n",
    "    else:\n",
    "        try:\n",
    "            income['Total Revenue'][0]/income['Total Revenue'][1]\n",
    "        except:\n",
    "            return 1\n",
    "        else:\n",
    "            return income['Total Revenue'][0]/income['Total Revenue'][1]"
   ]
  },
  {
   "cell_type": "code",
   "execution_count": 36,
   "id": "c0f41190",
   "metadata": {},
   "outputs": [],
   "source": [
    "def get_ni(income):\n",
    "    if len(income)==0:\n",
    "        return None\n",
    "    else:\n",
    "        try:\n",
    "            income['Net Income'][0]/income['Net Income'][1]\n",
    "        except:\n",
    "            return 1\n",
    "        else:\n",
    "            return income['Net Income'][0]/income['Net Income'][1]"
   ]
  },
  {
   "cell_type": "code",
   "execution_count": 43,
   "id": "2984a6ae",
   "metadata": {},
   "outputs": [],
   "source": [
    "def get_price(price):\n",
    "    if len(price)==0:\n",
    "        return None\n",
    "    else:\n",
    "        start_price=price['Open'][0]\n",
    "        end_price=price['Close'][0]\n",
    "        return ((start_price/end_price)-1) if end_price!=0 else None"
   ]
  },
  {
   "cell_type": "code",
   "execution_count": null,
   "id": "06780c4f",
   "metadata": {},
   "outputs": [],
   "source": [
    "roe=[]\n",
    "current=[]\n",
    "turnover=[]\n",
    "wacc=[]\n",
    "div=[]\n",
    "earning=[]\n",
    "rev=[]\n",
    "ni=[]\n",
    "price_change=[]"
   ]
  },
  {
   "cell_type": "code",
   "execution_count": 65,
   "id": "d4ad4718",
   "metadata": {
    "scrolled": true
   },
   "outputs": [
    {
     "name": "stdout",
     "output_type": "stream",
     "text": [
      "2094. EHC\n",
      "2095. EHI\n",
      "2096. EHT\n"
     ]
    },
    {
     "name": "stderr",
     "output_type": "stream",
     "text": [
      "Failed to get ticker 'EHT' reason: ('Connection aborted.', RemoteDisconnected('Remote end closed connection without response'))\n",
      "EHT: No timezone found, symbol may be delisted\n"
     ]
    },
    {
     "name": "stdout",
     "output_type": "stream",
     "text": [
      "2097. EHTH\n",
      "2098. EIC\n",
      "2099. EIDO\n",
      "2100. EIDX\n"
     ]
    },
    {
     "name": "stderr",
     "output_type": "stream",
     "text": [
      "EIDX: No timezone found, symbol may be delisted\n"
     ]
    },
    {
     "name": "stdout",
     "output_type": "stream",
     "text": [
      "2101. EIG\n"
     ]
    },
    {
     "name": "stderr",
     "output_type": "stream",
     "text": [
      "EIGI: No timezone found, symbol may be delisted\n"
     ]
    },
    {
     "name": "stdout",
     "output_type": "stream",
     "text": [
      "2102. EIGI\n",
      "2103. EIGR\n",
      "2104. EIM\n",
      "2105. EINC\n",
      "2106. EIRL\n",
      "2107. EIS\n",
      "2108. EIX\n",
      "2109. EJAN\n",
      "2110. EJUL\n",
      "2111. EKAR\n",
      "2112. EKSO\n",
      "2113. EL\n",
      "2114. ELA\n",
      "2115. ELAN\n",
      "2116. ELAT\n"
     ]
    },
    {
     "name": "stderr",
     "output_type": "stream",
     "text": [
      "ELAT: No timezone found, symbol may be delisted\n"
     ]
    },
    {
     "name": "stdout",
     "output_type": "stream",
     "text": [
      "2117. ELC\n",
      "2118. ELD\n",
      "2119. ELF\n",
      "2120. ELGX\n"
     ]
    },
    {
     "name": "stderr",
     "output_type": "stream",
     "text": [
      "ELGX: No timezone found, symbol may be delisted\n"
     ]
    },
    {
     "name": "stdout",
     "output_type": "stream",
     "text": [
      "2121. ELJ\n"
     ]
    },
    {
     "name": "stderr",
     "output_type": "stream",
     "text": [
      "ELJ: No timezone found, symbol may be delisted\n",
      "404 Client Error: Not Found for url: https://query2.finance.yahoo.com/v10/finance/quoteSummary/ELJ?modules=financialData%2CquoteType%2CdefaultKeyStatistics%2CassetProfile%2CsummaryDetail&corsDomain=finance.yahoo.com&formatted=false&symbol=ELJ&crumb=KUwSGfMjWIw\n"
     ]
    },
    {
     "name": "stdout",
     "output_type": "stream",
     "text": [
      "2122. ELLO\n",
      "2123. ELMD\n",
      "2124. ELOX\n",
      "2125. ELP\n",
      "2126. ELS\n",
      "2127. ELSE\n",
      "2128. ELTK\n",
      "2129. ELU\n"
     ]
    },
    {
     "name": "stderr",
     "output_type": "stream",
     "text": [
      "ELU: No price data found, symbol may be delisted (1d 2023-01-01 -> 2024-01-01)\n"
     ]
    },
    {
     "name": "stdout",
     "output_type": "stream",
     "text": [
      "2130. ELVT\n"
     ]
    },
    {
     "name": "stderr",
     "output_type": "stream",
     "text": [
      "ELVT: No timezone found, symbol may be delisted\n"
     ]
    },
    {
     "name": "stdout",
     "output_type": "stream",
     "text": [
      "2131. ELY\n"
     ]
    },
    {
     "name": "stderr",
     "output_type": "stream",
     "text": [
      "ELY: No timezone found, symbol may be delisted\n"
     ]
    },
    {
     "name": "stdout",
     "output_type": "stream",
     "text": [
      "2132. EMAG\n"
     ]
    },
    {
     "name": "stderr",
     "output_type": "stream",
     "text": [
      "EMAG: No price data found, symbol may be delisted (1d 2023-01-01 -> 2024-01-01)\n"
     ]
    },
    {
     "name": "stdout",
     "output_type": "stream",
     "text": [
      "2133. EMAN\n"
     ]
    },
    {
     "name": "stderr",
     "output_type": "stream",
     "text": [
      "EMAN: No timezone found, symbol may be delisted\n",
      "404 Client Error: Not Found for url: https://query2.finance.yahoo.com/v10/finance/quoteSummary/EMAN?modules=financialData%2CquoteType%2CdefaultKeyStatistics%2CassetProfile%2CsummaryDetail&corsDomain=finance.yahoo.com&formatted=false&symbol=EMAN&crumb=KUwSGfMjWIw\n"
     ]
    },
    {
     "name": "stdout",
     "output_type": "stream",
     "text": [
      "2134. EMB\n",
      "2135. EMBH\n"
     ]
    },
    {
     "name": "stderr",
     "output_type": "stream",
     "text": [
      "EMBH: No price data found, symbol may be delisted (1d 2023-01-01 -> 2024-01-01)\n"
     ]
    },
    {
     "name": "stdout",
     "output_type": "stream",
     "text": [
      "2136. EMCB\n",
      "2137. EMCF\n"
     ]
    },
    {
     "name": "stderr",
     "output_type": "stream",
     "text": [
      "EMCF: No timezone found, symbol may be delisted\n"
     ]
    },
    {
     "name": "stdout",
     "output_type": "stream",
     "text": [
      "2138. EMCG\n",
      "2139. EMD\n",
      "2140. EMDV\n",
      "2141. EME\n",
      "2142. EMF\n",
      "2143. EMFM\n",
      "2144. EMGF\n",
      "2145. EMHY\n",
      "2146. EMIF\n",
      "2147. EMIH\n",
      "2148. EMKR\n",
      "2149. EMLC\n",
      "2150. EMLP\n",
      "2151. EMMF\n",
      "2152. EMMS\n",
      "2153. EMN\n",
      "2154. EMNT\n",
      "2155. EMO\n",
      "2156. EMP\n"
     ]
    },
    {
     "name": "stderr",
     "output_type": "stream",
     "text": [
      "EMP: No price data found, symbol may be delisted (1d 2023-01-01 -> 2024-01-01)\n"
     ]
    },
    {
     "name": "stdout",
     "output_type": "stream",
     "text": [
      "2157. EMQQ\n",
      "2158. EMR\n",
      "2159. EMSG\n",
      "2160. EMSH\n"
     ]
    },
    {
     "name": "stderr",
     "output_type": "stream",
     "text": [
      "EMSH: No price data found, symbol may be delisted (1d 2023-01-01 -> 2024-01-01)\n"
     ]
    },
    {
     "name": "stdout",
     "output_type": "stream",
     "text": [
      "2161. EMTL\n",
      "2162. EMTY\n",
      "2163. EMX\n",
      "2164. EMXC\n",
      "2165. ENB\n",
      "2166. ENBA\n"
     ]
    },
    {
     "name": "stderr",
     "output_type": "stream",
     "text": [
      "ENBA: No timezone found, symbol may be delisted\n"
     ]
    },
    {
     "name": "stdout",
     "output_type": "stream",
     "text": [
      "2167. ENBL\n"
     ]
    },
    {
     "name": "stderr",
     "output_type": "stream",
     "text": [
      "ENBL: No timezone found, symbol may be delisted\n"
     ]
    },
    {
     "name": "stdout",
     "output_type": "stream",
     "text": [
      "2168. ENDP\n"
     ]
    },
    {
     "name": "stderr",
     "output_type": "stream",
     "text": [
      "ENDP: No timezone found, symbol may be delisted\n"
     ]
    },
    {
     "name": "stdout",
     "output_type": "stream",
     "text": [
      "2169. ENFR\n",
      "2170. ENG\n",
      "2171. ENIA\n"
     ]
    },
    {
     "name": "stderr",
     "output_type": "stream",
     "text": [
      "ENIA: No timezone found, symbol may be delisted\n"
     ]
    },
    {
     "name": "stdout",
     "output_type": "stream",
     "text": [
      "2172. ENIC\n",
      "2173. ENJ\n",
      "2174. ENLC\n",
      "2175. ENLV\n",
      "2176. ENO\n",
      "2177. ENOB\n"
     ]
    },
    {
     "name": "stderr",
     "output_type": "stream",
     "text": [
      "ENOB: No timezone found, symbol may be delisted\n",
      "404 Client Error: Not Found for url: https://query2.finance.yahoo.com/v10/finance/quoteSummary/ENOB?modules=financialData%2CquoteType%2CdefaultKeyStatistics%2CassetProfile%2CsummaryDetail&corsDomain=finance.yahoo.com&formatted=false&symbol=ENOB&crumb=KUwSGfMjWIw\n"
     ]
    },
    {
     "name": "stdout",
     "output_type": "stream",
     "text": [
      "2178. ENOR\n",
      "2179. ENPH\n",
      "2180. ENR\n",
      "2181. ENS\n",
      "2182. ENSG\n",
      "2183. ENSV\n",
      "2184. ENT\n"
     ]
    },
    {
     "name": "stderr",
     "output_type": "stream",
     "text": [
      "ENT: No timezone found, symbol may be delisted\n"
     ]
    },
    {
     "name": "stdout",
     "output_type": "stream",
     "text": [
      "2185. ENTA\n",
      "2186. ENTG\n",
      "2187. ENTR\n",
      "2188. ENTX\n",
      "2189. ENV\n",
      "2190. ENVA\n",
      "2191. ENX\n",
      "2192. ENZ\n",
      "2193. ENZL\n",
      "2194. EOD\n",
      "2195. EOG\n",
      "2196. EOI\n",
      "2197. EOLS\n",
      "2198. EOS\n",
      "2199. EOT\n",
      "2200. EPAC\n",
      "2201. EPAM\n",
      "2202. EPAY\n"
     ]
    },
    {
     "name": "stderr",
     "output_type": "stream",
     "text": [
      "EPAY: No timezone found, symbol may be delisted\n"
     ]
    },
    {
     "name": "stdout",
     "output_type": "stream",
     "text": [
      "2203. EPC\n",
      "2204. EPD\n",
      "2205. EPHE\n",
      "2206. EPI\n",
      "2207. EPIX\n",
      "2208. EPM\n",
      "2209. EPOL\n",
      "2210. EPP\n",
      "2211. EPR\n",
      "2212. EPRF\n",
      "2213. EPRT\n",
      "2214. EPS\n",
      "2215. EPSN\n",
      "2216. EPU\n",
      "2217. EPV\n",
      "2218. EPZM\n"
     ]
    },
    {
     "name": "stderr",
     "output_type": "stream",
     "text": [
      "EPZM: No timezone found, symbol may be delisted\n"
     ]
    },
    {
     "name": "stdout",
     "output_type": "stream",
     "text": [
      "2219. EQ\n",
      "2220. EQAL\n",
      "2221. EQBK\n",
      "2222. EQC\n",
      "2223. EQH\n",
      "2224. EQIX\n",
      "2225. EQL\n",
      "2226. EQM\n"
     ]
    },
    {
     "name": "stderr",
     "output_type": "stream",
     "text": [
      "EQM: No timezone found, symbol may be delisted\n"
     ]
    },
    {
     "name": "stdout",
     "output_type": "stream",
     "text": [
      "2227. EQNR\n",
      "2228. EQR\n",
      "2229. EQRR\n",
      "2230. EQS\n",
      "2231. EQT\n",
      "2232. EQWL\n",
      "2233. EQX\n",
      "2234. ERA\n"
     ]
    },
    {
     "name": "stderr",
     "output_type": "stream",
     "text": [
      "ERA: No timezone found, symbol may be delisted\n"
     ]
    },
    {
     "name": "stdout",
     "output_type": "stream",
     "text": [
      "2235. ERC\n",
      "2236. ERF\n",
      "2237. ERH\n",
      "2238. ERI\n"
     ]
    },
    {
     "name": "stderr",
     "output_type": "stream",
     "text": [
      "ERI: No timezone found, symbol may be delisted\n"
     ]
    },
    {
     "name": "stdout",
     "output_type": "stream",
     "text": [
      "2239. ERIC\n",
      "2240. ERIE\n",
      "2241. ERII\n",
      "2242. ERJ\n",
      "2243. ERM\n",
      "2244. EROS\n"
     ]
    },
    {
     "name": "stderr",
     "output_type": "stream",
     "text": [
      "EROS: No timezone found, symbol may be delisted\n"
     ]
    },
    {
     "name": "stdout",
     "output_type": "stream",
     "text": [
      "2245. ERSX\n",
      "2246. ERUS\n",
      "2247. ERX\n",
      "2248. ERY\n",
      "2249. ERYP\n"
     ]
    },
    {
     "name": "stderr",
     "output_type": "stream",
     "text": [
      "ERYP: No timezone found, symbol may be delisted\n"
     ]
    },
    {
     "name": "stdout",
     "output_type": "stream",
     "text": [
      "2250. ES\n",
      "2251. ESBA\n",
      "2252. ESBK\n"
     ]
    },
    {
     "name": "stderr",
     "output_type": "stream",
     "text": [
      "ESBK: No timezone found, symbol may be delisted\n"
     ]
    },
    {
     "name": "stdout",
     "output_type": "stream",
     "text": [
      "2253. ESCA\n",
      "2254. ESE\n",
      "2255. ESEA\n",
      "2256. ESG\n",
      "2257. ESGD\n",
      "2258. ESGE\n",
      "2259. ESGG\n",
      "2260. ESGN\n",
      "2261. ESGR\n",
      "2262. ESGRO\n",
      "2263. ESGRP\n",
      "2264. ESGS\n",
      "2265. ESGU\n",
      "2266. ESGV\n",
      "2267. ESI\n",
      "2268. ESLT\n",
      "2269. ESML\n",
      "2270. ESNG\n"
     ]
    },
    {
     "name": "stderr",
     "output_type": "stream",
     "text": [
      "ESNG: No price data found, symbol may be delisted (1d 2023-01-01 -> 2024-01-01)\n"
     ]
    },
    {
     "name": "stdout",
     "output_type": "stream",
     "text": [
      "2271. ESNT\n",
      "2272. ESP\n",
      "2273. ESPO\n",
      "2274. ESPR\n",
      "2275. ESQ\n",
      "2276. ESS\n",
      "2277. ESSA\n",
      "2278. ESSC\n"
     ]
    },
    {
     "name": "stderr",
     "output_type": "stream",
     "text": [
      "ESSC: No timezone found, symbol may be delisted\n"
     ]
    },
    {
     "name": "stdout",
     "output_type": "stream",
     "text": [
      "2279. ESSCU\n"
     ]
    },
    {
     "name": "stderr",
     "output_type": "stream",
     "text": [
      "ESSCU: No timezone found, symbol may be delisted\n"
     ]
    },
    {
     "name": "stdout",
     "output_type": "stream",
     "text": [
      "2280. ESTA\n",
      "2281. ESTC\n",
      "2282. ESTE\n"
     ]
    },
    {
     "name": "stderr",
     "output_type": "stream",
     "text": [
      "ESTE: No timezone found, symbol may be delisted\n",
      "404 Client Error: Not Found for url: https://query2.finance.yahoo.com/v10/finance/quoteSummary/ESTE?modules=financialData%2CquoteType%2CdefaultKeyStatistics%2CassetProfile%2CsummaryDetail&corsDomain=finance.yahoo.com&formatted=false&symbol=ESTE&crumb=KUwSGfMjWIw\n"
     ]
    },
    {
     "name": "stdout",
     "output_type": "stream",
     "text": [
      "2283. ESXB\n"
     ]
    },
    {
     "name": "stderr",
     "output_type": "stream",
     "text": [
      "ESXB: No timezone found, symbol may be delisted\n"
     ]
    },
    {
     "name": "stdout",
     "output_type": "stream",
     "text": [
      "2284. ET\n",
      "2285. ETB\n",
      "2286. ETFC\n"
     ]
    },
    {
     "name": "stderr",
     "output_type": "stream",
     "text": [
      "ETFC: No timezone found, symbol may be delisted\n"
     ]
    },
    {
     "name": "stdout",
     "output_type": "stream",
     "text": [
      "2287. ETG\n",
      "2288. ETH\n"
     ]
    },
    {
     "name": "stderr",
     "output_type": "stream",
     "text": [
      "ETH: No timezone found, symbol may be delisted\n"
     ]
    },
    {
     "name": "stdout",
     "output_type": "stream",
     "text": [
      "2289. ETHO\n",
      "2290. ETJ\n",
      "2291. ETM\n"
     ]
    },
    {
     "name": "stderr",
     "output_type": "stream",
     "text": [
      "ETM: No timezone found, symbol may be delisted\n"
     ]
    },
    {
     "name": "stdout",
     "output_type": "stream",
     "text": [
      "2292. ETN\n",
      "2293. ETNB\n",
      "2294. ETO\n",
      "2295. ETON\n",
      "2296. ETR\n",
      "2297. ETRN\n",
      "2298. ETSY\n",
      "2299. ETTX\n"
     ]
    },
    {
     "name": "stderr",
     "output_type": "stream",
     "text": [
      "ETTX: No timezone found, symbol may be delisted\n"
     ]
    },
    {
     "name": "stdout",
     "output_type": "stream",
     "text": [
      "2300. ETV\n",
      "2301. ETW\n",
      "2302. ETX\n",
      "2303. ETY\n",
      "2304. EUDG\n",
      "2305. EUDV\n",
      "2306. EUFN\n",
      "2307. EUFX\n"
     ]
    },
    {
     "name": "stderr",
     "output_type": "stream",
     "text": [
      "EUFX: No price data found, symbol may be delisted (1d 2023-01-01 -> 2024-01-01)\n"
     ]
    },
    {
     "name": "stdout",
     "output_type": "stream",
     "text": [
      "2308. EUM\n",
      "2309. EUMF\n"
     ]
    },
    {
     "name": "stderr",
     "output_type": "stream",
     "text": [
      "EUMF: No price data found, symbol may be delisted (1d 2023-01-01 -> 2024-01-01)\n"
     ]
    },
    {
     "name": "stdout",
     "output_type": "stream",
     "text": [
      "2310. EUMV\n"
     ]
    },
    {
     "name": "stderr",
     "output_type": "stream",
     "text": [
      "EUMV: No price data found, symbol may be delisted (1d 2023-01-01 -> 2024-01-01)\n"
     ]
    },
    {
     "name": "stdout",
     "output_type": "stream",
     "text": [
      "2311. EUO\n",
      "2312. EURL\n",
      "2313. EURN\n",
      "2314. EURZ\n"
     ]
    },
    {
     "name": "stderr",
     "output_type": "stream",
     "text": [
      "EURZ: No price data found, symbol may be delisted (1d 2023-01-01 -> 2024-01-01)\n"
     ]
    },
    {
     "name": "stdout",
     "output_type": "stream",
     "text": [
      "2315. EUSA\n",
      "2316. EUSC\n",
      "2317. EV\n",
      "2318. EVA\n",
      "2319. EVBG\n",
      "2320. EVBN\n",
      "2321. EVC\n",
      "2322. EVER\n",
      "2323. EVF\n",
      "2324. EVFM\n",
      "2325. EVG\n",
      "2326. EVGBC\n"
     ]
    },
    {
     "name": "stderr",
     "output_type": "stream",
     "text": [
      "EVGBC: No price data found, symbol may be delisted (1d 2023-01-01 -> 2024-01-01)\n"
     ]
    },
    {
     "name": "stdout",
     "output_type": "stream",
     "text": [
      "2327. EVGN\n",
      "2328. EVH\n",
      "2329. EVI\n",
      "2330. EVIX\n"
     ]
    },
    {
     "name": "stderr",
     "output_type": "stream",
     "text": [
      "EVIX: No price data found, symbol may be delisted (1d 2023-01-01 -> 2024-01-01)\n"
     ]
    },
    {
     "name": "stdout",
     "output_type": "stream",
     "text": [
      "2331. EVK\n"
     ]
    },
    {
     "name": "stderr",
     "output_type": "stream",
     "text": [
      "EVK: No timezone found, symbol may be delisted\n"
     ]
    },
    {
     "name": "stdout",
     "output_type": "stream",
     "text": [
      "2332. EVLMC\n"
     ]
    },
    {
     "name": "stderr",
     "output_type": "stream",
     "text": [
      "EVLMC: No price data found, symbol may be delisted (1d 2023-01-01 -> 2024-01-01)\n"
     ]
    },
    {
     "name": "stdout",
     "output_type": "stream",
     "text": [
      "2333. EVLO\n",
      "2334. EVM\n",
      "2335. EVN\n",
      "2336. EVOK\n",
      "2337. EVOL\n",
      "2338. EVOP\n"
     ]
    },
    {
     "name": "stderr",
     "output_type": "stream",
     "text": [
      "EVOP: No timezone found, symbol may be delisted\n"
     ]
    },
    {
     "name": "stdout",
     "output_type": "stream",
     "text": [
      "2339. EVR\n",
      "2340. EVRG\n",
      "2341. EVRI\n",
      "2342. EVSI\n"
     ]
    },
    {
     "name": "stderr",
     "output_type": "stream",
     "text": [
      "EVSI: No timezone found, symbol may be delisted\n"
     ]
    },
    {
     "name": "stdout",
     "output_type": "stream",
     "text": [
      "2343. EVSTC\n"
     ]
    },
    {
     "name": "stderr",
     "output_type": "stream",
     "text": [
      "EVSTC: No price data found, symbol may be delisted (1d 2023-01-01 -> 2024-01-01)\n"
     ]
    },
    {
     "name": "stdout",
     "output_type": "stream",
     "text": [
      "2344. EVT\n",
      "2345. EVTC\n",
      "2346. EVV\n",
      "2347. EVX\n",
      "2348. EVY\n",
      "2349. EW\n",
      "2350. EWA\n",
      "2351. EWBC\n",
      "2352. EWC\n",
      "2353. EWCO\n",
      "2354. EWD\n",
      "2355. EWG\n",
      "2356. EWGS\n",
      "2357. EWH\n",
      "2358. EWI\n",
      "2359. EWJ\n",
      "2360. EWJE\n"
     ]
    },
    {
     "name": "stderr",
     "output_type": "stream",
     "text": [
      "EWJE: No price data found, symbol may be delisted (1d 2023-01-01 -> 2024-01-01)\n"
     ]
    },
    {
     "name": "stdout",
     "output_type": "stream",
     "text": [
      "2361. EWJV\n",
      "2362. EWL\n",
      "2363. EWM\n",
      "2364. EWMC\n",
      "2365. EWN\n",
      "2366. EWO\n",
      "2367. EWP\n",
      "2368. EWQ\n",
      "2369. EWRE\n",
      "2370. EWS\n",
      "2371. EWSC\n",
      "2372. EWT\n",
      "2373. EWU\n",
      "2374. EWUS\n",
      "2375. EWV\n",
      "2376. EWW\n",
      "2377. EWX\n",
      "2378. EWY\n",
      "2379. EWZ\n",
      "2380. EWZS\n",
      "2381. EXAS\n",
      "2382. EXC\n",
      "2383. EXD\n"
     ]
    },
    {
     "name": "stderr",
     "output_type": "stream",
     "text": [
      "EXD: No timezone found, symbol may be delisted\n",
      "404 Client Error: Not Found for url: https://query2.finance.yahoo.com/v10/finance/quoteSummary/EXD?modules=financialData%2CquoteType%2CdefaultKeyStatistics%2CassetProfile%2CsummaryDetail&corsDomain=finance.yahoo.com&formatted=false&symbol=EXD&crumb=KUwSGfMjWIw\n"
     ]
    },
    {
     "name": "stdout",
     "output_type": "stream",
     "text": [
      "2384. EXEL\n",
      "2385. EXFO\n"
     ]
    },
    {
     "name": "stderr",
     "output_type": "stream",
     "text": [
      "EXFO: No timezone found, symbol may be delisted\n"
     ]
    },
    {
     "name": "stdout",
     "output_type": "stream",
     "text": [
      "2386. EXG\n",
      "2387. EXI\n",
      "2388. EXIV\n"
     ]
    },
    {
     "name": "stderr",
     "output_type": "stream",
     "text": [
      "EXIV: No price data found, symbol may be delisted (1d 2023-01-01 -> 2024-01-01)\n"
     ]
    },
    {
     "name": "stdout",
     "output_type": "stream",
     "text": [
      "2389. EXK\n",
      "2390. EXLS\n",
      "2391. EXP\n",
      "2392. EXPC\n"
     ]
    },
    {
     "name": "stderr",
     "output_type": "stream",
     "text": [
      "EXPC: No timezone found, symbol may be delisted\n"
     ]
    },
    {
     "name": "stdout",
     "output_type": "stream",
     "text": [
      "2393. EXPCU\n"
     ]
    },
    {
     "name": "stderr",
     "output_type": "stream",
     "text": [
      "EXPCU: No timezone found, symbol may be delisted\n"
     ]
    },
    {
     "name": "stdout",
     "output_type": "stream",
     "text": [
      "2394. EXPD\n",
      "2395. EXPE\n",
      "2396. EXPI\n",
      "2397. EXPO\n",
      "2398. EXPR\n",
      "2399. EXR\n",
      "2400. EXTN\n"
     ]
    },
    {
     "name": "stderr",
     "output_type": "stream",
     "text": [
      "EXTN: No timezone found, symbol may be delisted\n"
     ]
    },
    {
     "name": "stdout",
     "output_type": "stream",
     "text": [
      "2401. EYE\n",
      "2402. EYEG\n",
      "2403. EYEN\n",
      "2404. EYES\n"
     ]
    },
    {
     "name": "stderr",
     "output_type": "stream",
     "text": [
      "EYES: No timezone found, symbol may be delisted\n"
     ]
    },
    {
     "name": "stdout",
     "output_type": "stream",
     "text": [
      "2405. EYLD\n",
      "2406. EYPT\n",
      "2407. EZA\n",
      "2408. EZJ\n",
      "2409. EZM\n",
      "2410. EZPW\n",
      "2411. EZT\n"
     ]
    },
    {
     "name": "stderr",
     "output_type": "stream",
     "text": [
      "EZT: No price data found, symbol may be delisted (1d 2023-01-01 -> 2024-01-01)\n"
     ]
    },
    {
     "name": "stdout",
     "output_type": "stream",
     "text": [
      "2412. EZU\n",
      "2413. F\n",
      "2414. FAAR\n",
      "2415. FAB\n",
      "2416. FAD\n",
      "2417. FAF\n",
      "2418. FALN\n",
      "2419. FAM\n",
      "2420. FAMI\n",
      "2421. FAN\n",
      "2422. FANG\n",
      "2423. FANH\n",
      "2424. FARM\n",
      "2425. FARO\n",
      "2426. FAS\n",
      "2427. FAST\n",
      "2428. FAT\n",
      "2429. FATE\n",
      "2430. FAUG\n",
      "2431. FAUS\n"
     ]
    },
    {
     "name": "stderr",
     "output_type": "stream",
     "text": [
      "FAUS: No price data found, symbol may be delisted (1d 2023-01-01 -> 2024-01-01)\n"
     ]
    },
    {
     "name": "stdout",
     "output_type": "stream",
     "text": [
      "2432. FAX\n",
      "2433. FAZ\n",
      "2434. FB\n"
     ]
    },
    {
     "name": "stderr",
     "output_type": "stream",
     "text": [
      "FB: No timezone found, symbol may be delisted\n"
     ]
    },
    {
     "name": "stdout",
     "output_type": "stream",
     "text": [
      "2435. FBC\n"
     ]
    },
    {
     "name": "stderr",
     "output_type": "stream",
     "text": [
      "FBC: No timezone found, symbol may be delisted\n"
     ]
    },
    {
     "name": "stdout",
     "output_type": "stream",
     "text": [
      "2436. FBGX\n",
      "2437. FBHS\n"
     ]
    },
    {
     "name": "stderr",
     "output_type": "stream",
     "text": [
      "FBHS: No timezone found, symbol may be delisted\n"
     ]
    },
    {
     "name": "stdout",
     "output_type": "stream",
     "text": [
      "2438. FBIO\n",
      "2439. FBIOP\n",
      "2440. FBIZ\n",
      "2441. FBK\n",
      "2442. FBM\n"
     ]
    },
    {
     "name": "stderr",
     "output_type": "stream",
     "text": [
      "FBM: No timezone found, symbol may be delisted\n"
     ]
    },
    {
     "name": "stdout",
     "output_type": "stream",
     "text": [
      "2443. FBMS\n",
      "2444. FBNC\n",
      "2445. FBND\n",
      "2446. FBP\n",
      "2447. FBSS\n"
     ]
    },
    {
     "name": "stderr",
     "output_type": "stream",
     "text": [
      "FBSS: No timezone found, symbol may be delisted\n"
     ]
    },
    {
     "name": "stdout",
     "output_type": "stream",
     "text": [
      "2448. FBT\n",
      "2449. FBZ\n",
      "2450. FC\n",
      "2451. FCA\n",
      "2452. FCAL\n",
      "2453. FCAN\n"
     ]
    },
    {
     "name": "stderr",
     "output_type": "stream",
     "text": [
      "FCAN: No price data found, symbol may be delisted (1d 2023-01-01 -> 2024-01-01)\n"
     ]
    },
    {
     "name": "stdout",
     "output_type": "stream",
     "text": [
      "2454. FCAP\n",
      "2455. FCAU\n"
     ]
    },
    {
     "name": "stderr",
     "output_type": "stream",
     "text": [
      "FCAU: No timezone found, symbol may be delisted\n"
     ]
    },
    {
     "name": "stdout",
     "output_type": "stream",
     "text": [
      "2456. FCBC\n",
      "2457. FCBP\n"
     ]
    },
    {
     "name": "stderr",
     "output_type": "stream",
     "text": [
      "FCBP: No timezone found, symbol may be delisted\n"
     ]
    },
    {
     "name": "stdout",
     "output_type": "stream",
     "text": [
      "2458. FCCO\n",
      "2459. FCCY\n"
     ]
    },
    {
     "name": "stderr",
     "output_type": "stream",
     "text": [
      "FCCY: No timezone found, symbol may be delisted\n"
     ]
    },
    {
     "name": "stdout",
     "output_type": "stream",
     "text": [
      "2460. FCEF\n",
      "2461. FCEL\n",
      "2462. FCF\n",
      "2463. FCFS\n",
      "2464. FCG\n",
      "2465. FCN\n",
      "2466. FCNCA\n",
      "2467. FCNCP\n",
      "2468. FCO\n",
      "2469. FCOM\n",
      "2470. FCOR\n",
      "2471. FCPI\n",
      "2472. FCPT\n",
      "2473. FCT\n",
      "2474. FCTR\n",
      "2475. FCVT\n",
      "2476. FCX\n",
      "2477. FDBC\n",
      "2478. FDD\n",
      "2479. FDEF\n"
     ]
    },
    {
     "name": "stderr",
     "output_type": "stream",
     "text": [
      "FDEF: No timezone found, symbol may be delisted\n"
     ]
    },
    {
     "name": "stdout",
     "output_type": "stream",
     "text": [
      "2480. FDEM\n",
      "2481. FDEU\n"
     ]
    },
    {
     "name": "stderr",
     "output_type": "stream",
     "text": [
      "FDEU: No timezone found, symbol may be delisted\n",
      "404 Client Error: Not Found for url: https://query2.finance.yahoo.com/v10/finance/quoteSummary/FDEU?modules=financialData%2CquoteType%2CdefaultKeyStatistics%2CassetProfile%2CsummaryDetail&corsDomain=finance.yahoo.com&formatted=false&symbol=FDEU&crumb=KUwSGfMjWIw\n"
     ]
    },
    {
     "name": "stdout",
     "output_type": "stream",
     "text": [
      "2482. FDEV\n",
      "2483. FDG\n",
      "2484. FDHY\n",
      "2485. FDIS\n",
      "2486. FDIV\n",
      "2487. FDL\n",
      "2488. FDLO\n",
      "2489. FDM\n",
      "2490. FDMO\n",
      "2491. FDN\n",
      "2492. FDNI\n",
      "2493. FDP\n",
      "2494. FDRR\n",
      "2495. FDS\n",
      "2496. FDT\n",
      "2497. FDTS\n",
      "2498. FDUS\n",
      "2499. FDUSG\n"
     ]
    },
    {
     "name": "stderr",
     "output_type": "stream",
     "text": [
      "FDUSG: No timezone found, symbol may be delisted\n",
      "404 Client Error: Not Found for url: https://query2.finance.yahoo.com/v10/finance/quoteSummary/FDUSG?modules=financialData%2CquoteType%2CdefaultKeyStatistics%2CassetProfile%2CsummaryDetail&corsDomain=finance.yahoo.com&formatted=false&symbol=FDUSG&crumb=KUwSGfMjWIw\n"
     ]
    },
    {
     "name": "stdout",
     "output_type": "stream",
     "text": [
      "2500. FDUSZ\n"
     ]
    },
    {
     "name": "stderr",
     "output_type": "stream",
     "text": [
      "FDUSZ: No timezone found, symbol may be delisted\n",
      "404 Client Error: Not Found for url: https://query2.finance.yahoo.com/v10/finance/quoteSummary/FDUSZ?modules=financialData%2CquoteType%2CdefaultKeyStatistics%2CassetProfile%2CsummaryDetail&corsDomain=finance.yahoo.com&formatted=false&symbol=FDUSZ&crumb=KUwSGfMjWIw\n"
     ]
    },
    {
     "name": "stdout",
     "output_type": "stream",
     "text": [
      "2501. FDVV\n",
      "2502. FDX\n",
      "2503. FE\n",
      "2504. FEDU\n",
      "2505. FEI\n",
      "2506. FEIM\n",
      "2507. FELE\n",
      "2508. FEM\n",
      "2509. FEMB\n",
      "2510. FEMS\n",
      "2511. FEN\n",
      "2512. FENC\n",
      "2513. FENG\n",
      "2514. FENY\n",
      "2515. FEO\n"
     ]
    },
    {
     "name": "stderr",
     "output_type": "stream",
     "text": [
      "FEO: No timezone found, symbol may be delisted\n",
      "404 Client Error: Not Found for url: https://query2.finance.yahoo.com/v10/finance/quoteSummary/FEO?modules=financialData%2CquoteType%2CdefaultKeyStatistics%2CassetProfile%2CsummaryDetail&corsDomain=finance.yahoo.com&formatted=false&symbol=FEO&crumb=KUwSGfMjWIw\n"
     ]
    },
    {
     "name": "stdout",
     "output_type": "stream",
     "text": [
      "2516. FEP\n",
      "2517. FET\n",
      "2518. FEUL\n"
     ]
    },
    {
     "name": "stderr",
     "output_type": "stream",
     "text": [
      "FEUL: No price data found, symbol may be delisted (1d 2023-01-01 -> 2024-01-01)\n"
     ]
    },
    {
     "name": "stdout",
     "output_type": "stream",
     "text": [
      "2519. FEUZ\n",
      "2520. FEX\n",
      "2521. FEYE\n"
     ]
    },
    {
     "name": "stderr",
     "output_type": "stream",
     "text": [
      "FEYE: No timezone found, symbol may be delisted\n"
     ]
    },
    {
     "name": "stdout",
     "output_type": "stream",
     "text": [
      "2522. FEZ\n",
      "2523. FF\n",
      "2524. FFA\n",
      "2525. FFBC\n",
      "2526. FFBW\n",
      "2527. FFC\n",
      "2528. FFEB\n",
      "2529. FFEU\n"
     ]
    },
    {
     "name": "stderr",
     "output_type": "stream",
     "text": [
      "FFEU: No price data found, symbol may be delisted (1d 2023-01-01 -> 2024-01-01)\n"
     ]
    },
    {
     "name": "stdout",
     "output_type": "stream",
     "text": [
      "2530. FFG\n"
     ]
    },
    {
     "name": "stderr",
     "output_type": "stream",
     "text": [
      "FFG: No timezone found, symbol may be delisted\n"
     ]
    },
    {
     "name": "stdout",
     "output_type": "stream",
     "text": [
      "2531. FFHG\n",
      "2532. FFHL\n"
     ]
    },
    {
     "name": "stderr",
     "output_type": "stream",
     "text": [
      "FFHL: No timezone found, symbol may be delisted\n"
     ]
    },
    {
     "name": "stdout",
     "output_type": "stream",
     "text": [
      "2533. FFIC\n",
      "2534. FFIN\n",
      "2535. FFIU\n",
      "2536. FFIV\n",
      "2537. FFNW\n",
      "2538. FFR\n",
      "2539. FFSG\n",
      "2540. FFTG\n",
      "2541. FFTI\n",
      "2542. FFTY\n",
      "2543. FFWM\n",
      "2544. FG\n",
      "2545. FGB\n",
      "2546. FGBI\n",
      "2547. FGD\n",
      "2548. FGEN\n",
      "2549. FGM\n",
      "2550. FHB\n",
      "2551. FHK\n"
     ]
    },
    {
     "name": "stderr",
     "output_type": "stream",
     "text": [
      "FHK: No price data found, symbol may be delisted (1d 2023-01-01 -> 2024-01-01)\n"
     ]
    },
    {
     "name": "stdout",
     "output_type": "stream",
     "text": [
      "2552. FHLC\n",
      "2553. FHN\n",
      "2554. FI\n",
      "2555. FIBK\n",
      "2556. FIBR\n",
      "2557. FICO\n",
      "2558. FID\n",
      "2559. FIDI\n",
      "2560. FIDU\n",
      "2561. FIEE\n",
      "2562. FIF\n",
      "2563. FIHD\n",
      "2564. FILL\n",
      "2565. FINS\n",
      "2566. FINV\n",
      "2567. FINX\n",
      "2568. FIS\n",
      "2569. FISI\n",
      "2570. FISK\n",
      "2571. FISR\n",
      "2572. FISV\n"
     ]
    },
    {
     "name": "stderr",
     "output_type": "stream",
     "text": [
      "FISV: No timezone found, symbol may be delisted\n"
     ]
    },
    {
     "name": "stdout",
     "output_type": "stream",
     "text": [
      "2573. FIT\n"
     ]
    },
    {
     "name": "stderr",
     "output_type": "stream",
     "text": [
      "FIT: No timezone found, symbol may be delisted\n"
     ]
    },
    {
     "name": "stdout",
     "output_type": "stream",
     "text": [
      "2574. FITB\n",
      "2575. FITBI\n",
      "2576. FITBO\n",
      "2577. FITBP\n",
      "2578. FITE\n",
      "2579. FIV\n"
     ]
    },
    {
     "name": "stderr",
     "output_type": "stream",
     "text": [
      "FIV: No timezone found, symbol may be delisted\n"
     ]
    },
    {
     "name": "stdout",
     "output_type": "stream",
     "text": [
      "2580. FIVA\n",
      "2581. FIVE\n",
      "2582. FIVG\n",
      "2583. FIVN\n",
      "2584. FIW\n",
      "2585. FIX\n",
      "2586. FIXD\n",
      "2587. FIXX\n",
      "2588. FIYY\n"
     ]
    },
    {
     "name": "stderr",
     "output_type": "stream",
     "text": [
      "FIYY: No price data found, symbol may be delisted (1d 2023-01-01 -> 2024-01-01)\n"
     ]
    },
    {
     "name": "stdout",
     "output_type": "stream",
     "text": [
      "2589. FIZZ\n",
      "2590. FJNK\n"
     ]
    },
    {
     "name": "stderr",
     "output_type": "stream",
     "text": [
      "FJNK: No price data found, symbol may be delisted (1d 2023-01-01 -> 2024-01-01)\n"
     ]
    },
    {
     "name": "stdout",
     "output_type": "stream",
     "text": [
      "2591. FJP\n",
      "2592. FKO\n"
     ]
    },
    {
     "name": "stderr",
     "output_type": "stream",
     "text": [
      "FKO: No price data found, symbol may be delisted (1d 2023-01-01 -> 2024-01-01)\n"
     ]
    },
    {
     "name": "stdout",
     "output_type": "stream",
     "text": [
      "2593. FKU\n",
      "2594. FL\n",
      "2595. FLAG\n"
     ]
    },
    {
     "name": "stderr",
     "output_type": "stream",
     "text": [
      "FLAG: No timezone found, symbol may be delisted\n",
      "404 Client Error: Not Found for url: https://query2.finance.yahoo.com/v10/finance/quoteSummary/FLAG?modules=financialData%2CquoteType%2CdefaultKeyStatistics%2CassetProfile%2CsummaryDetail&corsDomain=finance.yahoo.com&formatted=false&symbol=FLAG&crumb=KUwSGfMjWIw\n"
     ]
    },
    {
     "name": "stdout",
     "output_type": "stream",
     "text": [
      "2596. FLAT\n"
     ]
    },
    {
     "name": "stderr",
     "output_type": "stream",
     "text": [
      "FLAT: No price data found, symbol may be delisted (1d 2023-01-01 -> 2024-01-01)\n"
     ]
    },
    {
     "name": "stdout",
     "output_type": "stream",
     "text": [
      "2597. FLAU\n",
      "2598. FLAX\n",
      "2599. FLBL\n",
      "2600. FLBR\n",
      "2601. FLC\n",
      "2602. FLCA\n",
      "2603. FLCB\n",
      "2604. FLCH\n",
      "2605. FLCO\n",
      "2606. FLDM\n"
     ]
    },
    {
     "name": "stderr",
     "output_type": "stream",
     "text": [
      "FLDM: No timezone found, symbol may be delisted\n"
     ]
    },
    {
     "name": "stdout",
     "output_type": "stream",
     "text": [
      "2607. FLDR\n",
      "2608. FLEE\n",
      "2609. FLEH\n",
      "2610. FLEU\n",
      "2611. FLEX\n",
      "2612. FLFR\n",
      "2613. FLGB\n",
      "2614. FLGE\n"
     ]
    },
    {
     "name": "stderr",
     "output_type": "stream",
     "text": [
      "FLGE: No price data found, symbol may be delisted (1d 2023-01-01 -> 2024-01-01)\n"
     ]
    },
    {
     "name": "stdout",
     "output_type": "stream",
     "text": [
      "2615. FLGR\n",
      "2616. FLGT\n",
      "2617. FLHK\n",
      "2618. FLHY\n",
      "2619. FLIA\n",
      "2620. FLIC\n",
      "2621. FLIN\n",
      "2622. FLIR\n"
     ]
    },
    {
     "name": "stderr",
     "output_type": "stream",
     "text": [
      "FLIR: No timezone found, symbol may be delisted\n"
     ]
    },
    {
     "name": "stdout",
     "output_type": "stream",
     "text": [
      "2623. FLIY\n",
      "2624. FLJH\n",
      "2625. FLJP\n",
      "2626. FLKR\n",
      "2627. FLL\n",
      "2628. FLLA\n",
      "2629. FLLV\n",
      "2630. FLM\n",
      "2631. FLMB\n",
      "2632. FLMI\n",
      "2633. FLMN\n"
     ]
    },
    {
     "name": "stderr",
     "output_type": "stream",
     "text": [
      "FLMN: No timezone found, symbol may be delisted\n"
     ]
    },
    {
     "name": "stdout",
     "output_type": "stream",
     "text": [
      "2634. FLMX\n",
      "2635. FLN\n",
      "2636. FLNG\n",
      "2637. FLNT\n",
      "2638. FLO\n",
      "2639. FLOT\n",
      "2640. FLOW\n",
      "2641. FLQD\n",
      "2642. FLQE\n",
      "2643. FLQG\n",
      "2644. FLQH\n",
      "2645. FLQL\n",
      "2646. FLQM\n",
      "2647. FLQS\n",
      "2648. FLR\n",
      "2649. FLRN\n",
      "2650. FLRT\n",
      "2651. FLRU\n"
     ]
    },
    {
     "name": "stderr",
     "output_type": "stream",
     "text": [
      "FLRU: No price data found, symbol may be delisted (1d 2023-01-01 -> 2024-01-01)\n"
     ]
    },
    {
     "name": "stdout",
     "output_type": "stream",
     "text": [
      "2652. FLS\n",
      "2653. FLSA\n",
      "2654. FLSP\n",
      "2655. FLSW\n",
      "2656. FLT\n",
      "2657. FLTB\n",
      "2658. FLTR\n",
      "2659. FLTW\n",
      "2660. FLWS\n",
      "2661. FLXN\n"
     ]
    },
    {
     "name": "stderr",
     "output_type": "stream",
     "text": [
      "FLXN: No timezone found, symbol may be delisted\n"
     ]
    },
    {
     "name": "stdout",
     "output_type": "stream",
     "text": [
      "2662. FLXS\n",
      "2663. FLY\n"
     ]
    },
    {
     "name": "stderr",
     "output_type": "stream",
     "text": [
      "FLY: No timezone found, symbol may be delisted\n"
     ]
    },
    {
     "name": "stdout",
     "output_type": "stream",
     "text": [
      "2664. FLYT\n"
     ]
    },
    {
     "name": "stderr",
     "output_type": "stream",
     "text": [
      "FLYT: No price data found, symbol may be delisted (1d 2023-01-01 -> 2024-01-01)\n"
     ]
    },
    {
     "name": "stdout",
     "output_type": "stream",
     "text": [
      "2665. FLZA\n",
      "2666. FM\n",
      "2667. FMAO\n",
      "2668. FMAT\n",
      "2669. FMB\n",
      "2670. FMBH\n",
      "2671. FMBI\n"
     ]
    },
    {
     "name": "stderr",
     "output_type": "stream",
     "text": [
      "FMBI: No timezone found, symbol may be delisted\n"
     ]
    },
    {
     "name": "stdout",
     "output_type": "stream",
     "text": [
      "2672. FMC\n",
      "2673. FMCI\n"
     ]
    },
    {
     "name": "stderr",
     "output_type": "stream",
     "text": [
      "FMCI: No timezone found, symbol may be delisted\n"
     ]
    },
    {
     "name": "stdout",
     "output_type": "stream",
     "text": [
      "2674. FMCIU\n"
     ]
    },
    {
     "name": "stderr",
     "output_type": "stream",
     "text": [
      "FMCIU: No timezone found, symbol may be delisted\n"
     ]
    },
    {
     "name": "stdout",
     "output_type": "stream",
     "text": [
      "2675. FMF\n",
      "2676. FMHI\n",
      "2677. FMK\n"
     ]
    },
    {
     "name": "stderr",
     "output_type": "stream",
     "text": [
      "FMK: No price data found, symbol may be delisted (1d 2023-01-01 -> 2024-01-01)\n"
     ]
    },
    {
     "name": "stdout",
     "output_type": "stream",
     "text": [
      "2678. FMN\n",
      "2679. FMNB\n",
      "2680. FMO\n",
      "2681. FMS\n",
      "2682. FMX\n",
      "2683. FMY\n",
      "2684. FN\n",
      "2685. FNB\n",
      "2686. FNCB\n",
      "2687. FNCL\n",
      "2688. FND\n",
      "2689. FNDA\n",
      "2690. FNDB\n",
      "2691. FNDC\n",
      "2692. FNDE\n",
      "2693. FNDF\n",
      "2694. FNDX\n",
      "2695. FNF\n",
      "2696. FNGD\n",
      "2697. FNGO\n",
      "2698. FNGS\n",
      "2699. FNGU\n",
      "2700. FNGZ\n"
     ]
    },
    {
     "name": "stderr",
     "output_type": "stream",
     "text": [
      "FNGZ: No price data found, symbol may be delisted (1d 2023-01-01 -> 2024-01-01)\n"
     ]
    },
    {
     "name": "stdout",
     "output_type": "stream",
     "text": [
      "2701. FNHC\n"
     ]
    },
    {
     "name": "stderr",
     "output_type": "stream",
     "text": [
      "FNHC: No timezone found, symbol may be delisted\n"
     ]
    },
    {
     "name": "stdout",
     "output_type": "stream",
     "text": [
      "2702. FNI\n",
      "2703. FNJN\n"
     ]
    },
    {
     "name": "stderr",
     "output_type": "stream",
     "text": [
      "FNJN: No timezone found, symbol may be delisted\n"
     ]
    },
    {
     "name": "stdout",
     "output_type": "stream",
     "text": [
      "2704. FNK\n",
      "2705. FNKO\n",
      "2706. FNLC\n",
      "2707. FNOV\n",
      "2708. FNV\n",
      "2709. FNWB\n",
      "2710. FNX\n",
      "2711. FNY\n",
      "2712. FOCS\n"
     ]
    },
    {
     "name": "stderr",
     "output_type": "stream",
     "text": [
      "FOCS: No timezone found, symbol may be delisted\n",
      "404 Client Error: Not Found for url: https://query2.finance.yahoo.com/v10/finance/quoteSummary/FOCS?modules=financialData%2CquoteType%2CdefaultKeyStatistics%2CassetProfile%2CsummaryDetail&corsDomain=finance.yahoo.com&formatted=false&symbol=FOCS&crumb=KUwSGfMjWIw\n"
     ]
    },
    {
     "name": "stdout",
     "output_type": "stream",
     "text": [
      "2713. FOE\n"
     ]
    },
    {
     "name": "stderr",
     "output_type": "stream",
     "text": [
      "FOE: No timezone found, symbol may be delisted\n"
     ]
    },
    {
     "name": "stdout",
     "output_type": "stream",
     "text": [
      "2714. FOF\n",
      "2715. FOLD\n",
      "2716. FONR\n",
      "2717. FOR\n",
      "2718. FORD\n",
      "2719. FORK\n"
     ]
    },
    {
     "name": "stderr",
     "output_type": "stream",
     "text": [
      "FORK: No timezone found, symbol may be delisted\n"
     ]
    },
    {
     "name": "stdout",
     "output_type": "stream",
     "text": [
      "2720. FORM\n",
      "2721. FORR\n",
      "2722. FORTY\n",
      "2723. FOSL\n",
      "2724. FOVL\n",
      "2725. FOX\n",
      "2726. FOXA\n",
      "2727. FOXF\n",
      "2728. FPA\n",
      "2729. FPAC\n"
     ]
    },
    {
     "name": "stderr",
     "output_type": "stream",
     "text": [
      "FPAC: No timezone found, symbol may be delisted\n"
     ]
    },
    {
     "name": "stdout",
     "output_type": "stream",
     "text": [
      "2730. FPAY\n",
      "2731. FPE\n",
      "2732. FPEI\n",
      "2733. FPF\n",
      "2734. FPH\n",
      "2735. FPI\n",
      "2736. FPL\n",
      "2737. FPRX\n"
     ]
    },
    {
     "name": "stderr",
     "output_type": "stream",
     "text": [
      "FPRX: No timezone found, symbol may be delisted\n"
     ]
    },
    {
     "name": "stdout",
     "output_type": "stream",
     "text": [
      "2738. FPX\n",
      "2739. FPXE\n",
      "2740. FPXI\n",
      "2741. FQAL\n",
      "2742. FR\n",
      "2743. FRA\n",
      "2744. FRAF\n",
      "2745. FRAK\n"
     ]
    },
    {
     "name": "stderr",
     "output_type": "stream",
     "text": [
      "FRAK: No price data found, symbol may be delisted (1d 2023-01-01 -> 2024-01-01)\n"
     ]
    },
    {
     "name": "stdout",
     "output_type": "stream",
     "text": [
      "2746. FRAN\n"
     ]
    },
    {
     "name": "stderr",
     "output_type": "stream",
     "text": [
      "FRAN: No timezone found, symbol may be delisted\n"
     ]
    },
    {
     "name": "stdout",
     "output_type": "stream",
     "text": [
      "2747. FRBA\n",
      "2748. FRBK\n",
      "2749. FRC\n"
     ]
    },
    {
     "name": "stderr",
     "output_type": "stream",
     "text": [
      "FRC: No timezone found, symbol may be delisted\n"
     ]
    },
    {
     "name": "stdout",
     "output_type": "stream",
     "text": [
      "2750. FRD\n",
      "2751. FRDM\n",
      "2752. FREL\n",
      "2753. FREQ\n"
     ]
    },
    {
     "name": "stderr",
     "output_type": "stream",
     "text": [
      "FREQ: No timezone found, symbol may be delisted\n"
     ]
    },
    {
     "name": "stdout",
     "output_type": "stream",
     "text": [
      "2754. FRG\n"
     ]
    },
    {
     "name": "stderr",
     "output_type": "stream",
     "text": [
      "FRG: No timezone found, symbol may be delisted\n",
      "404 Client Error: Not Found for url: https://query2.finance.yahoo.com/v10/finance/quoteSummary/FRG?modules=financialData%2CquoteType%2CdefaultKeyStatistics%2CassetProfile%2CsummaryDetail&corsDomain=finance.yahoo.com&formatted=false&symbol=FRG&crumb=KUwSGfMjWIw\n"
     ]
    },
    {
     "name": "stdout",
     "output_type": "stream",
     "text": [
      "2755. FRGI\n"
     ]
    },
    {
     "name": "stderr",
     "output_type": "stream",
     "text": [
      "FRGI: No timezone found, symbol may be delisted\n",
      "404 Client Error: Not Found for url: https://query2.finance.yahoo.com/v10/finance/quoteSummary/FRGI?modules=financialData%2CquoteType%2CdefaultKeyStatistics%2CassetProfile%2CsummaryDetail&corsDomain=finance.yahoo.com&formatted=false&symbol=FRGI&crumb=KUwSGfMjWIw\n"
     ]
    },
    {
     "name": "stdout",
     "output_type": "stream",
     "text": [
      "2756. FRHC\n",
      "2757. FRI\n",
      "2758. FRLG\n"
     ]
    },
    {
     "name": "stderr",
     "output_type": "stream",
     "text": [
      "FRLG: No price data found, symbol may be delisted (1d 2023-01-01 -> 2024-01-01)\n"
     ]
    },
    {
     "name": "stdout",
     "output_type": "stream",
     "text": [
      "2759. FRME\n",
      "2760. FRO\n",
      "2761. FRPH\n",
      "2762. FRPT\n",
      "2763. FRSX\n",
      "2764. FRT\n",
      "2765. FRTA\n"
     ]
    },
    {
     "name": "stderr",
     "output_type": "stream",
     "text": [
      "FRTA: No timezone found, symbol may be delisted\n"
     ]
    },
    {
     "name": "stdout",
     "output_type": "stream",
     "text": [
      "2766. FSB\n"
     ]
    },
    {
     "name": "stderr",
     "output_type": "stream",
     "text": [
      "FSB: No timezone found, symbol may be delisted\n"
     ]
    },
    {
     "name": "stdout",
     "output_type": "stream",
     "text": [
      "2767. FSBC\n",
      "2768. FSBW\n",
      "2769. FSCT\n"
     ]
    },
    {
     "name": "stderr",
     "output_type": "stream",
     "text": [
      "FSCT: No timezone found, symbol may be delisted\n"
     ]
    },
    {
     "name": "stdout",
     "output_type": "stream",
     "text": [
      "2770. FSD\n",
      "2771. FSEA\n",
      "2772. FSFG\n",
      "2773. FSI\n",
      "2774. FSK\n",
      "2775. FSLR\n",
      "2776. FSLY\n",
      "2777. FSM\n",
      "2778. FSMB\n",
      "2779. FSMD\n",
      "2780. FSP\n",
      "2781. FSRV\n"
     ]
    },
    {
     "name": "stderr",
     "output_type": "stream",
     "text": [
      "FSRV: No timezone found, symbol may be delisted\n"
     ]
    },
    {
     "name": "stdout",
     "output_type": "stream",
     "text": [
      "2782. FSRVU\n"
     ]
    },
    {
     "name": "stderr",
     "output_type": "stream",
     "text": [
      "FSRVU: No timezone found, symbol may be delisted\n"
     ]
    },
    {
     "name": "stdout",
     "output_type": "stream",
     "text": [
      "2783. FSS\n",
      "2784. FSTA\n",
      "2785. FSTR\n",
      "2786. FSZ\n",
      "2787. FT\n",
      "2788. FTA\n",
      "2789. FTAC\n"
     ]
    },
    {
     "name": "stderr",
     "output_type": "stream",
     "text": [
      "FTAC: No timezone found, symbol may be delisted\n"
     ]
    },
    {
     "name": "stdout",
     "output_type": "stream",
     "text": [
      "2790. FTACU\n"
     ]
    },
    {
     "name": "stderr",
     "output_type": "stream",
     "text": [
      "FTACU: No timezone found, symbol may be delisted\n"
     ]
    },
    {
     "name": "stdout",
     "output_type": "stream",
     "text": [
      "2791. FTAG\n",
      "2792. FTAI\n",
      "2793. FTC\n",
      "2794. FTCH\n",
      "2795. FTCS\n",
      "2796. FTDR\n",
      "2797. FTEC\n",
      "2798. FTEK\n",
      "2799. FTF\n",
      "2800. FTFT\n",
      "2801. FTGC\n",
      "2802. FTHI\n",
      "2803. FTI\n",
      "2804. FTK\n",
      "2805. FTLB\n",
      "2806. FTLS\n",
      "2807. FTNT\n",
      "2808. FTR\n"
     ]
    },
    {
     "name": "stderr",
     "output_type": "stream",
     "text": [
      "FTR: No timezone found, symbol may be delisted\n"
     ]
    },
    {
     "name": "stdout",
     "output_type": "stream",
     "text": [
      "2809. FTRI\n",
      "2810. FTS\n",
      "2811. FTSD\n",
      "2812. FTSI\n"
     ]
    },
    {
     "name": "stderr",
     "output_type": "stream",
     "text": [
      "FTSI: No timezone found, symbol may be delisted\n"
     ]
    },
    {
     "name": "stdout",
     "output_type": "stream",
     "text": [
      "2813. FTSL\n",
      "2814. FTSM\n",
      "2815. FTSV\n"
     ]
    },
    {
     "name": "stderr",
     "output_type": "stream",
     "text": [
      "FTSV: No timezone found, symbol may be delisted\n"
     ]
    },
    {
     "name": "stdout",
     "output_type": "stream",
     "text": [
      "2816. FTV\n",
      "2817. FTXD\n",
      "2818. FTXG\n",
      "2819. FTXH\n",
      "2820. FTXL\n",
      "2821. FTXN\n",
      "2822. FTXO\n",
      "2823. FTXR\n",
      "2824. FUD\n"
     ]
    },
    {
     "name": "stderr",
     "output_type": "stream",
     "text": [
      "FUD: No price data found, symbol may be delisted (1d 2023-01-01 -> 2024-01-01)\n"
     ]
    },
    {
     "name": "stdout",
     "output_type": "stream",
     "text": [
      "2825. FUE\n",
      "2826. FUL\n",
      "2827. FULC\n",
      "2828. FULT\n",
      "2829. FUMB\n",
      "2830. FUN\n",
      "2831. FUNC\n",
      "2832. FUND\n",
      "2833. FUT\n"
     ]
    },
    {
     "name": "stderr",
     "output_type": "stream",
     "text": [
      "FUT: No price data found, symbol may be delisted (1d 2023-01-01 -> 2024-01-01)\n"
     ]
    },
    {
     "name": "stdout",
     "output_type": "stream",
     "text": [
      "2834. FUTU\n",
      "2835. FUTY\n",
      "2836. FUV\n",
      "2837. FV\n",
      "2838. FVAL\n",
      "2839. FVC\n",
      "2840. FVCB\n",
      "2841. FVD\n",
      "2842. FVE\n"
     ]
    },
    {
     "name": "stderr",
     "output_type": "stream",
     "text": [
      "FVE: No timezone found, symbol may be delisted\n"
     ]
    },
    {
     "name": "stdout",
     "output_type": "stream",
     "text": [
      "2843. FVL\n"
     ]
    },
    {
     "name": "stderr",
     "output_type": "stream",
     "text": [
      "FVL: No price data found, symbol may be delisted (1d 2023-01-01 -> 2024-01-01)\n"
     ]
    },
    {
     "name": "stdout",
     "output_type": "stream",
     "text": [
      "2844. FVRR\n",
      "2845. FWDB\n"
     ]
    },
    {
     "name": "stderr",
     "output_type": "stream",
     "text": [
      "FWDB: No price data found, symbol may be delisted (1d 2023-01-01 -> 2024-01-01)\n"
     ]
    },
    {
     "name": "stdout",
     "output_type": "stream",
     "text": [
      "2846. FWONA\n",
      "2847. FWONK\n",
      "2848. FWP\n"
     ]
    },
    {
     "name": "stderr",
     "output_type": "stream",
     "text": [
      "FWP: No timezone found, symbol may be delisted\n"
     ]
    },
    {
     "name": "stdout",
     "output_type": "stream",
     "text": [
      "2849. FWRD\n",
      "2850. FXA\n",
      "2851. FXB\n",
      "2852. FXC\n",
      "2853. FXD\n",
      "2854. FXE\n",
      "2855. FXF\n",
      "2856. FXG\n",
      "2857. FXH\n",
      "2858. FXI\n",
      "2859. FXL\n",
      "2860. FXN\n",
      "2861. FXNC\n",
      "2862. FXO\n",
      "2863. FXP\n",
      "2864. FXR\n",
      "2865. FXU\n",
      "2866. FXY\n",
      "2867. FXZ\n",
      "2868. FYC\n",
      "2869. FYLD\n",
      "2870. FYT\n",
      "2871. FYX\n",
      "2872. G\n",
      "2873. GAA\n",
      "2874. GAB\n",
      "2875. GABC\n",
      "2876. GAIA\n",
      "2877. GAIN\n",
      "2878. GAINL\n",
      "2879. GAL\n",
      "2880. GALT\n",
      "2881. GAM\n",
      "2882. GAMR\n",
      "2883. GARS\n"
     ]
    },
    {
     "name": "stderr",
     "output_type": "stream",
     "text": [
      "GARS: No timezone found, symbol may be delisted\n"
     ]
    },
    {
     "name": "stdout",
     "output_type": "stream",
     "text": [
      "2884. GASS\n",
      "2885. GATX\n",
      "2886. GAZ\n",
      "2887. GBAB\n",
      "2888. GBCI\n",
      "2889. GBDC\n",
      "2890. GBDV\n"
     ]
    },
    {
     "name": "stderr",
     "output_type": "stream",
     "text": [
      "GBDV: No price data found, symbol may be delisted (1d 2023-01-01 -> 2024-01-01)\n"
     ]
    },
    {
     "name": "stdout",
     "output_type": "stream",
     "text": [
      "2891. GBF\n",
      "2892. GBIL\n",
      "2893. GBL\n"
     ]
    },
    {
     "name": "stderr",
     "output_type": "stream",
     "text": [
      "GBL: No timezone found, symbol may be delisted\n"
     ]
    },
    {
     "name": "stdout",
     "output_type": "stream",
     "text": [
      "2894. GBLI\n",
      "2895. GBLIZ\n"
     ]
    },
    {
     "name": "stderr",
     "output_type": "stream",
     "text": [
      "GBLIZ: No timezone found, symbol may be delisted\n"
     ]
    },
    {
     "name": "stdout",
     "output_type": "stream",
     "text": [
      "2896. GBR\n",
      "2897. GBT\n"
     ]
    },
    {
     "name": "stderr",
     "output_type": "stream",
     "text": [
      "GBT: No timezone found, symbol may be delisted\n"
     ]
    },
    {
     "name": "stdout",
     "output_type": "stream",
     "text": [
      "2898. GBUG\n",
      "2899. GBUY\n",
      "2900. GBX\n",
      "2901. GCAP\n"
     ]
    },
    {
     "name": "stderr",
     "output_type": "stream",
     "text": [
      "GCAP: No timezone found, symbol may be delisted\n"
     ]
    },
    {
     "name": "stdout",
     "output_type": "stream",
     "text": [
      "2902. GCBC\n",
      "2903. GCC\n",
      "2904. GCE\n",
      "2905. GCI\n",
      "2906. GCO\n",
      "2907. GCOW\n",
      "2908. GCP\n"
     ]
    },
    {
     "name": "stderr",
     "output_type": "stream",
     "text": [
      "GCP: No timezone found, symbol may be delisted\n"
     ]
    },
    {
     "name": "stdout",
     "output_type": "stream",
     "text": [
      "2909. GCV\n",
      "2910. GD\n",
      "2911. GDAT\n"
     ]
    },
    {
     "name": "stderr",
     "output_type": "stream",
     "text": [
      "GDAT: No price data found, symbol may be delisted (1d 2023-01-01 -> 2024-01-01)\n"
     ]
    },
    {
     "name": "stdout",
     "output_type": "stream",
     "text": [
      "2912. GDDY\n",
      "2913. GDEN\n",
      "2914. GDL\n",
      "2915. GDMA\n",
      "2916. GDNA\n"
     ]
    },
    {
     "name": "stderr",
     "output_type": "stream",
     "text": [
      "GDNA: No price data found, symbol may be delisted (1d 2023-01-01 -> 2024-01-01)\n"
     ]
    },
    {
     "name": "stdout",
     "output_type": "stream",
     "text": [
      "2917. GDO\n",
      "2918. GDOT\n",
      "2919. GDP\n"
     ]
    },
    {
     "name": "stderr",
     "output_type": "stream",
     "text": [
      "GDP: No timezone found, symbol may be delisted\n"
     ]
    },
    {
     "name": "stdout",
     "output_type": "stream",
     "text": [
      "2920. GDS\n",
      "2921. GDV\n",
      "2922. GDVD\n",
      "2923. GDX\n",
      "2924. GDXJ\n",
      "2925. GDYN\n",
      "2926. GE\n",
      "2927. GEC\n"
     ]
    },
    {
     "name": "stderr",
     "output_type": "stream",
     "text": [
      "GEC: No timezone found, symbol may be delisted\n"
     ]
    },
    {
     "name": "stdout",
     "output_type": "stream",
     "text": [
      "2928. GECC\n",
      "2929. GECCN\n"
     ]
    },
    {
     "name": "stderr",
     "output_type": "stream",
     "text": [
      "GECCN: No timezone found, symbol may be delisted\n",
      "404 Client Error: Not Found for url: https://query2.finance.yahoo.com/v10/finance/quoteSummary/GECCN?modules=financialData%2CquoteType%2CdefaultKeyStatistics%2CassetProfile%2CsummaryDetail&corsDomain=finance.yahoo.com&formatted=false&symbol=GECCN&crumb=KUwSGfMjWIw\n"
     ]
    },
    {
     "name": "stdout",
     "output_type": "stream",
     "text": [
      "2930. GEF\n",
      "2931. GEL\n",
      "2932. GEM\n",
      "2933. GEN\n",
      "2934. GENC\n",
      "2935. GENE\n",
      "2936. GENY\n",
      "2937. GEO\n",
      "2938. GEOS\n",
      "2939. GER\n"
     ]
    },
    {
     "name": "stderr",
     "output_type": "stream",
     "text": [
      "GER: No timezone found, symbol may be delisted\n",
      "404 Client Error: Not Found for url: https://query2.finance.yahoo.com/v10/finance/quoteSummary/GER?modules=financialData%2CquoteType%2CdefaultKeyStatistics%2CassetProfile%2CsummaryDetail&corsDomain=finance.yahoo.com&formatted=false&symbol=GER&crumb=KUwSGfMjWIw\n"
     ]
    },
    {
     "name": "stdout",
     "output_type": "stream",
     "text": [
      "2940. GERN\n",
      "2941. GES\n",
      "2942. GEVO\n",
      "2943. GF\n",
      "2944. GFED\n"
     ]
    },
    {
     "name": "stderr",
     "output_type": "stream",
     "text": [
      "GFED: No timezone found, symbol may be delisted\n"
     ]
    },
    {
     "name": "stdout",
     "output_type": "stream",
     "text": [
      "2945. GFF\n",
      "2946. GFI\n",
      "2947. GFIN\n"
     ]
    },
    {
     "name": "stderr",
     "output_type": "stream",
     "text": [
      "GFIN: No price data found, symbol may be delisted (1d 2023-01-01 -> 2024-01-01)\n"
     ]
    },
    {
     "name": "stdout",
     "output_type": "stream",
     "text": [
      "2948. GFL\n",
      "2949. GFLU\n"
     ]
    },
    {
     "name": "stderr",
     "output_type": "stream",
     "text": [
      "GFLU: No timezone found, symbol may be delisted\n"
     ]
    },
    {
     "name": "stdout",
     "output_type": "stream",
     "text": [
      "2950. GFN\n"
     ]
    },
    {
     "name": "stderr",
     "output_type": "stream",
     "text": [
      "GFN: No timezone found, symbol may be delisted\n"
     ]
    },
    {
     "name": "stdout",
     "output_type": "stream",
     "text": [
      "2951. GFNCP\n"
     ]
    },
    {
     "name": "stderr",
     "output_type": "stream",
     "text": [
      "GFNCP: No timezone found, symbol may be delisted\n"
     ]
    },
    {
     "name": "stdout",
     "output_type": "stream",
     "text": [
      "2952. GFY\n"
     ]
    },
    {
     "name": "stderr",
     "output_type": "stream",
     "text": [
      "GFY: No timezone found, symbol may be delisted\n"
     ]
    },
    {
     "name": "stdout",
     "output_type": "stream",
     "text": [
      "2953. GGAL\n",
      "2954. GGB\n",
      "2955. GGG\n",
      "2956. GGM\n",
      "2957. GGN\n",
      "2958. GGO\n"
     ]
    },
    {
     "name": "stderr",
     "output_type": "stream",
     "text": [
      "GGO: No timezone found, symbol may be delisted\n"
     ]
    },
    {
     "name": "stdout",
     "output_type": "stream",
     "text": [
      "2959. GGT\n",
      "2960. GGZ\n",
      "2961. GH\n",
      "2962. GHC\n",
      "2963. GHG\n",
      "2964. GHIV\n"
     ]
    },
    {
     "name": "stderr",
     "output_type": "stream",
     "text": [
      "GHIV: No timezone found, symbol may be delisted\n"
     ]
    },
    {
     "name": "stdout",
     "output_type": "stream",
     "text": [
      "2965. GHIVU\n"
     ]
    },
    {
     "name": "stderr",
     "output_type": "stream",
     "text": [
      "GHIVU: No timezone found, symbol may be delisted\n"
     ]
    },
    {
     "name": "stdout",
     "output_type": "stream",
     "text": [
      "2966. GHL\n",
      "2967. GHM\n",
      "2968. GHSI\n",
      "2969. GHY\n",
      "2970. GHYB\n",
      "2971. GHYG\n",
      "2972. GIB\n",
      "2973. GIFI\n",
      "2974. GIGB\n",
      "2975. GIGE\n",
      "2976. GIGM\n",
      "2977. GII\n",
      "2978. GIII\n",
      "2979. GIL\n",
      "2980. GILD\n",
      "2981. GILT\n",
      "2982. GIM\n",
      "2983. GIS\n",
      "2984. GIX\n"
     ]
    },
    {
     "name": "stderr",
     "output_type": "stream",
     "text": [
      "GIX: No timezone found, symbol may be delisted\n"
     ]
    },
    {
     "name": "stdout",
     "output_type": "stream",
     "text": [
      "2985. GJH\n",
      "2986. GJO\n",
      "2987. GJP\n",
      "2988. GJR\n",
      "2989. GJS\n",
      "2990. GJT\n",
      "2991. GKOS\n",
      "2992. GL\n",
      "2993. GLAD\n",
      "2994. GLADD\n"
     ]
    },
    {
     "name": "stderr",
     "output_type": "stream",
     "text": [
      "GLADD: No price data found, symbol may be delisted (1d 2023-01-01 -> 2024-01-01)\n"
     ]
    },
    {
     "name": "stdout",
     "output_type": "stream",
     "text": [
      "2995. GLADL\n"
     ]
    },
    {
     "name": "stderr",
     "output_type": "stream",
     "text": [
      "GLADL: No timezone found, symbol may be delisted\n",
      "404 Client Error: Not Found for url: https://query2.finance.yahoo.com/v10/finance/quoteSummary/GLADL?modules=financialData%2CquoteType%2CdefaultKeyStatistics%2CassetProfile%2CsummaryDetail&corsDomain=finance.yahoo.com&formatted=false&symbol=GLADL&crumb=KUwSGfMjWIw\n"
     ]
    },
    {
     "name": "stdout",
     "output_type": "stream",
     "text": [
      "2996. GLBS\n",
      "2997. GLBY\n"
     ]
    },
    {
     "name": "stderr",
     "output_type": "stream",
     "text": [
      "GLBY: No price data found, symbol may be delisted (1d 2023-01-01 -> 2024-01-01)\n"
     ]
    },
    {
     "name": "stdout",
     "output_type": "stream",
     "text": [
      "2998. GLBZ\n",
      "2999. GLD\n",
      "3000. GLDD\n",
      "3001. GLDI\n",
      "3002. GLDM\n",
      "3003. GLEO\n"
     ]
    },
    {
     "name": "stderr",
     "output_type": "stream",
     "text": [
      "GLEO: No timezone found, symbol may be delisted\n"
     ]
    },
    {
     "name": "stdout",
     "output_type": "stream",
     "text": [
      "3004. GLG\n"
     ]
    },
    {
     "name": "stderr",
     "output_type": "stream",
     "text": [
      "GLG: No timezone found, symbol may be delisted\n",
      "404 Client Error: Not Found for url: https://query2.finance.yahoo.com/v10/finance/quoteSummary/GLG?modules=financialData%2CquoteType%2CdefaultKeyStatistics%2CassetProfile%2CsummaryDetail&corsDomain=finance.yahoo.com&formatted=false&symbol=GLG&crumb=KUwSGfMjWIw\n"
     ]
    },
    {
     "name": "stdout",
     "output_type": "stream",
     "text": [
      "3005. GLIBA\n"
     ]
    },
    {
     "name": "stderr",
     "output_type": "stream",
     "text": [
      "GLIBA: No timezone found, symbol may be delisted\n"
     ]
    },
    {
     "name": "stdout",
     "output_type": "stream",
     "text": [
      "3006. GLIBP\n"
     ]
    },
    {
     "name": "stderr",
     "output_type": "stream",
     "text": [
      "GLIBP: No timezone found, symbol may be delisted\n"
     ]
    },
    {
     "name": "stdout",
     "output_type": "stream",
     "text": [
      "3007. GLIF\n",
      "3008. GLL\n",
      "3009. GLMD\n",
      "3010. GLNG\n",
      "3011. GLO\n",
      "3012. GLOB\n",
      "3013. GLOG\n"
     ]
    },
    {
     "name": "stderr",
     "output_type": "stream",
     "text": [
      "GLOG: No timezone found, symbol may be delisted\n"
     ]
    },
    {
     "name": "stdout",
     "output_type": "stream",
     "text": [
      "3014. GLOP\n"
     ]
    },
    {
     "name": "stderr",
     "output_type": "stream",
     "text": [
      "GLOP: No timezone found, symbol may be delisted\n"
     ]
    },
    {
     "name": "stdout",
     "output_type": "stream",
     "text": [
      "3015. GLP\n",
      "3016. GLPG\n",
      "3017. GLPI\n",
      "3018. GLQ\n",
      "3019. GLRE\n",
      "3020. GLT\n",
      "3021. GLTR\n",
      "3022. GLU\n",
      "3023. GLUU\n"
     ]
    },
    {
     "name": "stderr",
     "output_type": "stream",
     "text": [
      "GLUU: No timezone found, symbol may be delisted\n"
     ]
    },
    {
     "name": "stdout",
     "output_type": "stream",
     "text": [
      "3024. GLV\n",
      "3025. GLW\n",
      "3026. GLYC\n",
      "3027. GM\n",
      "3028. GMAB\n",
      "3029. GMAN\n"
     ]
    },
    {
     "name": "stderr",
     "output_type": "stream",
     "text": [
      "GMAN: No price data found, symbol may be delisted (1d 2023-01-01 -> 2024-01-01)\n"
     ]
    },
    {
     "name": "stdout",
     "output_type": "stream",
     "text": [
      "3030. GMDA\n",
      "3031. GME\n",
      "3032. GMED\n",
      "3033. GMF\n",
      "3034. GMHI\n"
     ]
    },
    {
     "name": "stderr",
     "output_type": "stream",
     "text": [
      "GMHI: No timezone found, symbol may be delisted\n"
     ]
    },
    {
     "name": "stdout",
     "output_type": "stream",
     "text": [
      "3035. GMHIU\n"
     ]
    },
    {
     "name": "stderr",
     "output_type": "stream",
     "text": [
      "GMHIU: No timezone found, symbol may be delisted\n"
     ]
    },
    {
     "name": "stdout",
     "output_type": "stream",
     "text": [
      "3036. GMLP\n"
     ]
    },
    {
     "name": "stderr",
     "output_type": "stream",
     "text": [
      "GMLP: No timezone found, symbol may be delisted\n"
     ]
    },
    {
     "name": "stdout",
     "output_type": "stream",
     "text": [
      "3037. GMLPP\n"
     ]
    },
    {
     "name": "stderr",
     "output_type": "stream",
     "text": [
      "GMLPP: No timezone found, symbol may be delisted\n"
     ]
    },
    {
     "name": "stdout",
     "output_type": "stream",
     "text": [
      "3038. GMO\n"
     ]
    },
    {
     "name": "stderr",
     "output_type": "stream",
     "text": [
      "GMO: No timezone found, symbol may be delisted\n"
     ]
    },
    {
     "name": "stdout",
     "output_type": "stream",
     "text": [
      "3039. GMOM\n",
      "3040. GMRE\n",
      "3041. GMS\n",
      "3042. GMTA\n"
     ]
    },
    {
     "name": "stderr",
     "output_type": "stream",
     "text": [
      "GMTA: No price data found, symbol may be delisted (1d 2023-01-01 -> 2024-01-01)\n"
     ]
    },
    {
     "name": "stdout",
     "output_type": "stream",
     "text": [
      "3043. GMZ\n"
     ]
    },
    {
     "name": "stderr",
     "output_type": "stream",
     "text": [
      "GMZ: No timezone found, symbol may be delisted\n"
     ]
    },
    {
     "name": "stdout",
     "output_type": "stream",
     "text": [
      "3044. GNAF\n"
     ]
    },
    {
     "name": "stderr",
     "output_type": "stream",
     "text": [
      "GNAF: No price data found, symbol may be delisted (1d 2023-01-01 -> 2024-01-01)\n"
     ]
    },
    {
     "name": "stdout",
     "output_type": "stream",
     "text": [
      "3045. GNC\n"
     ]
    },
    {
     "name": "stderr",
     "output_type": "stream",
     "text": [
      "GNC: No timezone found, symbol may be delisted\n"
     ]
    },
    {
     "name": "stdout",
     "output_type": "stream",
     "text": [
      "3046. GNCA\n"
     ]
    },
    {
     "name": "stderr",
     "output_type": "stream",
     "text": [
      "GNCA: No timezone found, symbol may be delisted\n"
     ]
    },
    {
     "name": "stdout",
     "output_type": "stream",
     "text": [
      "3047. GNE\n",
      "3048. GNFT\n",
      "3049. GNK\n",
      "3050. GNL\n",
      "3051. GNLN\n",
      "3052. GNMA\n",
      "3053. GNMK\n"
     ]
    },
    {
     "name": "stderr",
     "output_type": "stream",
     "text": [
      "GNMK: No timezone found, symbol may be delisted\n"
     ]
    },
    {
     "name": "stdout",
     "output_type": "stream",
     "text": [
      "3054. GNOM\n",
      "3055. GNPX\n",
      "3056. GNR\n",
      "3057. GNRC\n",
      "3058. GNRSU\n",
      "3059. GNSS\n",
      "3060. GNT\n",
      "3061. GNTX\n",
      "3062. GNTY\n",
      "3063. GNUS\n"
     ]
    },
    {
     "name": "stderr",
     "output_type": "stream",
     "text": [
      "GNUS: No timezone found, symbol may be delisted\n"
     ]
    },
    {
     "name": "stdout",
     "output_type": "stream",
     "text": [
      "3064. GNW\n",
      "3065. GO\n",
      "3066. GOAT\n",
      "3067. GOAU\n",
      "3068. GOEX\n",
      "3069. GOF\n",
      "3070. GOGL\n",
      "3071. GOGO\n",
      "3072. GOL\n",
      "3073. GOLD\n",
      "3074. GOLF\n",
      "3075. GOOD\n",
      "3076. GOODM\n"
     ]
    },
    {
     "name": "stderr",
     "output_type": "stream",
     "text": [
      "GOODM: No timezone found, symbol may be delisted\n"
     ]
    },
    {
     "name": "stdout",
     "output_type": "stream",
     "text": [
      "3077. GOODN\n",
      "3078. GOOG\n",
      "3079. GOOGL\n",
      "3080. GOOS\n",
      "3081. GORO\n",
      "3082. GOSS\n",
      "3083. GOVT\n",
      "3084. GPAQ\n"
     ]
    },
    {
     "name": "stderr",
     "output_type": "stream",
     "text": [
      "GPAQ: No timezone found, symbol may be delisted\n"
     ]
    },
    {
     "name": "stdout",
     "output_type": "stream",
     "text": [
      "3085. GPAQU\n"
     ]
    },
    {
     "name": "stderr",
     "output_type": "stream",
     "text": [
      "GPAQU: No timezone found, symbol may be delisted\n"
     ]
    },
    {
     "name": "stdout",
     "output_type": "stream",
     "text": [
      "3086. GPC\n",
      "3087. GPI\n",
      "3088. GPJA\n",
      "3089. GPK\n",
      "3090. GPL\n"
     ]
    },
    {
     "name": "stderr",
     "output_type": "stream",
     "text": [
      "GPL: No timezone found, symbol may be delisted\n"
     ]
    },
    {
     "name": "stdout",
     "output_type": "stream",
     "text": [
      "3091. GPM\n"
     ]
    },
    {
     "name": "stderr",
     "output_type": "stream",
     "text": [
      "GPM: No timezone found, symbol may be delisted\n"
     ]
    },
    {
     "name": "stdout",
     "output_type": "stream",
     "text": [
      "3092. GPMT\n",
      "3093. GPN\n",
      "3094. GPOR\n",
      "3095. GPP\n",
      "3096. GPRE\n",
      "3097. GPRK\n",
      "3098. GPS\n",
      "3099. GPX\n"
     ]
    },
    {
     "name": "stderr",
     "output_type": "stream",
     "text": [
      "GPX: No timezone found, symbol may be delisted\n"
     ]
    },
    {
     "name": "stdout",
     "output_type": "stream",
     "text": [
      "3100. GQRE\n",
      "3101. GRA\n"
     ]
    },
    {
     "name": "stderr",
     "output_type": "stream",
     "text": [
      "GRA: No timezone found, symbol may be delisted\n"
     ]
    },
    {
     "name": "stdout",
     "output_type": "stream",
     "text": [
      "3102. GRAF\n"
     ]
    },
    {
     "name": "stderr",
     "output_type": "stream",
     "text": [
      "GRAF: No timezone found, symbol may be delisted\n"
     ]
    },
    {
     "name": "stdout",
     "output_type": "stream",
     "text": [
      "3103. GRAM\n",
      "3104. GRBK\n",
      "3105. GRC\n",
      "3106. GREK\n",
      "3107. GRES\n",
      "3108. GRF\n",
      "3109. GRFS\n",
      "3110. GRID\n",
      "3111. GRIF\n"
     ]
    },
    {
     "name": "stderr",
     "output_type": "stream",
     "text": [
      "GRIF: Data doesn't exist for startDate = 1672549200, endDate = 1704085200\n"
     ]
    },
    {
     "name": "stdout",
     "output_type": "stream",
     "text": [
      "3112. GRIL\n"
     ]
    },
    {
     "name": "stderr",
     "output_type": "stream",
     "text": [
      "GRIL: No timezone found, symbol may be delisted\n",
      "404 Client Error: Not Found for url: https://query2.finance.yahoo.com/v10/finance/quoteSummary/GRIL?modules=financialData%2CquoteType%2CdefaultKeyStatistics%2CassetProfile%2CsummaryDetail&corsDomain=finance.yahoo.com&formatted=false&symbol=GRIL&crumb=KUwSGfMjWIw\n"
     ]
    },
    {
     "name": "stdout",
     "output_type": "stream",
     "text": [
      "3113. GRIN\n",
      "3114. GRMN\n",
      "3115. GRN\n",
      "3116. GRNB\n",
      "3117. GRNQ\n",
      "3118. GRNV\n"
     ]
    },
    {
     "name": "stderr",
     "output_type": "stream",
     "text": [
      "GRNV: No timezone found, symbol may be delisted\n"
     ]
    },
    {
     "name": "stdout",
     "output_type": "stream",
     "text": [
      "3119. GRNVU\n"
     ]
    },
    {
     "name": "stderr",
     "output_type": "stream",
     "text": [
      "GRNVU: No timezone found, symbol may be delisted\n"
     ]
    },
    {
     "name": "stdout",
     "output_type": "stream",
     "text": [
      "3120. GROW\n",
      "3121. GRPN\n",
      "3122. GRTS\n",
      "3123. GRTX\n",
      "3124. GRU\n",
      "3125. GRUB\n"
     ]
    },
    {
     "name": "stderr",
     "output_type": "stream",
     "text": [
      "GRUB: No timezone found, symbol may be delisted\n"
     ]
    },
    {
     "name": "stdout",
     "output_type": "stream",
     "text": [
      "3126. GRVY\n",
      "3127. GRWG\n",
      "3128. GRX\n",
      "3129. GS\n",
      "3130. GSAT\n",
      "3131. GSB\n"
     ]
    },
    {
     "name": "stderr",
     "output_type": "stream",
     "text": [
      "GSB: No timezone found, symbol may be delisted\n"
     ]
    },
    {
     "name": "stdout",
     "output_type": "stream",
     "text": [
      "3132. GSBC\n",
      "3133. GSBD\n",
      "3134. GSC\n",
      "3135. GSEU\n",
      "3136. GSEW\n",
      "3137. GSG\n",
      "3138. GSH\n"
     ]
    },
    {
     "name": "stderr",
     "output_type": "stream",
     "text": [
      "GSH: No timezone found, symbol may be delisted\n"
     ]
    },
    {
     "name": "stdout",
     "output_type": "stream",
     "text": [
      "3139. GSHD\n",
      "3140. GSIE\n",
      "3141. GSIT\n",
      "3142. GSJY\n",
      "3143. GSK\n",
      "3144. GSKY\n"
     ]
    },
    {
     "name": "stderr",
     "output_type": "stream",
     "text": [
      "GSKY: No timezone found, symbol may be delisted\n",
      "404 Client Error: Not Found for url: https://query2.finance.yahoo.com/v10/finance/quoteSummary/GSKY?modules=financialData%2CquoteType%2CdefaultKeyStatistics%2CassetProfile%2CsummaryDetail&corsDomain=finance.yahoo.com&formatted=false&symbol=GSKY&crumb=KUwSGfMjWIw\n"
     ]
    },
    {
     "name": "stdout",
     "output_type": "stream",
     "text": [
      "3145. GSL\n",
      "3146. GSLC\n",
      "3147. GSLD\n"
     ]
    },
    {
     "name": "stderr",
     "output_type": "stream",
     "text": [
      "GSLD: No timezone found, symbol may be delisted\n",
      "404 Client Error: Not Found for url: https://query2.finance.yahoo.com/v10/finance/quoteSummary/GSLD?modules=financialData%2CquoteType%2CdefaultKeyStatistics%2CassetProfile%2CsummaryDetail&corsDomain=finance.yahoo.com&formatted=false&symbol=GSLD&crumb=KUwSGfMjWIw\n"
     ]
    },
    {
     "name": "stdout",
     "output_type": "stream",
     "text": [
      "3148. GSM\n",
      "3149. GSMG\n"
     ]
    },
    {
     "name": "stderr",
     "output_type": "stream",
     "text": [
      "GSMG: No timezone found, symbol may be delisted\n",
      "404 Client Error: Not Found for url: https://query2.finance.yahoo.com/v10/finance/quoteSummary/GSMG?modules=financialData%2CquoteType%2CdefaultKeyStatistics%2CassetProfile%2CsummaryDetail&corsDomain=finance.yahoo.com&formatted=false&symbol=GSMG&crumb=KUwSGfMjWIw\n"
     ]
    },
    {
     "name": "stdout",
     "output_type": "stream",
     "text": [
      "3150. GSP\n",
      "3151. GSS\n"
     ]
    },
    {
     "name": "stderr",
     "output_type": "stream",
     "text": [
      "GSS: No price data found, symbol may be delisted (1d 2023-01-01 -> 2024-01-01)\n"
     ]
    },
    {
     "name": "stdout",
     "output_type": "stream",
     "text": [
      "3152. GSSC\n",
      "3153. GSST\n",
      "3154. GSUM\n"
     ]
    },
    {
     "name": "stderr",
     "output_type": "stream",
     "text": [
      "GSUM: No timezone found, symbol may be delisted\n"
     ]
    },
    {
     "name": "stdout",
     "output_type": "stream",
     "text": [
      "3155. GSV\n"
     ]
    },
    {
     "name": "stderr",
     "output_type": "stream",
     "text": [
      "GSV: No price data found, symbol may be delisted (1d 2023-01-01 -> 2024-01-01)\n"
     ]
    },
    {
     "name": "stdout",
     "output_type": "stream",
     "text": [
      "3156. GSX\n"
     ]
    },
    {
     "name": "stderr",
     "output_type": "stream",
     "text": [
      "GSX: No timezone found, symbol may be delisted\n"
     ]
    },
    {
     "name": "stdout",
     "output_type": "stream",
     "text": [
      "3157. GSY\n",
      "3158. GT\n",
      "3159. GTE\n",
      "3160. GTEC\n",
      "3161. GTES\n",
      "3162. GTHX\n",
      "3163. GTIM\n",
      "3164. GTIP\n",
      "3165. GTLS\n",
      "3166. GTN\n",
      "3167. GTO\n",
      "3168. GTS\n"
     ]
    },
    {
     "name": "stderr",
     "output_type": "stream",
     "text": [
      "GTS: No timezone found, symbol may be delisted\n"
     ]
    },
    {
     "name": "stdout",
     "output_type": "stream",
     "text": [
      "3169. GTT\n"
     ]
    },
    {
     "name": "stderr",
     "output_type": "stream",
     "text": [
      "GTT: No timezone found, symbol may be delisted\n"
     ]
    },
    {
     "name": "stdout",
     "output_type": "stream",
     "text": [
      "3170. GTX\n",
      "3171. GTY\n",
      "3172. GTYH\n"
     ]
    },
    {
     "name": "stderr",
     "output_type": "stream",
     "text": [
      "GTYH: No timezone found, symbol may be delisted\n"
     ]
    },
    {
     "name": "stdout",
     "output_type": "stream",
     "text": [
      "3173. GUDB\n"
     ]
    },
    {
     "name": "stderr",
     "output_type": "stream",
     "text": [
      "GUDB: No price data found, symbol may be delisted (1d 2023-01-01 -> 2024-01-01)\n"
     ]
    },
    {
     "name": "stdout",
     "output_type": "stream",
     "text": [
      "3174. GULF\n"
     ]
    },
    {
     "name": "stderr",
     "output_type": "stream",
     "text": [
      "GULF: No price data found, symbol may be delisted (1d 2023-01-01 -> 2024-01-01)\n"
     ]
    },
    {
     "name": "stdout",
     "output_type": "stream",
     "text": [
      "3175. GUNR\n",
      "3176. GURE\n",
      "3177. GURU\n",
      "3178. GUSH\n",
      "3179. GUT\n",
      "3180. GV\n",
      "3181. GVA\n",
      "3182. GVAL\n",
      "3183. GVI\n",
      "3184. GVIP\n",
      "3185. GVP\n",
      "3186. GWB\n"
     ]
    },
    {
     "name": "stderr",
     "output_type": "stream",
     "text": [
      "GWB: No timezone found, symbol may be delisted\n"
     ]
    },
    {
     "name": "stdout",
     "output_type": "stream",
     "text": [
      "3187. GWGH\n"
     ]
    },
    {
     "name": "stderr",
     "output_type": "stream",
     "text": [
      "GWGH: No timezone found, symbol may be delisted\n"
     ]
    },
    {
     "name": "stdout",
     "output_type": "stream",
     "text": [
      "3188. GWPH\n"
     ]
    },
    {
     "name": "stderr",
     "output_type": "stream",
     "text": [
      "GWPH: No timezone found, symbol may be delisted\n"
     ]
    },
    {
     "name": "stdout",
     "output_type": "stream",
     "text": [
      "3189. GWRE\n",
      "3190. GWRS\n",
      "3191. GWW\n",
      "3192. GWX\n",
      "3193. GXC\n",
      "3194. GXF\n"
     ]
    },
    {
     "name": "stderr",
     "output_type": "stream",
     "text": [
      "GXF: No price data found, symbol may be delisted (1d 2023-01-01 -> 2024-01-01)\n"
     ]
    },
    {
     "name": "stdout",
     "output_type": "stream",
     "text": [
      "3195. GXG\n",
      "3196. GXGX\n"
     ]
    },
    {
     "name": "stderr",
     "output_type": "stream",
     "text": [
      "GXGX: No timezone found, symbol may be delisted\n"
     ]
    },
    {
     "name": "stdout",
     "output_type": "stream",
     "text": [
      "3197. GXGXU\n"
     ]
    },
    {
     "name": "stderr",
     "output_type": "stream",
     "text": [
      "GXGXU: No timezone found, symbol may be delisted\n"
     ]
    },
    {
     "name": "stdout",
     "output_type": "stream",
     "text": [
      "3198. GXTG\n",
      "3199. GYC\n"
     ]
    },
    {
     "name": "stderr",
     "output_type": "stream",
     "text": [
      "GYC: No price data found, symbol may be delisted (1d 2023-01-01 -> 2024-01-01)\n"
     ]
    },
    {
     "name": "stdout",
     "output_type": "stream",
     "text": [
      "3200. GYLD\n",
      "3201. H\n",
      "3202. HA\n",
      "3203. HACK\n",
      "3204. HAE\n",
      "3205. HAFC\n",
      "3206. HAIL\n",
      "3207. HAIN\n",
      "3208. HAL\n",
      "3209. HALL\n",
      "3210. HALO\n",
      "3211. HAP\n",
      "3212. HAPP\n"
     ]
    },
    {
     "name": "stderr",
     "output_type": "stream",
     "text": [
      "HAPP: No timezone found, symbol may be delisted\n"
     ]
    },
    {
     "name": "stdout",
     "output_type": "stream",
     "text": [
      "3213. HARP\n",
      "3214. HAS\n",
      "3215. HASI\n",
      "3216. HAUD\n"
     ]
    },
    {
     "name": "stderr",
     "output_type": "stream",
     "text": [
      "HAUD: No price data found, symbol may be delisted (1d 2023-01-01 -> 2024-01-01)\n"
     ]
    },
    {
     "name": "stdout",
     "output_type": "stream",
     "text": [
      "3217. HAUZ\n",
      "3218. HAWX\n",
      "3219. HAYN\n",
      "3220. HBAN\n",
      "3221. HBANN\n"
     ]
    },
    {
     "name": "stderr",
     "output_type": "stream",
     "text": [
      "HBANN: No timezone found, symbol may be delisted\n"
     ]
    },
    {
     "name": "stdout",
     "output_type": "stream",
     "text": [
      "3222. HBANO\n"
     ]
    },
    {
     "name": "stderr",
     "output_type": "stream",
     "text": [
      "HBANO: No timezone found, symbol may be delisted\n"
     ]
    },
    {
     "name": "stdout",
     "output_type": "stream",
     "text": [
      "3223. HBB\n",
      "3224. HBCP\n",
      "3225. HBI\n",
      "3226. HBIO\n",
      "3227. HBM\n",
      "3228. HBMD\n"
     ]
    },
    {
     "name": "stderr",
     "output_type": "stream",
     "text": [
      "HBMD: No timezone found, symbol may be delisted\n"
     ]
    },
    {
     "name": "stdout",
     "output_type": "stream",
     "text": [
      "3229. HBNC\n",
      "3230. HBP\n"
     ]
    },
    {
     "name": "stderr",
     "output_type": "stream",
     "text": [
      "HBP: No timezone found, symbol may be delisted\n"
     ]
    },
    {
     "name": "stdout",
     "output_type": "stream",
     "text": [
      "3231. HBT\n",
      "3232. HCA\n",
      "3233. HCAC\n"
     ]
    },
    {
     "name": "stderr",
     "output_type": "stream",
     "text": [
      "HCAC: No timezone found, symbol may be delisted\n"
     ]
    },
    {
     "name": "stdout",
     "output_type": "stream",
     "text": [
      "3234. HCACU\n"
     ]
    },
    {
     "name": "stderr",
     "output_type": "stream",
     "text": [
      "HCACU: No timezone found, symbol may be delisted\n"
     ]
    },
    {
     "name": "stdout",
     "output_type": "stream",
     "text": [
      "3235. HCAP\n"
     ]
    },
    {
     "name": "stderr",
     "output_type": "stream",
     "text": [
      "HCAP: No timezone found, symbol may be delisted\n"
     ]
    },
    {
     "name": "stdout",
     "output_type": "stream",
     "text": [
      "3236. HCAT\n",
      "3237. HCC\n",
      "3238. HCCH\n"
     ]
    },
    {
     "name": "stderr",
     "output_type": "stream",
     "text": [
      "HCCH: No timezone found, symbol may be delisted\n"
     ]
    },
    {
     "name": "stdout",
     "output_type": "stream",
     "text": [
      "3239. HCCHU\n"
     ]
    },
    {
     "name": "stderr",
     "output_type": "stream",
     "text": [
      "HCCHU: No timezone found, symbol may be delisted\n"
     ]
    },
    {
     "name": "stdout",
     "output_type": "stream",
     "text": [
      "3240. HCCI\n"
     ]
    },
    {
     "name": "stderr",
     "output_type": "stream",
     "text": [
      "HCCI: No timezone found, symbol may be delisted\n",
      "404 Client Error: Not Found for url: https://query2.finance.yahoo.com/v10/finance/quoteSummary/HCCI?modules=financialData%2CquoteType%2CdefaultKeyStatistics%2CassetProfile%2CsummaryDetail&corsDomain=finance.yahoo.com&formatted=false&symbol=HCCI&crumb=KUwSGfMjWIw\n"
     ]
    },
    {
     "name": "stdout",
     "output_type": "stream",
     "text": [
      "3241. HCCO\n"
     ]
    },
    {
     "name": "stderr",
     "output_type": "stream",
     "text": [
      "HCCO: No timezone found, symbol may be delisted\n"
     ]
    },
    {
     "name": "stdout",
     "output_type": "stream",
     "text": [
      "3242. HCCOU\n"
     ]
    },
    {
     "name": "stderr",
     "output_type": "stream",
     "text": [
      "HCCOU: No timezone found, symbol may be delisted\n"
     ]
    },
    {
     "name": "stdout",
     "output_type": "stream",
     "text": [
      "3243. HCFT\n"
     ]
    },
    {
     "name": "stderr",
     "output_type": "stream",
     "text": [
      "HCFT: No timezone found, symbol may be delisted\n"
     ]
    },
    {
     "name": "stdout",
     "output_type": "stream",
     "text": [
      "3244. HCHC\n"
     ]
    },
    {
     "name": "stderr",
     "output_type": "stream",
     "text": [
      "HCHC: No timezone found, symbol may be delisted\n"
     ]
    },
    {
     "name": "stdout",
     "output_type": "stream",
     "text": [
      "3245. HCI\n",
      "3246. HCKT\n",
      "3247. HCM\n",
      "3248. HCR\n"
     ]
    },
    {
     "name": "stderr",
     "output_type": "stream",
     "text": [
      "HCR: No timezone found, symbol may be delisted\n"
     ]
    },
    {
     "name": "stdout",
     "output_type": "stream",
     "text": [
      "3249. HCRB\n",
      "3250. HCSG\n",
      "3251. HCXY\n",
      "3252. HCXZ\n"
     ]
    },
    {
     "name": "stderr",
     "output_type": "stream",
     "text": [
      "HCXZ: No price data found, symbol may be delisted (1d 2023-01-01 -> 2024-01-01)\n"
     ]
    },
    {
     "name": "stdout",
     "output_type": "stream",
     "text": [
      "3253. HD\n",
      "3254. HDAW\n",
      "3255. HDB\n",
      "3256. HDEF\n",
      "3257. HDG\n",
      "3258. HDGE\n",
      "3259. HDIV\n",
      "3260. HDLB\n",
      "3261. HDMV\n",
      "3262. HDS\n"
     ]
    },
    {
     "name": "stderr",
     "output_type": "stream",
     "text": [
      "HDS: No timezone found, symbol may be delisted\n"
     ]
    },
    {
     "name": "stdout",
     "output_type": "stream",
     "text": [
      "3263. HDSN\n",
      "3264. HDV\n",
      "3265. HE\n",
      "3266. HEAR\n",
      "3267. HEBT\n"
     ]
    },
    {
     "name": "stderr",
     "output_type": "stream",
     "text": [
      "HEBT: No timezone found, symbol may be delisted\n"
     ]
    },
    {
     "name": "stdout",
     "output_type": "stream",
     "text": [
      "3268. HECO\n"
     ]
    },
    {
     "name": "stderr",
     "output_type": "stream",
     "text": [
      "HECO: No price data found, symbol may be delisted (1d 2023-01-01 -> 2024-01-01)\n"
     ]
    },
    {
     "name": "stdout",
     "output_type": "stream",
     "text": [
      "3269. HEDJ\n",
      "3270. HEEM\n",
      "3271. HEES\n",
      "3272. HEFA\n",
      "3273. HEI\n",
      "3274. HELE\n",
      "3275. HELX\n",
      "3276. HEP\n",
      "3277. HEPA\n",
      "3278. HEQ\n",
      "3279. HERD\n",
      "3280. HERO\n",
      "3281. HES\n",
      "3282. HESM\n",
      "3283. HEWC\n",
      "3284. HEWG\n",
      "3285. HEWI\n"
     ]
    },
    {
     "name": "stderr",
     "output_type": "stream",
     "text": [
      "HEWI: No price data found, symbol may be delisted (1d 2023-01-01 -> 2024-01-01)\n"
     ]
    },
    {
     "name": "stdout",
     "output_type": "stream",
     "text": [
      "3286. HEWJ\n",
      "3287. HEWL\n"
     ]
    },
    {
     "name": "stderr",
     "output_type": "stream",
     "text": [
      "HEWL: No price data found, symbol may be delisted (1d 2023-01-01 -> 2024-01-01)\n"
     ]
    },
    {
     "name": "stdout",
     "output_type": "stream",
     "text": [
      "3288. HEWP\n"
     ]
    },
    {
     "name": "stderr",
     "output_type": "stream",
     "text": [
      "HEWP: No price data found, symbol may be delisted (1d 2023-01-01 -> 2024-01-01)\n"
     ]
    },
    {
     "name": "stdout",
     "output_type": "stream",
     "text": [
      "3289. HEWU\n",
      "3290. HEWW\n"
     ]
    },
    {
     "name": "stderr",
     "output_type": "stream",
     "text": [
      "HEWW: No price data found, symbol may be delisted (1d 2023-01-01 -> 2024-01-01)\n"
     ]
    },
    {
     "name": "stdout",
     "output_type": "stream",
     "text": [
      "3291. HEWY\n"
     ]
    },
    {
     "name": "stderr",
     "output_type": "stream",
     "text": [
      "HEWY: No price data found, symbol may be delisted (1d 2023-01-01 -> 2024-01-01)\n"
     ]
    },
    {
     "name": "stdout",
     "output_type": "stream",
     "text": [
      "3292. HEXO\n"
     ]
    },
    {
     "name": "stderr",
     "output_type": "stream",
     "text": [
      "HEXO: No timezone found, symbol may be delisted\n"
     ]
    },
    {
     "name": "stdout",
     "output_type": "stream",
     "text": [
      "3293. HEZU\n",
      "3294. HFBL\n",
      "3295. HFC\n"
     ]
    },
    {
     "name": "stderr",
     "output_type": "stream",
     "text": [
      "HFC: No timezone found, symbol may be delisted\n"
     ]
    },
    {
     "name": "stdout",
     "output_type": "stream",
     "text": [
      "3296. HFFG\n",
      "3297. HFRO\n",
      "3298. HFWA\n",
      "3299. HFXE\n"
     ]
    },
    {
     "name": "stderr",
     "output_type": "stream",
     "text": [
      "HFXE: No price data found, symbol may be delisted (1d 2023-01-01 -> 2024-01-01)\n"
     ]
    },
    {
     "name": "stdout",
     "output_type": "stream",
     "text": [
      "3300. HFXI\n",
      "3301. HFXJ\n"
     ]
    },
    {
     "name": "stderr",
     "output_type": "stream",
     "text": [
      "HFXJ: No price data found, symbol may be delisted (1d 2023-01-01 -> 2024-01-01)\n"
     ]
    },
    {
     "name": "stdout",
     "output_type": "stream",
     "text": [
      "3302. HGH\n"
     ]
    },
    {
     "name": "stderr",
     "output_type": "stream",
     "text": [
      "HGH: No timezone found, symbol may be delisted\n"
     ]
    },
    {
     "name": "stdout",
     "output_type": "stream",
     "text": [
      "3303. HGLB\n",
      "3304. HGSH\n"
     ]
    },
    {
     "name": "stderr",
     "output_type": "stream",
     "text": [
      "HGSH: No timezone found, symbol may be delisted\n"
     ]
    },
    {
     "name": "stdout",
     "output_type": "stream",
     "text": [
      "3305. HGV\n",
      "3306. HHC\n"
     ]
    },
    {
     "name": "stderr",
     "output_type": "stream",
     "text": [
      "HHC: No timezone found, symbol may be delisted\n",
      "404 Client Error: Not Found for url: https://query2.finance.yahoo.com/v10/finance/quoteSummary/HHC?modules=financialData%2CquoteType%2CdefaultKeyStatistics%2CassetProfile%2CsummaryDetail&corsDomain=finance.yahoo.com&formatted=false&symbol=HHC&crumb=KUwSGfMjWIw\n"
     ]
    },
    {
     "name": "stdout",
     "output_type": "stream",
     "text": [
      "3307. HHHH\n"
     ]
    },
    {
     "name": "stderr",
     "output_type": "stream",
     "text": [
      "HHHH: No timezone found, symbol may be delisted\n"
     ]
    },
    {
     "name": "stdout",
     "output_type": "stream",
     "text": [
      "3308. HHHHU\n"
     ]
    },
    {
     "name": "stderr",
     "output_type": "stream",
     "text": [
      "HHHHU: No timezone found, symbol may be delisted\n"
     ]
    },
    {
     "name": "stdout",
     "output_type": "stream",
     "text": [
      "3309. HHR\n"
     ]
    },
    {
     "name": "stderr",
     "output_type": "stream",
     "text": [
      "HHR: No timezone found, symbol may be delisted\n"
     ]
    },
    {
     "name": "stdout",
     "output_type": "stream",
     "text": [
      "3310. HHS\n",
      "3311. HHT\n"
     ]
    },
    {
     "name": "stderr",
     "output_type": "stream",
     "text": [
      "HHT: No timezone found, symbol may be delisted\n"
     ]
    },
    {
     "name": "stdout",
     "output_type": "stream",
     "text": [
      "3312. HI\n",
      "3313. HIBB\n",
      "3314. HIBL\n",
      "3315. HIBS\n",
      "3316. HIE\n",
      "3317. HIFS\n",
      "3318. HIG\n",
      "3319. HIHO\n",
      "3320. HII\n",
      "3321. HIL\n"
     ]
    },
    {
     "name": "stderr",
     "output_type": "stream",
     "text": [
      "HIL: No timezone found, symbol may be delisted\n"
     ]
    },
    {
     "name": "stdout",
     "output_type": "stream",
     "text": [
      "3322. HIMX\n",
      "3323. HIO\n",
      "3324. HIPS\n",
      "3325. HIW\n",
      "3326. HIX\n",
      "3327. HJLI\n"
     ]
    },
    {
     "name": "stderr",
     "output_type": "stream",
     "text": [
      "HJLI: No timezone found, symbol may be delisted\n"
     ]
    },
    {
     "name": "stdout",
     "output_type": "stream",
     "text": [
      "3328. HJLIW\n"
     ]
    },
    {
     "name": "stderr",
     "output_type": "stream",
     "text": [
      "HJLIW: No timezone found, symbol may be delisted\n",
      "404 Client Error: Not Found for url: https://query2.finance.yahoo.com/v10/finance/quoteSummary/HJLIW?modules=financialData%2CquoteType%2CdefaultKeyStatistics%2CassetProfile%2CsummaryDetail&corsDomain=finance.yahoo.com&formatted=false&symbol=HJLIW&crumb=KUwSGfMjWIw\n"
     ]
    },
    {
     "name": "stdout",
     "output_type": "stream",
     "text": [
      "3329. HJPX\n"
     ]
    },
    {
     "name": "stderr",
     "output_type": "stream",
     "text": [
      "HJPX: No price data found, symbol may be delisted (1d 2023-01-01 -> 2024-01-01)\n"
     ]
    },
    {
     "name": "stdout",
     "output_type": "stream",
     "text": [
      "3330. HJV\n"
     ]
    },
    {
     "name": "stderr",
     "output_type": "stream",
     "text": [
      "HJV: No timezone found, symbol may be delisted\n"
     ]
    },
    {
     "name": "stdout",
     "output_type": "stream",
     "text": [
      "3331. HKIB\n"
     ]
    },
    {
     "name": "stderr",
     "output_type": "stream",
     "text": [
      "HKIB: No timezone found, symbol may be delisted\n"
     ]
    },
    {
     "name": "stdout",
     "output_type": "stream",
     "text": [
      "3332. HL\n",
      "3333. HLAL\n",
      "3334. HLF\n",
      "3335. HLG\n"
     ]
    },
    {
     "name": "stderr",
     "output_type": "stream",
     "text": [
      "HLG: No timezone found, symbol may be delisted\n"
     ]
    },
    {
     "name": "stdout",
     "output_type": "stream",
     "text": [
      "3336. HLI\n",
      "3337. HLIO\n",
      "3338. HLIT\n",
      "3339. HLNE\n",
      "3340. HLT\n",
      "3341. HLX\n",
      "3342. HMC\n",
      "3343. HMG\n"
     ]
    },
    {
     "name": "stderr",
     "output_type": "stream",
     "text": [
      "HMG: No timezone found, symbol may be delisted\n"
     ]
    },
    {
     "name": "stdout",
     "output_type": "stream",
     "text": [
      "3344. HMHC\n"
     ]
    },
    {
     "name": "stderr",
     "output_type": "stream",
     "text": [
      "HMHC: No timezone found, symbol may be delisted\n"
     ]
    },
    {
     "name": "stdout",
     "output_type": "stream",
     "text": [
      "3345. HMI\n"
     ]
    },
    {
     "name": "stderr",
     "output_type": "stream",
     "text": [
      "HMI: No timezone found, symbol may be delisted\n"
     ]
    },
    {
     "name": "stdout",
     "output_type": "stream",
     "text": [
      "3346. HMLP\n"
     ]
    },
    {
     "name": "stderr",
     "output_type": "stream",
     "text": [
      "HMLP: No timezone found, symbol may be delisted\n"
     ]
    },
    {
     "name": "stdout",
     "output_type": "stream",
     "text": [
      "3347. HMN\n",
      "3348. HMNF\n",
      "3349. HMOP\n",
      "3350. HMST\n",
      "3351. HMSY\n"
     ]
    },
    {
     "name": "stderr",
     "output_type": "stream",
     "text": [
      "HMSY: No timezone found, symbol may be delisted\n"
     ]
    },
    {
     "name": "stdout",
     "output_type": "stream",
     "text": [
      "3352. HMTV\n"
     ]
    },
    {
     "name": "stderr",
     "output_type": "stream",
     "text": [
      "HMTV: No timezone found, symbol may be delisted\n"
     ]
    },
    {
     "name": "stdout",
     "output_type": "stream",
     "text": [
      "3353. HMY\n",
      "3354. HNDL\n",
      "3355. HNGR\n"
     ]
    },
    {
     "name": "stderr",
     "output_type": "stream",
     "text": [
      "HNGR: No timezone found, symbol may be delisted\n"
     ]
    },
    {
     "name": "stdout",
     "output_type": "stream",
     "text": [
      "3356. HNI\n",
      "3357. HNNA\n",
      "3358. HNP\n"
     ]
    },
    {
     "name": "stderr",
     "output_type": "stream",
     "text": [
      "HNP: No timezone found, symbol may be delisted\n"
     ]
    },
    {
     "name": "stdout",
     "output_type": "stream",
     "text": [
      "3359. HNRG\n",
      "3360. HNW\n",
      "3361. HOFT\n",
      "3362. HOG\n",
      "3363. HOLD\n",
      "3364. HOLI\n",
      "3365. HOLX\n",
      "3366. HOMB\n",
      "3367. HOME\n"
     ]
    },
    {
     "name": "stderr",
     "output_type": "stream",
     "text": [
      "HOME: No timezone found, symbol may be delisted\n"
     ]
    },
    {
     "name": "stdout",
     "output_type": "stream",
     "text": [
      "3368. HOMZ\n",
      "3369. HON\n",
      "3370. HONE\n",
      "3371. HOOK\n",
      "3372. HOPE\n",
      "3373. HOTH\n",
      "3374. HOV\n",
      "3375. HOVNP\n",
      "3376. HP\n",
      "3377. HPE\n",
      "3378. HPF\n",
      "3379. HPI\n",
      "3380. HPP\n",
      "3381. HPQ\n",
      "3382. HPR\n"
     ]
    },
    {
     "name": "stderr",
     "output_type": "stream",
     "text": [
      "HPR: No timezone found, symbol may be delisted\n"
     ]
    },
    {
     "name": "stdout",
     "output_type": "stream",
     "text": [
      "3383. HPS\n",
      "3384. HQH\n",
      "3385. HQI\n",
      "3386. HQL\n",
      "3387. HQY\n",
      "3388. HR\n",
      "3389. HRB\n",
      "3390. HRC\n"
     ]
    },
    {
     "name": "stderr",
     "output_type": "stream",
     "text": [
      "HRC: No timezone found, symbol may be delisted\n"
     ]
    },
    {
     "name": "stdout",
     "output_type": "stream",
     "text": [
      "3391. HRI\n",
      "3392. HRL\n",
      "3393. HROW\n",
      "3394. HRTG\n",
      "3395. HRTX\n",
      "3396. HRZN\n",
      "3397. HSC\n"
     ]
    },
    {
     "name": "stderr",
     "output_type": "stream",
     "text": [
      "HSC: No timezone found, symbol may be delisted\n"
     ]
    },
    {
     "name": "stdout",
     "output_type": "stream",
     "text": [
      "3398. HSCZ\n",
      "3399. HSDT\n",
      "3400. HSIC\n",
      "3401. HSII\n",
      "3402. HSKA\n"
     ]
    },
    {
     "name": "stderr",
     "output_type": "stream",
     "text": [
      "HSKA: No timezone found, symbol may be delisted\n"
     ]
    },
    {
     "name": "stdout",
     "output_type": "stream",
     "text": [
      "3403. HSON\n",
      "3404. HSPX\n",
      "3405. HSRT\n",
      "3406. HST\n",
      "3407. HSTM\n",
      "3408. HSY\n",
      "3409. HT\n"
     ]
    },
    {
     "name": "stderr",
     "output_type": "stream",
     "text": [
      "HT: No data found, symbol may be delisted\n",
      "404 Client Error: Not Found for url: https://query2.finance.yahoo.com/v10/finance/quoteSummary/HT?modules=financialData%2CquoteType%2CdefaultKeyStatistics%2CassetProfile%2CsummaryDetail&corsDomain=finance.yahoo.com&formatted=false&symbol=HT&crumb=KUwSGfMjWIw\n"
     ]
    },
    {
     "name": "stdout",
     "output_type": "stream",
     "text": [
      "3410. HTA\n"
     ]
    },
    {
     "name": "stderr",
     "output_type": "stream",
     "text": [
      "HTA: No timezone found, symbol may be delisted\n"
     ]
    },
    {
     "name": "stdout",
     "output_type": "stream",
     "text": [
      "3411. HTAB\n",
      "3412. HTBI\n",
      "3413. HTBK\n",
      "3414. HTBX\n"
     ]
    },
    {
     "name": "stderr",
     "output_type": "stream",
     "text": [
      "HTBX: No timezone found, symbol may be delisted\n"
     ]
    },
    {
     "name": "stdout",
     "output_type": "stream",
     "text": [
      "3415. HTD\n",
      "3416. HTEC\n",
      "3417. HTFA\n"
     ]
    },
    {
     "name": "stderr",
     "output_type": "stream",
     "text": [
      "HTFA: No price data found, symbol may be delisted (1d 2023-01-01 -> 2024-01-01)\n"
     ]
    },
    {
     "name": "stdout",
     "output_type": "stream",
     "text": [
      "3418. HTGC\n",
      "3419. HTGM\n"
     ]
    },
    {
     "name": "stderr",
     "output_type": "stream",
     "text": [
      "HTGM: No timezone found, symbol may be delisted\n"
     ]
    },
    {
     "name": "stdout",
     "output_type": "stream",
     "text": [
      "3420. HTH\n",
      "3421. HTHT\n",
      "3422. HTIA\n",
      "3423. HTLD\n",
      "3424. HTLF\n",
      "3425. HTRB\n",
      "3426. HTUS\n",
      "3427. HTY\n",
      "3428. HTZ\n",
      "3429. HUBB\n",
      "3430. HUBG\n",
      "3431. HUBS\n",
      "3432. HUD\n"
     ]
    },
    {
     "name": "stderr",
     "output_type": "stream",
     "text": [
      "HUD: No timezone found, symbol may be delisted\n"
     ]
    },
    {
     "name": "stdout",
     "output_type": "stream",
     "text": [
      "3433. HUGE\n",
      "3434. HUIZ\n",
      "3435. HUM\n",
      "3436. HUN\n",
      "3437. HURC\n",
      "3438. HURN\n",
      "3439. HUSA\n",
      "3440. HUSE\n"
     ]
    },
    {
     "name": "stderr",
     "output_type": "stream",
     "text": [
      "HUSE: No price data found, symbol may be delisted (1d 2023-01-01 -> 2024-01-01)\n"
     ]
    },
    {
     "name": "stdout",
     "output_type": "stream",
     "text": [
      "3441. HUSV\n",
      "3442. HUYA\n",
      "3443. HVBC\n"
     ]
    },
    {
     "name": "stderr",
     "output_type": "stream",
     "text": [
      "HVBC: No timezone found, symbol may be delisted\n"
     ]
    },
    {
     "name": "stdout",
     "output_type": "stream",
     "text": [
      "3444. HVT\n",
      "3445. HWBK\n",
      "3446. HWC\n",
      "3447. HWCC\n"
     ]
    },
    {
     "name": "stderr",
     "output_type": "stream",
     "text": [
      "HWCC: No timezone found, symbol may be delisted\n"
     ]
    },
    {
     "name": "stdout",
     "output_type": "stream",
     "text": [
      "3448. HWCPL\n"
     ]
    },
    {
     "name": "stderr",
     "output_type": "stream",
     "text": [
      "HWCPL: No timezone found, symbol may be delisted\n",
      "404 Client Error: Not Found for url: https://query2.finance.yahoo.com/v10/finance/quoteSummary/HWCPL?modules=financialData%2CquoteType%2CdefaultKeyStatistics%2CassetProfile%2CsummaryDetail&corsDomain=finance.yahoo.com&formatted=false&symbol=HWCPL&crumb=KUwSGfMjWIw\n"
     ]
    },
    {
     "name": "stdout",
     "output_type": "stream",
     "text": [
      "3449. HWKN\n",
      "3450. HX\n"
     ]
    },
    {
     "name": "stderr",
     "output_type": "stream",
     "text": [
      "HX: No timezone found, symbol may be delisted\n"
     ]
    },
    {
     "name": "stdout",
     "output_type": "stream",
     "text": [
      "3451. HXL\n",
      "3452. HY\n",
      "3453. HYAC\n",
      "3454. HYACU\n"
     ]
    },
    {
     "name": "stderr",
     "output_type": "stream",
     "text": [
      "HYACU: No timezone found, symbol may be delisted\n"
     ]
    },
    {
     "name": "stdout",
     "output_type": "stream",
     "text": [
      "3455. HYB\n",
      "3456. HYD\n",
      "3457. HYDB\n",
      "3458. HYDW\n",
      "3459. HYEM\n",
      "3460. HYG\n",
      "3461. HYGH\n",
      "3462. HYGV\n",
      "3463. HYHG\n",
      "3464. HYI\n",
      "3465. HYIH\n",
      "3466. HYLB\n",
      "3467. HYLD\n",
      "3468. HYLS\n",
      "3469. HYLV\n",
      "3470. HYND\n"
     ]
    },
    {
     "name": "stderr",
     "output_type": "stream",
     "text": [
      "HYND: No price data found, symbol may be delisted (1d 2023-01-01 -> 2024-01-01)\n"
     ]
    },
    {
     "name": "stdout",
     "output_type": "stream",
     "text": [
      "3471. HYRE\n"
     ]
    },
    {
     "name": "stderr",
     "output_type": "stream",
     "text": [
      "HYRE: No timezone found, symbol may be delisted\n"
     ]
    },
    {
     "name": "stdout",
     "output_type": "stream",
     "text": [
      "3472. HYS\n",
      "3473. HYT\n",
      "3474. HYTR\n",
      "3475. HYUP\n",
      "3476. HYXE\n",
      "3477. HYXU\n",
      "3478. HYZD\n",
      "3479. HZN\n"
     ]
    },
    {
     "name": "stderr",
     "output_type": "stream",
     "text": [
      "HZN: No timezone found, symbol may be delisted\n"
     ]
    },
    {
     "name": "stdout",
     "output_type": "stream",
     "text": [
      "3480. HZNP\n"
     ]
    },
    {
     "name": "stderr",
     "output_type": "stream",
     "text": [
      "HZNP: No timezone found, symbol may be delisted\n",
      "404 Client Error: Not Found for url: https://query2.finance.yahoo.com/v10/finance/quoteSummary/HZNP?modules=financialData%2CquoteType%2CdefaultKeyStatistics%2CassetProfile%2CsummaryDetail&corsDomain=finance.yahoo.com&formatted=false&symbol=HZNP&crumb=KUwSGfMjWIw\n"
     ]
    },
    {
     "name": "stdout",
     "output_type": "stream",
     "text": [
      "3481. HZO\n",
      "3482. I\n"
     ]
    },
    {
     "name": "stderr",
     "output_type": "stream",
     "text": [
      "I: No timezone found, symbol may be delisted\n"
     ]
    },
    {
     "name": "stdout",
     "output_type": "stream",
     "text": [
      "3483. IAA\n"
     ]
    },
    {
     "name": "stderr",
     "output_type": "stream",
     "text": [
      "IAA: No timezone found, symbol may be delisted\n"
     ]
    },
    {
     "name": "stdout",
     "output_type": "stream",
     "text": [
      "3484. IAC\n",
      "3485. IAE\n",
      "3486. IAF\n",
      "3487. IAG\n",
      "3488. IAGG\n",
      "3489. IAI\n",
      "3490. IAK\n",
      "3491. IART\n",
      "3492. IAT\n",
      "3493. IAU\n",
      "3494. IAUF\n",
      "3495. IBA\n"
     ]
    },
    {
     "name": "stderr",
     "output_type": "stream",
     "text": [
      "IBA: No timezone found, symbol may be delisted\n"
     ]
    },
    {
     "name": "stdout",
     "output_type": "stream",
     "text": [
      "3496. IBB\n",
      "3497. IBCE\n",
      "3498. IBCP\n",
      "3499. IBD\n",
      "3500. IBDD\n",
      "3501. IBDL\n"
     ]
    },
    {
     "name": "stderr",
     "output_type": "stream",
     "text": [
      "IBDL: No price data found, symbol may be delisted (1d 2023-01-01 -> 2024-01-01)\n"
     ]
    },
    {
     "name": "stdout",
     "output_type": "stream",
     "text": [
      "3502. IBDM\n"
     ]
    },
    {
     "name": "stderr",
     "output_type": "stream",
     "text": [
      "IBDM: No price data found, symbol may be delisted (1d 2023-01-01 -> 2024-01-01)\n"
     ]
    },
    {
     "name": "stdout",
     "output_type": "stream",
     "text": [
      "3503. IBDN\n"
     ]
    },
    {
     "name": "stderr",
     "output_type": "stream",
     "text": [
      "IBDN: No price data found, symbol may be delisted (1d 2023-01-01 -> 2024-01-01)\n"
     ]
    },
    {
     "name": "stdout",
     "output_type": "stream",
     "text": [
      "3504. IBDO\n",
      "3505. IBDP\n",
      "3506. IBDQ\n",
      "3507. IBDR\n",
      "3508. IBDS\n",
      "3509. IBDT\n",
      "3510. IBDU\n",
      "3511. IBHA\n"
     ]
    },
    {
     "name": "stderr",
     "output_type": "stream",
     "text": [
      "IBHA: No price data found, symbol may be delisted (1d 2023-01-01 -> 2024-01-01)\n"
     ]
    },
    {
     "name": "stdout",
     "output_type": "stream",
     "text": [
      "3512. IBHB\n"
     ]
    },
    {
     "name": "stderr",
     "output_type": "stream",
     "text": [
      "IBHB: No price data found, symbol may be delisted (1d 2023-01-01 -> 2024-01-01)\n"
     ]
    },
    {
     "name": "stdout",
     "output_type": "stream",
     "text": [
      "3513. IBHC\n",
      "3514. IBHD\n",
      "3515. IBHE\n",
      "3516. IBIO\n",
      "3517. IBKC\n"
     ]
    },
    {
     "name": "stderr",
     "output_type": "stream",
     "text": [
      "IBKC: No timezone found, symbol may be delisted\n"
     ]
    },
    {
     "name": "stdout",
     "output_type": "stream",
     "text": [
      "3518. IBKCN\n"
     ]
    },
    {
     "name": "stderr",
     "output_type": "stream",
     "text": [
      "IBKCN: No timezone found, symbol may be delisted\n"
     ]
    },
    {
     "name": "stdout",
     "output_type": "stream",
     "text": [
      "3519. IBKCO\n"
     ]
    },
    {
     "name": "stderr",
     "output_type": "stream",
     "text": [
      "IBKCO: No timezone found, symbol may be delisted\n"
     ]
    },
    {
     "name": "stdout",
     "output_type": "stream",
     "text": [
      "3520. IBKCP\n"
     ]
    },
    {
     "name": "stderr",
     "output_type": "stream",
     "text": [
      "IBKCP: No timezone found, symbol may be delisted\n"
     ]
    },
    {
     "name": "stdout",
     "output_type": "stream",
     "text": [
      "3521. IBKR\n",
      "3522. IBM\n",
      "3523. IBMI\n"
     ]
    },
    {
     "name": "stderr",
     "output_type": "stream",
     "text": [
      "IBMI: No price data found, symbol may be delisted (1d 2023-01-01 -> 2024-01-01)\n"
     ]
    },
    {
     "name": "stdout",
     "output_type": "stream",
     "text": [
      "3524. IBMJ\n"
     ]
    },
    {
     "name": "stderr",
     "output_type": "stream",
     "text": [
      "IBMJ: No price data found, symbol may be delisted (1d 2023-01-01 -> 2024-01-01)\n"
     ]
    },
    {
     "name": "stdout",
     "output_type": "stream",
     "text": [
      "3525. IBMK\n"
     ]
    },
    {
     "name": "stderr",
     "output_type": "stream",
     "text": [
      "IBMK: No price data found, symbol may be delisted (1d 2023-01-01 -> 2024-01-01)\n"
     ]
    },
    {
     "name": "stdout",
     "output_type": "stream",
     "text": [
      "3526. IBML\n",
      "3527. IBMM\n",
      "3528. IBMN\n",
      "3529. IBMO\n",
      "3530. IBMP\n",
      "3531. IBMQ\n",
      "3532. IBN\n",
      "3533. IBND\n",
      "3534. IBOC\n",
      "3535. IBP\n",
      "3536. IBTE\n",
      "3537. IBTF\n",
      "3538. IBTG\n",
      "3539. IBTH\n",
      "3540. IBTI\n",
      "3541. IBTJ\n",
      "3542. IBTX\n",
      "3543. IBUY\n",
      "3544. ICAD\n",
      "3545. ICBK\n"
     ]
    },
    {
     "name": "stderr",
     "output_type": "stream",
     "text": [
      "ICBK: No timezone found, symbol may be delisted\n"
     ]
    },
    {
     "name": "stdout",
     "output_type": "stream",
     "text": [
      "3546. ICCC\n",
      "3547. ICCH\n",
      "3548. ICD\n",
      "3549. ICE\n",
      "3550. ICF\n",
      "3551. ICFI\n",
      "3552. ICHR\n",
      "3553. ICL\n",
      "3554. ICLK\n",
      "3555. ICLN\n",
      "3556. ICLR\n",
      "3557. ICMB\n",
      "3558. ICOL\n"
     ]
    },
    {
     "name": "stderr",
     "output_type": "stream",
     "text": [
      "ICOL: No price data found, symbol may be delisted (1d 2023-01-01 -> 2024-01-01)\n"
     ]
    },
    {
     "name": "stdout",
     "output_type": "stream",
     "text": [
      "3559. ICON\n"
     ]
    },
    {
     "name": "stderr",
     "output_type": "stream",
     "text": [
      "ICON: No timezone found, symbol may be delisted\n"
     ]
    },
    {
     "name": "stdout",
     "output_type": "stream",
     "text": [
      "3560. ICOW\n",
      "3561. ICPT\n"
     ]
    },
    {
     "name": "stderr",
     "output_type": "stream",
     "text": [
      "ICPT: No timezone found, symbol may be delisted\n",
      "404 Client Error: Not Found for url: https://query2.finance.yahoo.com/v10/finance/quoteSummary/ICPT?modules=financialData%2CquoteType%2CdefaultKeyStatistics%2CassetProfile%2CsummaryDetail&corsDomain=finance.yahoo.com&formatted=false&symbol=ICPT&crumb=KUwSGfMjWIw\n"
     ]
    },
    {
     "name": "stdout",
     "output_type": "stream",
     "text": [
      "3562. ICSH\n",
      "3563. ICUI\n",
      "3564. ICVT\n",
      "3565. IDA\n",
      "3566. IDCC\n",
      "3567. IDE\n",
      "3568. IDEV\n",
      "3569. IDEX\n",
      "3570. IDHD\n",
      "3571. IDHQ\n",
      "3572. IDIV\n"
     ]
    },
    {
     "name": "stderr",
     "output_type": "stream",
     "text": [
      "IDIV: No price data found, symbol may be delisted (1d 2023-01-01 -> 2024-01-01)\n"
     ]
    },
    {
     "name": "stdout",
     "output_type": "stream",
     "text": [
      "3573. IDLB\n",
      "3574. IDLV\n",
      "3575. IDMO\n",
      "3576. IDN\n",
      "3577. IDNA\n",
      "3578. IDOG\n",
      "3579. IDRA\n"
     ]
    },
    {
     "name": "stderr",
     "output_type": "stream",
     "text": [
      "IDRA: No timezone found, symbol may be delisted\n"
     ]
    },
    {
     "name": "stdout",
     "output_type": "stream",
     "text": [
      "3580. IDRV\n",
      "3581. IDT\n",
      "3582. IDU\n",
      "3583. IDV\n",
      "3584. IDXG\n",
      "3585. IDXX\n",
      "3586. IDY\n"
     ]
    },
    {
     "name": "stderr",
     "output_type": "stream",
     "text": [
      "IDY: No price data found, symbol may be delisted (1d 2023-01-01 -> 2024-01-01)\n"
     ]
    },
    {
     "name": "stdout",
     "output_type": "stream",
     "text": [
      "3587. IDYA\n",
      "3588. IEA\n"
     ]
    },
    {
     "name": "stderr",
     "output_type": "stream",
     "text": [
      "IEA: No timezone found, symbol may be delisted\n"
     ]
    },
    {
     "name": "stdout",
     "output_type": "stream",
     "text": [
      "3589. IEC\n"
     ]
    },
    {
     "name": "stderr",
     "output_type": "stream",
     "text": [
      "IEC: No timezone found, symbol may be delisted\n"
     ]
    },
    {
     "name": "stdout",
     "output_type": "stream",
     "text": [
      "3590. IECS\n"
     ]
    },
    {
     "name": "stderr",
     "output_type": "stream",
     "text": [
      "IECS: No price data found, symbol may be delisted (1d 2023-01-01 -> 2024-01-01)\n"
     ]
    },
    {
     "name": "stdout",
     "output_type": "stream",
     "text": [
      "3591. IEDI\n",
      "3592. IEF\n",
      "3593. IEFA\n",
      "3594. IEFN\n"
     ]
    },
    {
     "name": "stderr",
     "output_type": "stream",
     "text": [
      "IEFN: No price data found, symbol may be delisted (1d 2023-01-01 -> 2024-01-01)\n"
     ]
    },
    {
     "name": "stdout",
     "output_type": "stream",
     "text": [
      "3595. IEHS\n"
     ]
    },
    {
     "name": "stderr",
     "output_type": "stream",
     "text": [
      "IEHS: No price data found, symbol may be delisted (1d 2023-01-01 -> 2024-01-01)\n"
     ]
    },
    {
     "name": "stdout",
     "output_type": "stream",
     "text": [
      "3596. IEI\n",
      "3597. IEIH\n"
     ]
    },
    {
     "name": "stderr",
     "output_type": "stream",
     "text": [
      "IEIH: No price data found, symbol may be delisted (1d 2023-01-01 -> 2024-01-01)\n"
     ]
    },
    {
     "name": "stdout",
     "output_type": "stream",
     "text": [
      "3598. IEME\n"
     ]
    },
    {
     "name": "stderr",
     "output_type": "stream",
     "text": [
      "IEME: No price data found, symbol may be delisted (1d 2023-01-01 -> 2024-01-01)\n"
     ]
    },
    {
     "name": "stdout",
     "output_type": "stream",
     "text": [
      "3599. IEMG\n",
      "3600. IEO\n",
      "3601. IEP\n",
      "3602. IESC\n",
      "3603. IETC\n",
      "3604. IEUR\n",
      "3605. IEUS\n",
      "3606. IEV\n",
      "3607. IEX\n",
      "3608. IEZ\n",
      "3609. IFEU\n"
     ]
    },
    {
     "name": "stderr",
     "output_type": "stream",
     "text": [
      "IFEU: No price data found, symbol may be delisted (1d 2023-01-01 -> 2024-01-01)\n"
     ]
    },
    {
     "name": "stdout",
     "output_type": "stream",
     "text": [
      "3610. IFF\n",
      "3611. IFFT\n"
     ]
    },
    {
     "name": "stderr",
     "output_type": "stream",
     "text": [
      "IFFT: No timezone found, symbol may be delisted\n"
     ]
    },
    {
     "name": "stdout",
     "output_type": "stream",
     "text": [
      "3612. IFGL\n",
      "3613. IFLY\n",
      "3614. IFMK\n",
      "3615. IFN\n",
      "3616. IFRA\n",
      "3617. IFRX\n",
      "3618. IFS\n",
      "3619. IFV\n",
      "3620. IG\n",
      "3621. IGA\n",
      "3622. IGBH\n",
      "3623. IGC\n",
      "3624. IGD\n",
      "3625. IGE\n",
      "3626. IGEB\n",
      "3627. IGF\n",
      "3628. IGHG\n",
      "3629. IGI\n",
      "3630. IGIB\n",
      "3631. IGIC\n",
      "3632. IGIH\n",
      "3633. IGLB\n",
      "3634. IGM\n",
      "3635. IGMS\n",
      "3636. IGN\n",
      "3637. IGOV\n",
      "3638. IGR\n",
      "3639. IGRO\n",
      "3640. IGSB\n",
      "3641. IGT\n",
      "3642. IGV\n",
      "3643. IHAK\n",
      "3644. IHC\n"
     ]
    },
    {
     "name": "stderr",
     "output_type": "stream",
     "text": [
      "IHC: No timezone found, symbol may be delisted\n"
     ]
    },
    {
     "name": "stdout",
     "output_type": "stream",
     "text": [
      "3645. IHD\n",
      "3646. IHDG\n",
      "3647. IHE\n",
      "3648. IHF\n",
      "3649. IHG\n",
      "3650. IHI\n",
      "3651. IHIT\n"
     ]
    },
    {
     "name": "stderr",
     "output_type": "stream",
     "text": [
      "IHIT: No data found, symbol may be delisted\n",
      "404 Client Error: Not Found for url: https://query2.finance.yahoo.com/v10/finance/quoteSummary/IHIT?modules=financialData%2CquoteType%2CdefaultKeyStatistics%2CassetProfile%2CsummaryDetail&corsDomain=finance.yahoo.com&formatted=false&symbol=IHIT&crumb=KUwSGfMjWIw\n"
     ]
    },
    {
     "name": "stdout",
     "output_type": "stream",
     "text": [
      "3652. IHRT\n",
      "3653. IHT\n",
      "3654. IHTA\n",
      "3655. IHY\n",
      "3656. IID\n"
     ]
    },
    {
     "name": "stderr",
     "output_type": "stream",
     "text": [
      "IID: No timezone found, symbol may be delisted\n"
     ]
    },
    {
     "name": "stdout",
     "output_type": "stream",
     "text": [
      "3657. IIF\n",
      "3658. IIGD\n",
      "3659. IIGV\n",
      "3660. III\n",
      "3661. IIIN\n",
      "3662. IIIV\n",
      "3663. IIM\n",
      "3664. IIN\n"
     ]
    },
    {
     "name": "stderr",
     "output_type": "stream",
     "text": [
      "IIN: No timezone found, symbol may be delisted\n"
     ]
    },
    {
     "name": "stdout",
     "output_type": "stream",
     "text": [
      "3665. IIPR\n",
      "3666. IIVI\n"
     ]
    },
    {
     "name": "stderr",
     "output_type": "stream",
     "text": [
      "IIVI: No timezone found, symbol may be delisted\n",
      "404 Client Error: Not Found for url: https://query2.finance.yahoo.com/v10/finance/quoteSummary/IIVI?modules=financialData%2CquoteType%2CdefaultKeyStatistics%2CassetProfile%2CsummaryDetail&corsDomain=finance.yahoo.com&formatted=false&symbol=IIVI&crumb=KUwSGfMjWIw\n"
     ]
    },
    {
     "name": "stdout",
     "output_type": "stream",
     "text": [
      "3667. IJAN\n",
      "3668. IJH\n",
      "3669. IJJ\n",
      "3670. IJK\n",
      "3671. IJR\n",
      "3672. IJS\n",
      "3673. IJT\n",
      "3674. IJUL\n",
      "3675. IKNX\n"
     ]
    },
    {
     "name": "stderr",
     "output_type": "stream",
     "text": [
      "IKNX: No timezone found, symbol may be delisted\n"
     ]
    },
    {
     "name": "stdout",
     "output_type": "stream",
     "text": [
      "3676. ILF\n",
      "3677. ILMN\n",
      "3678. ILPT\n",
      "3679. ILTB\n",
      "3680. IMAB\n",
      "3681. IMAC\n"
     ]
    },
    {
     "name": "stderr",
     "output_type": "stream",
     "text": [
      "IMAC: No timezone found, symbol may be delisted\n"
     ]
    },
    {
     "name": "stdout",
     "output_type": "stream",
     "text": [
      "3682. IMAX\n",
      "3683. IMBI\n"
     ]
    },
    {
     "name": "stderr",
     "output_type": "stream",
     "text": [
      "IMBI: No timezone found, symbol may be delisted\n",
      "404 Client Error: Not Found for url: https://query2.finance.yahoo.com/v10/finance/quoteSummary/IMBI?modules=financialData%2CquoteType%2CdefaultKeyStatistics%2CassetProfile%2CsummaryDetail&corsDomain=finance.yahoo.com&formatted=false&symbol=IMBI&crumb=KUwSGfMjWIw\n"
     ]
    },
    {
     "name": "stdout",
     "output_type": "stream",
     "text": [
      "3684. IMGN\n",
      "3685. IMH\n"
     ]
    },
    {
     "name": "stderr",
     "output_type": "stream",
     "text": [
      "IMH: No timezone found, symbol may be delisted\n"
     ]
    },
    {
     "name": "stdout",
     "output_type": "stream",
     "text": [
      "3686. IMKTA\n",
      "3687. IMLP\n",
      "3688. IMMP\n",
      "3689. IMMR\n",
      "3690. IMMU\n"
     ]
    },
    {
     "name": "stderr",
     "output_type": "stream",
     "text": [
      "IMMU: No timezone found, symbol may be delisted\n"
     ]
    },
    {
     "name": "stdout",
     "output_type": "stream",
     "text": [
      "3691. IMO\n",
      "3692. IMOM\n",
      "3693. IMOS\n",
      "3694. IMRA\n"
     ]
    },
    {
     "name": "stderr",
     "output_type": "stream",
     "text": [
      "IMRA: No timezone found, symbol may be delisted\n"
     ]
    },
    {
     "name": "stdout",
     "output_type": "stream",
     "text": [
      "3695. IMRN\n",
      "3696. IMTB\n",
      "3697. IMTE\n",
      "3698. IMTM\n",
      "3699. IMUX\n",
      "3700. IMV\n"
     ]
    },
    {
     "name": "stderr",
     "output_type": "stream",
     "text": [
      "IMV: No timezone found, symbol may be delisted\n"
     ]
    },
    {
     "name": "stdout",
     "output_type": "stream",
     "text": [
      "3701. IMVT\n",
      "3702. IMVTU\n"
     ]
    },
    {
     "name": "stderr",
     "output_type": "stream",
     "text": [
      "IMVTU: No timezone found, symbol may be delisted\n"
     ]
    },
    {
     "name": "stdout",
     "output_type": "stream",
     "text": [
      "3703. IMXI\n",
      "3704. INBK\n",
      "3705. INBKL\n"
     ]
    },
    {
     "name": "stderr",
     "output_type": "stream",
     "text": [
      "INBKL: No timezone found, symbol may be delisted\n",
      "404 Client Error: Not Found for url: https://query2.finance.yahoo.com/v10/finance/quoteSummary/INBKL?modules=financialData%2CquoteType%2CdefaultKeyStatistics%2CassetProfile%2CsummaryDetail&corsDomain=finance.yahoo.com&formatted=false&symbol=INBKL&crumb=KUwSGfMjWIw\n"
     ]
    },
    {
     "name": "stdout",
     "output_type": "stream",
     "text": [
      "3706. INBKZ\n",
      "3707. INCO\n",
      "3708. INCY\n",
      "3709. INDA\n",
      "3710. INDB\n",
      "3711. INDL\n",
      "3712. INDO\n",
      "3713. INDS\n",
      "3714. INDY\n",
      "3715. INFI\n"
     ]
    },
    {
     "name": "stderr",
     "output_type": "stream",
     "text": [
      "INFI: No timezone found, symbol may be delisted\n",
      "404 Client Error: Not Found for url: https://query2.finance.yahoo.com/v10/finance/quoteSummary/INFI?modules=financialData%2CquoteType%2CdefaultKeyStatistics%2CassetProfile%2CsummaryDetail&corsDomain=finance.yahoo.com&formatted=false&symbol=INFI&crumb=KUwSGfMjWIw\n"
     ]
    },
    {
     "name": "stdout",
     "output_type": "stream",
     "text": [
      "3716. INFN\n",
      "3717. INFO\n"
     ]
    },
    {
     "name": "stderr",
     "output_type": "stream",
     "text": [
      "INFO: No timezone found, symbol may be delisted\n"
     ]
    },
    {
     "name": "stdout",
     "output_type": "stream",
     "text": [
      "3718. INFR\n",
      "3719. INFU\n",
      "3720. INFY\n",
      "3721. ING\n",
      "3722. INGN\n",
      "3723. INGR\n",
      "3724. INKM\n",
      "3725. INMB\n",
      "3726. INMD\n",
      "3727. INN\n",
      "3728. INNT\n"
     ]
    },
    {
     "name": "stderr",
     "output_type": "stream",
     "text": [
      "INNT: No timezone found, symbol may be delisted\n"
     ]
    },
    {
     "name": "stdout",
     "output_type": "stream",
     "text": [
      "3729. INO\n",
      "3730. INOD\n",
      "3731. INOV\n",
      "3732. INPX\n",
      "3733. INS\n"
     ]
    },
    {
     "name": "stderr",
     "output_type": "stream",
     "text": [
      "INS: No timezone found, symbol may be delisted\n"
     ]
    },
    {
     "name": "stdout",
     "output_type": "stream",
     "text": [
      "3734. INSE\n",
      "3735. INSG\n",
      "3736. INSI\n",
      "3737. INSM\n",
      "3738. INSP\n",
      "3739. INSU\n"
     ]
    },
    {
     "name": "stderr",
     "output_type": "stream",
     "text": [
      "INSU: No timezone found, symbol may be delisted\n"
     ]
    },
    {
     "name": "stdout",
     "output_type": "stream",
     "text": [
      "3740. INSUU\n"
     ]
    },
    {
     "name": "stderr",
     "output_type": "stream",
     "text": [
      "INSUU: No timezone found, symbol may be delisted\n"
     ]
    },
    {
     "name": "stdout",
     "output_type": "stream",
     "text": [
      "3741. INSW\n",
      "3742. INT\n"
     ]
    },
    {
     "name": "stderr",
     "output_type": "stream",
     "text": [
      "INT: No timezone found, symbol may be delisted\n"
     ]
    },
    {
     "name": "stdout",
     "output_type": "stream",
     "text": [
      "3743. INTC\n",
      "3744. INTF\n",
      "3745. INTG\n",
      "3746. INTL\n",
      "3747. INTT\n",
      "3748. INTU\n",
      "3749. INUV\n",
      "3750. INVA\n",
      "3751. INVE\n",
      "3752. INVH\n",
      "3753. INWK\n"
     ]
    },
    {
     "name": "stderr",
     "output_type": "stream",
     "text": [
      "INWK: No timezone found, symbol may be delisted\n"
     ]
    },
    {
     "name": "stdout",
     "output_type": "stream",
     "text": [
      "3754. IO\n"
     ]
    },
    {
     "name": "stderr",
     "output_type": "stream",
     "text": [
      "IO: No timezone found, symbol may be delisted\n"
     ]
    },
    {
     "name": "stdout",
     "output_type": "stream",
     "text": [
      "3755. IONS\n",
      "3756. IOO\n",
      "3757. IOR\n",
      "3758. IOSP\n",
      "3759. IOTS\n"
     ]
    },
    {
     "name": "stderr",
     "output_type": "stream",
     "text": [
      "IOTS: No timezone found, symbol may be delisted\n"
     ]
    },
    {
     "name": "stdout",
     "output_type": "stream",
     "text": [
      "3760. IOVA\n",
      "3761. IP\n",
      "3762. IPAC\n",
      "3763. IPAR\n",
      "3764. IPAY\n",
      "3765. IPB\n",
      "3766. IPDN\n",
      "3767. IPFF\n"
     ]
    },
    {
     "name": "stderr",
     "output_type": "stream",
     "text": [
      "IPFF: No price data found, symbol may be delisted (1d 2023-01-01 -> 2024-01-01)\n"
     ]
    },
    {
     "name": "stdout",
     "output_type": "stream",
     "text": [
      "3768. IPG\n",
      "3769. IPGP\n",
      "3770. IPHA\n",
      "3771. IPHI\n"
     ]
    },
    {
     "name": "stderr",
     "output_type": "stream",
     "text": [
      "IPHI: No timezone found, symbol may be delisted\n"
     ]
    },
    {
     "name": "stdout",
     "output_type": "stream",
     "text": [
      "3772. IPI\n",
      "3773. IPKW\n",
      "3774. IPLDP\n"
     ]
    },
    {
     "name": "stderr",
     "output_type": "stream",
     "text": [
      "IPLDP: No timezone found, symbol may be delisted\n"
     ]
    },
    {
     "name": "stdout",
     "output_type": "stream",
     "text": [
      "3775. IPO\n",
      "3776. IPOS\n",
      "3777. IPV\n"
     ]
    },
    {
     "name": "stderr",
     "output_type": "stream",
     "text": [
      "IPV: No timezone found, symbol may be delisted\n"
     ]
    },
    {
     "name": "stdout",
     "output_type": "stream",
     "text": [
      "3778. IPWR\n",
      "3779. IQ\n",
      "3780. IQDE\n",
      "3781. IQDF\n",
      "3782. IQDG\n",
      "3783. IQDY\n",
      "3784. IQI\n",
      "3785. IQIN\n",
      "3786. IQLT\n",
      "3787. IQM\n",
      "3788. IQSI\n",
      "3789. IQSU\n",
      "3790. IQV\n",
      "3791. IR\n",
      "3792. IRBO\n",
      "3793. IRBT\n",
      "3794. IRCP\n"
     ]
    },
    {
     "name": "stderr",
     "output_type": "stream",
     "text": [
      "IRCP: No timezone found, symbol may be delisted\n"
     ]
    },
    {
     "name": "stdout",
     "output_type": "stream",
     "text": [
      "3795. IRDM\n",
      "3796. IRET\n"
     ]
    },
    {
     "name": "stderr",
     "output_type": "stream",
     "text": [
      "IRET: No timezone found, symbol may be delisted\n"
     ]
    },
    {
     "name": "stdout",
     "output_type": "stream",
     "text": [
      "3797. IRIX\n",
      "3798. IRL\n"
     ]
    },
    {
     "name": "stderr",
     "output_type": "stream",
     "text": [
      "IRL: No timezone found, symbol may be delisted\n",
      "404 Client Error: Not Found for url: https://query2.finance.yahoo.com/v10/finance/quoteSummary/IRL?modules=financialData%2CquoteType%2CdefaultKeyStatistics%2CassetProfile%2CsummaryDetail&corsDomain=finance.yahoo.com&formatted=false&symbol=IRL&crumb=KUwSGfMjWIw\n"
     ]
    },
    {
     "name": "stdout",
     "output_type": "stream",
     "text": [
      "3799. IRM\n",
      "3800. IRMD\n",
      "3801. IROQ\n",
      "3802. IRR\n"
     ]
    },
    {
     "name": "stderr",
     "output_type": "stream",
     "text": [
      "IRR: No timezone found, symbol may be delisted\n"
     ]
    },
    {
     "name": "stdout",
     "output_type": "stream",
     "text": [
      "3803. IRS\n",
      "3804. IRT\n",
      "3805. IRTC\n",
      "3806. IRWD\n",
      "3807. ISBC\n"
     ]
    },
    {
     "name": "stderr",
     "output_type": "stream",
     "text": [
      "ISBC: No timezone found, symbol may be delisted\n"
     ]
    },
    {
     "name": "stdout",
     "output_type": "stream",
     "text": [
      "3808. ISCF\n",
      "3809. ISD\n",
      "3810. ISDR\n",
      "3811. ISDS\n"
     ]
    },
    {
     "name": "stderr",
     "output_type": "stream",
     "text": [
      "ISDS: No price data found, symbol may be delisted (1d 2023-01-01 -> 2024-01-01)\n"
     ]
    },
    {
     "name": "stdout",
     "output_type": "stream",
     "text": [
      "3812. ISDX\n",
      "3813. ISEE\n"
     ]
    },
    {
     "name": "stderr",
     "output_type": "stream",
     "text": [
      "ISEE: No timezone found, symbol may be delisted\n"
     ]
    },
    {
     "name": "stdout",
     "output_type": "stream",
     "text": [
      "3814. ISEM\n",
      "3815. ISHG\n",
      "3816. ISIG\n"
     ]
    },
    {
     "name": "stderr",
     "output_type": "stream",
     "text": [
      "ISIG: No timezone found, symbol may be delisted\n",
      "404 Client Error: Not Found for url: https://query2.finance.yahoo.com/v10/finance/quoteSummary/ISIG?modules=financialData%2CquoteType%2CdefaultKeyStatistics%2CassetProfile%2CsummaryDetail&corsDomain=finance.yahoo.com&formatted=false&symbol=ISIG&crumb=KUwSGfMjWIw\n"
     ]
    },
    {
     "name": "stdout",
     "output_type": "stream",
     "text": [
      "3817. ISMD\n",
      "3818. ISNS\n"
     ]
    },
    {
     "name": "stderr",
     "output_type": "stream",
     "text": [
      "ISNS: No timezone found, symbol may be delisted\n"
     ]
    },
    {
     "name": "stdout",
     "output_type": "stream",
     "text": [
      "3819. ISR\n"
     ]
    },
    {
     "name": "stderr",
     "output_type": "stream",
     "text": [
      "ISR: No timezone found, symbol may be delisted\n"
     ]
    },
    {
     "name": "stdout",
     "output_type": "stream",
     "text": [
      "3820. ISRA\n",
      "3821. ISRG\n",
      "3822. ISSC\n",
      "3823. ISTB\n",
      "3824. ISTR\n",
      "3825. ISZE\n",
      "3826. IT\n",
      "3827. ITA\n",
      "3828. ITB\n",
      "3829. ITCB\n"
     ]
    },
    {
     "name": "stderr",
     "output_type": "stream",
     "text": [
      "ITCB: No timezone found, symbol may be delisted\n"
     ]
    },
    {
     "name": "stdout",
     "output_type": "stream",
     "text": [
      "3830. ITCI\n",
      "3831. ITEQ\n",
      "3832. ITGR\n",
      "3833. ITI\n",
      "3834. ITIC\n",
      "3835. ITM\n",
      "3836. ITMR\n"
     ]
    },
    {
     "name": "stderr",
     "output_type": "stream",
     "text": [
      "ITMR: No timezone found, symbol may be delisted\n"
     ]
    },
    {
     "name": "stdout",
     "output_type": "stream",
     "text": [
      "3837. ITOT\n",
      "3838. ITP\n",
      "3839. ITRI\n",
      "3840. ITRM\n",
      "3841. ITRN\n",
      "3842. ITT\n",
      "3843. ITUB\n",
      "3844. ITW\n",
      "3845. IUS\n",
      "3846. IUSB\n",
      "3847. IUSG\n",
      "3848. IUSS\n",
      "3849. IUSV\n",
      "3850. IVAC\n",
      "3851. IVAL\n",
      "3852. IVC\n"
     ]
    },
    {
     "name": "stderr",
     "output_type": "stream",
     "text": [
      "IVC: No timezone found, symbol may be delisted\n"
     ]
    },
    {
     "name": "stdout",
     "output_type": "stream",
     "text": [
      "3853. IVE\n",
      "3854. IVH\n"
     ]
    },
    {
     "name": "stderr",
     "output_type": "stream",
     "text": [
      "IVH: No timezone found, symbol may be delisted\n",
      "404 Client Error: Not Found for url: https://query2.finance.yahoo.com/v10/finance/quoteSummary/IVH?modules=financialData%2CquoteType%2CdefaultKeyStatistics%2CassetProfile%2CsummaryDetail&corsDomain=finance.yahoo.com&formatted=false&symbol=IVH&crumb=KUwSGfMjWIw\n"
     ]
    },
    {
     "name": "stdout",
     "output_type": "stream",
     "text": [
      "3855. IVLU\n",
      "3856. IVOG\n",
      "3857. IVOL\n",
      "3858. IVOO\n",
      "3859. IVOV\n",
      "3860. IVR\n",
      "3861. IVV\n",
      "3862. IVW\n",
      "3863. IVZ\n",
      "3864. IWB\n",
      "3865. IWC\n",
      "3866. IWD\n",
      "3867. IWF\n",
      "3868. IWL\n",
      "3869. IWM\n",
      "3870. IWN\n",
      "3871. IWO\n",
      "3872. IWP\n",
      "3873. IWR\n",
      "3874. IWS\n",
      "3875. IWV\n",
      "3876. IWX\n",
      "3877. IWY\n",
      "3878. IX\n",
      "3879. IXC\n",
      "3880. IXG\n",
      "3881. IXJ\n",
      "3882. IXN\n",
      "3883. IXP\n",
      "3884. IXSE\n",
      "3885. IXUS\n",
      "3886. IYC\n",
      "3887. IYE\n",
      "3888. IYF\n",
      "3889. IYG\n",
      "3890. IYH\n",
      "3891. IYJ\n",
      "3892. IYK\n",
      "3893. IYLD\n",
      "3894. IYM\n",
      "3895. IYR\n",
      "3896. IYT\n",
      "3897. IYW\n",
      "3898. IYY\n",
      "3899. IYZ\n",
      "3900. IZEA\n",
      "3901. IZRL\n",
      "3902. J\n",
      "3903. JACK\n",
      "3904. JAGG\n",
      "3905. JAGX\n",
      "3906. JAKK\n",
      "3907. JAN\n",
      "3908. JAX\n"
     ]
    },
    {
     "name": "stderr",
     "output_type": "stream",
     "text": [
      "JAX: No timezone found, symbol may be delisted\n"
     ]
    },
    {
     "name": "stdout",
     "output_type": "stream",
     "text": [
      "3909. JAZZ\n",
      "3910. JBGS\n",
      "3911. JBHT\n",
      "3912. JBK\n",
      "3913. JBL\n",
      "3914. JBLU\n",
      "3915. JBN\n"
     ]
    },
    {
     "name": "stderr",
     "output_type": "stream",
     "text": [
      "JBN: No timezone found, symbol may be delisted\n",
      "404 Client Error: Not Found for url: https://query2.finance.yahoo.com/v10/finance/quoteSummary/JBN?modules=financialData%2CquoteType%2CdefaultKeyStatistics%2CassetProfile%2CsummaryDetail&corsDomain=finance.yahoo.com&formatted=false&symbol=JBN&crumb=KUwSGfMjWIw\n"
     ]
    },
    {
     "name": "stdout",
     "output_type": "stream",
     "text": [
      "3916. JBR\n"
     ]
    },
    {
     "name": "stderr",
     "output_type": "stream",
     "text": [
      "JBR: No price data found, symbol may be delisted (1d 2023-01-01 -> 2024-01-01)\n"
     ]
    },
    {
     "name": "stdout",
     "output_type": "stream",
     "text": [
      "3917. JBSS\n",
      "3918. JBT\n",
      "3919. JCAP\n"
     ]
    },
    {
     "name": "stderr",
     "output_type": "stream",
     "text": [
      "JCAP: No timezone found, symbol may be delisted\n"
     ]
    },
    {
     "name": "stdout",
     "output_type": "stream",
     "text": [
      "3920. JCE\n",
      "3921. JCI\n",
      "3922. JCO\n"
     ]
    },
    {
     "name": "stderr",
     "output_type": "stream",
     "text": [
      "JCO: No timezone found, symbol may be delisted\n",
      "404 Client Error: Not Found for url: https://query2.finance.yahoo.com/v10/finance/quoteSummary/JCO?modules=financialData%2CquoteType%2CdefaultKeyStatistics%2CassetProfile%2CsummaryDetail&corsDomain=finance.yahoo.com&formatted=false&symbol=JCO&crumb=KUwSGfMjWIw\n"
     ]
    },
    {
     "name": "stdout",
     "output_type": "stream",
     "text": [
      "3923. JCOM\n"
     ]
    },
    {
     "name": "stderr",
     "output_type": "stream",
     "text": [
      "JCOM: No timezone found, symbol may be delisted\n"
     ]
    },
    {
     "name": "stdout",
     "output_type": "stream",
     "text": [
      "3924. JCP\n"
     ]
    },
    {
     "name": "stderr",
     "output_type": "stream",
     "text": [
      "JCP: No timezone found, symbol may be delisted\n"
     ]
    },
    {
     "name": "stdout",
     "output_type": "stream",
     "text": [
      "3925. JCPB\n",
      "3926. JCS\n"
     ]
    },
    {
     "name": "stderr",
     "output_type": "stream",
     "text": [
      "JCS: No timezone found, symbol may be delisted\n"
     ]
    },
    {
     "name": "stdout",
     "output_type": "stream",
     "text": [
      "3927. JCTCF\n",
      "3928. JD\n",
      "3929. JDD\n"
     ]
    },
    {
     "name": "stderr",
     "output_type": "stream",
     "text": [
      "JDD: No timezone found, symbol may be delisted\n"
     ]
    },
    {
     "name": "stdout",
     "output_type": "stream",
     "text": [
      "3930. JDIV\n"
     ]
    },
    {
     "name": "stderr",
     "output_type": "stream",
     "text": [
      "JDIV: No price data found, symbol may be delisted (1d 2023-01-01 -> 2024-01-01)\n"
     ]
    },
    {
     "name": "stdout",
     "output_type": "stream",
     "text": [
      "3931. JDST\n",
      "3932. JE\n"
     ]
    },
    {
     "name": "stderr",
     "output_type": "stream",
     "text": [
      "JE: No timezone found, symbol may be delisted\n"
     ]
    },
    {
     "name": "stdout",
     "output_type": "stream",
     "text": [
      "3933. JEF\n",
      "3934. JELD\n",
      "3935. JEMD\n"
     ]
    },
    {
     "name": "stderr",
     "output_type": "stream",
     "text": [
      "JEMD: No timezone found, symbol may be delisted\n",
      "404 Client Error: Not Found for url: https://query2.finance.yahoo.com/v10/finance/quoteSummary/JEMD?modules=financialData%2CquoteType%2CdefaultKeyStatistics%2CassetProfile%2CsummaryDetail&corsDomain=finance.yahoo.com&formatted=false&symbol=JEMD&crumb=KUwSGfMjWIw\n"
     ]
    },
    {
     "name": "stdout",
     "output_type": "stream",
     "text": [
      "3936. JEQ\n",
      "3937. JETS\n",
      "3938. JFIN\n",
      "3939. JFK\n"
     ]
    },
    {
     "name": "stderr",
     "output_type": "stream",
     "text": [
      "JFK: No timezone found, symbol may be delisted\n"
     ]
    },
    {
     "name": "stdout",
     "output_type": "stream",
     "text": [
      "3940. JFKKU\n"
     ]
    },
    {
     "name": "stderr",
     "output_type": "stream",
     "text": [
      "JFKKU: No timezone found, symbol may be delisted\n"
     ]
    },
    {
     "name": "stdout",
     "output_type": "stream",
     "text": [
      "3941. JFR\n",
      "3942. JFU\n",
      "3943. JG\n",
      "3944. JGH\n",
      "3945. JHAA\n"
     ]
    },
    {
     "name": "stderr",
     "output_type": "stream",
     "text": [
      "JHAA: No timezone found, symbol may be delisted\n",
      "404 Client Error: Not Found for url: https://query2.finance.yahoo.com/v10/finance/quoteSummary/JHAA?modules=financialData%2CquoteType%2CdefaultKeyStatistics%2CassetProfile%2CsummaryDetail&corsDomain=finance.yahoo.com&formatted=false&symbol=JHAA&crumb=KUwSGfMjWIw\n"
     ]
    },
    {
     "name": "stdout",
     "output_type": "stream",
     "text": [
      "3946. JHB\n"
     ]
    },
    {
     "name": "stderr",
     "output_type": "stream",
     "text": [
      "JHB: No timezone found, symbol may be delisted\n"
     ]
    },
    {
     "name": "stdout",
     "output_type": "stream",
     "text": [
      "3947. JHCS\n"
     ]
    },
    {
     "name": "stderr",
     "output_type": "stream",
     "text": [
      "JHCS: No price data found, symbol may be delisted (1d 2023-01-01 -> 2024-01-01)\n"
     ]
    },
    {
     "name": "stdout",
     "output_type": "stream",
     "text": [
      "3948. JHEM\n",
      "3949. JHG\n",
      "3950. JHI\n",
      "3951. JHMA\n"
     ]
    },
    {
     "name": "stderr",
     "output_type": "stream",
     "text": [
      "JHMA: No price data found, symbol may be delisted (1d 2023-01-01 -> 2024-01-01)\n"
     ]
    },
    {
     "name": "stdout",
     "output_type": "stream",
     "text": [
      "3952. JHMC\n"
     ]
    },
    {
     "name": "stderr",
     "output_type": "stream",
     "text": [
      "JHMC: No price data found, symbol may be delisted (1d 2023-01-01 -> 2024-01-01)\n"
     ]
    },
    {
     "name": "stdout",
     "output_type": "stream",
     "text": [
      "3953. JHMD\n",
      "3954. JHME\n"
     ]
    },
    {
     "name": "stderr",
     "output_type": "stream",
     "text": [
      "JHME: No price data found, symbol may be delisted (1d 2023-01-01 -> 2024-01-01)\n"
     ]
    },
    {
     "name": "stdout",
     "output_type": "stream",
     "text": [
      "3955. JHMF\n"
     ]
    },
    {
     "name": "stderr",
     "output_type": "stream",
     "text": [
      "JHMF: No price data found, symbol may be delisted (1d 2023-01-01 -> 2024-01-01)\n"
     ]
    },
    {
     "name": "stdout",
     "output_type": "stream",
     "text": [
      "3956. JHMH\n"
     ]
    },
    {
     "name": "stderr",
     "output_type": "stream",
     "text": [
      "JHMH: No price data found, symbol may be delisted (1d 2023-01-01 -> 2024-01-01)\n"
     ]
    },
    {
     "name": "stdout",
     "output_type": "stream",
     "text": [
      "3957. JHMI\n"
     ]
    },
    {
     "name": "stderr",
     "output_type": "stream",
     "text": [
      "JHMI: No price data found, symbol may be delisted (1d 2023-01-01 -> 2024-01-01)\n"
     ]
    },
    {
     "name": "stdout",
     "output_type": "stream",
     "text": [
      "3958. JHML\n",
      "3959. JHMM\n",
      "3960. JHMS\n"
     ]
    },
    {
     "name": "stderr",
     "output_type": "stream",
     "text": [
      "JHMS: No price data found, symbol may be delisted (1d 2023-01-01 -> 2024-01-01)\n"
     ]
    },
    {
     "name": "stdout",
     "output_type": "stream",
     "text": [
      "3961. JHMT\n"
     ]
    },
    {
     "name": "stderr",
     "output_type": "stream",
     "text": [
      "JHMT: No price data found, symbol may be delisted (1d 2023-01-01 -> 2024-01-01)\n"
     ]
    },
    {
     "name": "stdout",
     "output_type": "stream",
     "text": [
      "3962. JHMU\n",
      "3963. JHS\n",
      "3964. JHSC\n",
      "3965. JHX\n",
      "3966. JHY\n"
     ]
    },
    {
     "name": "stderr",
     "output_type": "stream",
     "text": [
      "JHY: No timezone found, symbol may be delisted\n"
     ]
    },
    {
     "name": "stdout",
     "output_type": "stream",
     "text": [
      "3967. JIGB\n",
      "3968. JIH\n"
     ]
    },
    {
     "name": "stderr",
     "output_type": "stream",
     "text": [
      "JIH: No timezone found, symbol may be delisted\n"
     ]
    },
    {
     "name": "stdout",
     "output_type": "stream",
     "text": [
      "3969. JILL\n",
      "3970. JJA\n",
      "3971. JJC\n",
      "3972. JJE\n",
      "3973. JJG\n",
      "3974. JJM\n",
      "3975. JJN\n",
      "3976. JJP\n",
      "3977. JJS\n",
      "3978. JJSF\n",
      "3979. JJT\n",
      "3980. JJU\n",
      "3981. JKD\n",
      "3982. JKE\n",
      "3983. JKF\n",
      "3984. JKG\n",
      "3985. JKH\n",
      "3986. JKHY\n",
      "3987. JKI\n",
      "3988. JKJ\n",
      "3989. JKK\n",
      "3990. JKL\n",
      "3991. JKS\n",
      "3992. JLL\n",
      "3993. JLS\n",
      "3994. JMBS\n",
      "3995. JMEI\n"
     ]
    },
    {
     "name": "stderr",
     "output_type": "stream",
     "text": [
      "JMEI: No timezone found, symbol may be delisted\n"
     ]
    },
    {
     "name": "stdout",
     "output_type": "stream",
     "text": [
      "3996. JMF\n"
     ]
    },
    {
     "name": "stderr",
     "output_type": "stream",
     "text": [
      "JMF: No timezone found, symbol may be delisted\n"
     ]
    },
    {
     "name": "stdout",
     "output_type": "stream",
     "text": [
      "3997. JMIA\n",
      "3998. JMIN\n"
     ]
    },
    {
     "name": "stderr",
     "output_type": "stream",
     "text": [
      "JMIN: No price data found, symbol may be delisted (1d 2023-01-01 -> 2024-01-01)\n"
     ]
    },
    {
     "name": "stdout",
     "output_type": "stream",
     "text": [
      "3999. JMLP\n"
     ]
    },
    {
     "name": "stderr",
     "output_type": "stream",
     "text": [
      "JMLP: No timezone found, symbol may be delisted\n"
     ]
    },
    {
     "name": "stdout",
     "output_type": "stream",
     "text": [
      "4000. JMM\n",
      "4001. JMOM\n",
      "4002. JMP\n"
     ]
    },
    {
     "name": "stderr",
     "output_type": "stream",
     "text": [
      "JMP: No timezone found, symbol may be delisted\n"
     ]
    },
    {
     "name": "stdout",
     "output_type": "stream",
     "text": [
      "4003. JMPNL\n"
     ]
    },
    {
     "name": "stderr",
     "output_type": "stream",
     "text": [
      "JMPNL: No price data found, symbol may be delisted (1d 2023-01-01 -> 2024-01-01)\n"
     ]
    },
    {
     "name": "stdout",
     "output_type": "stream",
     "text": [
      "4004. JMPNZ\n"
     ]
    },
    {
     "name": "stderr",
     "output_type": "stream",
     "text": [
      "JMPNZ: No timezone found, symbol may be delisted\n",
      "404 Client Error: Not Found for url: https://query2.finance.yahoo.com/v10/finance/quoteSummary/JMPNZ?modules=financialData%2CquoteType%2CdefaultKeyStatistics%2CassetProfile%2CsummaryDetail&corsDomain=finance.yahoo.com&formatted=false&symbol=JMPNZ&crumb=KUwSGfMjWIw\n"
     ]
    },
    {
     "name": "stdout",
     "output_type": "stream",
     "text": [
      "4005. JMST\n",
      "4006. JMUB\n",
      "4007. JNCE\n"
     ]
    },
    {
     "name": "stderr",
     "output_type": "stream",
     "text": [
      "JNCE: No timezone found, symbol may be delisted\n"
     ]
    },
    {
     "name": "stdout",
     "output_type": "stream",
     "text": [
      "4008. JNJ\n",
      "4009. JNK\n",
      "4010. JNMF\n"
     ]
    },
    {
     "name": "stderr",
     "output_type": "stream",
     "text": [
      "JNMF: No price data found, symbol may be delisted (1d 2023-01-01 -> 2024-01-01)\n"
     ]
    },
    {
     "name": "stdout",
     "output_type": "stream",
     "text": [
      "4011. JNPR\n",
      "4012. JNUG\n",
      "4013. JO\n",
      "4014. JOB\n",
      "4015. JOBS\n"
     ]
    },
    {
     "name": "stderr",
     "output_type": "stream",
     "text": [
      "JOBS: No timezone found, symbol may be delisted\n"
     ]
    },
    {
     "name": "stdout",
     "output_type": "stream",
     "text": [
      "4016. JOE\n",
      "4017. JOF\n",
      "4018. JOUT\n",
      "4019. JOYY\n"
     ]
    },
    {
     "name": "stderr",
     "output_type": "stream",
     "text": [
      "JOYY: No price data found, symbol may be delisted (1d 2023-01-01 -> 2024-01-01)\n"
     ]
    },
    {
     "name": "stdout",
     "output_type": "stream",
     "text": [
      "4020. JP\n"
     ]
    },
    {
     "name": "stderr",
     "output_type": "stream",
     "text": [
      "JP: No timezone found, symbol may be delisted\n"
     ]
    },
    {
     "name": "stdout",
     "output_type": "stream",
     "text": [
      "4021. JPC\n",
      "4022. JPED\n"
     ]
    },
    {
     "name": "stderr",
     "output_type": "stream",
     "text": [
      "JPED: No price data found, symbol may be delisted (1d 2023-01-01 -> 2024-01-01)\n"
     ]
    },
    {
     "name": "stdout",
     "output_type": "stream",
     "text": [
      "4023. JPEM\n",
      "4024. JPEU\n"
     ]
    },
    {
     "name": "stderr",
     "output_type": "stream",
     "text": [
      "JPEU: No price data found, symbol may be delisted (1d 2023-01-01 -> 2024-01-01)\n"
     ]
    },
    {
     "name": "stdout",
     "output_type": "stream",
     "text": [
      "4025. JPGB\n",
      "4026. JPGE\n"
     ]
    },
    {
     "name": "stderr",
     "output_type": "stream",
     "text": [
      "JPGE: No price data found, symbol may be delisted (1d 2023-01-01 -> 2024-01-01)\n"
     ]
    },
    {
     "name": "stdout",
     "output_type": "stream",
     "text": [
      "4027. JPHF\n"
     ]
    },
    {
     "name": "stderr",
     "output_type": "stream",
     "text": [
      "JPHF: No price data found, symbol may be delisted (1d 2023-01-01 -> 2024-01-01)\n"
     ]
    },
    {
     "name": "stdout",
     "output_type": "stream",
     "text": [
      "4028. JPHY\n",
      "4029. JPI\n",
      "4030. JPIN\n",
      "4031. JPLS\n"
     ]
    },
    {
     "name": "stderr",
     "output_type": "stream",
     "text": [
      "JPLS: No price data found, symbol may be delisted (1d 2023-01-01 -> 2024-01-01)\n"
     ]
    },
    {
     "name": "stdout",
     "output_type": "stream",
     "text": [
      "4032. JPM\n",
      "4033. JPMB\n",
      "4034. JPME\n",
      "4035. JPMF\n"
     ]
    },
    {
     "name": "stderr",
     "output_type": "stream",
     "text": [
      "JPMF: No price data found, symbol may be delisted (1d 2023-01-01 -> 2024-01-01)\n"
     ]
    },
    {
     "name": "stdout",
     "output_type": "stream",
     "text": [
      "4036. JPMV\n"
     ]
    },
    {
     "name": "stderr",
     "output_type": "stream",
     "text": [
      "JPMV: No price data found, symbol may be delisted (1d 2023-01-01 -> 2024-01-01)\n"
     ]
    },
    {
     "name": "stdout",
     "output_type": "stream",
     "text": [
      "4037. JPN\n"
     ]
    },
    {
     "name": "stderr",
     "output_type": "stream",
     "text": [
      "JPN: No price data found, symbol may be delisted (1d 2023-01-01 -> 2024-01-01)\n"
     ]
    },
    {
     "name": "stdout",
     "output_type": "stream",
     "text": [
      "4038. JPNL\n"
     ]
    },
    {
     "name": "stderr",
     "output_type": "stream",
     "text": [
      "JPNL: No price data found, symbol may be delisted (1d 2023-01-01 -> 2024-01-01)\n"
     ]
    },
    {
     "name": "stdout",
     "output_type": "stream",
     "text": [
      "4039. JPS\n"
     ]
    },
    {
     "name": "stderr",
     "output_type": "stream",
     "text": [
      "JPS: No timezone found, symbol may be delisted\n",
      "404 Client Error: Not Found for url: https://query2.finance.yahoo.com/v10/finance/quoteSummary/JPS?modules=financialData%2CquoteType%2CdefaultKeyStatistics%2CassetProfile%2CsummaryDetail&corsDomain=finance.yahoo.com&formatted=false&symbol=JPS&crumb=KUwSGfMjWIw\n"
     ]
    },
    {
     "name": "stdout",
     "output_type": "stream",
     "text": [
      "4040. JPSE\n",
      "4041. JPST\n",
      "4042. JPT\n"
     ]
    },
    {
     "name": "stderr",
     "output_type": "stream",
     "text": [
      "JPT: No timezone found, symbol may be delisted\n",
      "404 Client Error: Not Found for url: https://query2.finance.yahoo.com/v10/finance/quoteSummary/JPT?modules=financialData%2CquoteType%2CdefaultKeyStatistics%2CassetProfile%2CsummaryDetail&corsDomain=finance.yahoo.com&formatted=false&symbol=JPT&crumb=KUwSGfMjWIw\n"
     ]
    },
    {
     "name": "stdout",
     "output_type": "stream",
     "text": [
      "4043. JPUS\n",
      "4044. JPXN\n",
      "4045. JQC\n",
      "4046. JQUA\n",
      "4047. JRI\n",
      "4048. JRJC\n"
     ]
    },
    {
     "name": "stderr",
     "output_type": "stream",
     "text": [
      "JRJC: No timezone found, symbol may be delisted\n"
     ]
    },
    {
     "name": "stdout",
     "output_type": "stream",
     "text": [
      "4049. JRO\n"
     ]
    },
    {
     "name": "stderr",
     "output_type": "stream",
     "text": [
      "JRO: No timezone found, symbol may be delisted\n",
      "404 Client Error: Not Found for url: https://query2.finance.yahoo.com/v10/finance/quoteSummary/JRO?modules=financialData%2CquoteType%2CdefaultKeyStatistics%2CassetProfile%2CsummaryDetail&corsDomain=finance.yahoo.com&formatted=false&symbol=JRO&crumb=KUwSGfMjWIw\n"
     ]
    },
    {
     "name": "stdout",
     "output_type": "stream",
     "text": [
      "4050. JRS\n",
      "4051. JRSH\n",
      "4052. JRVR\n",
      "4053. JSD\n"
     ]
    },
    {
     "name": "stderr",
     "output_type": "stream",
     "text": [
      "JSD: No timezone found, symbol may be delisted\n",
      "404 Client Error: Not Found for url: https://query2.finance.yahoo.com/v10/finance/quoteSummary/JSD?modules=financialData%2CquoteType%2CdefaultKeyStatistics%2CassetProfile%2CsummaryDetail&corsDomain=finance.yahoo.com&formatted=false&symbol=JSD&crumb=KUwSGfMjWIw\n"
     ]
    },
    {
     "name": "stdout",
     "output_type": "stream",
     "text": [
      "4054. JSM\n",
      "4055. JSMD\n",
      "4056. JSML\n",
      "4057. JT\n",
      "4058. JTD\n"
     ]
    },
    {
     "name": "stderr",
     "output_type": "stream",
     "text": [
      "JTD: No timezone found, symbol may be delisted\n"
     ]
    },
    {
     "name": "stdout",
     "output_type": "stream",
     "text": [
      "4059. JUST\n",
      "4060. JVA\n",
      "4061. JVAL\n",
      "4062. JWN\n",
      "4063. JXI\n",
      "4064. JYNT\n",
      "4065. K\n",
      "4066. KAI\n",
      "4067. KALA\n",
      "4068. KALL\n",
      "4069. KALU\n",
      "4070. KALV\n",
      "4071. KAMN\n",
      "4072. KAR\n",
      "4073. KARS\n",
      "4074. KB\n",
      "4075. KBA\n",
      "4076. KBAL\n"
     ]
    },
    {
     "name": "stderr",
     "output_type": "stream",
     "text": [
      "KBAL: No timezone found, symbol may be delisted\n"
     ]
    },
    {
     "name": "stdout",
     "output_type": "stream",
     "text": [
      "4077. KBE\n",
      "4078. KBH\n",
      "4079. KBLM\n"
     ]
    },
    {
     "name": "stderr",
     "output_type": "stream",
     "text": [
      "KBLM: No timezone found, symbol may be delisted\n"
     ]
    },
    {
     "name": "stdout",
     "output_type": "stream",
     "text": [
      "4080. KBLMU\n"
     ]
    },
    {
     "name": "stderr",
     "output_type": "stream",
     "text": [
      "KBLMU: No timezone found, symbol may be delisted\n"
     ]
    },
    {
     "name": "stdout",
     "output_type": "stream",
     "text": [
      "4081. KBR\n",
      "4082. KBSF\n"
     ]
    },
    {
     "name": "stderr",
     "output_type": "stream",
     "text": [
      "KBSF: No timezone found, symbol may be delisted\n"
     ]
    },
    {
     "name": "stdout",
     "output_type": "stream",
     "text": [
      "4083. KBWB\n",
      "4084. KBWD\n",
      "4085. KBWP\n",
      "4086. KBWR\n",
      "4087. KBWY\n",
      "4088. KCCB\n",
      "4089. KCE\n",
      "4090. KCNY\n",
      "4091. KDFI\n"
     ]
    },
    {
     "name": "stderr",
     "output_type": "stream",
     "text": [
      "KDFI: No price data found, symbol may be delisted (1d 2023-01-01 -> 2024-01-01)\n"
     ]
    },
    {
     "name": "stdout",
     "output_type": "stream",
     "text": [
      "4092. KDMN\n"
     ]
    },
    {
     "name": "stderr",
     "output_type": "stream",
     "text": [
      "KDMN: No timezone found, symbol may be delisted\n"
     ]
    },
    {
     "name": "stdout",
     "output_type": "stream",
     "text": [
      "4093. KDP\n",
      "4094. KE\n",
      "4095. KELYA\n",
      "4096. KELYB\n",
      "4097. KEM\n",
      "4098. KEMQ\n",
      "4099. KEMX\n",
      "4100. KEN\n",
      "4101. KEP\n",
      "4102. KEQU\n",
      "4103. KERN\n",
      "4104. KEX\n",
      "4105. KEY\n",
      "4106. KEYS\n",
      "4107. KF\n",
      "4108. KFFB\n",
      "4109. KFRC\n",
      "4110. KFS\n",
      "4111. KFY\n",
      "4112. KFYP\n",
      "4113. KGC\n",
      "4114. KGJI\n",
      "4115. KGRN\n",
      "4116. KHC\n",
      "4117. KIDS\n",
      "4118. KIE\n",
      "4119. KIM\n",
      "4120. KIN\n"
     ]
    },
    {
     "name": "stderr",
     "output_type": "stream",
     "text": [
      "KIN: No timezone found, symbol may be delisted\n"
     ]
    },
    {
     "name": "stdout",
     "output_type": "stream",
     "text": [
      "4121. KINS\n",
      "4122. KIO\n",
      "4123. KIQ\n",
      "4124. KIRK\n",
      "4125. KJAN\n",
      "4126. KKR\n",
      "4127. KL\n"
     ]
    },
    {
     "name": "stderr",
     "output_type": "stream",
     "text": [
      "KL: No timezone found, symbol may be delisted\n"
     ]
    },
    {
     "name": "stdout",
     "output_type": "stream",
     "text": [
      "4128. KLAC\n",
      "4129. KLCD\n",
      "4130. KLDO\n",
      "4131. KLDW\n",
      "4132. KLIC\n",
      "4133. KLR\n"
     ]
    },
    {
     "name": "stderr",
     "output_type": "stream",
     "text": [
      "KLR: No timezone found, symbol may be delisted\n",
      "404 Client Error: Not Found for url: https://query2.finance.yahoo.com/v10/finance/quoteSummary/KLR?modules=financialData%2CquoteType%2CdefaultKeyStatistics%2CassetProfile%2CsummaryDetail&corsDomain=finance.yahoo.com&formatted=false&symbol=KLR&crumb=KUwSGfMjWIw\n"
     ]
    },
    {
     "name": "stdout",
     "output_type": "stream",
     "text": [
      "4134. KLXE\n",
      "4135. KMB\n",
      "4136. KMDA\n",
      "4137. KMED\n",
      "4138. KMF\n"
     ]
    },
    {
     "name": "stderr",
     "output_type": "stream",
     "text": [
      "KMF: No timezone found, symbol may be delisted\n",
      "404 Client Error: Not Found for url: https://query2.finance.yahoo.com/v10/finance/quoteSummary/KMF?modules=financialData%2CquoteType%2CdefaultKeyStatistics%2CassetProfile%2CsummaryDetail&corsDomain=finance.yahoo.com&formatted=false&symbol=KMF&crumb=KUwSGfMjWIw\n"
     ]
    },
    {
     "name": "stdout",
     "output_type": "stream",
     "text": [
      "4139. KMI\n",
      "4140. KMPH\n"
     ]
    },
    {
     "name": "stderr",
     "output_type": "stream",
     "text": [
      "KMPH: No timezone found, symbol may be delisted\n"
     ]
    },
    {
     "name": "stdout",
     "output_type": "stream",
     "text": [
      "4141. KMPR\n",
      "4142. KMT\n",
      "4143. KMX\n",
      "4144. KN\n",
      "4145. KNAB\n"
     ]
    },
    {
     "name": "stderr",
     "output_type": "stream",
     "text": [
      "KNAB: No price data found, symbol may be delisted (1d 2023-01-01 -> 2024-01-01)\n"
     ]
    },
    {
     "name": "stdout",
     "output_type": "stream",
     "text": [
      "4146. KNDI\n",
      "4147. KNG\n",
      "4148. KNL\n"
     ]
    },
    {
     "name": "stderr",
     "output_type": "stream",
     "text": [
      "KNL: No timezone found, symbol may be delisted\n"
     ]
    },
    {
     "name": "stdout",
     "output_type": "stream",
     "text": [
      "4149. KNOP\n",
      "4150. KNOW\n"
     ]
    },
    {
     "name": "stderr",
     "output_type": "stream",
     "text": [
      "KNOW: No price data found, symbol may be delisted (1d 2023-01-01 -> 2024-01-01)\n"
     ]
    },
    {
     "name": "stdout",
     "output_type": "stream",
     "text": [
      "4151. KNSA\n",
      "4152. KNSL\n",
      "4153. KNX\n",
      "4154. KO\n",
      "4155. KOCT\n",
      "4156. KOD\n",
      "4157. KODK\n",
      "4158. KOF\n",
      "4159. KOIN\n",
      "4160. KOL\n"
     ]
    },
    {
     "name": "stderr",
     "output_type": "stream",
     "text": [
      "KOL: No price data found, symbol may be delisted (1d 2023-01-01 -> 2024-01-01)\n"
     ]
    },
    {
     "name": "stdout",
     "output_type": "stream",
     "text": [
      "4161. KOLD\n",
      "4162. KOMP\n",
      "4163. KOP\n",
      "4164. KOPN\n",
      "4165. KORP\n",
      "4166. KORU\n",
      "4167. KOS\n",
      "4168. KOSS\n",
      "4169. KPTI\n",
      "4170. KR\n",
      "4171. KRA\n"
     ]
    },
    {
     "name": "stderr",
     "output_type": "stream",
     "text": [
      "KRA: No timezone found, symbol may be delisted\n"
     ]
    },
    {
     "name": "stdout",
     "output_type": "stream",
     "text": [
      "4172. KRC\n",
      "4173. KRE\n",
      "4174. KREF\n",
      "4175. KRG\n",
      "4176. KRKR\n",
      "4177. KRMA\n",
      "4178. KRMD\n",
      "4179. KRNT\n",
      "4180. KRNY\n",
      "4181. KRO\n",
      "4182. KRP\n",
      "4183. KRTX\n",
      "4184. KRUS\n",
      "4185. KRYS\n",
      "4186. KSA\n",
      "4187. KSCD\n",
      "4188. KSM\n",
      "4189. KSS\n",
      "4190. KSU\n"
     ]
    },
    {
     "name": "stderr",
     "output_type": "stream",
     "text": [
      "KSU: No timezone found, symbol may be delisted\n"
     ]
    },
    {
     "name": "stdout",
     "output_type": "stream",
     "text": [
      "4191. KT\n",
      "4192. KTB\n",
      "4193. KTCC\n",
      "4194. KTF\n",
      "4195. KTH\n",
      "4196. KTN\n",
      "4197. KTOS\n",
      "4198. KTOV\n"
     ]
    },
    {
     "name": "stderr",
     "output_type": "stream",
     "text": [
      "KTOV: No timezone found, symbol may be delisted\n"
     ]
    },
    {
     "name": "stdout",
     "output_type": "stream",
     "text": [
      "4199. KTP\n"
     ]
    },
    {
     "name": "stderr",
     "output_type": "stream",
     "text": [
      "KTP: No timezone found, symbol may be delisted\n"
     ]
    },
    {
     "name": "stdout",
     "output_type": "stream",
     "text": [
      "4200. KURA\n",
      "4201. KURE\n",
      "4202. KVHI\n",
      "4203. KW\n",
      "4204. KWEB\n",
      "4205. KWR\n",
      "4206. KXI\n",
      "4207. KXIN\n",
      "4208. KYN\n",
      "4209. KZIA\n",
      "4210. KZR\n",
      "4211. L\n",
      "4212. LABD\n",
      "4213. LABU\n",
      "4214. LAC\n",
      "4215. LACK\n"
     ]
    },
    {
     "name": "stderr",
     "output_type": "stream",
     "text": [
      "LACK: No price data found, symbol may be delisted (1d 2023-01-01 -> 2024-01-01)\n"
     ]
    },
    {
     "name": "stdout",
     "output_type": "stream",
     "text": [
      "4216. LACQ\n"
     ]
    },
    {
     "name": "stderr",
     "output_type": "stream",
     "text": [
      "LACQ: No timezone found, symbol may be delisted\n"
     ]
    },
    {
     "name": "stdout",
     "output_type": "stream",
     "text": [
      "4217. LACQU\n"
     ]
    },
    {
     "name": "stderr",
     "output_type": "stream",
     "text": [
      "LACQU: No timezone found, symbol may be delisted\n"
     ]
    },
    {
     "name": "stdout",
     "output_type": "stream",
     "text": [
      "4218. LAD\n",
      "4219. LADR\n",
      "4220. LAIX\n"
     ]
    },
    {
     "name": "stderr",
     "output_type": "stream",
     "text": [
      "LAIX: No timezone found, symbol may be delisted\n"
     ]
    },
    {
     "name": "stdout",
     "output_type": "stream",
     "text": [
      "4221. LAKE\n",
      "4222. LAMR\n",
      "4223. LANC\n",
      "4224. LAND\n",
      "4225. LANDP\n",
      "4226. LARK\n",
      "4227. LASR\n",
      "4228. LATNU\n"
     ]
    },
    {
     "name": "stderr",
     "output_type": "stream",
     "text": [
      "LATNU: No timezone found, symbol may be delisted\n"
     ]
    },
    {
     "name": "stdout",
     "output_type": "stream",
     "text": [
      "4229. LAUR\n",
      "4230. LAWS\n"
     ]
    },
    {
     "name": "stderr",
     "output_type": "stream",
     "text": [
      "LAWS: No timezone found, symbol may be delisted\n"
     ]
    },
    {
     "name": "stdout",
     "output_type": "stream",
     "text": [
      "4231. LAZ\n",
      "4232. LAZY\n",
      "4233. LB\n"
     ]
    },
    {
     "name": "stderr",
     "output_type": "stream",
     "text": [
      "LB: No timezone found, symbol may be delisted\n"
     ]
    },
    {
     "name": "stdout",
     "output_type": "stream",
     "text": [
      "4234. LBAI\n",
      "4235. LBC\n",
      "4236. LBJ\n"
     ]
    },
    {
     "name": "stderr",
     "output_type": "stream",
     "text": [
      "LBJ: No price data found, symbol may be delisted (1d 2023-01-01 -> 2024-01-01)\n"
     ]
    },
    {
     "name": "stdout",
     "output_type": "stream",
     "text": [
      "4237. LBRDA\n",
      "4238. LBRDK\n",
      "4239. LBRT\n",
      "4240. LBTYA\n",
      "4241. LBTYB\n",
      "4242. LBTYK\n",
      "4243. LBY\n"
     ]
    },
    {
     "name": "stderr",
     "output_type": "stream",
     "text": [
      "LBY: No timezone found, symbol may be delisted\n"
     ]
    },
    {
     "name": "stdout",
     "output_type": "stream",
     "text": [
      "4244. LC\n",
      "4245. LCA\n",
      "4246. LCAHU\n",
      "4247. LCI\n"
     ]
    },
    {
     "name": "stderr",
     "output_type": "stream",
     "text": [
      "LCI: No timezone found, symbol may be delisted\n"
     ]
    },
    {
     "name": "stdout",
     "output_type": "stream",
     "text": [
      "4248. LCII\n",
      "4249. LCNB\n",
      "4250. LCR\n",
      "4251. LCTX\n",
      "4252. LCUT\n",
      "4253. LD\n",
      "4254. LDEM\n",
      "4255. LDL\n"
     ]
    },
    {
     "name": "stderr",
     "output_type": "stream",
     "text": [
      "LDL: No timezone found, symbol may be delisted\n"
     ]
    },
    {
     "name": "stdout",
     "output_type": "stream",
     "text": [
      "4256. LDOS\n",
      "4257. LDP\n",
      "4258. LDRS\n"
     ]
    },
    {
     "name": "stderr",
     "output_type": "stream",
     "text": [
      "LDRS: No price data found, symbol may be delisted (1d 2023-01-01 -> 2024-01-01)\n"
     ]
    },
    {
     "name": "stdout",
     "output_type": "stream",
     "text": [
      "4259. LDSF\n",
      "4260. LDUR\n",
      "4261. LE\n",
      "4262. LEA\n",
      "4263. LEAD\n",
      "4264. LEAF\n"
     ]
    },
    {
     "name": "stderr",
     "output_type": "stream",
     "text": [
      "LEAF: No timezone found, symbol may be delisted\n"
     ]
    },
    {
     "name": "stdout",
     "output_type": "stream",
     "text": [
      "4265. LECO\n",
      "4266. LEDS\n",
      "4267. LEE\n",
      "4268. LEG\n",
      "4269. LEGH\n",
      "4270. LEGR\n",
      "4271. LEJU\n",
      "4272. LEMB\n",
      "4273. LEN\n",
      "4274. LEND\n"
     ]
    },
    {
     "name": "stderr",
     "output_type": "stream",
     "text": [
      "LEND: No price data found, symbol may be delisted (1d 2023-01-01 -> 2024-01-01)\n"
     ]
    },
    {
     "name": "stdout",
     "output_type": "stream",
     "text": [
      "4275. LEO\n",
      "4276. LEU\n",
      "4277. LEVI\n",
      "4278. LEVL\n"
     ]
    },
    {
     "name": "stderr",
     "output_type": "stream",
     "text": [
      "LEVL: No timezone found, symbol may be delisted\n"
     ]
    },
    {
     "name": "stdout",
     "output_type": "stream",
     "text": [
      "4279. LFAC\n"
     ]
    },
    {
     "name": "stderr",
     "output_type": "stream",
     "text": [
      "LFAC: No timezone found, symbol may be delisted\n",
      "404 Client Error: Not Found for url: https://query2.finance.yahoo.com/v10/finance/quoteSummary/LFAC?modules=financialData%2CquoteType%2CdefaultKeyStatistics%2CassetProfile%2CsummaryDetail&corsDomain=finance.yahoo.com&formatted=false&symbol=LFAC&crumb=KUwSGfMjWIw\n"
     ]
    },
    {
     "name": "stdout",
     "output_type": "stream",
     "text": [
      "4280. LFACU\n"
     ]
    },
    {
     "name": "stderr",
     "output_type": "stream",
     "text": [
      "LFACU: No timezone found, symbol may be delisted\n",
      "404 Client Error: Not Found for url: https://query2.finance.yahoo.com/v10/finance/quoteSummary/LFACU?modules=financialData%2CquoteType%2CdefaultKeyStatistics%2CassetProfile%2CsummaryDetail&corsDomain=finance.yahoo.com&formatted=false&symbol=LFACU&crumb=KUwSGfMjWIw\n"
     ]
    },
    {
     "name": "stdout",
     "output_type": "stream",
     "text": [
      "4281. LFC\n"
     ]
    },
    {
     "name": "stderr",
     "output_type": "stream",
     "text": [
      "LFC: No timezone found, symbol may be delisted\n"
     ]
    },
    {
     "name": "stdout",
     "output_type": "stream",
     "text": [
      "4282. LFEQ\n",
      "4283. LFUS\n",
      "4284. LFVN\n",
      "4285. LGC\n"
     ]
    },
    {
     "name": "stderr",
     "output_type": "stream",
     "text": [
      "LGC: No timezone found, symbol may be delisted\n"
     ]
    },
    {
     "name": "stdout",
     "output_type": "stream",
     "text": [
      "4286. LGF.B\n"
     ]
    },
    {
     "name": "stderr",
     "output_type": "stream",
     "text": [
      "LGF.B: No price data found, symbol may be delisted (1d 2023-01-01 -> 2024-01-01)\n"
     ]
    },
    {
     "name": "stdout",
     "output_type": "stream",
     "text": [
      "4287. LGH\n",
      "4288. LGI\n",
      "4289. LGIH\n",
      "4290. LGL\n",
      "4291. LGLV\n",
      "4292. LGND\n",
      "4293. LGOV\n",
      "4294. LH\n",
      "4295. LHC\n",
      "4296. LHCG\n"
     ]
    },
    {
     "name": "stderr",
     "output_type": "stream",
     "text": [
      "LHCG: No timezone found, symbol may be delisted\n"
     ]
    },
    {
     "name": "stdout",
     "output_type": "stream",
     "text": [
      "4297. LHX\n",
      "4298. LIFE\n",
      "4299. LII\n",
      "4300. LILA\n",
      "4301. LILAK\n",
      "4302. LIN\n",
      "4303. LINC\n",
      "4304. LIND\n",
      "4305. LINX\n"
     ]
    },
    {
     "name": "stderr",
     "output_type": "stream",
     "text": [
      "LINX: No timezone found, symbol may be delisted\n"
     ]
    },
    {
     "name": "stdout",
     "output_type": "stream",
     "text": [
      "4306. LIQT\n",
      "4307. LIT\n",
      "4308. LITB\n",
      "4309. LITE\n",
      "4310. LIVE\n",
      "4311. LIVK\n"
     ]
    },
    {
     "name": "stderr",
     "output_type": "stream",
     "text": [
      "LIVK: No timezone found, symbol may be delisted\n"
     ]
    },
    {
     "name": "stdout",
     "output_type": "stream",
     "text": [
      "4312. LIVKU\n"
     ]
    },
    {
     "name": "stderr",
     "output_type": "stream",
     "text": [
      "LIVKU: No timezone found, symbol may be delisted\n"
     ]
    },
    {
     "name": "stdout",
     "output_type": "stream",
     "text": [
      "4313. LIVN\n",
      "4314. LIVX\n"
     ]
    },
    {
     "name": "stderr",
     "output_type": "stream",
     "text": [
      "LIVX: No timezone found, symbol may be delisted\n"
     ]
    },
    {
     "name": "stdout",
     "output_type": "stream",
     "text": [
      "4315. LIZI\n",
      "4316. LJPC\n"
     ]
    },
    {
     "name": "stderr",
     "output_type": "stream",
     "text": [
      "LJPC: No timezone found, symbol may be delisted\n"
     ]
    },
    {
     "name": "stdout",
     "output_type": "stream",
     "text": [
      "4317. LK\n"
     ]
    },
    {
     "name": "stderr",
     "output_type": "stream",
     "text": [
      "LK: No timezone found, symbol may be delisted\n"
     ]
    },
    {
     "name": "stdout",
     "output_type": "stream",
     "text": [
      "4318. LKCO\n",
      "4319. LKFN\n",
      "4320. LKOR\n",
      "4321. LKQ\n",
      "4322. LL\n",
      "4323. LLEX\n"
     ]
    },
    {
     "name": "stderr",
     "output_type": "stream",
     "text": [
      "LLEX: No timezone found, symbol may be delisted\n"
     ]
    },
    {
     "name": "stdout",
     "output_type": "stream",
     "text": [
      "4324. LLIT\n"
     ]
    },
    {
     "name": "stderr",
     "output_type": "stream",
     "text": [
      "LLIT: No timezone found, symbol may be delisted\n"
     ]
    },
    {
     "name": "stdout",
     "output_type": "stream",
     "text": [
      "4325. LLNW\n"
     ]
    },
    {
     "name": "stderr",
     "output_type": "stream",
     "text": [
      "LLNW: No timezone found, symbol may be delisted\n"
     ]
    },
    {
     "name": "stdout",
     "output_type": "stream",
     "text": [
      "4326. LLY\n",
      "4327. LM\n"
     ]
    },
    {
     "name": "stderr",
     "output_type": "stream",
     "text": [
      "LM: No timezone found, symbol may be delisted\n"
     ]
    },
    {
     "name": "stdout",
     "output_type": "stream",
     "text": [
      "4328. LMAT\n",
      "4329. LMB\n",
      "4330. LMBS\n",
      "4331. LMFA\n",
      "4332. LMHA\n"
     ]
    },
    {
     "name": "stderr",
     "output_type": "stream",
     "text": [
      "LMHA: No price data found, symbol may be delisted (1d 2023-01-01 -> 2024-01-01)\n"
     ]
    },
    {
     "name": "stdout",
     "output_type": "stream",
     "text": [
      "4333. LMHB\n"
     ]
    },
    {
     "name": "stderr",
     "output_type": "stream",
     "text": [
      "LMHB: No price data found, symbol may be delisted (1d 2023-01-01 -> 2024-01-01)\n"
     ]
    },
    {
     "name": "stdout",
     "output_type": "stream",
     "text": [
      "4334. LMLB\n"
     ]
    },
    {
     "name": "stderr",
     "output_type": "stream",
     "text": [
      "LMLB: No price data found, symbol may be delisted (1d 2023-01-01 -> 2024-01-01)\n"
     ]
    },
    {
     "name": "stdout",
     "output_type": "stream",
     "text": [
      "4335. LMNL\n"
     ]
    },
    {
     "name": "stderr",
     "output_type": "stream",
     "text": [
      "LMNL: No timezone found, symbol may be delisted\n",
      "404 Client Error: Not Found for url: https://query2.finance.yahoo.com/v10/finance/quoteSummary/LMNL?modules=financialData%2CquoteType%2CdefaultKeyStatistics%2CassetProfile%2CsummaryDetail&corsDomain=finance.yahoo.com&formatted=false&symbol=LMNL&crumb=KUwSGfMjWIw\n"
     ]
    },
    {
     "name": "stdout",
     "output_type": "stream",
     "text": [
      "4336. LMNR\n",
      "4337. LMNX\n"
     ]
    },
    {
     "name": "stderr",
     "output_type": "stream",
     "text": [
      "LMNX: No timezone found, symbol may be delisted\n"
     ]
    },
    {
     "name": "stdout",
     "output_type": "stream",
     "text": [
      "4338. LMPX\n",
      "4339. LMRK\n"
     ]
    },
    {
     "name": "stderr",
     "output_type": "stream",
     "text": [
      "LMRK: No timezone found, symbol may be delisted\n"
     ]
    },
    {
     "name": "stdout",
     "output_type": "stream",
     "text": [
      "4340. LMRKN\n"
     ]
    },
    {
     "name": "stderr",
     "output_type": "stream",
     "text": [
      "LMRKN: No timezone found, symbol may be delisted\n"
     ]
    },
    {
     "name": "stdout",
     "output_type": "stream",
     "text": [
      "4341. LMRKO\n"
     ]
    },
    {
     "name": "stderr",
     "output_type": "stream",
     "text": [
      "LMRKO: No timezone found, symbol may be delisted\n"
     ]
    },
    {
     "name": "stdout",
     "output_type": "stream",
     "text": [
      "4342. LMRKP\n"
     ]
    },
    {
     "name": "stderr",
     "output_type": "stream",
     "text": [
      "LMRKP: No timezone found, symbol may be delisted\n"
     ]
    },
    {
     "name": "stdout",
     "output_type": "stream",
     "text": [
      "4343. LMST\n"
     ]
    },
    {
     "name": "stderr",
     "output_type": "stream",
     "text": [
      "LMST: No timezone found, symbol may be delisted\n"
     ]
    },
    {
     "name": "stdout",
     "output_type": "stream",
     "text": [
      "4344. LMT\n",
      "4345. LN\n"
     ]
    },
    {
     "name": "stderr",
     "output_type": "stream",
     "text": [
      "LN: No timezone found, symbol may be delisted\n"
     ]
    },
    {
     "name": "stdout",
     "output_type": "stream",
     "text": [
      "4346. LNC\n",
      "4347. LND\n",
      "4348. LNDC\n"
     ]
    },
    {
     "name": "stderr",
     "output_type": "stream",
     "text": [
      "LNDC: No timezone found, symbol may be delisted\n"
     ]
    },
    {
     "name": "stdout",
     "output_type": "stream",
     "text": [
      "4349. LNG\n",
      "4350. LNGR\n",
      "4351. LNN\n",
      "4352. LNT\n",
      "4353. LNTH\n",
      "4354. LOAC\n"
     ]
    },
    {
     "name": "stderr",
     "output_type": "stream",
     "text": [
      "LOAC: No timezone found, symbol may be delisted\n"
     ]
    },
    {
     "name": "stdout",
     "output_type": "stream",
     "text": [
      "4355. LOACU\n"
     ]
    },
    {
     "name": "stderr",
     "output_type": "stream",
     "text": [
      "LOACU: No timezone found, symbol may be delisted\n"
     ]
    },
    {
     "name": "stdout",
     "output_type": "stream",
     "text": [
      "4356. LOAN\n",
      "4357. LOB\n",
      "4358. LOCO\n",
      "4359. LODE\n",
      "4360. LOGC\n"
     ]
    },
    {
     "name": "stderr",
     "output_type": "stream",
     "text": [
      "LOGC: No timezone found, symbol may be delisted\n"
     ]
    },
    {
     "name": "stdout",
     "output_type": "stream",
     "text": [
      "4361. LOGI\n",
      "4362. LOGM\n"
     ]
    },
    {
     "name": "stderr",
     "output_type": "stream",
     "text": [
      "LOGM: No timezone found, symbol may be delisted\n"
     ]
    },
    {
     "name": "stdout",
     "output_type": "stream",
     "text": [
      "4363. LOMA\n",
      "4364. LONE\n"
     ]
    },
    {
     "name": "stderr",
     "output_type": "stream",
     "text": [
      "LONE: No timezone found, symbol may be delisted\n"
     ]
    },
    {
     "name": "stdout",
     "output_type": "stream",
     "text": [
      "4365. LOOP\n",
      "4366. LOPE\n",
      "4367. LORL\n"
     ]
    },
    {
     "name": "stderr",
     "output_type": "stream",
     "text": [
      "LORL: No timezone found, symbol may be delisted\n"
     ]
    },
    {
     "name": "stdout",
     "output_type": "stream",
     "text": [
      "4368. LOUP\n",
      "4369. LOV\n"
     ]
    },
    {
     "name": "stderr",
     "output_type": "stream",
     "text": [
      "LOV: No timezone found, symbol may be delisted\n",
      "404 Client Error: Not Found for url: https://query2.finance.yahoo.com/v10/finance/quoteSummary/LOV?modules=financialData%2CquoteType%2CdefaultKeyStatistics%2CassetProfile%2CsummaryDetail&corsDomain=finance.yahoo.com&formatted=false&symbol=LOV&crumb=KUwSGfMjWIw\n"
     ]
    },
    {
     "name": "stdout",
     "output_type": "stream",
     "text": [
      "4370. LOVE\n",
      "4371. LOW\n",
      "4372. LOWC\n",
      "4373. LPCN\n",
      "4374. LPG\n",
      "4375. LPI\n"
     ]
    },
    {
     "name": "stderr",
     "output_type": "stream",
     "text": [
      "LPI: No timezone found, symbol may be delisted\n"
     ]
    },
    {
     "name": "stdout",
     "output_type": "stream",
     "text": [
      "4376. LPL\n",
      "4377. LPLA\n",
      "4378. LPSN\n",
      "4379. LPTH\n",
      "4380. LPTX\n",
      "4381. LPX\n",
      "4382. LQD\n",
      "4383. LQDA\n",
      "4384. LQDH\n",
      "4385. LQDI\n",
      "4386. LQDT\n",
      "4387. LRCX\n",
      "4388. LRGE\n",
      "4389. LRGF\n",
      "4390. LRN\n",
      "4391. LRNZ\n",
      "4392. LSAF\n",
      "4393. LSBK\n",
      "4394. LSCC\n",
      "4395. LSI\n"
     ]
    },
    {
     "name": "stderr",
     "output_type": "stream",
     "text": [
      "LSI: No timezone found, symbol may be delisted\n",
      "404 Client Error: Not Found for url: https://query2.finance.yahoo.com/v10/finance/quoteSummary/LSI?modules=financialData%2CquoteType%2CdefaultKeyStatistics%2CassetProfile%2CsummaryDetail&corsDomain=finance.yahoo.com&formatted=false&symbol=LSI&crumb=KUwSGfMjWIw\n"
     ]
    },
    {
     "name": "stdout",
     "output_type": "stream",
     "text": [
      "4396. LSLT\n"
     ]
    },
    {
     "name": "stderr",
     "output_type": "stream",
     "text": [
      "LSLT: No price data found, symbol may be delisted (1d 2023-01-01 -> 2024-01-01)\n"
     ]
    },
    {
     "name": "stdout",
     "output_type": "stream",
     "text": [
      "4397. LSST\n",
      "4398. LSTR\n",
      "4399. LSXMA\n",
      "4400. LSXMB\n",
      "4401. LSXMK\n",
      "4402. LTBR\n",
      "4403. LTC\n",
      "4404. LTHM\n",
      "4405. LTL\n",
      "4406. LTM\n"
     ]
    },
    {
     "name": "stderr",
     "output_type": "stream",
     "text": [
      "LTM: No timezone found, symbol may be delisted\n"
     ]
    },
    {
     "name": "stdout",
     "output_type": "stream",
     "text": [
      "4407. LTPZ\n",
      "4408. LTRPA\n",
      "4409. LTRPB\n",
      "4410. LTRX\n",
      "4411. LUB\n"
     ]
    },
    {
     "name": "stderr",
     "output_type": "stream",
     "text": [
      "LUB: No timezone found, symbol may be delisted\n"
     ]
    },
    {
     "name": "stdout",
     "output_type": "stream",
     "text": [
      "4412. LULU\n",
      "4413. LUMO\n",
      "4414. LUNA\n",
      "4415. LUV\n",
      "4416. LVGO\n"
     ]
    },
    {
     "name": "stderr",
     "output_type": "stream",
     "text": [
      "LVGO: No timezone found, symbol may be delisted\n"
     ]
    },
    {
     "name": "stdout",
     "output_type": "stream",
     "text": [
      "4417. LVHB\n",
      "4418. LVHD\n",
      "4419. LVHE\n"
     ]
    },
    {
     "name": "stderr",
     "output_type": "stream",
     "text": [
      "LVHE: No price data found, symbol may be delisted (1d 2023-01-01 -> 2024-01-01)\n"
     ]
    },
    {
     "name": "stdout",
     "output_type": "stream",
     "text": [
      "4420. LVHI\n",
      "4421. LVS\n",
      "4422. LVUS\n"
     ]
    },
    {
     "name": "stderr",
     "output_type": "stream",
     "text": [
      "LVUS: No price data found, symbol may be delisted (1d 2023-01-01 -> 2024-01-01)\n"
     ]
    },
    {
     "name": "stdout",
     "output_type": "stream",
     "text": [
      "4423. LW\n",
      "4424. LWAY\n",
      "4425. LXFR\n",
      "4426. LXP\n",
      "4427. LXRX\n",
      "4428. LXU\n",
      "4429. LYB\n",
      "4430. LYFT\n",
      "4431. LYG\n",
      "4432. LYL\n"
     ]
    },
    {
     "name": "stderr",
     "output_type": "stream",
     "text": [
      "LYL: No timezone found, symbol may be delisted\n"
     ]
    },
    {
     "name": "stdout",
     "output_type": "stream",
     "text": [
      "4433. LYTS\n",
      "4434. LYV\n",
      "4435. LZB\n",
      "4436. M\n",
      "4437. MA\n",
      "4438. MAA\n",
      "4439. MAAX\n",
      "4440. MAC\n",
      "4441. MACK\n",
      "4442. MAG\n",
      "4443. MAGA\n",
      "4444. MAGS\n",
      "4445. MAIN\n",
      "4446. MAN\n",
      "4447. MANH\n",
      "4448. MANT\n"
     ]
    },
    {
     "name": "stderr",
     "output_type": "stream",
     "text": [
      "MANT: No timezone found, symbol may be delisted\n"
     ]
    },
    {
     "name": "stdout",
     "output_type": "stream",
     "text": [
      "4449. MANU\n",
      "4450. MAR\n",
      "4451. MARA\n",
      "4452. MARB\n",
      "4453. MARK\n",
      "4454. MARPS\n",
      "4455. MAS\n",
      "4456. MASI\n",
      "4457. MAT\n",
      "4458. MATW\n",
      "4459. MATX\n",
      "4460. MAV\n",
      "4461. MAXR\n"
     ]
    },
    {
     "name": "stderr",
     "output_type": "stream",
     "text": [
      "MAXR: No timezone found, symbol may be delisted\n"
     ]
    },
    {
     "name": "stdout",
     "output_type": "stream",
     "text": [
      "4462. MAYS\n",
      "4463. MBB\n",
      "4464. MBCN\n",
      "4465. MBI\n",
      "4466. MBII\n"
     ]
    },
    {
     "name": "stderr",
     "output_type": "stream",
     "text": [
      "MBII: No timezone found, symbol may be delisted\n"
     ]
    },
    {
     "name": "stdout",
     "output_type": "stream",
     "text": [
      "4467. MBIN\n",
      "4468. MBINO\n",
      "4469. MBINP\n",
      "4470. MBIO\n",
      "4471. MBNKP\n",
      "4472. MBOT\n",
      "4473. MBRX\n",
      "4474. MBSD\n",
      "4475. MBT\n"
     ]
    },
    {
     "name": "stderr",
     "output_type": "stream",
     "text": [
      "MBT: No timezone found, symbol may be delisted\n"
     ]
    },
    {
     "name": "stdout",
     "output_type": "stream",
     "text": [
      "4476. MBUU\n",
      "4477. MBWM\n",
      "4478. MC\n",
      "4479. MCA\n"
     ]
    },
    {
     "name": "stderr",
     "output_type": "stream",
     "text": [
      "MCA: No timezone found, symbol may be delisted\n",
      "404 Client Error: Not Found for url: https://query2.finance.yahoo.com/v10/finance/quoteSummary/MCA?modules=financialData%2CquoteType%2CdefaultKeyStatistics%2CassetProfile%2CsummaryDetail&corsDomain=finance.yahoo.com&formatted=false&symbol=MCA&crumb=KUwSGfMjWIw\n"
     ]
    },
    {
     "name": "stdout",
     "output_type": "stream",
     "text": [
      "4480. MCB\n",
      "4481. MCBC\n",
      "4482. MCBS\n",
      "4483. MCC\n"
     ]
    },
    {
     "name": "stderr",
     "output_type": "stream",
     "text": [
      "MCC: No timezone found, symbol may be delisted\n"
     ]
    },
    {
     "name": "stdout",
     "output_type": "stream",
     "text": [
      "4484. MCD\n",
      "4485. MCEF\n",
      "4486. MCEP\n"
     ]
    },
    {
     "name": "stderr",
     "output_type": "stream",
     "text": [
      "MCEP: No timezone found, symbol may be delisted\n"
     ]
    },
    {
     "name": "stdout",
     "output_type": "stream",
     "text": [
      "4487. MCF\n"
     ]
    },
    {
     "name": "stderr",
     "output_type": "stream",
     "text": [
      "MCF: No timezone found, symbol may be delisted\n"
     ]
    },
    {
     "name": "stdout",
     "output_type": "stream",
     "text": [
      "4488. MCFT\n",
      "4489. MCHI\n",
      "4490. MCHP\n",
      "4491. MCHX\n",
      "4492. MCI\n",
      "4493. MCK\n",
      "4494. MCMJ\n"
     ]
    },
    {
     "name": "stderr",
     "output_type": "stream",
     "text": [
      "MCMJ: No timezone found, symbol may be delisted\n"
     ]
    },
    {
     "name": "stdout",
     "output_type": "stream",
     "text": [
      "4495. MCN\n",
      "4496. MCO\n",
      "4497. MCR\n",
      "4498. MCRB\n",
      "4499. MCRI\n",
      "4500. MCRO\n",
      "4501. MCS\n",
      "4502. MCV\n"
     ]
    },
    {
     "name": "stderr",
     "output_type": "stream",
     "text": [
      "MCV: No timezone found, symbol may be delisted\n",
      "404 Client Error: Not Found for url: https://query2.finance.yahoo.com/v10/finance/quoteSummary/MCV?modules=financialData%2CquoteType%2CdefaultKeyStatistics%2CassetProfile%2CsummaryDetail&corsDomain=finance.yahoo.com&formatted=false&symbol=MCV&crumb=KUwSGfMjWIw\n"
     ]
    },
    {
     "name": "stdout",
     "output_type": "stream",
     "text": [
      "4503. MCX\n"
     ]
    },
    {
     "name": "stderr",
     "output_type": "stream",
     "text": [
      "MCX: No price data found, symbol may be delisted (1d 2023-01-01 -> 2024-01-01)\n"
     ]
    },
    {
     "name": "stdout",
     "output_type": "stream",
     "text": [
      "4504. MCY\n",
      "4505. MD\n",
      "4506. MDB\n",
      "4507. MDC\n",
      "4508. MDCA\n"
     ]
    },
    {
     "name": "stderr",
     "output_type": "stream",
     "text": [
      "MDCA: No timezone found, symbol may be delisted\n"
     ]
    },
    {
     "name": "stdout",
     "output_type": "stream",
     "text": [
      "4509. MDGL\n",
      "4510. MDGS\n",
      "4511. MDIA\n",
      "4512. MDIV\n",
      "4513. MDJH\n",
      "4514. MDLA\n"
     ]
    },
    {
     "name": "stderr",
     "output_type": "stream",
     "text": [
      "MDLA: No timezone found, symbol may be delisted\n"
     ]
    },
    {
     "name": "stdout",
     "output_type": "stream",
     "text": [
      "4515. MDLQ\n"
     ]
    },
    {
     "name": "stderr",
     "output_type": "stream",
     "text": [
      "MDLQ: No price data found, symbol may be delisted (1d 2023-01-01 -> 2024-01-01)\n"
     ]
    },
    {
     "name": "stdout",
     "output_type": "stream",
     "text": [
      "4516. MDLX\n"
     ]
    },
    {
     "name": "stderr",
     "output_type": "stream",
     "text": [
      "MDLX: No price data found, symbol may be delisted (1d 2023-01-01 -> 2024-01-01)\n"
     ]
    },
    {
     "name": "stdout",
     "output_type": "stream",
     "text": [
      "4517. MDLY\n"
     ]
    },
    {
     "name": "stderr",
     "output_type": "stream",
     "text": [
      "MDLY: No timezone found, symbol may be delisted\n"
     ]
    },
    {
     "name": "stdout",
     "output_type": "stream",
     "text": [
      "4518. MDLZ\n",
      "4519. MDP\n"
     ]
    },
    {
     "name": "stderr",
     "output_type": "stream",
     "text": [
      "MDP: No timezone found, symbol may be delisted\n",
      "404 Client Error: Not Found for url: https://query2.finance.yahoo.com/v10/finance/quoteSummary/MDP?modules=financialData%2CquoteType%2CdefaultKeyStatistics%2CassetProfile%2CsummaryDetail&corsDomain=finance.yahoo.com&formatted=false&symbol=MDP&crumb=KUwSGfMjWIw\n"
     ]
    },
    {
     "name": "stdout",
     "output_type": "stream",
     "text": [
      "4520. MDRR\n",
      "4521. MDRRP\n",
      "4522. MDRX\n",
      "4523. MDT\n",
      "4524. MDU\n",
      "4525. MDWD\n",
      "4526. MDY\n",
      "4527. MDYG\n",
      "4528. MDYV\n",
      "4529. MEAR\n",
      "4530. MEC\n",
      "4531. MED\n",
      "4532. MEDP\n",
      "4533. MEDS\n",
      "4534. MEET\n"
     ]
    },
    {
     "name": "stderr",
     "output_type": "stream",
     "text": [
      "MEET: No timezone found, symbol may be delisted\n"
     ]
    },
    {
     "name": "stdout",
     "output_type": "stream",
     "text": [
      "4535. MEI\n",
      "4536. MEIP\n",
      "4537. MELI\n",
      "4538. MEN\n"
     ]
    },
    {
     "name": "stderr",
     "output_type": "stream",
     "text": [
      "MEN: No timezone found, symbol may be delisted\n"
     ]
    },
    {
     "name": "stdout",
     "output_type": "stream",
     "text": [
      "4539. MEOH\n",
      "4540. MERC\n",
      "4541. MESA\n",
      "4542. MESO\n",
      "4543. MET\n",
      "4544. METC\n",
      "4545. METX\n"
     ]
    },
    {
     "name": "stderr",
     "output_type": "stream",
     "text": [
      "METX: No timezone found, symbol may be delisted\n",
      "404 Client Error: Not Found for url: https://query2.finance.yahoo.com/v10/finance/quoteSummary/METX?modules=financialData%2CquoteType%2CdefaultKeyStatistics%2CassetProfile%2CsummaryDetail&corsDomain=finance.yahoo.com&formatted=false&symbol=METX&crumb=KUwSGfMjWIw\n"
     ]
    },
    {
     "name": "stdout",
     "output_type": "stream",
     "text": [
      "4546. MEXX\n",
      "4547. MFA\n",
      "4548. MFAC\n"
     ]
    },
    {
     "name": "stderr",
     "output_type": "stream",
     "text": [
      "MFAC: No timezone found, symbol may be delisted\n"
     ]
    },
    {
     "name": "stdout",
     "output_type": "stream",
     "text": [
      "4549. MFC\n",
      "4550. MFD\n",
      "4551. MFDX\n",
      "4552. MFEM\n",
      "4553. MFG\n",
      "4554. MFGP\n"
     ]
    },
    {
     "name": "stderr",
     "output_type": "stream",
     "text": [
      "MFGP: No timezone found, symbol may be delisted\n"
     ]
    },
    {
     "name": "stdout",
     "output_type": "stream",
     "text": [
      "4555. MFH\n",
      "4556. MFIN\n",
      "4557. MFINL\n"
     ]
    },
    {
     "name": "stderr",
     "output_type": "stream",
     "text": [
      "MFINL: No timezone found, symbol may be delisted\n"
     ]
    },
    {
     "name": "stdout",
     "output_type": "stream",
     "text": [
      "4558. MFL\n"
     ]
    },
    {
     "name": "stderr",
     "output_type": "stream",
     "text": [
      "MFL: No timezone found, symbol may be delisted\n"
     ]
    },
    {
     "name": "stdout",
     "output_type": "stream",
     "text": [
      "4559. MFM\n",
      "4560. MFMS\n",
      "4561. MFNC\n"
     ]
    },
    {
     "name": "stderr",
     "output_type": "stream",
     "text": [
      "MFNC: No timezone found, symbol may be delisted\n"
     ]
    },
    {
     "name": "stdout",
     "output_type": "stream",
     "text": [
      "4562. MFO\n"
     ]
    },
    {
     "name": "stderr",
     "output_type": "stream",
     "text": [
      "MFO: No timezone found, symbol may be delisted\n",
      "404 Client Error: Not Found for url: https://query2.finance.yahoo.com/v10/finance/quoteSummary/MFO?modules=financialData%2CquoteType%2CdefaultKeyStatistics%2CassetProfile%2CsummaryDetail&corsDomain=finance.yahoo.com&formatted=false&symbol=MFO&crumb=KUwSGfMjWIw\n"
     ]
    },
    {
     "name": "stdout",
     "output_type": "stream",
     "text": [
      "4563. MFSF\n"
     ]
    },
    {
     "name": "stderr",
     "output_type": "stream",
     "text": [
      "MFSF: No timezone found, symbol may be delisted\n"
     ]
    },
    {
     "name": "stdout",
     "output_type": "stream",
     "text": [
      "4564. MFT\n"
     ]
    },
    {
     "name": "stderr",
     "output_type": "stream",
     "text": [
      "MFT: No timezone found, symbol may be delisted\n"
     ]
    },
    {
     "name": "stdout",
     "output_type": "stream",
     "text": [
      "4565. MFUS\n",
      "4566. MFV\n",
      "4567. MG\n",
      "4568. MGA\n",
      "4569. MGC\n",
      "4570. MGEE\n",
      "4571. MGEN\n"
     ]
    },
    {
     "name": "stderr",
     "output_type": "stream",
     "text": [
      "MGEN: No timezone found, symbol may be delisted\n"
     ]
    },
    {
     "name": "stdout",
     "output_type": "stream",
     "text": [
      "4572. MGF\n",
      "4573. MGI\n"
     ]
    },
    {
     "name": "stderr",
     "output_type": "stream",
     "text": [
      "MGI: No timezone found, symbol may be delisted\n"
     ]
    },
    {
     "name": "stdout",
     "output_type": "stream",
     "text": [
      "4574. MGIC\n",
      "4575. MGK\n",
      "4576. MGLN\n"
     ]
    },
    {
     "name": "stderr",
     "output_type": "stream",
     "text": [
      "MGLN: No timezone found, symbol may be delisted\n"
     ]
    },
    {
     "name": "stdout",
     "output_type": "stream",
     "text": [
      "4577. MGM\n",
      "4578. MGNX\n",
      "4579. MGP\n"
     ]
    },
    {
     "name": "stderr",
     "output_type": "stream",
     "text": [
      "MGP: No timezone found, symbol may be delisted\n"
     ]
    },
    {
     "name": "stdout",
     "output_type": "stream",
     "text": [
      "4580. MGPI\n",
      "4581. MGR\n",
      "4582. MGRC\n",
      "4583. MGTA\n"
     ]
    },
    {
     "name": "stderr",
     "output_type": "stream",
     "text": [
      "MGTA: No timezone found, symbol may be delisted\n",
      "404 Client Error: Not Found for url: https://query2.finance.yahoo.com/v10/finance/quoteSummary/MGTA?modules=financialData%2CquoteType%2CdefaultKeyStatistics%2CassetProfile%2CsummaryDetail&corsDomain=finance.yahoo.com&formatted=false&symbol=MGTA&crumb=KUwSGfMjWIw\n"
     ]
    },
    {
     "name": "stdout",
     "output_type": "stream",
     "text": [
      "4584. MGTX\n",
      "4585. MGU\n"
     ]
    },
    {
     "name": "stderr",
     "output_type": "stream",
     "text": [
      "MGU: No timezone found, symbol may be delisted\n",
      "404 Client Error: Not Found for url: https://query2.finance.yahoo.com/v10/finance/quoteSummary/MGU?modules=financialData%2CquoteType%2CdefaultKeyStatistics%2CassetProfile%2CsummaryDetail&corsDomain=finance.yahoo.com&formatted=false&symbol=MGU&crumb=KUwSGfMjWIw\n"
     ]
    },
    {
     "name": "stdout",
     "output_type": "stream",
     "text": [
      "4586. MGV\n",
      "4587. MGY\n",
      "4588. MGYR\n",
      "4589. MHD\n",
      "4590. MHE\n"
     ]
    },
    {
     "name": "stderr",
     "output_type": "stream",
     "text": [
      "MHE: No timezone found, symbol may be delisted\n"
     ]
    },
    {
     "name": "stdout",
     "output_type": "stream",
     "text": [
      "4591. MHF\n",
      "4592. MHH\n",
      "4593. MHI\n",
      "4594. MHK\n",
      "4595. MHLA\n",
      "4596. MHLD\n",
      "4597. MHN\n",
      "4598. MHNC\n",
      "4599. MHO\n",
      "4600. MIC\n"
     ]
    },
    {
     "name": "stderr",
     "output_type": "stream",
     "text": [
      "MIC: No timezone found, symbol may be delisted\n"
     ]
    },
    {
     "name": "stdout",
     "output_type": "stream",
     "text": [
      "4601. MICR\n",
      "4602. MICT\n"
     ]
    },
    {
     "name": "stderr",
     "output_type": "stream",
     "text": [
      "MICT: No timezone found, symbol may be delisted\n"
     ]
    },
    {
     "name": "stdout",
     "output_type": "stream",
     "text": [
      "4603. MIDD\n",
      "4604. MIDF\n"
     ]
    },
    {
     "name": "stderr",
     "output_type": "stream",
     "text": [
      "MIDF: No price data found, symbol may be delisted (1d 2023-01-01 -> 2024-01-01)\n"
     ]
    },
    {
     "name": "stdout",
     "output_type": "stream",
     "text": [
      "4605. MIDU\n",
      "4606. MIE\n"
     ]
    },
    {
     "name": "stderr",
     "output_type": "stream",
     "text": [
      "MIE: No timezone found, symbol may be delisted\n"
     ]
    },
    {
     "name": "stdout",
     "output_type": "stream",
     "text": [
      "4607. MIK\n"
     ]
    },
    {
     "name": "stderr",
     "output_type": "stream",
     "text": [
      "MIK: No timezone found, symbol may be delisted\n"
     ]
    },
    {
     "name": "stdout",
     "output_type": "stream",
     "text": [
      "4608. MILN\n",
      "4609. MIME\n"
     ]
    },
    {
     "name": "stderr",
     "output_type": "stream",
     "text": [
      "MIME: No timezone found, symbol may be delisted\n"
     ]
    },
    {
     "name": "stdout",
     "output_type": "stream",
     "text": [
      "4610. MIN\n",
      "4611. MINC\n",
      "4612. MIND\n",
      "4613. MINDP\n",
      "4614. MINI\n"
     ]
    },
    {
     "name": "stderr",
     "output_type": "stream",
     "text": [
      "MINI: No timezone found, symbol may be delisted\n"
     ]
    },
    {
     "name": "stdout",
     "output_type": "stream",
     "text": [
      "4615. MINT\n",
      "4616. MIRM\n",
      "4617. MIST\n",
      "4618. MITK\n",
      "4619. MITO\n"
     ]
    },
    {
     "name": "stderr",
     "output_type": "stream",
     "text": [
      "MITO: No timezone found, symbol may be delisted\n"
     ]
    },
    {
     "name": "stdout",
     "output_type": "stream",
     "text": [
      "4620. MITT\n",
      "4621. MIXT\n",
      "4622. MIY\n",
      "4623. MJ\n",
      "4624. MJCO\n"
     ]
    },
    {
     "name": "stderr",
     "output_type": "stream",
     "text": [
      "MJCO: No timezone found, symbol may be delisted\n"
     ]
    },
    {
     "name": "stdout",
     "output_type": "stream",
     "text": [
      "4625. MJJ\n"
     ]
    },
    {
     "name": "stderr",
     "output_type": "stream",
     "text": [
      "MJJ: No price data found, symbol may be delisted (1d 2023-01-01 -> 2024-01-01)\n"
     ]
    },
    {
     "name": "stdout",
     "output_type": "stream",
     "text": [
      "4626. MJO\n"
     ]
    },
    {
     "name": "stderr",
     "output_type": "stream",
     "text": [
      "MJO: No price data found, symbol may be delisted (1d 2023-01-01 -> 2024-01-01)\n"
     ]
    },
    {
     "name": "stdout",
     "output_type": "stream",
     "text": [
      "4627. MKC\n",
      "4628. MKD\n"
     ]
    },
    {
     "name": "stderr",
     "output_type": "stream",
     "text": [
      "MKD: No timezone found, symbol may be delisted\n"
     ]
    },
    {
     "name": "stdout",
     "output_type": "stream",
     "text": [
      "4629. MKGI\n"
     ]
    },
    {
     "name": "stderr",
     "output_type": "stream",
     "text": [
      "MKGI: No timezone found, symbol may be delisted\n"
     ]
    },
    {
     "name": "stdout",
     "output_type": "stream",
     "text": [
      "4630. MKL\n",
      "4631. MKSI\n",
      "4632. MKTX\n",
      "4633. MLAB\n",
      "4634. MLCO\n",
      "4635. MLHR\n"
     ]
    },
    {
     "name": "stderr",
     "output_type": "stream",
     "text": [
      "MLHR: No timezone found, symbol may be delisted\n"
     ]
    },
    {
     "name": "stdout",
     "output_type": "stream",
     "text": [
      "4636. MLI\n",
      "4637. MLM\n",
      "4638. MLN\n",
      "4639. MLND\n"
     ]
    },
    {
     "name": "stderr",
     "output_type": "stream",
     "text": [
      "MLND: No timezone found, symbol may be delisted\n"
     ]
    },
    {
     "name": "stdout",
     "output_type": "stream",
     "text": [
      "4640. MLNX\n"
     ]
    },
    {
     "name": "stderr",
     "output_type": "stream",
     "text": [
      "MLNX: No timezone found, symbol may be delisted\n"
     ]
    },
    {
     "name": "stdout",
     "output_type": "stream",
     "text": [
      "4641. MLP\n",
      "4642. MLPA\n",
      "4643. MLPB\n",
      "4644. MLPC\n"
     ]
    },
    {
     "name": "stderr",
     "output_type": "stream",
     "text": [
      "MLPC: No price data found, symbol may be delisted (1d 2023-01-01 -> 2024-01-01)\n"
     ]
    },
    {
     "name": "stdout",
     "output_type": "stream",
     "text": [
      "4645. MLPE\n"
     ]
    },
    {
     "name": "stderr",
     "output_type": "stream",
     "text": [
      "MLPE: No price data found, symbol may be delisted (1d 2023-01-01 -> 2024-01-01)\n"
     ]
    },
    {
     "name": "stdout",
     "output_type": "stream",
     "text": [
      "4646. MLPG\n"
     ]
    },
    {
     "name": "stderr",
     "output_type": "stream",
     "text": [
      "MLPG: No price data found, symbol may be delisted (1d 2023-01-01 -> 2024-01-01)\n"
     ]
    },
    {
     "name": "stdout",
     "output_type": "stream",
     "text": [
      "4647. MLPI\n"
     ]
    },
    {
     "name": "stderr",
     "output_type": "stream",
     "text": [
      "MLPI: No price data found, symbol may be delisted (1d 2023-01-01 -> 2024-01-01)\n"
     ]
    },
    {
     "name": "stdout",
     "output_type": "stream",
     "text": [
      "4648. MLPO\n"
     ]
    },
    {
     "name": "stderr",
     "output_type": "stream",
     "text": [
      "MLPO: No price data found, symbol may be delisted (1d 2023-01-01 -> 2024-01-01)\n"
     ]
    },
    {
     "name": "stdout",
     "output_type": "stream",
     "text": [
      "4649. MLPX\n",
      "4650. MLPY\n"
     ]
    },
    {
     "name": "stderr",
     "output_type": "stream",
     "text": [
      "MLPY: No price data found, symbol may be delisted (1d 2023-01-01 -> 2024-01-01)\n"
     ]
    },
    {
     "name": "stdout",
     "output_type": "stream",
     "text": [
      "4651. MLR\n",
      "4652. MLSS\n",
      "4653. MLTI\n"
     ]
    },
    {
     "name": "stderr",
     "output_type": "stream",
     "text": [
      "MLTI: No price data found, symbol may be delisted (1d 2023-01-01 -> 2024-01-01)\n"
     ]
    },
    {
     "name": "stdout",
     "output_type": "stream",
     "text": [
      "4654. MLVF\n"
     ]
    },
    {
     "name": "stderr",
     "output_type": "stream",
     "text": [
      "MLVF: No timezone found, symbol may be delisted\n",
      "404 Client Error: Not Found for url: https://query2.finance.yahoo.com/v10/finance/quoteSummary/MLVF?modules=financialData%2CquoteType%2CdefaultKeyStatistics%2CassetProfile%2CsummaryDetail&corsDomain=finance.yahoo.com&formatted=false&symbol=MLVF&crumb=KUwSGfMjWIw\n"
     ]
    },
    {
     "name": "stdout",
     "output_type": "stream",
     "text": [
      "4655. MMAC\n"
     ]
    },
    {
     "name": "stderr",
     "output_type": "stream",
     "text": [
      "MMAC: No timezone found, symbol may be delisted\n"
     ]
    },
    {
     "name": "stdout",
     "output_type": "stream",
     "text": [
      "4656. MMC\n",
      "4657. MMD\n",
      "4658. MMI\n",
      "4659. MMIN\n",
      "4660. MMIT\n",
      "4661. MMLP\n",
      "4662. MMM\n",
      "4663. MMP\n"
     ]
    },
    {
     "name": "stderr",
     "output_type": "stream",
     "text": [
      "MMP: No timezone found, symbol may be delisted\n",
      "404 Client Error: Not Found for url: https://query2.finance.yahoo.com/v10/finance/quoteSummary/MMP?modules=financialData%2CquoteType%2CdefaultKeyStatistics%2CassetProfile%2CsummaryDetail&corsDomain=finance.yahoo.com&formatted=false&symbol=MMP&crumb=KUwSGfMjWIw\n"
     ]
    },
    {
     "name": "stdout",
     "output_type": "stream",
     "text": [
      "4664. MMS\n",
      "4665. MMSI\n",
      "4666. MMT\n",
      "4667. MMTM\n",
      "4668. MMU\n",
      "4669. MMX\n"
     ]
    },
    {
     "name": "stderr",
     "output_type": "stream",
     "text": [
      "MMX: No timezone found, symbol may be delisted\n"
     ]
    },
    {
     "name": "stdout",
     "output_type": "stream",
     "text": [
      "4670. MMYT\n",
      "4671. MN\n"
     ]
    },
    {
     "name": "stderr",
     "output_type": "stream",
     "text": [
      "MN: No timezone found, symbol may be delisted\n"
     ]
    },
    {
     "name": "stdout",
     "output_type": "stream",
     "text": [
      "4672. MNA\n",
      "4673. MNCL\n"
     ]
    },
    {
     "name": "stderr",
     "output_type": "stream",
     "text": [
      "MNCL: No timezone found, symbol may be delisted\n"
     ]
    },
    {
     "name": "stdout",
     "output_type": "stream",
     "text": [
      "4674. MNCLU\n"
     ]
    },
    {
     "name": "stderr",
     "output_type": "stream",
     "text": [
      "MNCLU: No timezone found, symbol may be delisted\n"
     ]
    },
    {
     "name": "stdout",
     "output_type": "stream",
     "text": [
      "4675. MNDO\n",
      "4676. MNE\n"
     ]
    },
    {
     "name": "stderr",
     "output_type": "stream",
     "text": [
      "MNE: No timezone found, symbol may be delisted\n"
     ]
    },
    {
     "name": "stdout",
     "output_type": "stream",
     "text": [
      "4677. MNK\n"
     ]
    },
    {
     "name": "stderr",
     "output_type": "stream",
     "text": [
      "MNK: No timezone found, symbol may be delisted\n",
      "404 Client Error: Not Found for url: https://query2.finance.yahoo.com/v10/finance/quoteSummary/MNK?modules=financialData%2CquoteType%2CdefaultKeyStatistics%2CassetProfile%2CsummaryDetail&corsDomain=finance.yahoo.com&formatted=false&symbol=MNK&crumb=KUwSGfMjWIw\n"
     ]
    },
    {
     "name": "stdout",
     "output_type": "stream",
     "text": [
      "4678. MNKD\n",
      "4679. MNLO\n"
     ]
    },
    {
     "name": "stderr",
     "output_type": "stream",
     "text": [
      "MNLO: No timezone found, symbol may be delisted\n"
     ]
    },
    {
     "name": "stdout",
     "output_type": "stream",
     "text": [
      "4680. MNOV\n",
      "4681. MNP\n"
     ]
    },
    {
     "name": "stderr",
     "output_type": "stream",
     "text": [
      "MNP: No timezone found, symbol may be delisted\n",
      "404 Client Error: Not Found for url: https://query2.finance.yahoo.com/v10/finance/quoteSummary/MNP?modules=financialData%2CquoteType%2CdefaultKeyStatistics%2CassetProfile%2CsummaryDetail&corsDomain=finance.yahoo.com&formatted=false&symbol=MNP&crumb=KUwSGfMjWIw\n"
     ]
    },
    {
     "name": "stdout",
     "output_type": "stream",
     "text": [
      "4682. MNPR\n",
      "4683. MNR\n",
      "4684. MNRL\n"
     ]
    },
    {
     "name": "stderr",
     "output_type": "stream",
     "text": [
      "MNRL: No timezone found, symbol may be delisted\n"
     ]
    },
    {
     "name": "stdout",
     "output_type": "stream",
     "text": [
      "4685. MNRO\n",
      "4686. MNSB\n",
      "4687. MNST\n",
      "4688. MNTA\n"
     ]
    },
    {
     "name": "stderr",
     "output_type": "stream",
     "text": [
      "MNTA: No timezone found, symbol may be delisted\n"
     ]
    },
    {
     "name": "stdout",
     "output_type": "stream",
     "text": [
      "4689. MNTX\n",
      "4690. MO\n",
      "4691. MOAT\n",
      "4692. MOBL\n"
     ]
    },
    {
     "name": "stderr",
     "output_type": "stream",
     "text": [
      "MOBL: No timezone found, symbol may be delisted\n",
      "404 Client Error: Not Found for url: https://query2.finance.yahoo.com/v10/finance/quoteSummary/MOBL?modules=financialData%2CquoteType%2CdefaultKeyStatistics%2CassetProfile%2CsummaryDetail&corsDomain=finance.yahoo.com&formatted=false&symbol=MOBL&crumb=KUwSGfMjWIw\n"
     ]
    },
    {
     "name": "stdout",
     "output_type": "stream",
     "text": [
      "4693. MOD\n",
      "4694. MODN\n",
      "4695. MOFG\n",
      "4696. MOGO\n",
      "4697. MOGU\n",
      "4698. MOH\n",
      "4699. MOHO\n"
     ]
    },
    {
     "name": "stderr",
     "output_type": "stream",
     "text": [
      "MOHO: No timezone found, symbol may be delisted\n"
     ]
    },
    {
     "name": "stdout",
     "output_type": "stream",
     "text": [
      "4700. MOM\n"
     ]
    },
    {
     "name": "stderr",
     "output_type": "stream",
     "text": [
      "MOM: No price data found, symbol may be delisted (1d 2023-01-01 -> 2024-01-01)\n"
     ]
    },
    {
     "name": "stdout",
     "output_type": "stream",
     "text": [
      "4701. MOMO\n",
      "4702. MOO\n",
      "4703. MOR\n",
      "4704. MORF\n",
      "4705. MORN\n",
      "4706. MORT\n",
      "4707. MOS\n",
      "4708. MOSY\n"
     ]
    },
    {
     "name": "stderr",
     "output_type": "stream",
     "text": [
      "MOSY: No timezone found, symbol may be delisted\n"
     ]
    },
    {
     "name": "stdout",
     "output_type": "stream",
     "text": [
      "4709. MOTI\n",
      "4710. MOTO\n",
      "4711. MOTS\n",
      "4712. MOV\n",
      "4713. MOXC\n"
     ]
    },
    {
     "name": "stderr",
     "output_type": "stream",
     "text": [
      "MOXC: No timezone found, symbol may be delisted\n",
      "404 Client Error: Not Found for url: https://query2.finance.yahoo.com/v10/finance/quoteSummary/MOXC?modules=financialData%2CquoteType%2CdefaultKeyStatistics%2CassetProfile%2CsummaryDetail&corsDomain=finance.yahoo.com&formatted=false&symbol=MOXC&crumb=KUwSGfMjWIw\n"
     ]
    },
    {
     "name": "stdout",
     "output_type": "stream",
     "text": [
      "4714. MPA\n",
      "4715. MPAA\n",
      "4716. MPB\n",
      "4717. MPC\n",
      "4718. MPLX\n",
      "4719. MPV\n",
      "4720. MPW\n",
      "4721. MPWR\n",
      "4722. MPX\n",
      "4723. MQT\n",
      "4724. MQY\n",
      "4725. MR\n"
     ]
    },
    {
     "name": "stderr",
     "output_type": "stream",
     "text": [
      "MR: No timezone found, symbol may be delisted\n"
     ]
    },
    {
     "name": "stdout",
     "output_type": "stream",
     "text": [
      "4726. MRAM\n",
      "4727. MRBK\n",
      "4728. MRC\n",
      "4729. MRCC\n",
      "4730. MRCCL\n"
     ]
    },
    {
     "name": "stderr",
     "output_type": "stream",
     "text": [
      "MRCCL: No price data found, symbol may be delisted (1d 2023-01-01 -> 2024-01-01)\n"
     ]
    },
    {
     "name": "stdout",
     "output_type": "stream",
     "text": [
      "4731. MRCY\n",
      "4732. MREO\n",
      "4733. MRGR\n",
      "4734. MRIN\n",
      "4735. MRK\n",
      "4736. MRKR\n",
      "4737. MRLN\n"
     ]
    },
    {
     "name": "stderr",
     "output_type": "stream",
     "text": [
      "MRLN: No timezone found, symbol may be delisted\n"
     ]
    },
    {
     "name": "stdout",
     "output_type": "stream",
     "text": [
      "4738. MRNA\n",
      "4739. MRNS\n",
      "4740. MRO\n",
      "4741. MRSN\n",
      "4742. MRTN\n",
      "4743. MRTX\n",
      "4744. MRUS\n",
      "4745. MRVL\n",
      "4746. MS\n",
      "4747. MSA\n",
      "4748. MSB\n",
      "4749. MSBF\n"
     ]
    },
    {
     "name": "stderr",
     "output_type": "stream",
     "text": [
      "MSBF: No timezone found, symbol may be delisted\n"
     ]
    },
    {
     "name": "stdout",
     "output_type": "stream",
     "text": [
      "4750. MSBI\n",
      "4751. MSC\n",
      "4752. MSCI\n",
      "4753. MSD\n",
      "4754. MSEX\n",
      "4755. MSFT\n",
      "4756. MSG\n"
     ]
    },
    {
     "name": "stderr",
     "output_type": "stream",
     "text": [
      "MSG: No timezone found, symbol may be delisted\n"
     ]
    },
    {
     "name": "stdout",
     "output_type": "stream",
     "text": [
      "4757. MSGN\n"
     ]
    },
    {
     "name": "stderr",
     "output_type": "stream",
     "text": [
      "MSGN: No timezone found, symbol may be delisted\n"
     ]
    },
    {
     "name": "stdout",
     "output_type": "stream",
     "text": [
      "4758. MSI\n",
      "4759. MSM\n",
      "4760. MSN\n",
      "4761. MSON\n"
     ]
    },
    {
     "name": "stderr",
     "output_type": "stream",
     "text": [
      "MSON: No timezone found, symbol may be delisted\n"
     ]
    },
    {
     "name": "stdout",
     "output_type": "stream",
     "text": [
      "4762. MSTR\n",
      "4763. MSUS\n"
     ]
    },
    {
     "name": "stderr",
     "output_type": "stream",
     "text": [
      "MSUS: No price data found, symbol may be delisted (1d 2023-01-01 -> 2024-01-01)\n"
     ]
    },
    {
     "name": "stdout",
     "output_type": "stream",
     "text": [
      "4764. MSVB\n",
      "4765. MT\n",
      "4766. MTA\n",
      "4767. MTB\n",
      "4768. MTBC\n"
     ]
    },
    {
     "name": "stderr",
     "output_type": "stream",
     "text": [
      "MTBC: No timezone found, symbol may be delisted\n"
     ]
    },
    {
     "name": "stdout",
     "output_type": "stream",
     "text": [
      "4769. MTBCP\n"
     ]
    },
    {
     "name": "stderr",
     "output_type": "stream",
     "text": [
      "MTBCP: No timezone found, symbol may be delisted\n"
     ]
    },
    {
     "name": "stdout",
     "output_type": "stream",
     "text": [
      "4770. MTC\n",
      "4771. MTCH\n",
      "4772. MTD\n",
      "4773. MTDR\n",
      "4774. MTEM\n",
      "4775. MTEX\n",
      "4776. MTG\n",
      "4777. MTGP\n",
      "4778. MTH\n",
      "4779. MTL\n"
     ]
    },
    {
     "name": "stderr",
     "output_type": "stream",
     "text": [
      "MTL: No timezone found, symbol may be delisted\n"
     ]
    },
    {
     "name": "stdout",
     "output_type": "stream",
     "text": [
      "4780. MTLS\n",
      "4781. MTN\n",
      "4782. MTNB\n",
      "4783. MTOR\n"
     ]
    },
    {
     "name": "stderr",
     "output_type": "stream",
     "text": [
      "MTOR: No timezone found, symbol may be delisted\n"
     ]
    },
    {
     "name": "stdout",
     "output_type": "stream",
     "text": [
      "4784. MTP\n"
     ]
    },
    {
     "name": "stderr",
     "output_type": "stream",
     "text": [
      "MTP: No timezone found, symbol may be delisted\n"
     ]
    },
    {
     "name": "stdout",
     "output_type": "stream",
     "text": [
      "4785. MTR\n",
      "4786. MTRN\n",
      "4787. MTRX\n",
      "4788. MTSC\n"
     ]
    },
    {
     "name": "stderr",
     "output_type": "stream",
     "text": [
      "MTSC: No timezone found, symbol may be delisted\n"
     ]
    },
    {
     "name": "stdout",
     "output_type": "stream",
     "text": [
      "4789. MTSI\n",
      "4790. MTSL\n"
     ]
    },
    {
     "name": "stderr",
     "output_type": "stream",
     "text": [
      "MTSL: No timezone found, symbol may be delisted\n"
     ]
    },
    {
     "name": "stdout",
     "output_type": "stream",
     "text": [
      "4791. MTT\n"
     ]
    },
    {
     "name": "stderr",
     "output_type": "stream",
     "text": [
      "MTT: No timezone found, symbol may be delisted\n"
     ]
    },
    {
     "name": "stdout",
     "output_type": "stream",
     "text": [
      "4792. MTUM\n",
      "4793. MTW\n",
      "4794. MTX\n",
      "4795. MTZ\n",
      "4796. MU\n",
      "4797. MUA\n",
      "4798. MUB\n",
      "4799. MUC\n",
      "4800. MUDS\n"
     ]
    },
    {
     "name": "stderr",
     "output_type": "stream",
     "text": [
      "MUDS: No timezone found, symbol may be delisted\n"
     ]
    },
    {
     "name": "stdout",
     "output_type": "stream",
     "text": [
      "4801. MUDSU\n"
     ]
    },
    {
     "name": "stderr",
     "output_type": "stream",
     "text": [
      "MUDSU: No timezone found, symbol may be delisted\n"
     ]
    },
    {
     "name": "stdout",
     "output_type": "stream",
     "text": [
      "4802. MUE\n",
      "4803. MUFG\n",
      "4804. MUH\n"
     ]
    },
    {
     "name": "stderr",
     "output_type": "stream",
     "text": [
      "MUH: No timezone found, symbol may be delisted\n"
     ]
    },
    {
     "name": "stdout",
     "output_type": "stream",
     "text": [
      "4805. MUI\n",
      "4806. MUJ\n",
      "4807. MUNI\n",
      "4808. MUR\n",
      "4809. MUS\n"
     ]
    },
    {
     "name": "stderr",
     "output_type": "stream",
     "text": [
      "MUS: No timezone found, symbol may be delisted\n"
     ]
    },
    {
     "name": "stdout",
     "output_type": "stream",
     "text": [
      "4810. MUSA\n",
      "4811. MUST\n",
      "4812. MUTE\n"
     ]
    },
    {
     "name": "stderr",
     "output_type": "stream",
     "text": [
      "MUTE: No price data found, symbol may be delisted (1d 2023-01-01 -> 2024-01-01)\n"
     ]
    },
    {
     "name": "stdout",
     "output_type": "stream",
     "text": [
      "4813. MUX\n",
      "4814. MVBF\n",
      "4815. MVC\n"
     ]
    },
    {
     "name": "stderr",
     "output_type": "stream",
     "text": [
      "MVC: No timezone found, symbol may be delisted\n"
     ]
    },
    {
     "name": "stdout",
     "output_type": "stream",
     "text": [
      "4816. MVCD\n"
     ]
    },
    {
     "name": "stderr",
     "output_type": "stream",
     "text": [
      "MVCD: No price data found, symbol may be delisted (1d 2023-01-01 -> 2024-01-01)\n"
     ]
    },
    {
     "name": "stdout",
     "output_type": "stream",
     "text": [
      "4817. MVF\n",
      "4818. MVIN\n"
     ]
    },
    {
     "name": "stderr",
     "output_type": "stream",
     "text": [
      "MVIN: No price data found, symbol may be delisted (1d 2023-01-01 -> 2024-01-01)\n"
     ]
    },
    {
     "name": "stdout",
     "output_type": "stream",
     "text": [
      "4819. MVIS\n",
      "4820. MVO\n",
      "4821. MVT\n",
      "4822. MVV\n",
      "4823. MWA\n",
      "4824. MWK\n"
     ]
    },
    {
     "name": "stderr",
     "output_type": "stream",
     "text": [
      "MWK: No timezone found, symbol may be delisted\n"
     ]
    },
    {
     "name": "stdout",
     "output_type": "stream",
     "text": [
      "4825. MX\n",
      "4826. MXC\n",
      "4827. MXDE\n"
     ]
    },
    {
     "name": "stderr",
     "output_type": "stream",
     "text": [
      "MXDE: No price data found, symbol may be delisted (1d 2023-01-01 -> 2024-01-01)\n"
     ]
    },
    {
     "name": "stdout",
     "output_type": "stream",
     "text": [
      "4828. MXDU\n"
     ]
    },
    {
     "name": "stderr",
     "output_type": "stream",
     "text": [
      "MXDU: No price data found, symbol may be delisted (1d 2023-01-01 -> 2024-01-01)\n"
     ]
    },
    {
     "name": "stdout",
     "output_type": "stream",
     "text": [
      "4829. MXE\n",
      "4830. MXF\n",
      "4831. MXI\n",
      "4832. MXIM\n"
     ]
    },
    {
     "name": "stderr",
     "output_type": "stream",
     "text": [
      "MXIM: No timezone found, symbol may be delisted\n"
     ]
    },
    {
     "name": "stdout",
     "output_type": "stream",
     "text": [
      "4833. MXL\n",
      "4834. MYC\n"
     ]
    },
    {
     "name": "stderr",
     "output_type": "stream",
     "text": [
      "MYC: No price data found, symbol may be delisted (1d 2023-01-01 -> 2024-01-01)\n"
     ]
    },
    {
     "name": "stdout",
     "output_type": "stream",
     "text": [
      "4835. MYD\n",
      "4836. MYE\n",
      "4837. MYF\n"
     ]
    },
    {
     "name": "stderr",
     "output_type": "stream",
     "text": [
      "MYF: No timezone found, symbol may be delisted\n"
     ]
    },
    {
     "name": "stdout",
     "output_type": "stream",
     "text": [
      "4838. MYFW\n",
      "4839. MYGN\n",
      "4840. MYI\n",
      "4841. MYJ\n"
     ]
    },
    {
     "name": "stderr",
     "output_type": "stream",
     "text": [
      "MYJ: No timezone found, symbol may be delisted\n",
      "404 Client Error: Not Found for url: https://query2.finance.yahoo.com/v10/finance/quoteSummary/MYJ?modules=financialData%2CquoteType%2CdefaultKeyStatistics%2CassetProfile%2CsummaryDetail&corsDomain=finance.yahoo.com&formatted=false&symbol=MYJ&crumb=KUwSGfMjWIw\n"
     ]
    },
    {
     "name": "stdout",
     "output_type": "stream",
     "text": [
      "4842. MYL\n"
     ]
    },
    {
     "name": "stderr",
     "output_type": "stream",
     "text": [
      "MYL: No timezone found, symbol may be delisted\n"
     ]
    },
    {
     "name": "stdout",
     "output_type": "stream",
     "text": [
      "4843. MYN\n",
      "4844. MYO\n",
      "4845. MYOK\n"
     ]
    },
    {
     "name": "stderr",
     "output_type": "stream",
     "text": [
      "MYOK: No timezone found, symbol may be delisted\n"
     ]
    },
    {
     "name": "stdout",
     "output_type": "stream",
     "text": [
      "4846. MYOS\n"
     ]
    },
    {
     "name": "stderr",
     "output_type": "stream",
     "text": [
      "MYOS: No timezone found, symbol may be delisted\n"
     ]
    },
    {
     "name": "stdout",
     "output_type": "stream",
     "text": [
      "4847. MYOV\n"
     ]
    },
    {
     "name": "stderr",
     "output_type": "stream",
     "text": [
      "MYOV: No timezone found, symbol may be delisted\n"
     ]
    },
    {
     "name": "stdout",
     "output_type": "stream",
     "text": [
      "4848. MYRG\n",
      "4849. MYSZ\n",
      "4850. MYT\n"
     ]
    },
    {
     "name": "stderr",
     "output_type": "stream",
     "text": [
      "MYT: No timezone found, symbol may be delisted\n"
     ]
    },
    {
     "name": "stdout",
     "output_type": "stream",
     "text": [
      "4851. MYY\n",
      "4852. MZA\n"
     ]
    },
    {
     "name": "stderr",
     "output_type": "stream",
     "text": [
      "MZA: No timezone found, symbol may be delisted\n"
     ]
    },
    {
     "name": "stdout",
     "output_type": "stream",
     "text": [
      "4853. MZZ\n",
      "4854. NAC\n",
      "4855. NACP\n",
      "4856. NAD\n",
      "4857. NAII\n",
      "4858. NAIL\n",
      "4859. NAK\n",
      "4860. NAKD\n"
     ]
    },
    {
     "name": "stderr",
     "output_type": "stream",
     "text": [
      "NAKD: No timezone found, symbol may be delisted\n"
     ]
    },
    {
     "name": "stdout",
     "output_type": "stream",
     "text": [
      "4861. NAN\n",
      "4862. NANR\n",
      "4863. NAOV\n",
      "4864. NAT\n",
      "4865. NATH\n",
      "4866. NATI\n"
     ]
    },
    {
     "name": "stderr",
     "output_type": "stream",
     "text": [
      "NATI: No timezone found, symbol may be delisted\n",
      "404 Client Error: Not Found for url: https://query2.finance.yahoo.com/v10/finance/quoteSummary/NATI?modules=financialData%2CquoteType%2CdefaultKeyStatistics%2CassetProfile%2CsummaryDetail&corsDomain=finance.yahoo.com&formatted=false&symbol=NATI&crumb=KUwSGfMjWIw\n"
     ]
    },
    {
     "name": "stdout",
     "output_type": "stream",
     "text": [
      "4867. NATR\n",
      "4868. NAV\n"
     ]
    },
    {
     "name": "stderr",
     "output_type": "stream",
     "text": [
      "NAV: No timezone found, symbol may be delisted\n"
     ]
    },
    {
     "name": "stdout",
     "output_type": "stream",
     "text": [
      "4869. NAVB\n",
      "4870. NAVI\n",
      "4871. NAZ\n",
      "4872. NBACU\n"
     ]
    },
    {
     "name": "stderr",
     "output_type": "stream",
     "text": [
      "NBACU: No timezone found, symbol may be delisted\n"
     ]
    },
    {
     "name": "stdout",
     "output_type": "stream",
     "text": [
      "4873. NBB\n",
      "4874. NBEV\n"
     ]
    },
    {
     "name": "stderr",
     "output_type": "stream",
     "text": [
      "NBEV: No timezone found, symbol may be delisted\n"
     ]
    },
    {
     "name": "stdout",
     "output_type": "stream",
     "text": [
      "4875. NBH\n",
      "4876. NBHC\n",
      "4877. NBIX\n",
      "4878. NBL\n"
     ]
    },
    {
     "name": "stderr",
     "output_type": "stream",
     "text": [
      "NBL: No timezone found, symbol may be delisted\n"
     ]
    },
    {
     "name": "stdout",
     "output_type": "stream",
     "text": [
      "4879. NBLX\n"
     ]
    },
    {
     "name": "stderr",
     "output_type": "stream",
     "text": [
      "NBLX: No timezone found, symbol may be delisted\n"
     ]
    },
    {
     "name": "stdout",
     "output_type": "stream",
     "text": [
      "4880. NBN\n",
      "4881. NBO\n"
     ]
    },
    {
     "name": "stderr",
     "output_type": "stream",
     "text": [
      "NBO: No timezone found, symbol may be delisted\n",
      "404 Client Error: Not Found for url: https://query2.finance.yahoo.com/v10/finance/quoteSummary/NBO?modules=financialData%2CquoteType%2CdefaultKeyStatistics%2CassetProfile%2CsummaryDetail&corsDomain=finance.yahoo.com&formatted=false&symbol=NBO&crumb=KUwSGfMjWIw\n"
     ]
    },
    {
     "name": "stdout",
     "output_type": "stream",
     "text": [
      "4882. NBR\n",
      "4883. NBRV\n"
     ]
    },
    {
     "name": "stderr",
     "output_type": "stream",
     "text": [
      "NBRV: No timezone found, symbol may be delisted\n",
      "404 Client Error: Not Found for url: https://query2.finance.yahoo.com/v10/finance/quoteSummary/NBRV?modules=financialData%2CquoteType%2CdefaultKeyStatistics%2CassetProfile%2CsummaryDetail&corsDomain=finance.yahoo.com&formatted=false&symbol=NBRV&crumb=KUwSGfMjWIw\n"
     ]
    },
    {
     "name": "stdout",
     "output_type": "stream",
     "text": [
      "4884. NBSE\n",
      "4885. NBTB\n",
      "4886. NBW\n"
     ]
    },
    {
     "name": "stderr",
     "output_type": "stream",
     "text": [
      "NBW: No timezone found, symbol may be delisted\n",
      "404 Client Error: Not Found for url: https://query2.finance.yahoo.com/v10/finance/quoteSummary/NBW?modules=financialData%2CquoteType%2CdefaultKeyStatistics%2CassetProfile%2CsummaryDetail&corsDomain=finance.yahoo.com&formatted=false&symbol=NBW&crumb=KUwSGfMjWIw\n"
     ]
    },
    {
     "name": "stdout",
     "output_type": "stream",
     "text": [
      "4887. NBY\n",
      "4888. NC\n",
      "4889. NCA\n",
      "4890. NCB\n"
     ]
    },
    {
     "name": "stderr",
     "output_type": "stream",
     "text": [
      "NCB: No timezone found, symbol may be delisted\n"
     ]
    },
    {
     "name": "stdout",
     "output_type": "stream",
     "text": [
      "4891. NCBS\n"
     ]
    },
    {
     "name": "stderr",
     "output_type": "stream",
     "text": [
      "NCBS: No timezone found, symbol may be delisted\n"
     ]
    },
    {
     "name": "stdout",
     "output_type": "stream",
     "text": [
      "4892. NCLH\n",
      "4893. NCMI\n",
      "4894. NCNA\n",
      "4895. NCR\n"
     ]
    },
    {
     "name": "stderr",
     "output_type": "stream",
     "text": [
      "NCR: No timezone found, symbol may be delisted\n",
      "404 Client Error: Not Found for url: https://query2.finance.yahoo.com/v10/finance/quoteSummary/NCR?modules=financialData%2CquoteType%2CdefaultKeyStatistics%2CassetProfile%2CsummaryDetail&corsDomain=finance.yahoo.com&formatted=false&symbol=NCR&crumb=KUwSGfMjWIw\n"
     ]
    },
    {
     "name": "stdout",
     "output_type": "stream",
     "text": [
      "4896. NCSM\n",
      "4897. NCTY\n",
      "4898. NCV\n",
      "4899. NCZ\n",
      "4900. NDAQ\n",
      "4901. NDLS\n",
      "4902. NDP\n",
      "4903. NDRA\n",
      "4904. NDSN\n",
      "4905. NE\n",
      "4906. NEA\n",
      "4907. NEAR\n",
      "4908. NEBU\n"
     ]
    },
    {
     "name": "stderr",
     "output_type": "stream",
     "text": [
      "NEBU: No timezone found, symbol may be delisted\n"
     ]
    },
    {
     "name": "stdout",
     "output_type": "stream",
     "text": [
      "4909. NEBUU\n"
     ]
    },
    {
     "name": "stderr",
     "output_type": "stream",
     "text": [
      "NEBUU: No timezone found, symbol may be delisted\n"
     ]
    },
    {
     "name": "stdout",
     "output_type": "stream",
     "text": [
      "4910. NEBUW\n"
     ]
    },
    {
     "name": "stderr",
     "output_type": "stream",
     "text": [
      "NEBUW: No timezone found, symbol may be delisted\n"
     ]
    },
    {
     "name": "stdout",
     "output_type": "stream",
     "text": [
      "4911. NEE\n",
      "4912. NEED\n"
     ]
    },
    {
     "name": "stderr",
     "output_type": "stream",
     "text": [
      "NEED: No price data found, symbol may be delisted (1d 2023-01-01 -> 2024-01-01)\n"
     ]
    },
    {
     "name": "stdout",
     "output_type": "stream",
     "text": [
      "4913. NEM\n",
      "4914. NEN\n",
      "4915. NEO\n",
      "4916. NEOG\n",
      "4917. NEON\n",
      "4918. NEOS\n"
     ]
    },
    {
     "name": "stderr",
     "output_type": "stream",
     "text": [
      "NEOS: No timezone found, symbol may be delisted\n"
     ]
    },
    {
     "name": "stdout",
     "output_type": "stream",
     "text": [
      "4919. NEP\n",
      "4920. NEPH\n",
      "4921. NEPT\n",
      "4922. NERD\n",
      "4923. NERV\n",
      "4924. NES\n"
     ]
    },
    {
     "name": "stderr",
     "output_type": "stream",
     "text": [
      "NES: No timezone found, symbol may be delisted\n"
     ]
    },
    {
     "name": "stdout",
     "output_type": "stream",
     "text": [
      "4925. NESR\n",
      "4926. NET\n",
      "4927. NETE\n"
     ]
    },
    {
     "name": "stderr",
     "output_type": "stream",
     "text": [
      "NETE: No timezone found, symbol may be delisted\n"
     ]
    },
    {
     "name": "stdout",
     "output_type": "stream",
     "text": [
      "4928. NETL\n",
      "4929. NEU\n",
      "4930. NEV\n"
     ]
    },
    {
     "name": "stderr",
     "output_type": "stream",
     "text": [
      "NEV: No timezone found, symbol may be delisted\n",
      "404 Client Error: Not Found for url: https://query2.finance.yahoo.com/v10/finance/quoteSummary/NEV?modules=financialData%2CquoteType%2CdefaultKeyStatistics%2CassetProfile%2CsummaryDetail&corsDomain=finance.yahoo.com&formatted=false&symbol=NEV&crumb=KUwSGfMjWIw\n"
     ]
    },
    {
     "name": "stdout",
     "output_type": "stream",
     "text": [
      "4931. NEW\n"
     ]
    },
    {
     "name": "stderr",
     "output_type": "stream",
     "text": [
      "NEW: No timezone found, symbol may be delisted\n"
     ]
    },
    {
     "name": "stdout",
     "output_type": "stream",
     "text": [
      "4932. NEWA\n"
     ]
    },
    {
     "name": "stderr",
     "output_type": "stream",
     "text": [
      "NEWA: No timezone found, symbol may be delisted\n"
     ]
    },
    {
     "name": "stdout",
     "output_type": "stream",
     "text": [
      "4933. NEWR\n"
     ]
    },
    {
     "name": "stderr",
     "output_type": "stream",
     "text": [
      "NEWR: No timezone found, symbol may be delisted\n",
      "404 Client Error: Not Found for url: https://query2.finance.yahoo.com/v10/finance/quoteSummary/NEWR?modules=financialData%2CquoteType%2CdefaultKeyStatistics%2CassetProfile%2CsummaryDetail&corsDomain=finance.yahoo.com&formatted=false&symbol=NEWR&crumb=KUwSGfMjWIw\n"
     ]
    },
    {
     "name": "stdout",
     "output_type": "stream",
     "text": [
      "4934. NEWT\n",
      "4935. NEWTL\n",
      "4936. NEX\n"
     ]
    },
    {
     "name": "stderr",
     "output_type": "stream",
     "text": [
      "NEX: No timezone found, symbol may be delisted\n",
      "404 Client Error: Not Found for url: https://query2.finance.yahoo.com/v10/finance/quoteSummary/NEX?modules=financialData%2CquoteType%2CdefaultKeyStatistics%2CassetProfile%2CsummaryDetail&corsDomain=finance.yahoo.com&formatted=false&symbol=NEX&crumb=KUwSGfMjWIw\n"
     ]
    },
    {
     "name": "stdout",
     "output_type": "stream",
     "text": [
      "4937. NEXA\n",
      "4938. NEXT\n",
      "4939. NFBK\n",
      "4940. NFE\n",
      "4941. NFG\n",
      "4942. NFH\n"
     ]
    },
    {
     "name": "stderr",
     "output_type": "stream",
     "text": [
      "NFH: No timezone found, symbol may be delisted\n"
     ]
    },
    {
     "name": "stdout",
     "output_type": "stream",
     "text": [
      "4943. NFIN\n"
     ]
    },
    {
     "name": "stderr",
     "output_type": "stream",
     "text": [
      "NFIN: No timezone found, symbol may be delisted\n"
     ]
    },
    {
     "name": "stdout",
     "output_type": "stream",
     "text": [
      "4944. NFINU\n"
     ]
    },
    {
     "name": "stderr",
     "output_type": "stream",
     "text": [
      "NFINU: No timezone found, symbol may be delisted\n"
     ]
    },
    {
     "name": "stdout",
     "output_type": "stream",
     "text": [
      "4945. NFJ\n",
      "4946. NFLT\n",
      "4947. NFLX\n",
      "4948. NFRA\n",
      "4949. NFTY\n",
      "4950. NG\n",
      "4951. NGD\n",
      "4952. NGE\n",
      "4953. NGG\n",
      "4954. NGHC\n"
     ]
    },
    {
     "name": "stderr",
     "output_type": "stream",
     "text": [
      "NGHC: No timezone found, symbol may be delisted\n"
     ]
    },
    {
     "name": "stdout",
     "output_type": "stream",
     "text": [
      "4955. NGHCN\n"
     ]
    },
    {
     "name": "stderr",
     "output_type": "stream",
     "text": [
      "NGHCN: No timezone found, symbol may be delisted\n"
     ]
    },
    {
     "name": "stdout",
     "output_type": "stream",
     "text": [
      "4956. NGHCO\n"
     ]
    },
    {
     "name": "stderr",
     "output_type": "stream",
     "text": [
      "NGHCO: No timezone found, symbol may be delisted\n"
     ]
    },
    {
     "name": "stdout",
     "output_type": "stream",
     "text": [
      "4957. NGHCP\n"
     ]
    },
    {
     "name": "stderr",
     "output_type": "stream",
     "text": [
      "NGHCP: No timezone found, symbol may be delisted\n"
     ]
    },
    {
     "name": "stdout",
     "output_type": "stream",
     "text": [
      "4958. NGHCZ\n"
     ]
    },
    {
     "name": "stderr",
     "output_type": "stream",
     "text": [
      "NGHCZ: No timezone found, symbol may be delisted\n"
     ]
    },
    {
     "name": "stdout",
     "output_type": "stream",
     "text": [
      "4959. NGL\n",
      "4960. NGM\n",
      "4961. NGS\n",
      "4962. NGVC\n",
      "4963. NGVT\n",
      "4964. NH\n"
     ]
    },
    {
     "name": "stderr",
     "output_type": "stream",
     "text": [
      "NH: No timezone found, symbol may be delisted\n"
     ]
    },
    {
     "name": "stdout",
     "output_type": "stream",
     "text": [
      "4965. NHA\n"
     ]
    },
    {
     "name": "stderr",
     "output_type": "stream",
     "text": [
      "NHA: No timezone found, symbol may be delisted\n"
     ]
    },
    {
     "name": "stdout",
     "output_type": "stream",
     "text": [
      "4966. NHC\n",
      "4967. NHF\n"
     ]
    },
    {
     "name": "stderr",
     "output_type": "stream",
     "text": [
      "NHF: No timezone found, symbol may be delisted\n"
     ]
    },
    {
     "name": "stdout",
     "output_type": "stream",
     "text": [
      "4968. NHI\n",
      "4969. NHLD\n"
     ]
    },
    {
     "name": "stderr",
     "output_type": "stream",
     "text": [
      "NHLD: No timezone found, symbol may be delisted\n"
     ]
    },
    {
     "name": "stdout",
     "output_type": "stream",
     "text": [
      "4970. NHS\n",
      "4971. NHTC\n",
      "4972. NI\n",
      "4973. NIB\n",
      "4974. NICE\n",
      "4975. NICK\n",
      "4976. NID\n"
     ]
    },
    {
     "name": "stderr",
     "output_type": "stream",
     "text": [
      "NID: No timezone found, symbol may be delisted\n",
      "404 Client Error: Not Found for url: https://query2.finance.yahoo.com/v10/finance/quoteSummary/NID?modules=financialData%2CquoteType%2CdefaultKeyStatistics%2CassetProfile%2CsummaryDetail&corsDomain=finance.yahoo.com&formatted=false&symbol=NID&crumb=KUwSGfMjWIw\n"
     ]
    },
    {
     "name": "stdout",
     "output_type": "stream",
     "text": [
      "4977. NIE\n",
      "4978. NIM\n",
      "4979. NINE\n",
      "4980. NIO\n",
      "4981. NIQ\n"
     ]
    },
    {
     "name": "stderr",
     "output_type": "stream",
     "text": [
      "NIQ: No timezone found, symbol may be delisted\n",
      "404 Client Error: Not Found for url: https://query2.finance.yahoo.com/v10/finance/quoteSummary/NIQ?modules=financialData%2CquoteType%2CdefaultKeyStatistics%2CassetProfile%2CsummaryDetail&corsDomain=finance.yahoo.com&formatted=false&symbol=NIQ&crumb=KUwSGfMjWIw\n"
     ]
    },
    {
     "name": "stdout",
     "output_type": "stream",
     "text": [
      "4982. NIU\n",
      "4983. NJAN\n",
      "4984. NJR\n",
      "4985. NJV\n"
     ]
    },
    {
     "name": "stderr",
     "output_type": "stream",
     "text": [
      "NJV: No timezone found, symbol may be delisted\n"
     ]
    },
    {
     "name": "stdout",
     "output_type": "stream",
     "text": [
      "4986. NK\n"
     ]
    },
    {
     "name": "stderr",
     "output_type": "stream",
     "text": [
      "NK: No timezone found, symbol may be delisted\n"
     ]
    },
    {
     "name": "stdout",
     "output_type": "stream",
     "text": [
      "4987. NKE\n",
      "4988. NKG\n"
     ]
    },
    {
     "name": "stderr",
     "output_type": "stream",
     "text": [
      "NKG: No timezone found, symbol may be delisted\n"
     ]
    },
    {
     "name": "stdout",
     "output_type": "stream",
     "text": [
      "4989. NKSH\n",
      "4990. NKTR\n",
      "4991. NKX\n",
      "4992. NL\n",
      "4993. NLOK\n"
     ]
    },
    {
     "name": "stderr",
     "output_type": "stream",
     "text": [
      "NLOK: No timezone found, symbol may be delisted\n"
     ]
    },
    {
     "name": "stdout",
     "output_type": "stream",
     "text": [
      "4994. NLR\n",
      "4995. NLS\n"
     ]
    },
    {
     "name": "stderr",
     "output_type": "stream",
     "text": [
      "NLS: No timezone found, symbol may be delisted\n",
      "404 Client Error: Not Found for url: https://query2.finance.yahoo.com/v10/finance/quoteSummary/NLS?modules=financialData%2CquoteType%2CdefaultKeyStatistics%2CassetProfile%2CsummaryDetail&corsDomain=finance.yahoo.com&formatted=false&symbol=NLS&crumb=KUwSGfMjWIw\n"
     ]
    },
    {
     "name": "stdout",
     "output_type": "stream",
     "text": [
      "4996. NLSN\n"
     ]
    },
    {
     "name": "stderr",
     "output_type": "stream",
     "text": [
      "NLSN: No timezone found, symbol may be delisted\n"
     ]
    },
    {
     "name": "stdout",
     "output_type": "stream",
     "text": [
      "4997. NLTX\n",
      "4998. NLY\n",
      "4999. NM\n",
      "5000. NMCI\n"
     ]
    },
    {
     "name": "stderr",
     "output_type": "stream",
     "text": [
      "NMCI: No timezone found, symbol may be delisted\n"
     ]
    },
    {
     "name": "stdout",
     "output_type": "stream",
     "text": [
      "5001. NMCO\n",
      "5002. NMFC\n",
      "5003. NMFX\n"
     ]
    },
    {
     "name": "stderr",
     "output_type": "stream",
     "text": [
      "NMFX: No timezone found, symbol may be delisted\n"
     ]
    },
    {
     "name": "stdout",
     "output_type": "stream",
     "text": [
      "5004. NMI\n",
      "5005. NMIH\n",
      "5006. NML\n",
      "5007. NMM\n",
      "5008. NMR\n",
      "5009. NMRD\n",
      "5010. NMRK\n",
      "5011. NMS\n",
      "5012. NMT\n",
      "5013. NMY\n"
     ]
    },
    {
     "name": "stderr",
     "output_type": "stream",
     "text": [
      "NMY: No timezone found, symbol may be delisted\n"
     ]
    },
    {
     "name": "stdout",
     "output_type": "stream",
     "text": [
      "5014. NMZ\n",
      "5015. NNA\n"
     ]
    },
    {
     "name": "stderr",
     "output_type": "stream",
     "text": [
      "NNA: No timezone found, symbol may be delisted\n"
     ]
    },
    {
     "name": "stdout",
     "output_type": "stream",
     "text": [
      "5016. NNBR\n",
      "5017. NNDM\n",
      "5018. NNI\n",
      "5019. NNN\n",
      "5020. NNVC\n",
      "5021. NNY\n",
      "5022. NOA\n",
      "5023. NOAH\n",
      "5024. NOBL\n",
      "5025. NOC\n",
      "5026. NOCT\n",
      "5027. NODK\n",
      "5028. NOG\n",
      "5029. NOK\n",
      "5030. NOM\n",
      "5031. NOMD\n",
      "5032. NORW\n",
      "5033. NOV\n",
      "5034. NOVA\n",
      "5035. NOVN\n"
     ]
    },
    {
     "name": "stderr",
     "output_type": "stream",
     "text": [
      "NOVN: No timezone found, symbol may be delisted\n",
      "404 Client Error: Not Found for url: https://query2.finance.yahoo.com/v10/finance/quoteSummary/NOVN?modules=financialData%2CquoteType%2CdefaultKeyStatistics%2CassetProfile%2CsummaryDetail&corsDomain=finance.yahoo.com&formatted=false&symbol=NOVN&crumb=KUwSGfMjWIw\n"
     ]
    },
    {
     "name": "stdout",
     "output_type": "stream",
     "text": [
      "5036. NOVT\n",
      "5037. NOW\n",
      "5038. NP\n"
     ]
    },
    {
     "name": "stderr",
     "output_type": "stream",
     "text": [
      "NP: No timezone found, symbol may be delisted\n"
     ]
    },
    {
     "name": "stdout",
     "output_type": "stream",
     "text": [
      "5039. NPA\n"
     ]
    },
    {
     "name": "stderr",
     "output_type": "stream",
     "text": [
      "NPA: No timezone found, symbol may be delisted\n"
     ]
    },
    {
     "name": "stdout",
     "output_type": "stream",
     "text": [
      "5040. NPAUU\n"
     ]
    },
    {
     "name": "stderr",
     "output_type": "stream",
     "text": [
      "NPAUU: No timezone found, symbol may be delisted\n"
     ]
    },
    {
     "name": "stdout",
     "output_type": "stream",
     "text": [
      "5041. NPK\n",
      "5042. NPN\n"
     ]
    },
    {
     "name": "stderr",
     "output_type": "stream",
     "text": [
      "NPN: No timezone found, symbol may be delisted\n"
     ]
    },
    {
     "name": "stdout",
     "output_type": "stream",
     "text": [
      "5043. NPO\n",
      "5044. NPTN\n"
     ]
    },
    {
     "name": "stderr",
     "output_type": "stream",
     "text": [
      "NPTN: No timezone found, symbol may be delisted\n"
     ]
    },
    {
     "name": "stdout",
     "output_type": "stream",
     "text": [
      "5045. NPV\n",
      "5046. NQP\n",
      "5047. NR\n",
      "5048. NRBO\n",
      "5049. NRC\n",
      "5050. NREF\n",
      "5051. NRG\n",
      "5052. NRGD\n",
      "5053. NRGO\n"
     ]
    },
    {
     "name": "stderr",
     "output_type": "stream",
     "text": [
      "NRGO: No price data found, symbol may be delisted (1d 2023-01-01 -> 2024-01-01)\n"
     ]
    },
    {
     "name": "stdout",
     "output_type": "stream",
     "text": [
      "5054. NRGU\n",
      "5055. NRGX\n",
      "5056. NRGZ\n"
     ]
    },
    {
     "name": "stderr",
     "output_type": "stream",
     "text": [
      "NRGZ: No price data found, symbol may be delisted (1d 2023-01-01 -> 2024-01-01)\n"
     ]
    },
    {
     "name": "stdout",
     "output_type": "stream",
     "text": [
      "5057. NRIM\n",
      "5058. NRK\n",
      "5059. NRO\n",
      "5060. NRP\n",
      "5061. NRT\n",
      "5062. NRUC\n",
      "5063. NRZ\n"
     ]
    },
    {
     "name": "stderr",
     "output_type": "stream",
     "text": [
      "NRZ: No timezone found, symbol may be delisted\n"
     ]
    },
    {
     "name": "stdout",
     "output_type": "stream",
     "text": [
      "5064. NS\n",
      "5065. NSA\n",
      "5066. NSC\n",
      "5067. NSCO\n"
     ]
    },
    {
     "name": "stderr",
     "output_type": "stream",
     "text": [
      "NSCO: No timezone found, symbol may be delisted\n"
     ]
    },
    {
     "name": "stdout",
     "output_type": "stream",
     "text": [
      "5068. NSEC\n"
     ]
    },
    {
     "name": "stderr",
     "output_type": "stream",
     "text": [
      "NSEC: No timezone found, symbol may be delisted\n"
     ]
    },
    {
     "name": "stdout",
     "output_type": "stream",
     "text": [
      "5069. NSIT\n",
      "5070. NSL\n"
     ]
    },
    {
     "name": "stderr",
     "output_type": "stream",
     "text": [
      "NSL: No timezone found, symbol may be delisted\n",
      "404 Client Error: Not Found for url: https://query2.finance.yahoo.com/v10/finance/quoteSummary/NSL?modules=financialData%2CquoteType%2CdefaultKeyStatistics%2CassetProfile%2CsummaryDetail&corsDomain=finance.yahoo.com&formatted=false&symbol=NSL&crumb=KUwSGfMjWIw\n"
     ]
    },
    {
     "name": "stdout",
     "output_type": "stream",
     "text": [
      "5071. NSP\n",
      "5072. NSPR\n",
      "5073. NSS\n",
      "5074. NSSC\n",
      "5075. NSTG\n",
      "5076. NSYS\n",
      "5077. NTAP\n",
      "5078. NTB\n",
      "5079. NTCO\n",
      "5080. NTCT\n",
      "5081. NTEC\n"
     ]
    },
    {
     "name": "stderr",
     "output_type": "stream",
     "text": [
      "NTEC: No timezone found, symbol may be delisted\n"
     ]
    },
    {
     "name": "stdout",
     "output_type": "stream",
     "text": [
      "5082. NTES\n",
      "5083. NTG\n",
      "5084. NTGN\n"
     ]
    },
    {
     "name": "stderr",
     "output_type": "stream",
     "text": [
      "NTGN: No timezone found, symbol may be delisted\n"
     ]
    },
    {
     "name": "stdout",
     "output_type": "stream",
     "text": [
      "5085. NTGR\n",
      "5086. NTIC\n",
      "5087. NTIP\n",
      "5088. NTLA\n",
      "5089. NTN\n"
     ]
    },
    {
     "name": "stderr",
     "output_type": "stream",
     "text": [
      "NTN: No timezone found, symbol may be delisted\n"
     ]
    },
    {
     "name": "stdout",
     "output_type": "stream",
     "text": [
      "5090. NTNX\n",
      "5091. NTP\n"
     ]
    },
    {
     "name": "stderr",
     "output_type": "stream",
     "text": [
      "NTP: No timezone found, symbol may be delisted\n"
     ]
    },
    {
     "name": "stdout",
     "output_type": "stream",
     "text": [
      "5092. NTR\n",
      "5093. NTRA\n",
      "5094. NTRP\n"
     ]
    },
    {
     "name": "stderr",
     "output_type": "stream",
     "text": [
      "NTRP: No timezone found, symbol may be delisted\n"
     ]
    },
    {
     "name": "stdout",
     "output_type": "stream",
     "text": [
      "5095. NTRS\n",
      "5096. NTRSO\n",
      "5097. NTSX\n",
      "5098. NTUS\n"
     ]
    },
    {
     "name": "stderr",
     "output_type": "stream",
     "text": [
      "NTUS: No timezone found, symbol may be delisted\n"
     ]
    },
    {
     "name": "stdout",
     "output_type": "stream",
     "text": [
      "5099. NTWK\n",
      "5100. NTZ\n",
      "5101. NUAG\n",
      "5102. NUAN\n"
     ]
    },
    {
     "name": "stderr",
     "output_type": "stream",
     "text": [
      "NUAN: No timezone found, symbol may be delisted\n"
     ]
    },
    {
     "name": "stdout",
     "output_type": "stream",
     "text": [
      "5103. NUBD\n",
      "5104. NUDM\n",
      "5105. NUE\n",
      "5106. NUEM\n",
      "5107. NUGT\n",
      "5108. NUHY\n",
      "5109. NULC\n",
      "5110. NULG\n",
      "5111. NULV\n",
      "5112. NUM\n"
     ]
    },
    {
     "name": "stderr",
     "output_type": "stream",
     "text": [
      "NUM: No timezone found, symbol may be delisted\n"
     ]
    },
    {
     "name": "stdout",
     "output_type": "stream",
     "text": [
      "5113. NUMG\n",
      "5114. NUMV\n",
      "5115. NUO\n"
     ]
    },
    {
     "name": "stderr",
     "output_type": "stream",
     "text": [
      "NUO: No timezone found, symbol may be delisted\n",
      "404 Client Error: Not Found for url: https://query2.finance.yahoo.com/v10/finance/quoteSummary/NUO?modules=financialData%2CquoteType%2CdefaultKeyStatistics%2CassetProfile%2CsummaryDetail&corsDomain=finance.yahoo.com&formatted=false&symbol=NUO&crumb=KUwSGfMjWIw\n"
     ]
    },
    {
     "name": "stdout",
     "output_type": "stream",
     "text": [
      "5116. NURE\n",
      "5117. NURO\n",
      "5118. NUS\n",
      "5119. NUSA\n",
      "5120. NUSC\n",
      "5121. NUSI\n",
      "5122. NUV\n",
      "5123. NUVA\n"
     ]
    },
    {
     "name": "stderr",
     "output_type": "stream",
     "text": [
      "NUVA: No timezone found, symbol may be delisted\n",
      "404 Client Error: Not Found for url: https://query2.finance.yahoo.com/v10/finance/quoteSummary/NUVA?modules=financialData%2CquoteType%2CdefaultKeyStatistics%2CassetProfile%2CsummaryDetail&corsDomain=finance.yahoo.com&formatted=false&symbol=NUVA&crumb=KUwSGfMjWIw\n"
     ]
    },
    {
     "name": "stdout",
     "output_type": "stream",
     "text": [
      "5124. NUW\n",
      "5125. NVAX\n",
      "5126. NVCN\n"
     ]
    },
    {
     "name": "stderr",
     "output_type": "stream",
     "text": [
      "NVCN: No timezone found, symbol may be delisted\n"
     ]
    },
    {
     "name": "stdout",
     "output_type": "stream",
     "text": [
      "5127. NVCR\n",
      "5128. NVDA\n",
      "5129. NVEC\n",
      "5130. NVEE\n",
      "5131. NVFY\n",
      "5132. NVG\n",
      "5133. NVGS\n",
      "5134. NVIV\n",
      "5135. NVMI\n",
      "5136. NVO\n",
      "5137. NVR\n",
      "5138. NVRO\n",
      "5139. NVS\n",
      "5140. NVST\n",
      "5141. NVT\n",
      "5142. NVTA\n",
      "5143. NVUS\n"
     ]
    },
    {
     "name": "stderr",
     "output_type": "stream",
     "text": [
      "NVUS: No timezone found, symbol may be delisted\n"
     ]
    },
    {
     "name": "stdout",
     "output_type": "stream",
     "text": [
      "5144. NWBI\n",
      "5145. NWE\n",
      "5146. NWFL\n",
      "5147. NWGI\n"
     ]
    },
    {
     "name": "stderr",
     "output_type": "stream",
     "text": [
      "NWGI: No timezone found, symbol may be delisted\n"
     ]
    },
    {
     "name": "stdout",
     "output_type": "stream",
     "text": [
      "5148. NWHM\n"
     ]
    },
    {
     "name": "stderr",
     "output_type": "stream",
     "text": [
      "NWHM: No timezone found, symbol may be delisted\n"
     ]
    },
    {
     "name": "stdout",
     "output_type": "stream",
     "text": [
      "5149. NWL\n",
      "5150. NWLI\n",
      "5151. NWN\n",
      "5152. NWPX\n",
      "5153. NWS\n",
      "5154. NWSA\n",
      "5155. NX\n",
      "5156. NXC\n",
      "5157. NXE\n",
      "5158. NXGN\n"
     ]
    },
    {
     "name": "stderr",
     "output_type": "stream",
     "text": [
      "NXGN: No timezone found, symbol may be delisted\n",
      "404 Client Error: Not Found for url: https://query2.finance.yahoo.com/v10/finance/quoteSummary/NXGN?modules=financialData%2CquoteType%2CdefaultKeyStatistics%2CassetProfile%2CsummaryDetail&corsDomain=finance.yahoo.com&formatted=false&symbol=NXGN&crumb=KUwSGfMjWIw\n"
     ]
    },
    {
     "name": "stdout",
     "output_type": "stream",
     "text": [
      "5159. NXJ\n",
      "5160. NXN\n",
      "5161. NXP\n",
      "5162. NXPI\n",
      "5163. NXQ\n"
     ]
    },
    {
     "name": "stderr",
     "output_type": "stream",
     "text": [
      "NXQ: No timezone found, symbol may be delisted\n"
     ]
    },
    {
     "name": "stdout",
     "output_type": "stream",
     "text": [
      "5164. NXR\n"
     ]
    },
    {
     "name": "stderr",
     "output_type": "stream",
     "text": [
      "NXR: No timezone found, symbol may be delisted\n"
     ]
    },
    {
     "name": "stdout",
     "output_type": "stream",
     "text": [
      "5165. NXRT\n",
      "5166. NXST\n",
      "5167. NXTC\n",
      "5168. NXTD\n"
     ]
    },
    {
     "name": "stderr",
     "output_type": "stream",
     "text": [
      "NXTD: No timezone found, symbol may be delisted\n"
     ]
    },
    {
     "name": "stdout",
     "output_type": "stream",
     "text": [
      "5169. NXTG\n",
      "5170. NYCB\n",
      "5171. NYF\n",
      "5172. NYMT\n",
      "5173. NYMTM\n",
      "5174. NYMTN\n",
      "5175. NYMTO\n"
     ]
    },
    {
     "name": "stderr",
     "output_type": "stream",
     "text": [
      "NYMTO: No timezone found, symbol may be delisted\n"
     ]
    },
    {
     "name": "stdout",
     "output_type": "stream",
     "text": [
      "5176. NYMTP\n"
     ]
    },
    {
     "name": "stderr",
     "output_type": "stream",
     "text": [
      "NYMTP: No timezone found, symbol may be delisted\n"
     ]
    },
    {
     "name": "stdout",
     "output_type": "stream",
     "text": [
      "5177. NYMX\n"
     ]
    },
    {
     "name": "stderr",
     "output_type": "stream",
     "text": [
      "NYMX: No timezone found, symbol may be delisted\n",
      "404 Client Error: Not Found for url: https://query2.finance.yahoo.com/v10/finance/quoteSummary/NYMX?modules=financialData%2CquoteType%2CdefaultKeyStatistics%2CassetProfile%2CsummaryDetail&corsDomain=finance.yahoo.com&formatted=false&symbol=NYMX&crumb=KUwSGfMjWIw\n"
     ]
    },
    {
     "name": "stdout",
     "output_type": "stream",
     "text": [
      "5178. NYT\n",
      "5179. NYV\n"
     ]
    },
    {
     "name": "stderr",
     "output_type": "stream",
     "text": [
      "NYV: No timezone found, symbol may be delisted\n"
     ]
    },
    {
     "name": "stdout",
     "output_type": "stream",
     "text": [
      "5180. NZF\n",
      "5181. O\n",
      "5182. OAC\n"
     ]
    },
    {
     "name": "stderr",
     "output_type": "stream",
     "text": [
      "OAC: No timezone found, symbol may be delisted\n"
     ]
    },
    {
     "name": "stdout",
     "output_type": "stream",
     "text": [
      "5183. OAS\n"
     ]
    },
    {
     "name": "stderr",
     "output_type": "stream",
     "text": [
      "OAS: No timezone found, symbol may be delisted\n"
     ]
    },
    {
     "name": "stdout",
     "output_type": "stream",
     "text": [
      "5184. OBAS\n"
     ]
    },
    {
     "name": "stderr",
     "output_type": "stream",
     "text": [
      "OBAS: No timezone found, symbol may be delisted\n"
     ]
    },
    {
     "name": "stdout",
     "output_type": "stream",
     "text": [
      "5185. OBCI\n"
     ]
    },
    {
     "name": "stderr",
     "output_type": "stream",
     "text": [
      "OBCI: No timezone found, symbol may be delisted\n"
     ]
    },
    {
     "name": "stdout",
     "output_type": "stream",
     "text": [
      "5186. OBLG\n",
      "5187. OBLN\n"
     ]
    },
    {
     "name": "stderr",
     "output_type": "stream",
     "text": [
      "OBLN: No timezone found, symbol may be delisted\n"
     ]
    },
    {
     "name": "stdout",
     "output_type": "stream",
     "text": [
      "5188. OBNK\n"
     ]
    },
    {
     "name": "stderr",
     "output_type": "stream",
     "text": [
      "OBNK: No timezone found, symbol may be delisted\n"
     ]
    },
    {
     "name": "stdout",
     "output_type": "stream",
     "text": [
      "5189. OBOR\n",
      "5190. OBSV\n"
     ]
    },
    {
     "name": "stderr",
     "output_type": "stream",
     "text": [
      "OBSV: No timezone found, symbol may be delisted\n"
     ]
    },
    {
     "name": "stdout",
     "output_type": "stream",
     "text": [
      "5191. OC\n",
      "5192. OCC\n",
      "5193. OCCI\n",
      "5194. OCCIP\n"
     ]
    },
    {
     "name": "stderr",
     "output_type": "stream",
     "text": [
      "OCCIP: No timezone found, symbol may be delisted\n"
     ]
    },
    {
     "name": "stdout",
     "output_type": "stream",
     "text": [
      "5195. OCFC\n",
      "5196. OCFT\n",
      "5197. OCGN\n",
      "5198. OCIO\n",
      "5199. OCN\n",
      "5200. OCSI\n"
     ]
    },
    {
     "name": "stderr",
     "output_type": "stream",
     "text": [
      "OCSI: No timezone found, symbol may be delisted\n"
     ]
    },
    {
     "name": "stdout",
     "output_type": "stream",
     "text": [
      "5201. OCSL\n",
      "5202. OCUL\n",
      "5203. OCX\n",
      "5204. ODC\n",
      "5205. ODFL\n",
      "5206. ODP\n",
      "5207. ODT\n"
     ]
    },
    {
     "name": "stderr",
     "output_type": "stream",
     "text": [
      "ODT: No timezone found, symbol may be delisted\n"
     ]
    },
    {
     "name": "stdout",
     "output_type": "stream",
     "text": [
      "5208. OEC\n",
      "5209. OEF\n",
      "5210. OESX\n",
      "5211. OEUR\n",
      "5212. OFC\n"
     ]
    },
    {
     "name": "stderr",
     "output_type": "stream",
     "text": [
      "OFC: No timezone found, symbol may be delisted\n",
      "404 Client Error: Not Found for url: https://query2.finance.yahoo.com/v10/finance/quoteSummary/OFC?modules=financialData%2CquoteType%2CdefaultKeyStatistics%2CassetProfile%2CsummaryDetail&corsDomain=finance.yahoo.com&formatted=false&symbol=OFC&crumb=KUwSGfMjWIw\n"
     ]
    },
    {
     "name": "stdout",
     "output_type": "stream",
     "text": [
      "5213. OFED\n",
      "5214. OFG\n",
      "5215. OFIX\n",
      "5216. OFLX\n",
      "5217. OFS\n",
      "5218. OFSSI\n"
     ]
    },
    {
     "name": "stderr",
     "output_type": "stream",
     "text": [
      "OFSSI: No timezone found, symbol may be delisted\n",
      "404 Client Error: Not Found for url: https://query2.finance.yahoo.com/v10/finance/quoteSummary/OFSSI?modules=financialData%2CquoteType%2CdefaultKeyStatistics%2CassetProfile%2CsummaryDetail&corsDomain=finance.yahoo.com&formatted=false&symbol=OFSSI&crumb=KUwSGfMjWIw\n"
     ]
    },
    {
     "name": "stdout",
     "output_type": "stream",
     "text": [
      "5219. OFSSZ\n"
     ]
    },
    {
     "name": "stderr",
     "output_type": "stream",
     "text": [
      "OFSSZ: No price data found, symbol may be delisted (1d 2023-01-01 -> 2024-01-01)\n"
     ]
    },
    {
     "name": "stdout",
     "output_type": "stream",
     "text": [
      "5220. OGCP\n",
      "5221. OGE\n",
      "5222. OGEN\n",
      "5223. OGI\n",
      "5224. OGIG\n",
      "5225. OGS\n",
      "5226. OHI\n",
      "5227. OI\n",
      "5228. OIA\n",
      "5229. OIH\n",
      "5230. OII\n",
      "5231. OIIM\n"
     ]
    },
    {
     "name": "stderr",
     "output_type": "stream",
     "text": [
      "OIIM: No timezone found, symbol may be delisted\n"
     ]
    },
    {
     "name": "stdout",
     "output_type": "stream",
     "text": [
      "5232. OIL\n",
      "5233. OILK\n",
      "5234. OILX\n"
     ]
    },
    {
     "name": "stderr",
     "output_type": "stream",
     "text": [
      "OILX: No price data found, symbol may be delisted (1d 2023-01-01 -> 2024-01-01)\n"
     ]
    },
    {
     "name": "stdout",
     "output_type": "stream",
     "text": [
      "5235. OIS\n",
      "5236. OKE\n",
      "5237. OKTA\n",
      "5238. OLD\n"
     ]
    },
    {
     "name": "stderr",
     "output_type": "stream",
     "text": [
      "OLD: No price data found, symbol may be delisted (1d 2023-01-01 -> 2024-01-01)\n"
     ]
    },
    {
     "name": "stdout",
     "output_type": "stream",
     "text": [
      "5239. OLED\n",
      "5240. OLEM\n",
      "5241. OLLI\n",
      "5242. OLN\n",
      "5243. OLP\n",
      "5244. OMAB\n",
      "5245. OMC\n",
      "5246. OMCL\n",
      "5247. OMER\n",
      "5248. OMEX\n",
      "5249. OMF\n",
      "5250. OMFL\n",
      "5251. OMFS\n",
      "5252. OMI\n",
      "5253. OMP\n"
     ]
    },
    {
     "name": "stderr",
     "output_type": "stream",
     "text": [
      "OMP: No timezone found, symbol may be delisted\n"
     ]
    },
    {
     "name": "stdout",
     "output_type": "stream",
     "text": [
      "5254. ON\n",
      "5255. ONB\n",
      "5256. ONCS\n"
     ]
    },
    {
     "name": "stderr",
     "output_type": "stream",
     "text": [
      "ONCS: No timezone found, symbol may be delisted\n",
      "404 Client Error: Not Found for url: https://query2.finance.yahoo.com/v10/finance/quoteSummary/ONCS?modules=financialData%2CquoteType%2CdefaultKeyStatistics%2CassetProfile%2CsummaryDetail&corsDomain=finance.yahoo.com&formatted=false&symbol=ONCS&crumb=KUwSGfMjWIw\n"
     ]
    },
    {
     "name": "stdout",
     "output_type": "stream",
     "text": [
      "5257. ONCT\n",
      "5258. ONCY\n",
      "5259. ONDK\n"
     ]
    },
    {
     "name": "stderr",
     "output_type": "stream",
     "text": [
      "ONDK: No timezone found, symbol may be delisted\n"
     ]
    },
    {
     "name": "stdout",
     "output_type": "stream",
     "text": [
      "5260. ONE\n"
     ]
    },
    {
     "name": "stderr",
     "output_type": "stream",
     "text": [
      "ONE: No timezone found, symbol may be delisted\n"
     ]
    },
    {
     "name": "stdout",
     "output_type": "stream",
     "text": [
      "5261. ONEM\n"
     ]
    },
    {
     "name": "stderr",
     "output_type": "stream",
     "text": [
      "ONEM: No timezone found, symbol may be delisted\n"
     ]
    },
    {
     "name": "stdout",
     "output_type": "stream",
     "text": [
      "5262. ONEO\n",
      "5263. ONEQ\n",
      "5264. ONEV\n",
      "5265. ONEW\n",
      "5266. ONEY\n",
      "5267. ONLN\n",
      "5268. ONTO\n",
      "5269. ONTX\n",
      "5270. ONVO\n",
      "5271. OOMA\n",
      "5272. OPB\n"
     ]
    },
    {
     "name": "stderr",
     "output_type": "stream",
     "text": [
      "OPB: No timezone found, symbol may be delisted\n"
     ]
    },
    {
     "name": "stdout",
     "output_type": "stream",
     "text": [
      "5273. OPBK\n",
      "5274. OPCH\n",
      "5275. OPER\n",
      "5276. OPES\n"
     ]
    },
    {
     "name": "stderr",
     "output_type": "stream",
     "text": [
      "OPES: No timezone found, symbol may be delisted\n"
     ]
    },
    {
     "name": "stdout",
     "output_type": "stream",
     "text": [
      "5277. OPESU\n"
     ]
    },
    {
     "name": "stderr",
     "output_type": "stream",
     "text": [
      "OPESU: No timezone found, symbol may be delisted\n"
     ]
    },
    {
     "name": "stdout",
     "output_type": "stream",
     "text": [
      "5278. OPGN\n",
      "5279. OPHC\n",
      "5280. OPI\n",
      "5281. OPINI\n"
     ]
    },
    {
     "name": "stderr",
     "output_type": "stream",
     "text": [
      "OPINI: No timezone found, symbol may be delisted\n"
     ]
    },
    {
     "name": "stdout",
     "output_type": "stream",
     "text": [
      "5282. OPK\n",
      "5283. OPNT\n"
     ]
    },
    {
     "name": "stderr",
     "output_type": "stream",
     "text": [
      "OPNT: No timezone found, symbol may be delisted\n"
     ]
    },
    {
     "name": "stdout",
     "output_type": "stream",
     "text": [
      "5284. OPOF\n",
      "5285. OPP\n",
      "5286. OPRA\n",
      "5287. OPRT\n",
      "5288. OPRX\n",
      "5289. OPTN\n",
      "5290. OPTT\n",
      "5291. OPY\n",
      "5292. OR\n",
      "5293. ORA\n",
      "5294. ORAN\n",
      "5295. ORBC\n"
     ]
    },
    {
     "name": "stderr",
     "output_type": "stream",
     "text": [
      "ORBC: No timezone found, symbol may be delisted\n"
     ]
    },
    {
     "name": "stdout",
     "output_type": "stream",
     "text": [
      "5296. ORC\n",
      "5297. ORCC\n"
     ]
    },
    {
     "name": "stderr",
     "output_type": "stream",
     "text": [
      "ORCC: No timezone found, symbol may be delisted\n",
      "404 Client Error: Not Found for url: https://query2.finance.yahoo.com/v10/finance/quoteSummary/ORCC?modules=financialData%2CquoteType%2CdefaultKeyStatistics%2CassetProfile%2CsummaryDetail&corsDomain=finance.yahoo.com&formatted=false&symbol=ORCC&crumb=KUwSGfMjWIw\n"
     ]
    },
    {
     "name": "stdout",
     "output_type": "stream",
     "text": [
      "5298. ORCL\n",
      "5299. ORGO\n",
      "5300. ORGS\n",
      "5301. ORI\n",
      "5302. ORLY\n",
      "5303. ORMP\n",
      "5304. ORN\n",
      "5305. ORRF\n",
      "5306. ORSN\n"
     ]
    },
    {
     "name": "stderr",
     "output_type": "stream",
     "text": [
      "ORSN: No timezone found, symbol may be delisted\n"
     ]
    },
    {
     "name": "stdout",
     "output_type": "stream",
     "text": [
      "5307. ORSNU\n"
     ]
    },
    {
     "name": "stderr",
     "output_type": "stream",
     "text": [
      "ORSNU: No timezone found, symbol may be delisted\n"
     ]
    },
    {
     "name": "stdout",
     "output_type": "stream",
     "text": [
      "5308. ORTX\n",
      "5309. OSB\n"
     ]
    },
    {
     "name": "stderr",
     "output_type": "stream",
     "text": [
      "OSB: No timezone found, symbol may be delisted\n"
     ]
    },
    {
     "name": "stdout",
     "output_type": "stream",
     "text": [
      "5310. OSBC\n",
      "5311. OSCV\n",
      "5312. OSG\n",
      "5313. OSIS\n",
      "5314. OSK\n",
      "5315. OSMT\n"
     ]
    },
    {
     "name": "stderr",
     "output_type": "stream",
     "text": [
      "OSMT: No timezone found, symbol may be delisted\n"
     ]
    },
    {
     "name": "stdout",
     "output_type": "stream",
     "text": [
      "5316. OSN\n"
     ]
    },
    {
     "name": "stderr",
     "output_type": "stream",
     "text": [
      "OSN: No timezone found, symbol may be delisted\n"
     ]
    },
    {
     "name": "stdout",
     "output_type": "stream",
     "text": [
      "5317. OSPN\n",
      "5318. OSS\n",
      "5319. OSTK\n"
     ]
    },
    {
     "name": "stderr",
     "output_type": "stream",
     "text": [
      "OSTK: No timezone found, symbol may be delisted\n",
      "404 Client Error: Not Found for url: https://query2.finance.yahoo.com/v10/finance/quoteSummary/OSTK?modules=financialData%2CquoteType%2CdefaultKeyStatistics%2CassetProfile%2CsummaryDetail&corsDomain=finance.yahoo.com&formatted=false&symbol=OSTK&crumb=KUwSGfMjWIw\n"
     ]
    },
    {
     "name": "stdout",
     "output_type": "stream",
     "text": [
      "5320. OSUR\n",
      "5321. OSW\n",
      "5322. OTEL\n"
     ]
    },
    {
     "name": "stderr",
     "output_type": "stream",
     "text": [
      "OTEL: No timezone found, symbol may be delisted\n"
     ]
    },
    {
     "name": "stdout",
     "output_type": "stream",
     "text": [
      "5323. OTEX\n",
      "5324. OTIC\n"
     ]
    },
    {
     "name": "stderr",
     "output_type": "stream",
     "text": [
      "OTIC: No timezone found, symbol may be delisted\n"
     ]
    },
    {
     "name": "stdout",
     "output_type": "stream",
     "text": [
      "5325. OTLK\n",
      "5326. OTTR\n",
      "5327. OTTW\n",
      "5328. OUNZ\n",
      "5329. OUSA\n",
      "5330. OUSM\n",
      "5331. OUT\n",
      "5332. OVB\n",
      "5333. OVF\n",
      "5334. OVID\n",
      "5335. OVL\n",
      "5336. OVLY\n",
      "5337. OVM\n",
      "5338. OVS\n",
      "5339. OVV\n",
      "5340. OXBR\n",
      "5341. OXFD\n"
     ]
    },
    {
     "name": "stderr",
     "output_type": "stream",
     "text": [
      "OXFD: No timezone found, symbol may be delisted\n"
     ]
    },
    {
     "name": "stdout",
     "output_type": "stream",
     "text": [
      "5342. OXLC\n",
      "5343. OXLCM\n",
      "5344. OXLCO\n",
      "5345. OXLCP\n",
      "5346. OXM\n",
      "5347. OXSQ\n",
      "5348. OXSQL\n",
      "5349. OXSQZ\n",
      "5350. OXY\n",
      "5351. OYST\n"
     ]
    },
    {
     "name": "stderr",
     "output_type": "stream",
     "text": [
      "OYST: No timezone found, symbol may be delisted\n"
     ]
    },
    {
     "name": "stdout",
     "output_type": "stream",
     "text": [
      "5352. OZK\n",
      "5353. PAA\n",
      "5354. PAAC\n"
     ]
    },
    {
     "name": "stderr",
     "output_type": "stream",
     "text": [
      "PAAC: No timezone found, symbol may be delisted\n"
     ]
    },
    {
     "name": "stdout",
     "output_type": "stream",
     "text": [
      "5355. PAACU\n"
     ]
    },
    {
     "name": "stderr",
     "output_type": "stream",
     "text": [
      "PAACU: No timezone found, symbol may be delisted\n"
     ]
    },
    {
     "name": "stdout",
     "output_type": "stream",
     "text": [
      "5356. PAAS\n",
      "5357. PAC\n",
      "5358. PACA\n"
     ]
    },
    {
     "name": "stderr",
     "output_type": "stream",
     "text": [
      "PACA: No price data found, symbol may be delisted (1d 2023-01-01 -> 2024-01-01)\n"
     ]
    },
    {
     "name": "stdout",
     "output_type": "stream",
     "text": [
      "5359. PACB\n",
      "5360. PACD\n"
     ]
    },
    {
     "name": "stderr",
     "output_type": "stream",
     "text": [
      "PACD: No timezone found, symbol may be delisted\n"
     ]
    },
    {
     "name": "stdout",
     "output_type": "stream",
     "text": [
      "5361. PACK\n",
      "5362. PACQ\n"
     ]
    },
    {
     "name": "stderr",
     "output_type": "stream",
     "text": [
      "PACQ: No timezone found, symbol may be delisted\n"
     ]
    },
    {
     "name": "stdout",
     "output_type": "stream",
     "text": [
      "5363. PACQU\n"
     ]
    },
    {
     "name": "stderr",
     "output_type": "stream",
     "text": [
      "PACQU: No timezone found, symbol may be delisted\n"
     ]
    },
    {
     "name": "stdout",
     "output_type": "stream",
     "text": [
      "5364. PACQW\n"
     ]
    },
    {
     "name": "stderr",
     "output_type": "stream",
     "text": [
      "PACQW: No timezone found, symbol may be delisted\n"
     ]
    },
    {
     "name": "stdout",
     "output_type": "stream",
     "text": [
      "5365. PACW\n",
      "5366. PAE\n"
     ]
    },
    {
     "name": "stderr",
     "output_type": "stream",
     "text": [
      "PAE: No timezone found, symbol may be delisted\n"
     ]
    },
    {
     "name": "stdout",
     "output_type": "stream",
     "text": [
      "5367. PAG\n",
      "5368. PAGP\n",
      "5369. PAGS\n",
      "5370. PAHC\n",
      "5371. PAI\n",
      "5372. PAK\n",
      "5373. PALL\n",
      "5374. PAM\n",
      "5375. PANL\n",
      "5376. PANW\n",
      "5377. PAPR\n",
      "5378. PAR\n",
      "5379. PARR\n",
      "5380. PASG\n",
      "5381. PASS\n"
     ]
    },
    {
     "name": "stderr",
     "output_type": "stream",
     "text": [
      "PASS: No price data found, symbol may be delisted (1d 2023-01-01 -> 2024-01-01)\n"
     ]
    },
    {
     "name": "stdout",
     "output_type": "stream",
     "text": [
      "5382. PATI\n",
      "5383. PATK\n",
      "5384. PAUG\n",
      "5385. PAVE\n",
      "5386. PAVM\n",
      "5387. PAVMW\n"
     ]
    },
    {
     "name": "stderr",
     "output_type": "stream",
     "text": [
      "PAVMW: No price data found, symbol may be delisted (1d 2023-01-01 -> 2024-01-01)\n"
     ]
    },
    {
     "name": "stdout",
     "output_type": "stream",
     "text": [
      "5388. PAWZ\n",
      "5389. PAYC\n",
      "5390. PAYS\n",
      "5391. PAYX\n",
      "5392. PB\n",
      "5393. PBA\n",
      "5394. PBB\n"
     ]
    },
    {
     "name": "stderr",
     "output_type": "stream",
     "text": [
      "PBB: No price data found, symbol may be delisted (1d 2023-01-01 -> 2024-01-01)\n"
     ]
    },
    {
     "name": "stdout",
     "output_type": "stream",
     "text": [
      "5395. PBBI\n"
     ]
    },
    {
     "name": "stderr",
     "output_type": "stream",
     "text": [
      "PBBI: No timezone found, symbol may be delisted\n"
     ]
    },
    {
     "name": "stdout",
     "output_type": "stream",
     "text": [
      "5396. PBC\n"
     ]
    },
    {
     "name": "stderr",
     "output_type": "stream",
     "text": [
      "PBC: No timezone found, symbol may be delisted\n",
      "404 Client Error: Not Found for url: https://query2.finance.yahoo.com/v10/finance/quoteSummary/PBC?modules=financialData%2CquoteType%2CdefaultKeyStatistics%2CassetProfile%2CsummaryDetail&corsDomain=finance.yahoo.com&formatted=false&symbol=PBC&crumb=KUwSGfMjWIw\n"
     ]
    },
    {
     "name": "stdout",
     "output_type": "stream",
     "text": [
      "5397. PBCT\n"
     ]
    },
    {
     "name": "stderr",
     "output_type": "stream",
     "text": [
      "PBCT: No timezone found, symbol may be delisted\n"
     ]
    },
    {
     "name": "stdout",
     "output_type": "stream",
     "text": [
      "5398. PBCTP\n"
     ]
    },
    {
     "name": "stderr",
     "output_type": "stream",
     "text": [
      "PBCTP: No timezone found, symbol may be delisted\n"
     ]
    },
    {
     "name": "stdout",
     "output_type": "stream",
     "text": [
      "5399. PBD\n",
      "5400. PBDM\n",
      "5401. PBE\n",
      "5402. PBEE\n",
      "5403. PBF\n",
      "5404. PBFS\n",
      "5405. PBFX\n"
     ]
    },
    {
     "name": "stderr",
     "output_type": "stream",
     "text": [
      "PBFX: No timezone found, symbol may be delisted\n"
     ]
    },
    {
     "name": "stdout",
     "output_type": "stream",
     "text": [
      "5406. PBH\n",
      "5407. PBHC\n",
      "5408. PBI\n",
      "5409. PBIP\n"
     ]
    },
    {
     "name": "stderr",
     "output_type": "stream",
     "text": [
      "PBIP: No timezone found, symbol may be delisted\n"
     ]
    },
    {
     "name": "stdout",
     "output_type": "stream",
     "text": [
      "5410. PBJ\n",
      "5411. PBND\n",
      "5412. PBP\n",
      "5413. PBPB\n",
      "5414. PBR\n",
      "5415. PBS\n",
      "5416. PBSM\n",
      "5417. PBT\n",
      "5418. PBTP\n",
      "5419. PBTS\n",
      "5420. PBUS\n",
      "5421. PBW\n",
      "5422. PBY\n"
     ]
    },
    {
     "name": "stderr",
     "output_type": "stream",
     "text": [
      "PBY: No price data found, symbol may be delisted (1d 2023-01-01 -> 2024-01-01)\n"
     ]
    },
    {
     "name": "stdout",
     "output_type": "stream",
     "text": [
      "5423. PBYI\n",
      "5424. PCAR\n",
      "5425. PCB\n",
      "5426. PCEF\n",
      "5427. PCF\n",
      "5428. PCG\n",
      "5429. PCH\n",
      "5430. PCI\n"
     ]
    },
    {
     "name": "stderr",
     "output_type": "stream",
     "text": [
      "PCI: No timezone found, symbol may be delisted\n"
     ]
    },
    {
     "name": "stdout",
     "output_type": "stream",
     "text": [
      "5431. PCK\n",
      "5432. PCM\n",
      "5433. PCN\n",
      "5434. PCOM\n"
     ]
    },
    {
     "name": "stderr",
     "output_type": "stream",
     "text": [
      "PCOM: No timezone found, symbol may be delisted\n"
     ]
    },
    {
     "name": "stdout",
     "output_type": "stream",
     "text": [
      "5435. PCQ\n",
      "5436. PCRX\n",
      "5437. PCSB\n"
     ]
    },
    {
     "name": "stderr",
     "output_type": "stream",
     "text": [
      "PCSB: No timezone found, symbol may be delisted\n"
     ]
    },
    {
     "name": "stdout",
     "output_type": "stream",
     "text": [
      "5438. PCTI\n",
      "5439. PCTY\n",
      "5440. PCY\n",
      "5441. PCYG\n"
     ]
    },
    {
     "name": "stderr",
     "output_type": "stream",
     "text": [
      "PCYG: No timezone found, symbol may be delisted\n",
      "404 Client Error: Not Found for url: https://query2.finance.yahoo.com/v10/finance/quoteSummary/PCYG?modules=financialData%2CquoteType%2CdefaultKeyStatistics%2CassetProfile%2CsummaryDetail&corsDomain=finance.yahoo.com&formatted=false&symbol=PCYG&crumb=KUwSGfMjWIw\n"
     ]
    },
    {
     "name": "stdout",
     "output_type": "stream",
     "text": [
      "5442. PCYO\n",
      "5443. PD\n",
      "5444. PDBC\n",
      "5445. PDCE\n"
     ]
    },
    {
     "name": "stderr",
     "output_type": "stream",
     "text": [
      "PDCE: No timezone found, symbol may be delisted\n"
     ]
    },
    {
     "name": "stdout",
     "output_type": "stream",
     "text": [
      "5446. PDCO\n",
      "5447. PDD\n",
      "5448. PDEC\n",
      "5449. PDEV\n"
     ]
    },
    {
     "name": "stderr",
     "output_type": "stream",
     "text": [
      "PDEV: No price data found, symbol may be delisted (1d 2023-01-01 -> 2024-01-01)\n"
     ]
    },
    {
     "name": "stdout",
     "output_type": "stream",
     "text": [
      "5450. PDEX\n",
      "5451. PDFS\n",
      "5452. PDI\n",
      "5453. PDLB\n",
      "5454. PDLI\n"
     ]
    },
    {
     "name": "stderr",
     "output_type": "stream",
     "text": [
      "PDLI: No timezone found, symbol may be delisted\n"
     ]
    },
    {
     "name": "stdout",
     "output_type": "stream",
     "text": [
      "5455. PDM\n",
      "5456. PDN\n",
      "5457. PDP\n",
      "5458. PDS\n",
      "5459. PDSB\n",
      "5460. PDT\n",
      "5461. PE\n"
     ]
    },
    {
     "name": "stderr",
     "output_type": "stream",
     "text": [
      "PE: No timezone found, symbol may be delisted\n"
     ]
    },
    {
     "name": "stdout",
     "output_type": "stream",
     "text": [
      "5462. PEAK\n",
      "5463. PEB\n",
      "5464. PEBK\n",
      "5465. PEBO\n",
      "5466. PECK\n"
     ]
    },
    {
     "name": "stderr",
     "output_type": "stream",
     "text": [
      "PECK: No timezone found, symbol may be delisted\n"
     ]
    },
    {
     "name": "stdout",
     "output_type": "stream",
     "text": [
      "5467. PED\n",
      "5468. PEG\n",
      "5469. PEGA\n",
      "5470. PEI\n"
     ]
    },
    {
     "name": "stderr",
     "output_type": "stream",
     "text": [
      "PEI: No timezone found, symbol may be delisted\n"
     ]
    },
    {
     "name": "stdout",
     "output_type": "stream",
     "text": [
      "5471. PEIX\n"
     ]
    },
    {
     "name": "stderr",
     "output_type": "stream",
     "text": [
      "PEIX: No timezone found, symbol may be delisted\n"
     ]
    },
    {
     "name": "stdout",
     "output_type": "stream",
     "text": [
      "5472. PEJ\n",
      "5473. PEK\n",
      "5474. PEN\n",
      "5475. PEO\n",
      "5476. PEP\n",
      "5477. PER\n"
     ]
    },
    {
     "name": "stderr",
     "output_type": "stream",
     "text": [
      "PER: No timezone found, symbol may be delisted\n"
     ]
    },
    {
     "name": "stdout",
     "output_type": "stream",
     "text": [
      "5478. PERI\n",
      "5479. PESI\n",
      "5480. PETQ\n",
      "5481. PETS\n",
      "5482. PETZ\n",
      "5483. PEX\n",
      "5484. PEXL\n",
      "5485. PEY\n",
      "5486. PEZ\n",
      "5487. PFBC\n",
      "5488. PFBI\n"
     ]
    },
    {
     "name": "stderr",
     "output_type": "stream",
     "text": [
      "PFBI: No timezone found, symbol may be delisted\n"
     ]
    },
    {
     "name": "stdout",
     "output_type": "stream",
     "text": [
      "5489. PFD\n",
      "5490. PFE\n",
      "5491. PFEB\n",
      "5492. PFF\n",
      "5493. PFFA\n",
      "5494. PFFD\n",
      "5495. PFFL\n",
      "5496. PFFR\n",
      "5497. PFG\n",
      "5498. PFGC\n",
      "5499. PFH\n",
      "5500. PFHD\n"
     ]
    },
    {
     "name": "stderr",
     "output_type": "stream",
     "text": [
      "PFHD: No timezone found, symbol may be delisted\n"
     ]
    },
    {
     "name": "stdout",
     "output_type": "stream",
     "text": [
      "5501. PFI\n",
      "5502. PFIE\n",
      "5503. PFIG\n",
      "5504. PFIN\n",
      "5505. PFIS\n",
      "5506. PFL\n",
      "5507. PFLD\n",
      "5508. PFLT\n",
      "5509. PFM\n",
      "5510. PFMT\n",
      "5511. PFN\n",
      "5512. PFNX\n"
     ]
    },
    {
     "name": "stderr",
     "output_type": "stream",
     "text": [
      "PFNX: No timezone found, symbol may be delisted\n"
     ]
    },
    {
     "name": "stdout",
     "output_type": "stream",
     "text": [
      "5513. PFO\n",
      "5514. PFPT\n"
     ]
    },
    {
     "name": "stderr",
     "output_type": "stream",
     "text": [
      "PFPT: No timezone found, symbol may be delisted\n"
     ]
    },
    {
     "name": "stdout",
     "output_type": "stream",
     "text": [
      "5515. PFS\n",
      "5516. PFSI\n",
      "5517. PFSW\n"
     ]
    },
    {
     "name": "stderr",
     "output_type": "stream",
     "text": [
      "PFSW: No timezone found, symbol may be delisted\n",
      "404 Client Error: Not Found for url: https://query2.finance.yahoo.com/v10/finance/quoteSummary/PFSW?modules=financialData%2CquoteType%2CdefaultKeyStatistics%2CassetProfile%2CsummaryDetail&corsDomain=finance.yahoo.com&formatted=false&symbol=PFSW&crumb=KUwSGfMjWIw\n"
     ]
    },
    {
     "name": "stdout",
     "output_type": "stream",
     "text": [
      "5518. PFXF\n",
      "5519. PG\n",
      "5520. PGAL\n",
      "5521. PGC\n",
      "5522. PGEN\n",
      "5523. PGF\n",
      "5524. PGHY\n",
      "5525. PGJ\n",
      "5526. PGM\n",
      "5527. PGNX\n"
     ]
    },
    {
     "name": "stderr",
     "output_type": "stream",
     "text": [
      "PGNX: No timezone found, symbol may be delisted\n"
     ]
    },
    {
     "name": "stdout",
     "output_type": "stream",
     "text": [
      "5528. PGNY\n",
      "5529. PGP\n",
      "5530. PGR\n",
      "5531. PGRE\n",
      "5532. PGTI\n",
      "5533. PGX\n",
      "5534. PGZ\n",
      "5535. PH\n",
      "5536. PHAS\n"
     ]
    },
    {
     "name": "stderr",
     "output_type": "stream",
     "text": [
      "PHAS: No timezone found, symbol may be delisted\n"
     ]
    },
    {
     "name": "stdout",
     "output_type": "stream",
     "text": [
      "5537. PHAT\n",
      "5538. PHB\n",
      "5539. PHCF\n"
     ]
    },
    {
     "name": "stderr",
     "output_type": "stream",
     "text": [
      "PHCF: No timezone found, symbol may be delisted\n"
     ]
    },
    {
     "name": "stdout",
     "output_type": "stream",
     "text": [
      "5540. PHD\n",
      "5541. PHDG\n",
      "5542. PHG\n",
      "5543. PHGE\n",
      "5544. PHI\n",
      "5545. PHIO\n",
      "5546. PHK\n",
      "5547. PHM\n",
      "5548. PHO\n",
      "5549. PHR\n",
      "5550. PHT\n",
      "5551. PHUN\n",
      "5552. PHX\n",
      "5553. PHYL\n",
      "5554. PHYS\n",
      "5555. PI\n",
      "5556. PIC\n"
     ]
    },
    {
     "name": "stderr",
     "output_type": "stream",
     "text": [
      "PIC: No timezone found, symbol may be delisted\n"
     ]
    },
    {
     "name": "stdout",
     "output_type": "stream",
     "text": [
      "5557. PICB\n",
      "5558. PICK\n",
      "5559. PICO\n"
     ]
    },
    {
     "name": "stderr",
     "output_type": "stream",
     "text": [
      "PICO: No timezone found, symbol may be delisted\n"
     ]
    },
    {
     "name": "stdout",
     "output_type": "stream",
     "text": [
      "5560. PID\n",
      "5561. PIE\n",
      "5562. PIH\n"
     ]
    },
    {
     "name": "stderr",
     "output_type": "stream",
     "text": [
      "PIH: No timezone found, symbol may be delisted\n"
     ]
    },
    {
     "name": "stdout",
     "output_type": "stream",
     "text": [
      "5563. PIHPP\n"
     ]
    },
    {
     "name": "stderr",
     "output_type": "stream",
     "text": [
      "PIHPP: No timezone found, symbol may be delisted\n"
     ]
    },
    {
     "name": "stdout",
     "output_type": "stream",
     "text": [
      "5564. PII\n",
      "5565. PILL\n",
      "5566. PIM\n",
      "5567. PIN\n",
      "5568. PINC\n",
      "5569. PINE\n",
      "5570. PING\n"
     ]
    },
    {
     "name": "stderr",
     "output_type": "stream",
     "text": [
      "PING: No timezone found, symbol may be delisted\n"
     ]
    },
    {
     "name": "stdout",
     "output_type": "stream",
     "text": [
      "5571. PINS\n",
      "5572. PIO\n",
      "5573. PIPR\n",
      "5574. PIRS\n",
      "5575. PIXY\n",
      "5576. PIY\n"
     ]
    },
    {
     "name": "stderr",
     "output_type": "stream",
     "text": [
      "PIY: No timezone found, symbol may be delisted\n"
     ]
    },
    {
     "name": "stdout",
     "output_type": "stream",
     "text": [
      "5577. PIZ\n",
      "5578. PJAN\n",
      "5579. PJH\n"
     ]
    },
    {
     "name": "stderr",
     "output_type": "stream",
     "text": [
      "PJH: No timezone found, symbol may be delisted\n",
      "404 Client Error: Not Found for url: https://query2.finance.yahoo.com/v10/finance/quoteSummary/PJH?modules=financialData%2CquoteType%2CdefaultKeyStatistics%2CassetProfile%2CsummaryDetail&corsDomain=finance.yahoo.com&formatted=false&symbol=PJH&crumb=KUwSGfMjWIw\n"
     ]
    },
    {
     "name": "stdout",
     "output_type": "stream",
     "text": [
      "5580. PJP\n",
      "5581. PJT\n",
      "5582. PJUL\n",
      "5583. PJUN\n",
      "5584. PK\n",
      "5585. PKB\n",
      "5586. PKBK\n",
      "5587. PKE\n",
      "5588. PKG\n",
      "5589. PKI\n"
     ]
    },
    {
     "name": "stderr",
     "output_type": "stream",
     "text": [
      "PKI: No timezone found, symbol may be delisted\n"
     ]
    },
    {
     "name": "stdout",
     "output_type": "stream",
     "text": [
      "5590. PKO\n"
     ]
    },
    {
     "name": "stderr",
     "output_type": "stream",
     "text": [
      "PKO: No timezone found, symbol may be delisted\n"
     ]
    },
    {
     "name": "stdout",
     "output_type": "stream",
     "text": [
      "5591. PKOH\n",
      "5592. PKW\n",
      "5593. PKX\n",
      "5594. PLAB\n",
      "5595. PLAG\n",
      "5596. PLAN\n"
     ]
    },
    {
     "name": "stderr",
     "output_type": "stream",
     "text": [
      "PLAN: No timezone found, symbol may be delisted\n"
     ]
    },
    {
     "name": "stdout",
     "output_type": "stream",
     "text": [
      "5597. PLAT\n",
      "5598. PLAY\n",
      "5599. PLBC\n",
      "5600. PLC\n"
     ]
    },
    {
     "name": "stderr",
     "output_type": "stream",
     "text": [
      "PLC: No price data found, symbol may be delisted (1d 2023-01-01 -> 2024-01-01)\n"
     ]
    },
    {
     "name": "stdout",
     "output_type": "stream",
     "text": [
      "5601. PLCE\n",
      "5602. PLCY\n"
     ]
    },
    {
     "name": "stderr",
     "output_type": "stream",
     "text": [
      "PLCY: No price data found, symbol may be delisted (1d 2023-01-01 -> 2024-01-01)\n"
     ]
    },
    {
     "name": "stdout",
     "output_type": "stream",
     "text": [
      "5603. PLD\n",
      "5604. PLG\n",
      "5605. PLIN\n"
     ]
    },
    {
     "name": "stderr",
     "output_type": "stream",
     "text": [
      "PLIN: No timezone found, symbol may be delisted\n"
     ]
    },
    {
     "name": "stdout",
     "output_type": "stream",
     "text": [
      "5606. PLL\n",
      "5607. PLM\n"
     ]
    },
    {
     "name": "stderr",
     "output_type": "stream",
     "text": [
      "PLM: No timezone found, symbol may be delisted\n",
      "404 Client Error: Not Found for url: https://query2.finance.yahoo.com/v10/finance/quoteSummary/PLM?modules=financialData%2CquoteType%2CdefaultKeyStatistics%2CassetProfile%2CsummaryDetail&corsDomain=finance.yahoo.com&formatted=false&symbol=PLM&crumb=KUwSGfMjWIw\n"
     ]
    },
    {
     "name": "stdout",
     "output_type": "stream",
     "text": [
      "5608. PLMR\n",
      "5609. PLNT\n",
      "5610. PLOW\n",
      "5611. PLPC\n",
      "5612. PLSE\n",
      "5613. PLT\n"
     ]
    },
    {
     "name": "stderr",
     "output_type": "stream",
     "text": [
      "PLT: No timezone found, symbol may be delisted\n"
     ]
    },
    {
     "name": "stdout",
     "output_type": "stream",
     "text": [
      "5614. PLTM\n",
      "5615. PLUG\n",
      "5616. PLUS\n",
      "5617. PLW\n",
      "5618. PLX\n",
      "5619. PLXP\n"
     ]
    },
    {
     "name": "stderr",
     "output_type": "stream",
     "text": [
      "PLXP: No timezone found, symbol may be delisted\n"
     ]
    },
    {
     "name": "stdout",
     "output_type": "stream",
     "text": [
      "5620. PLXS\n",
      "5621. PLYA\n",
      "5622. PLYM\n",
      "5623. PM\n",
      "5624. PMAR\n",
      "5625. PMBC\n"
     ]
    },
    {
     "name": "stderr",
     "output_type": "stream",
     "text": [
      "PMBC: No timezone found, symbol may be delisted\n"
     ]
    },
    {
     "name": "stdout",
     "output_type": "stream",
     "text": [
      "5626. PMD\n",
      "5627. PME\n"
     ]
    },
    {
     "name": "stderr",
     "output_type": "stream",
     "text": [
      "PME: No timezone found, symbol may be delisted\n"
     ]
    },
    {
     "name": "stdout",
     "output_type": "stream",
     "text": [
      "5628. PMF\n",
      "5629. PML\n",
      "5630. PMM\n",
      "5631. PMO\n",
      "5632. PMOM\n"
     ]
    },
    {
     "name": "stderr",
     "output_type": "stream",
     "text": [
      "PMOM: No price data found, symbol may be delisted (1d 2023-01-01 -> 2024-01-01)\n"
     ]
    },
    {
     "name": "stdout",
     "output_type": "stream",
     "text": [
      "5633. PMT\n",
      "5634. PMX\n",
      "5635. PNBK\n",
      "5636. PNC\n",
      "5637. PNF\n",
      "5638. PNFP\n",
      "5639. PNI\n",
      "5640. PNM\n",
      "5641. PNNT\n",
      "5642. PNNTG\n"
     ]
    },
    {
     "name": "stderr",
     "output_type": "stream",
     "text": [
      "PNNTG: No timezone found, symbol may be delisted\n"
     ]
    },
    {
     "name": "stdout",
     "output_type": "stream",
     "text": [
      "5643. PNOV\n",
      "5644. PNQI\n",
      "5645. PNR\n",
      "5646. PNRG\n",
      "5647. PNTG\n",
      "5648. PNW\n",
      "5649. POAI\n",
      "5650. POCT\n",
      "5651. PODD\n",
      "5652. POL\n",
      "5653. POLA\n",
      "5654. POOL\n",
      "5655. POPE\n"
     ]
    },
    {
     "name": "stderr",
     "output_type": "stream",
     "text": [
      "POPE: No timezone found, symbol may be delisted\n"
     ]
    },
    {
     "name": "stdout",
     "output_type": "stream",
     "text": [
      "5656. POR\n",
      "5657. POST\n",
      "5658. POTX\n",
      "5659. POWI\n",
      "5660. POWL\n",
      "5661. PPA\n",
      "5662. PPBI\n",
      "5663. PPC\n",
      "5664. PPD\n"
     ]
    },
    {
     "name": "stderr",
     "output_type": "stream",
     "text": [
      "PPD: No timezone found, symbol may be delisted\n"
     ]
    },
    {
     "name": "stdout",
     "output_type": "stream",
     "text": [
      "5665. PPDM\n"
     ]
    },
    {
     "name": "stderr",
     "output_type": "stream",
     "text": [
      "PPDM: No price data found, symbol may be delisted (1d 2023-01-01 -> 2024-01-01)\n"
     ]
    },
    {
     "name": "stdout",
     "output_type": "stream",
     "text": [
      "5666. PPEM\n",
      "5667. PPG\n",
      "5668. PPH\n",
      "5669. PPHI\n",
      "5670. PPIH\n",
      "5671. PPL\n",
      "5672. PPLC\n"
     ]
    },
    {
     "name": "stderr",
     "output_type": "stream",
     "text": [
      "PPLC: No price data found, symbol may be delisted (1d 2023-01-01 -> 2024-01-01)\n"
     ]
    },
    {
     "name": "stdout",
     "output_type": "stream",
     "text": [
      "5673. PPLT\n",
      "5674. PPMC\n"
     ]
    },
    {
     "name": "stderr",
     "output_type": "stream",
     "text": [
      "PPMC: No price data found, symbol may be delisted (1d 2023-01-01 -> 2024-01-01)\n"
     ]
    },
    {
     "name": "stdout",
     "output_type": "stream",
     "text": [
      "5675. PPR\n"
     ]
    },
    {
     "name": "stderr",
     "output_type": "stream",
     "text": [
      "PPR: No timezone found, symbol may be delisted\n"
     ]
    },
    {
     "name": "stdout",
     "output_type": "stream",
     "text": [
      "5676. PPSC\n"
     ]
    },
    {
     "name": "stderr",
     "output_type": "stream",
     "text": [
      "PPSC: No price data found, symbol may be delisted (1d 2023-01-01 -> 2024-01-01)\n"
     ]
    },
    {
     "name": "stdout",
     "output_type": "stream",
     "text": [
      "5677. PPSI\n",
      "5678. PPT\n",
      "5679. PPTY\n",
      "5680. PPX\n"
     ]
    },
    {
     "name": "stderr",
     "output_type": "stream",
     "text": [
      "PPX: No timezone found, symbol may be delisted\n"
     ]
    },
    {
     "name": "stdout",
     "output_type": "stream",
     "text": [
      "5681. PQG\n"
     ]
    },
    {
     "name": "stderr",
     "output_type": "stream",
     "text": [
      "PQG: No timezone found, symbol may be delisted\n"
     ]
    },
    {
     "name": "stdout",
     "output_type": "stream",
     "text": [
      "5682. PQIN\n",
      "5683. PQLC\n"
     ]
    },
    {
     "name": "stderr",
     "output_type": "stream",
     "text": [
      "PQLC: No price data found, symbol may be delisted (1d 2023-01-01 -> 2024-01-01)\n"
     ]
    },
    {
     "name": "stdout",
     "output_type": "stream",
     "text": [
      "5684. PQSG\n"
     ]
    },
    {
     "name": "stderr",
     "output_type": "stream",
     "text": [
      "PQSG: No price data found, symbol may be delisted (1d 2023-01-01 -> 2024-01-01)\n"
     ]
    },
    {
     "name": "stdout",
     "output_type": "stream",
     "text": [
      "5685. PQSV\n"
     ]
    },
    {
     "name": "stderr",
     "output_type": "stream",
     "text": [
      "PQSV: No price data found, symbol may be delisted (1d 2023-01-01 -> 2024-01-01)\n"
     ]
    },
    {
     "name": "stdout",
     "output_type": "stream",
     "text": [
      "5686. PRA\n",
      "5687. PRAA\n",
      "5688. PRAH\n"
     ]
    },
    {
     "name": "stderr",
     "output_type": "stream",
     "text": [
      "PRAH: No timezone found, symbol may be delisted\n"
     ]
    },
    {
     "name": "stdout",
     "output_type": "stream",
     "text": [
      "5689. PRCP\n"
     ]
    },
    {
     "name": "stderr",
     "output_type": "stream",
     "text": [
      "PRCP: No timezone found, symbol may be delisted\n"
     ]
    },
    {
     "name": "stdout",
     "output_type": "stream",
     "text": [
      "5690. PRDO\n",
      "5691. PREF\n",
      "5692. PRF\n",
      "5693. PRFT\n",
      "5694. PRFZ\n",
      "5695. PRGO\n",
      "5696. PRGS\n",
      "5697. PRGX\n"
     ]
    },
    {
     "name": "stderr",
     "output_type": "stream",
     "text": [
      "PRGX: No timezone found, symbol may be delisted\n"
     ]
    },
    {
     "name": "stdout",
     "output_type": "stream",
     "text": [
      "5698. PRH\n",
      "5699. PRI\n",
      "5700. PRIM\n",
      "5701. PRK\n",
      "5702. PRLB\n",
      "5703. PRMW\n",
      "5704. PRN\n",
      "5705. PRNB\n"
     ]
    },
    {
     "name": "stderr",
     "output_type": "stream",
     "text": [
      "PRNB: No timezone found, symbol may be delisted\n"
     ]
    },
    {
     "name": "stdout",
     "output_type": "stream",
     "text": [
      "5706. PRNT\n",
      "5707. PRO\n",
      "5708. PROF\n",
      "5709. PROS\n"
     ]
    },
    {
     "name": "stderr",
     "output_type": "stream",
     "text": [
      "PROS: No timezone found, symbol may be delisted\n"
     ]
    },
    {
     "name": "stdout",
     "output_type": "stream",
     "text": [
      "5710. PROV\n",
      "5711. PRPH\n",
      "5712. PRPL\n",
      "5713. PRPO\n",
      "5714. PRQR\n",
      "5715. PRS\n",
      "5716. PRSC\n"
     ]
    },
    {
     "name": "stderr",
     "output_type": "stream",
     "text": [
      "PRSC: No timezone found, symbol may be delisted\n"
     ]
    },
    {
     "name": "stdout",
     "output_type": "stream",
     "text": [
      "5717. PRSP\n"
     ]
    },
    {
     "name": "stderr",
     "output_type": "stream",
     "text": [
      "PRSP: No timezone found, symbol may be delisted\n"
     ]
    },
    {
     "name": "stdout",
     "output_type": "stream",
     "text": [
      "5718. PRT\n",
      "5719. PRTA\n",
      "5720. PRTH\n",
      "5721. PRTK\n"
     ]
    },
    {
     "name": "stderr",
     "output_type": "stream",
     "text": [
      "PRTK: No timezone found, symbol may be delisted\n",
      "404 Client Error: Not Found for url: https://query2.finance.yahoo.com/v10/finance/quoteSummary/PRTK?modules=financialData%2CquoteType%2CdefaultKeyStatistics%2CassetProfile%2CsummaryDetail&corsDomain=finance.yahoo.com&formatted=false&symbol=PRTK&crumb=KUwSGfMjWIw\n"
     ]
    },
    {
     "name": "stdout",
     "output_type": "stream",
     "text": [
      "5722. PRTS\n",
      "5723. PRTY\n"
     ]
    },
    {
     "name": "stderr",
     "output_type": "stream",
     "text": [
      "PRTY: No timezone found, symbol may be delisted\n"
     ]
    },
    {
     "name": "stdout",
     "output_type": "stream",
     "text": [
      "5724. PRU\n",
      "5725. PRVB\n"
     ]
    },
    {
     "name": "stderr",
     "output_type": "stream",
     "text": [
      "PRVB: No timezone found, symbol may be delisted\n"
     ]
    },
    {
     "name": "stdout",
     "output_type": "stream",
     "text": [
      "5726. PRVL\n"
     ]
    },
    {
     "name": "stderr",
     "output_type": "stream",
     "text": [
      "PRVL: No timezone found, symbol may be delisted\n"
     ]
    },
    {
     "name": "stdout",
     "output_type": "stream",
     "text": [
      "5727. PS\n"
     ]
    },
    {
     "name": "stderr",
     "output_type": "stream",
     "text": [
      "PS: No timezone found, symbol may be delisted\n"
     ]
    },
    {
     "name": "stdout",
     "output_type": "stream",
     "text": [
      "5728. PSA\n",
      "5729. PSB\n"
     ]
    },
    {
     "name": "stderr",
     "output_type": "stream",
     "text": [
      "PSB: No timezone found, symbol may be delisted\n"
     ]
    },
    {
     "name": "stdout",
     "output_type": "stream",
     "text": [
      "5730. PSC\n",
      "5731. PSCC\n",
      "5732. PSCD\n",
      "5733. PSCE\n",
      "5734. PSCF\n",
      "5735. PSCH\n",
      "5736. PSCI\n",
      "5737. PSCM\n",
      "5738. PSCT\n",
      "5739. PSCU\n",
      "5740. PSEC\n",
      "5741. PSEP\n",
      "5742. PSET\n",
      "5743. PSF\n",
      "5744. PSHG\n",
      "5745. PSI\n",
      "5746. PSJ\n",
      "5747. PSK\n",
      "5748. PSL\n",
      "5749. PSLV\n",
      "5750. PSM\n"
     ]
    },
    {
     "name": "stderr",
     "output_type": "stream",
     "text": [
      "PSM: No price data found, symbol may be delisted (1d 2023-01-01 -> 2024-01-01)\n"
     ]
    },
    {
     "name": "stdout",
     "output_type": "stream",
     "text": [
      "5751. PSMB\n",
      "5752. PSMC\n",
      "5753. PSMG\n",
      "5754. PSMM\n",
      "5755. PSMT\n",
      "5756. PSN\n",
      "5757. PSNL\n",
      "5758. PSO\n",
      "5759. PSP\n",
      "5760. PSQ\n",
      "5761. PSR\n",
      "5762. PST\n",
      "5763. PSTG\n",
      "5764. PSTI\n"
     ]
    },
    {
     "name": "stderr",
     "output_type": "stream",
     "text": [
      "PSTI: No timezone found, symbol may be delisted\n"
     ]
    },
    {
     "name": "stdout",
     "output_type": "stream",
     "text": [
      "5765. PSTL\n",
      "5766. PSTV\n",
      "5767. PSV\n"
     ]
    },
    {
     "name": "stderr",
     "output_type": "stream",
     "text": [
      "PSV: No timezone found, symbol may be delisted\n"
     ]
    },
    {
     "name": "stdout",
     "output_type": "stream",
     "text": [
      "5768. PSX\n",
      "5769. PSXP\n"
     ]
    },
    {
     "name": "stderr",
     "output_type": "stream",
     "text": [
      "PSXP: No timezone found, symbol may be delisted\n"
     ]
    },
    {
     "name": "stdout",
     "output_type": "stream",
     "text": [
      "5770. PT\n",
      "5771. PTAC\n"
     ]
    },
    {
     "name": "stderr",
     "output_type": "stream",
     "text": [
      "PTAC: No timezone found, symbol may be delisted\n"
     ]
    },
    {
     "name": "stdout",
     "output_type": "stream",
     "text": [
      "5772. PTACU\n"
     ]
    },
    {
     "name": "stderr",
     "output_type": "stream",
     "text": [
      "PTACU: No timezone found, symbol may be delisted\n"
     ]
    },
    {
     "name": "stdout",
     "output_type": "stream",
     "text": [
      "5773. PTBD\n",
      "5774. PTC\n",
      "5775. PTCT\n",
      "5776. PTE\n"
     ]
    },
    {
     "name": "stderr",
     "output_type": "stream",
     "text": [
      "PTE: No timezone found, symbol may be delisted\n"
     ]
    },
    {
     "name": "stdout",
     "output_type": "stream",
     "text": [
      "5777. PTEN\n",
      "5778. PTEU\n",
      "5779. PTF\n",
      "5780. PTGX\n",
      "5781. PTH\n",
      "5782. PTI\n"
     ]
    },
    {
     "name": "stderr",
     "output_type": "stream",
     "text": [
      "PTI: No timezone found, symbol may be delisted\n"
     ]
    },
    {
     "name": "stdout",
     "output_type": "stream",
     "text": [
      "5783. PTIN\n",
      "5784. PTLA\n"
     ]
    },
    {
     "name": "stderr",
     "output_type": "stream",
     "text": [
      "PTLA: No timezone found, symbol may be delisted\n"
     ]
    },
    {
     "name": "stdout",
     "output_type": "stream",
     "text": [
      "5785. PTLC\n",
      "5786. PTMC\n",
      "5787. PTMN\n",
      "5788. PTN\n",
      "5789. PTNQ\n",
      "5790. PTNR\n"
     ]
    },
    {
     "name": "stderr",
     "output_type": "stream",
     "text": [
      "PTNR: No timezone found, symbol may be delisted\n"
     ]
    },
    {
     "name": "stdout",
     "output_type": "stream",
     "text": [
      "5791. PTON\n",
      "5792. PTR\n"
     ]
    },
    {
     "name": "stderr",
     "output_type": "stream",
     "text": [
      "PTR: No timezone found, symbol may be delisted\n"
     ]
    },
    {
     "name": "stdout",
     "output_type": "stream",
     "text": [
      "5793. PTSI\n",
      "5794. PTVCA\n"
     ]
    },
    {
     "name": "stderr",
     "output_type": "stream",
     "text": [
      "PTVCA: No timezone found, symbol may be delisted\n"
     ]
    },
    {
     "name": "stdout",
     "output_type": "stream",
     "text": [
      "5795. PTVCB\n"
     ]
    },
    {
     "name": "stderr",
     "output_type": "stream",
     "text": [
      "PTVCB: No timezone found, symbol may be delisted\n"
     ]
    },
    {
     "name": "stdout",
     "output_type": "stream",
     "text": [
      "5796. PTY\n",
      "5797. PUB\n"
     ]
    },
    {
     "name": "stderr",
     "output_type": "stream",
     "text": [
      "PUB: No timezone found, symbol may be delisted\n"
     ]
    },
    {
     "name": "stdout",
     "output_type": "stream",
     "text": [
      "5798. PUI\n",
      "5799. PUK\n",
      "5800. PULM\n",
      "5801. PULS\n",
      "5802. PUMP\n",
      "5803. PUTW\n",
      "5804. PUYI\n",
      "5805. PVAC\n"
     ]
    },
    {
     "name": "stderr",
     "output_type": "stream",
     "text": [
      "PVAC: No timezone found, symbol may be delisted\n"
     ]
    },
    {
     "name": "stdout",
     "output_type": "stream",
     "text": [
      "5806. PVAL\n",
      "5807. PVBC\n",
      "5808. PVG\n"
     ]
    },
    {
     "name": "stderr",
     "output_type": "stream",
     "text": [
      "PVG: No timezone found, symbol may be delisted\n"
     ]
    },
    {
     "name": "stdout",
     "output_type": "stream",
     "text": [
      "5809. PVH\n",
      "5810. PVI\n",
      "5811. PVL\n",
      "5812. PW\n",
      "5813. PWB\n",
      "5814. PWC\n",
      "5815. PWFL\n",
      "5816. PWOD\n",
      "5817. PWR\n",
      "5818. PWS\n",
      "5819. PWV\n",
      "5820. PWZ\n",
      "5821. PXD\n",
      "5822. PXE\n",
      "5823. PXF\n",
      "5824. PXH\n",
      "5825. PXI\n",
      "5826. PXJ\n",
      "5827. PXLW\n",
      "5828. PXQ\n",
      "5829. PXS\n",
      "5830. PY\n",
      "5831. PYN\n",
      "5832. PYPE\n",
      "5833. PYPL\n",
      "5834. PYS\n",
      "5835. PYT\n",
      "5836. PYX\n"
     ]
    },
    {
     "name": "stderr",
     "output_type": "stream",
     "text": [
      "PYX: No timezone found, symbol may be delisted\n"
     ]
    },
    {
     "name": "stdout",
     "output_type": "stream",
     "text": [
      "5837. PYZ\n",
      "5838. PZA\n",
      "5839. PZC\n",
      "5840. PZD\n",
      "5841. PZG\n",
      "5842. PZN\n"
     ]
    },
    {
     "name": "stderr",
     "output_type": "stream",
     "text": [
      "PZN: No timezone found, symbol may be delisted\n"
     ]
    },
    {
     "name": "stdout",
     "output_type": "stream",
     "text": [
      "5843. PZT\n",
      "5844. PZZA\n",
      "5845. QABA\n",
      "5846. QADA\n"
     ]
    },
    {
     "name": "stderr",
     "output_type": "stream",
     "text": [
      "QADA: No timezone found, symbol may be delisted\n"
     ]
    },
    {
     "name": "stdout",
     "output_type": "stream",
     "text": [
      "5847. QADB\n"
     ]
    },
    {
     "name": "stderr",
     "output_type": "stream",
     "text": [
      "QADB: No timezone found, symbol may be delisted\n"
     ]
    },
    {
     "name": "stdout",
     "output_type": "stream",
     "text": [
      "5848. QAI\n",
      "5849. QARP\n",
      "5850. QAT\n",
      "5851. QBAK\n",
      "5852. QCLN\n",
      "5853. QCOM\n",
      "5854. QCRH\n",
      "5855. QD\n",
      "5856. QDEF\n",
      "5857. QDEL\n",
      "5858. QDF\n",
      "5859. QDIV\n",
      "5860. QDYN\n",
      "5861. QED\n",
      "5862. QEFA\n",
      "5863. QEMM\n",
      "5864. QEP\n"
     ]
    },
    {
     "name": "stderr",
     "output_type": "stream",
     "text": [
      "QEP: No timezone found, symbol may be delisted\n"
     ]
    },
    {
     "name": "stdout",
     "output_type": "stream",
     "text": [
      "5865. QES\n"
     ]
    },
    {
     "name": "stderr",
     "output_type": "stream",
     "text": [
      "QES: No timezone found, symbol may be delisted\n"
     ]
    },
    {
     "name": "stdout",
     "output_type": "stream",
     "text": [
      "5866. QFIN\n",
      "5867. QGEN\n",
      "5868. QGRO\n",
      "5869. QGTA\n"
     ]
    },
    {
     "name": "stderr",
     "output_type": "stream",
     "text": [
      "QGTA: No price data found, symbol may be delisted (1d 2023-01-01 -> 2024-01-01)\n"
     ]
    },
    {
     "name": "stdout",
     "output_type": "stream",
     "text": [
      "5870. QHC\n"
     ]
    },
    {
     "name": "stderr",
     "output_type": "stream",
     "text": [
      "QHC: No timezone found, symbol may be delisted\n"
     ]
    },
    {
     "name": "stdout",
     "output_type": "stream",
     "text": [
      "5871. QID\n",
      "5872. QINT\n",
      "5873. QIWI\n",
      "5874. QK\n"
     ]
    },
    {
     "name": "stderr",
     "output_type": "stream",
     "text": [
      "QK: No timezone found, symbol may be delisted\n"
     ]
    },
    {
     "name": "stdout",
     "output_type": "stream",
     "text": [
      "5875. QLC\n",
      "5876. QLD\n",
      "5877. QLS\n",
      "5878. QLTA\n",
      "5879. QLV\n",
      "5880. QLVD\n",
      "5881. QLVE\n",
      "5882. QLYS\n",
      "5883. QMCO\n",
      "5884. QMJ\n"
     ]
    },
    {
     "name": "stderr",
     "output_type": "stream",
     "text": [
      "QMJ: No price data found, symbol may be delisted (1d 2023-01-01 -> 2024-01-01)\n"
     ]
    },
    {
     "name": "stdout",
     "output_type": "stream",
     "text": [
      "5885. QMN\n",
      "5886. QMOM\n",
      "5887. QNST\n",
      "5888. QQEW\n",
      "5889. QQH\n",
      "5890. QQQ\n",
      "5891. QQQE\n",
      "5892. QQQX\n",
      "5893. QQXT\n",
      "5894. QRFT\n",
      "5895. QRHC\n",
      "5896. QRTEA\n",
      "5897. QRTEB\n",
      "5898. QRVO\n",
      "5899. QSR\n",
      "5900. QSY\n",
      "5901. QTEC\n",
      "5902. QTNT\n"
     ]
    },
    {
     "name": "stderr",
     "output_type": "stream",
     "text": [
      "QTNT: No timezone found, symbol may be delisted\n"
     ]
    },
    {
     "name": "stdout",
     "output_type": "stream",
     "text": [
      "5903. QTRX\n",
      "5904. QTS\n"
     ]
    },
    {
     "name": "stderr",
     "output_type": "stream",
     "text": [
      "QTS: No timezone found, symbol may be delisted\n"
     ]
    },
    {
     "name": "stdout",
     "output_type": "stream",
     "text": [
      "5905. QTT\n"
     ]
    },
    {
     "name": "stderr",
     "output_type": "stream",
     "text": [
      "QTT: No timezone found, symbol may be delisted\n"
     ]
    },
    {
     "name": "stdout",
     "output_type": "stream",
     "text": [
      "5906. QTUM\n",
      "5907. QTWO\n",
      "5908. QUAD\n",
      "5909. QUAL\n",
      "5910. QUIK\n",
      "5911. QUMU\n"
     ]
    },
    {
     "name": "stderr",
     "output_type": "stream",
     "text": [
      "QUMU: No timezone found, symbol may be delisted\n"
     ]
    },
    {
     "name": "stdout",
     "output_type": "stream",
     "text": [
      "5912. QUOT\n"
     ]
    },
    {
     "name": "stderr",
     "output_type": "stream",
     "text": [
      "QUOT: No timezone found, symbol may be delisted\n",
      "404 Client Error: Not Found for url: https://query2.finance.yahoo.com/v10/finance/quoteSummary/QUOT?modules=financialData%2CquoteType%2CdefaultKeyStatistics%2CassetProfile%2CsummaryDetail&corsDomain=finance.yahoo.com&formatted=false&symbol=QUOT&crumb=KUwSGfMjWIw\n"
     ]
    },
    {
     "name": "stdout",
     "output_type": "stream",
     "text": [
      "5913. QURE\n",
      "5914. QUS\n",
      "5915. QVAL\n",
      "5916. QVCC\n",
      "5917. QVCD\n",
      "5918. QVM\n"
     ]
    },
    {
     "name": "stderr",
     "output_type": "stream",
     "text": [
      "QVM: No price data found, symbol may be delisted (1d 2023-01-01 -> 2024-01-01)\n"
     ]
    },
    {
     "name": "stdout",
     "output_type": "stream",
     "text": [
      "5919. QWLD\n",
      "5920. QYLD\n",
      "5921. R\n",
      "5922. RA\n",
      "5923. RAAX\n",
      "5924. RACE\n",
      "5925. RAD\n"
     ]
    },
    {
     "name": "stderr",
     "output_type": "stream",
     "text": [
      "RAD: No timezone found, symbol may be delisted\n",
      "404 Client Error: Not Found for url: https://query2.finance.yahoo.com/v10/finance/quoteSummary/RAD?modules=financialData%2CquoteType%2CdefaultKeyStatistics%2CassetProfile%2CsummaryDetail&corsDomain=finance.yahoo.com&formatted=false&symbol=RAD&crumb=KUwSGfMjWIw\n"
     ]
    },
    {
     "name": "stdout",
     "output_type": "stream",
     "text": [
      "5926. RADA\n"
     ]
    },
    {
     "name": "stderr",
     "output_type": "stream",
     "text": [
      "RADA: No timezone found, symbol may be delisted\n"
     ]
    },
    {
     "name": "stdout",
     "output_type": "stream",
     "text": [
      "5927. RAFE\n",
      "5928. RAIL\n",
      "5929. RALS\n"
     ]
    },
    {
     "name": "stderr",
     "output_type": "stream",
     "text": [
      "RALS: No price data found, symbol may be delisted (1d 2023-01-01 -> 2024-01-01)\n"
     ]
    },
    {
     "name": "stdout",
     "output_type": "stream",
     "text": [
      "5930. RAMP\n",
      "5931. RAND\n",
      "5932. RAPT\n",
      "5933. RARE\n",
      "5934. RARX\n"
     ]
    },
    {
     "name": "stderr",
     "output_type": "stream",
     "text": [
      "RARX: No timezone found, symbol may be delisted\n"
     ]
    },
    {
     "name": "stdout",
     "output_type": "stream",
     "text": [
      "5935. RAVE\n",
      "5936. RAVI\n",
      "5937. RAVN\n"
     ]
    },
    {
     "name": "stderr",
     "output_type": "stream",
     "text": [
      "RAVN: No timezone found, symbol may be delisted\n"
     ]
    },
    {
     "name": "stdout",
     "output_type": "stream",
     "text": [
      "5938. RBA\n",
      "5939. RBB\n",
      "5940. RBBN\n",
      "5941. RBC\n",
      "5942. RBCAA\n",
      "5943. RBCN\n",
      "5944. RBIN\n"
     ]
    },
    {
     "name": "stderr",
     "output_type": "stream",
     "text": [
      "RBIN: No price data found, symbol may be delisted (1d 2023-01-01 -> 2024-01-01)\n"
     ]
    },
    {
     "name": "stdout",
     "output_type": "stream",
     "text": [
      "5945. RBKB\n",
      "5946. RBNC\n"
     ]
    },
    {
     "name": "stderr",
     "output_type": "stream",
     "text": [
      "RBNC: No timezone found, symbol may be delisted\n"
     ]
    },
    {
     "name": "stdout",
     "output_type": "stream",
     "text": [
      "5947. RBS\n"
     ]
    },
    {
     "name": "stderr",
     "output_type": "stream",
     "text": [
      "RBS: No timezone found, symbol may be delisted\n"
     ]
    },
    {
     "name": "stdout",
     "output_type": "stream",
     "text": [
      "5948. RBUS\n"
     ]
    },
    {
     "name": "stderr",
     "output_type": "stream",
     "text": [
      "RBUS: No price data found, symbol may be delisted (1d 2023-01-01 -> 2024-01-01)\n"
     ]
    },
    {
     "name": "stdout",
     "output_type": "stream",
     "text": [
      "5949. RBZ\n"
     ]
    },
    {
     "name": "stderr",
     "output_type": "stream",
     "text": [
      "RBZ: No timezone found, symbol may be delisted\n"
     ]
    },
    {
     "name": "stdout",
     "output_type": "stream",
     "text": [
      "5950. RC\n",
      "5951. RCA\n"
     ]
    },
    {
     "name": "stderr",
     "output_type": "stream",
     "text": [
      "RCA: No timezone found, symbol may be delisted\n",
      "404 Client Error: Not Found for url: https://query2.finance.yahoo.com/v10/finance/quoteSummary/RCA?modules=financialData%2CquoteType%2CdefaultKeyStatistics%2CassetProfile%2CsummaryDetail&corsDomain=finance.yahoo.com&formatted=false&symbol=RCA&crumb=KUwSGfMjWIw\n"
     ]
    },
    {
     "name": "stdout",
     "output_type": "stream",
     "text": [
      "5952. RCB\n",
      "5953. RCD\n",
      "5954. RCEL\n",
      "5955. RCG\n",
      "5956. RCI\n",
      "5957. RCII\n"
     ]
    },
    {
     "name": "stderr",
     "output_type": "stream",
     "text": [
      "RCII: No timezone found, symbol may be delisted\n"
     ]
    },
    {
     "name": "stdout",
     "output_type": "stream",
     "text": [
      "5958. RCKT\n",
      "5959. RCKY\n",
      "5960. RCL\n",
      "5961. RCM\n",
      "5962. RCMT\n",
      "5963. RCON\n",
      "5964. RCP\n",
      "5965. RCS\n",
      "5966. RCUS\n",
      "5967. RDCM\n",
      "5968. RDFN\n",
      "5969. RDHL\n",
      "5970. RDI\n",
      "5971. RDIB\n",
      "5972. RDIV\n",
      "5973. RDN\n",
      "5974. RDNT\n",
      "5975. RDOG\n",
      "5976. RDUS\n",
      "5977. RDVT\n",
      "5978. RDVY\n",
      "5979. RDWR\n",
      "5980. RDY\n",
      "5981. RE\n"
     ]
    },
    {
     "name": "stderr",
     "output_type": "stream",
     "text": [
      "RE: No timezone found, symbol may be delisted\n",
      "404 Client Error: Not Found for url: https://query2.finance.yahoo.com/v10/finance/quoteSummary/RE?modules=financialData%2CquoteType%2CdefaultKeyStatistics%2CassetProfile%2CsummaryDetail&corsDomain=finance.yahoo.com&formatted=false&symbol=RE&crumb=KUwSGfMjWIw\n"
     ]
    },
    {
     "name": "stdout",
     "output_type": "stream",
     "text": [
      "5982. REAL\n",
      "5983. RECS\n",
      "5984. REDU\n"
     ]
    },
    {
     "name": "stderr",
     "output_type": "stream",
     "text": [
      "REDU: No timezone found, symbol may be delisted\n"
     ]
    },
    {
     "name": "stdout",
     "output_type": "stream",
     "text": [
      "5985. REED\n",
      "5986. REET\n",
      "5987. REFR\n",
      "5988. REG\n",
      "5989. REGI\n"
     ]
    },
    {
     "name": "stderr",
     "output_type": "stream",
     "text": [
      "REGI: No price data found, symbol may be delisted (1d 2023-01-01 -> 2024-01-01)\n"
     ]
    },
    {
     "name": "stdout",
     "output_type": "stream",
     "text": [
      "5990. REGL\n",
      "5991. REGN\n",
      "5992. REI\n",
      "5993. REK\n",
      "5994. REKR\n",
      "5995. RELL\n",
      "5996. RELV\n",
      "5997. RELX\n",
      "5998. REM\n",
      "5999. REML\n"
     ]
    },
    {
     "name": "stderr",
     "output_type": "stream",
     "text": [
      "REML: No price data found, symbol may be delisted (1d 2023-01-01 -> 2024-01-01)\n"
     ]
    },
    {
     "name": "stdout",
     "output_type": "stream",
     "text": [
      "6000. REMX\n",
      "6001. RENN\n"
     ]
    },
    {
     "name": "stderr",
     "output_type": "stream",
     "text": [
      "RENN: No timezone found, symbol may be delisted\n"
     ]
    },
    {
     "name": "stdout",
     "output_type": "stream",
     "text": [
      "6002. REPH\n"
     ]
    },
    {
     "name": "stderr",
     "output_type": "stream",
     "text": [
      "REPH: No timezone found, symbol may be delisted\n"
     ]
    },
    {
     "name": "stdout",
     "output_type": "stream",
     "text": [
      "6003. REPL\n",
      "6004. RES\n",
      "6005. RESD\n",
      "6006. RESE\n",
      "6007. RESI\n",
      "6008. RESN\n"
     ]
    },
    {
     "name": "stderr",
     "output_type": "stream",
     "text": [
      "RESN: No timezone found, symbol may be delisted\n"
     ]
    },
    {
     "name": "stdout",
     "output_type": "stream",
     "text": [
      "6009. RETA\n"
     ]
    },
    {
     "name": "stderr",
     "output_type": "stream",
     "text": [
      "RETA: No timezone found, symbol may be delisted\n",
      "404 Client Error: Not Found for url: https://query2.finance.yahoo.com/v10/finance/quoteSummary/RETA?modules=financialData%2CquoteType%2CdefaultKeyStatistics%2CassetProfile%2CsummaryDetail&corsDomain=finance.yahoo.com&formatted=false&symbol=RETA&crumb=KUwSGfMjWIw\n"
     ]
    },
    {
     "name": "stdout",
     "output_type": "stream",
     "text": [
      "6010. RETL\n",
      "6011. RETO\n",
      "6012. REV\n"
     ]
    },
    {
     "name": "stderr",
     "output_type": "stream",
     "text": [
      "REV: No timezone found, symbol may be delisted\n"
     ]
    },
    {
     "name": "stdout",
     "output_type": "stream",
     "text": [
      "6013. REVG\n",
      "6014. REVS\n",
      "6015. REW\n",
      "6016. REX\n",
      "6017. REXN\n"
     ]
    },
    {
     "name": "stderr",
     "output_type": "stream",
     "text": [
      "REXN: No timezone found, symbol may be delisted\n"
     ]
    },
    {
     "name": "stdout",
     "output_type": "stream",
     "text": [
      "6018. REXR\n",
      "6019. REYN\n",
      "6020. REZ\n",
      "6021. REZI\n",
      "6022. RF\n",
      "6023. RFAP\n"
     ]
    },
    {
     "name": "stderr",
     "output_type": "stream",
     "text": [
      "RFAP: No price data found, symbol may be delisted (1d 2023-01-01 -> 2024-01-01)\n"
     ]
    },
    {
     "name": "stdout",
     "output_type": "stream",
     "text": [
      "6024. RFCI\n",
      "6025. RFDA\n",
      "6026. RFDI\n",
      "6027. RFEM\n",
      "6028. RFEU\n",
      "6029. RFFC\n",
      "6030. RFG\n",
      "6031. RFI\n",
      "6032. RFIL\n",
      "6033. RFL\n",
      "6034. RFP\n"
     ]
    },
    {
     "name": "stderr",
     "output_type": "stream",
     "text": [
      "RFP: No timezone found, symbol may be delisted\n"
     ]
    },
    {
     "name": "stdout",
     "output_type": "stream",
     "text": [
      "6035. RFUN\n"
     ]
    },
    {
     "name": "stderr",
     "output_type": "stream",
     "text": [
      "RFUN: No price data found, symbol may be delisted (1d 2023-01-01 -> 2024-01-01)\n"
     ]
    },
    {
     "name": "stdout",
     "output_type": "stream",
     "text": [
      "6036. RFV\n",
      "6037. RGA\n",
      "6038. RGCO\n",
      "6039. RGEN\n",
      "6040. RGI\n",
      "6041. RGLD\n",
      "6042. RGLS\n",
      "6043. RGNX\n",
      "6044. RGR\n",
      "6045. RGS\n",
      "6046. RGT\n",
      "6047. RH\n",
      "6048. RHE\n",
      "6049. RHI\n",
      "6050. RHP\n",
      "6051. RHS\n",
      "6052. RIBT\n",
      "6053. RICK\n",
      "6054. RIF\n",
      "6055. RIG\n",
      "6056. RIGL\n",
      "6057. RIGS\n",
      "6058. RILY\n",
      "6059. RILYG\n",
      "6060. RILYH\n"
     ]
    },
    {
     "name": "stderr",
     "output_type": "stream",
     "text": [
      "RILYH: No timezone found, symbol may be delisted\n"
     ]
    },
    {
     "name": "stdout",
     "output_type": "stream",
     "text": [
      "6061. RILYI\n"
     ]
    },
    {
     "name": "stderr",
     "output_type": "stream",
     "text": [
      "RILYI: No price data found, symbol may be delisted (1d 2023-01-01 -> 2024-01-01)\n"
     ]
    },
    {
     "name": "stdout",
     "output_type": "stream",
     "text": [
      "6062. RILYN\n",
      "6063. RILYO\n",
      "6064. RILYP\n",
      "6065. RILYZ\n",
      "6066. RINF\n",
      "6067. RING\n",
      "6068. RIO\n",
      "6069. RIOT\n",
      "6070. RISE\n"
     ]
    },
    {
     "name": "stderr",
     "output_type": "stream",
     "text": [
      "RISE: No price data found, symbol may be delisted (1d 2023-01-01 -> 2024-01-01)\n"
     ]
    },
    {
     "name": "stdout",
     "output_type": "stream",
     "text": [
      "6071. RIV\n",
      "6072. RIVE\n"
     ]
    },
    {
     "name": "stderr",
     "output_type": "stream",
     "text": [
      "RIVE: No timezone found, symbol may be delisted\n"
     ]
    },
    {
     "name": "stdout",
     "output_type": "stream",
     "text": [
      "6073. RJA\n"
     ]
    },
    {
     "name": "stderr",
     "output_type": "stream",
     "text": [
      "RJA: No price data found, symbol may be delisted (1d 2023-01-01 -> 2024-01-01)\n"
     ]
    },
    {
     "name": "stdout",
     "output_type": "stream",
     "text": [
      "6074. RJF\n",
      "6075. RJI\n"
     ]
    },
    {
     "name": "stderr",
     "output_type": "stream",
     "text": [
      "RJI: No price data found, symbol may be delisted (1d 2023-01-01 -> 2024-01-01)\n"
     ]
    },
    {
     "name": "stdout",
     "output_type": "stream",
     "text": [
      "6076. RJN\n"
     ]
    },
    {
     "name": "stderr",
     "output_type": "stream",
     "text": [
      "RJN: No price data found, symbol may be delisted (1d 2023-01-01 -> 2024-01-01)\n"
     ]
    },
    {
     "name": "stdout",
     "output_type": "stream",
     "text": [
      "6077. RJZ\n"
     ]
    },
    {
     "name": "stderr",
     "output_type": "stream",
     "text": [
      "RJZ: No price data found, symbol may be delisted (1d 2023-01-01 -> 2024-01-01)\n"
     ]
    },
    {
     "name": "stdout",
     "output_type": "stream",
     "text": [
      "6078. RKDA\n",
      "6079. RL\n",
      "6080. RLGT\n",
      "6081. RLGY\n"
     ]
    },
    {
     "name": "stderr",
     "output_type": "stream",
     "text": [
      "RLGY: No timezone found, symbol may be delisted\n"
     ]
    },
    {
     "name": "stdout",
     "output_type": "stream",
     "text": [
      "6082. RLH\n"
     ]
    },
    {
     "name": "stderr",
     "output_type": "stream",
     "text": [
      "RLH: No timezone found, symbol may be delisted\n"
     ]
    },
    {
     "name": "stdout",
     "output_type": "stream",
     "text": [
      "6083. RLI\n",
      "6084. RLJ\n",
      "6085. RLMD\n",
      "6086. RLY\n",
      "6087. RM\n",
      "6088. RMAX\n",
      "6089. RMBI\n",
      "6090. RMBL\n",
      "6091. RMBS\n",
      "6092. RMCF\n",
      "6093. RMD\n",
      "6094. RMED\n"
     ]
    },
    {
     "name": "stderr",
     "output_type": "stream",
     "text": [
      "RMED: No timezone found, symbol may be delisted\n"
     ]
    },
    {
     "name": "stdout",
     "output_type": "stream",
     "text": [
      "6095. RMG\n"
     ]
    },
    {
     "name": "stderr",
     "output_type": "stream",
     "text": [
      "RMG: No timezone found, symbol may be delisted\n"
     ]
    },
    {
     "name": "stdout",
     "output_type": "stream",
     "text": [
      "6096. RMI\n",
      "6097. RMM\n",
      "6098. RMNI\n",
      "6099. RMR\n",
      "6100. RMT\n",
      "6101. RMTI\n",
      "6102. RNDB\n"
     ]
    },
    {
     "name": "stderr",
     "output_type": "stream",
     "text": [
      "RNDB: No timezone found, symbol may be delisted\n"
     ]
    },
    {
     "name": "stdout",
     "output_type": "stream",
     "text": [
      "6103. RNDM\n",
      "6104. RNDV\n",
      "6105. RNEM\n",
      "6106. RNET\n"
     ]
    },
    {
     "name": "stderr",
     "output_type": "stream",
     "text": [
      "RNET: No timezone found, symbol may be delisted\n"
     ]
    },
    {
     "name": "stdout",
     "output_type": "stream",
     "text": [
      "6107. RNG\n",
      "6108. RNGR\n",
      "6109. RNLC\n",
      "6110. RNMC\n",
      "6111. RNP\n",
      "6112. RNR\n",
      "6113. RNSC\n",
      "6114. RNST\n",
      "6115. RNWK\n"
     ]
    },
    {
     "name": "stderr",
     "output_type": "stream",
     "text": [
      "RNWK: No timezone found, symbol may be delisted\n"
     ]
    },
    {
     "name": "stdout",
     "output_type": "stream",
     "text": [
      "6116. ROAD\n",
      "6117. ROAM\n",
      "6118. ROBO\n",
      "6119. ROBT\n",
      "6120. ROCK\n",
      "6121. RODE\n",
      "6122. RODI\n",
      "6123. RODM\n",
      "6124. ROG\n",
      "6125. ROIC\n",
      "6126. ROK\n",
      "6127. ROKT\n",
      "6128. ROKU\n",
      "6129. ROL\n",
      "6130. ROLL\n"
     ]
    },
    {
     "name": "stderr",
     "output_type": "stream",
     "text": [
      "ROLL: No timezone found, symbol may be delisted\n"
     ]
    },
    {
     "name": "stdout",
     "output_type": "stream",
     "text": [
      "6131. ROM\n",
      "6132. ROMO\n",
      "6133. ROOF\n",
      "6134. ROP\n",
      "6135. RORE\n"
     ]
    },
    {
     "name": "stderr",
     "output_type": "stream",
     "text": [
      "RORE: No price data found, symbol may be delisted (1d 2023-01-01 -> 2024-01-01)\n"
     ]
    },
    {
     "name": "stdout",
     "output_type": "stream",
     "text": [
      "6136. ROSC\n",
      "6137. ROSE\n",
      "6138. ROSEU\n",
      "6139. ROST\n",
      "6140. ROUS\n",
      "6141. ROYT\n"
     ]
    },
    {
     "name": "stderr",
     "output_type": "stream",
     "text": [
      "ROYT: No timezone found, symbol may be delisted\n"
     ]
    },
    {
     "name": "stdout",
     "output_type": "stream",
     "text": [
      "6142. RP\n"
     ]
    },
    {
     "name": "stderr",
     "output_type": "stream",
     "text": [
      "RP: No timezone found, symbol may be delisted\n"
     ]
    },
    {
     "name": "stdout",
     "output_type": "stream",
     "text": [
      "6143. RPAI\n"
     ]
    },
    {
     "name": "stderr",
     "output_type": "stream",
     "text": [
      "RPAI: No timezone found, symbol may be delisted\n"
     ]
    },
    {
     "name": "stdout",
     "output_type": "stream",
     "text": [
      "6144. RPAR\n",
      "6145. RPAY\n",
      "6146. RPD\n",
      "6147. RPG\n",
      "6148. RPLA\n"
     ]
    },
    {
     "name": "stderr",
     "output_type": "stream",
     "text": [
      "RPLA: No timezone found, symbol may be delisted\n"
     ]
    },
    {
     "name": "stdout",
     "output_type": "stream",
     "text": [
      "6149. RPM\n",
      "6150. RPT\n",
      "6151. RPV\n",
      "6152. RQI\n",
      "6153. RRBI\n",
      "6154. RRC\n",
      "6155. RRD\n"
     ]
    },
    {
     "name": "stderr",
     "output_type": "stream",
     "text": [
      "RRD: No timezone found, symbol may be delisted\n"
     ]
    },
    {
     "name": "stdout",
     "output_type": "stream",
     "text": [
      "6156. RRGB\n",
      "6157. RRR\n",
      "6158. RRTS\n",
      "6159. RS\n",
      "6160. RSF\n",
      "6161. RSG\n",
      "6162. RSP\n",
      "6163. RSSS\n",
      "6164. RST\n"
     ]
    },
    {
     "name": "stderr",
     "output_type": "stream",
     "text": [
      "RST: No timezone found, symbol may be delisted\n"
     ]
    },
    {
     "name": "stdout",
     "output_type": "stream",
     "text": [
      "6165. RSX\n",
      "6166. RSXJ\n",
      "6167. RTH\n",
      "6168. RTIX\n"
     ]
    },
    {
     "name": "stderr",
     "output_type": "stream",
     "text": [
      "RTIX: No timezone found, symbol may be delisted\n"
     ]
    },
    {
     "name": "stdout",
     "output_type": "stream",
     "text": [
      "6169. RTL\n"
     ]
    },
    {
     "name": "stderr",
     "output_type": "stream",
     "text": [
      "RTL: No timezone found, symbol may be delisted\n",
      "404 Client Error: Not Found for url: https://query2.finance.yahoo.com/v10/finance/quoteSummary/RTL?modules=financialData%2CquoteType%2CdefaultKeyStatistics%2CassetProfile%2CsummaryDetail&corsDomain=finance.yahoo.com&formatted=false&symbol=RTL&crumb=KUwSGfMjWIw\n"
     ]
    },
    {
     "name": "stdout",
     "output_type": "stream",
     "text": [
      "6170. RTLR\n"
     ]
    },
    {
     "name": "stderr",
     "output_type": "stream",
     "text": [
      "RTLR: No price data found, symbol may be delisted (1d 2023-01-01 -> 2024-01-01)\n"
     ]
    },
    {
     "name": "stdout",
     "output_type": "stream",
     "text": [
      "6171. RTM\n",
      "6172. RTN\n"
     ]
    },
    {
     "name": "stderr",
     "output_type": "stream",
     "text": [
      "RTN: No timezone found, symbol may be delisted\n"
     ]
    },
    {
     "name": "stdout",
     "output_type": "stream",
     "text": [
      "6173. RTRX\n"
     ]
    },
    {
     "name": "stderr",
     "output_type": "stream",
     "text": [
      "RTRX: No timezone found, symbol may be delisted\n"
     ]
    },
    {
     "name": "stdout",
     "output_type": "stream",
     "text": [
      "6174. RTTR\n"
     ]
    },
    {
     "name": "stderr",
     "output_type": "stream",
     "text": [
      "RTTR: No timezone found, symbol may be delisted\n"
     ]
    },
    {
     "name": "stdout",
     "output_type": "stream",
     "text": [
      "6175. RTW\n",
      "6176. RUBI\n"
     ]
    },
    {
     "name": "stderr",
     "output_type": "stream",
     "text": [
      "RUBI: No timezone found, symbol may be delisted\n"
     ]
    },
    {
     "name": "stdout",
     "output_type": "stream",
     "text": [
      "6177. RUBY\n",
      "6178. RUHN\n"
     ]
    },
    {
     "name": "stderr",
     "output_type": "stream",
     "text": [
      "RUHN: No timezone found, symbol may be delisted\n"
     ]
    },
    {
     "name": "stdout",
     "output_type": "stream",
     "text": [
      "6179. RUN\n",
      "6180. RUSHA\n",
      "6181. RUSHB\n",
      "6182. RUSL\n"
     ]
    },
    {
     "name": "stderr",
     "output_type": "stream",
     "text": [
      "RUSL: No price data found, symbol may be delisted (1d 2023-01-01 -> 2024-01-01)\n"
     ]
    },
    {
     "name": "stdout",
     "output_type": "stream",
     "text": [
      "6183. RUTH\n"
     ]
    },
    {
     "name": "stderr",
     "output_type": "stream",
     "text": [
      "RUTH: No timezone found, symbol may be delisted\n"
     ]
    },
    {
     "name": "stdout",
     "output_type": "stream",
     "text": [
      "6184. RVI\n"
     ]
    },
    {
     "name": "stderr",
     "output_type": "stream",
     "text": [
      "RVI: No timezone found, symbol may be delisted\n"
     ]
    },
    {
     "name": "stdout",
     "output_type": "stream",
     "text": [
      "6185. RVLV\n",
      "6186. RVNC\n",
      "6187. RVNU\n",
      "6188. RVP\n",
      "6189. RVRS\n",
      "6190. RVSB\n",
      "6191. RVT\n",
      "6192. RWCD\n"
     ]
    },
    {
     "name": "stderr",
     "output_type": "stream",
     "text": [
      "RWCD: No price data found, symbol may be delisted (1d 2023-01-01 -> 2024-01-01)\n"
     ]
    },
    {
     "name": "stdout",
     "output_type": "stream",
     "text": [
      "6193. RWDC\n"
     ]
    },
    {
     "name": "stderr",
     "output_type": "stream",
     "text": [
      "RWDC: No price data found, symbol may be delisted (1d 2023-01-01 -> 2024-01-01)\n"
     ]
    },
    {
     "name": "stdout",
     "output_type": "stream",
     "text": [
      "6194. RWDE\n"
     ]
    },
    {
     "name": "stderr",
     "output_type": "stream",
     "text": [
      "RWDE: No price data found, symbol may be delisted (1d 2023-01-01 -> 2024-01-01)\n"
     ]
    },
    {
     "name": "stdout",
     "output_type": "stream",
     "text": [
      "6195. RWED\n"
     ]
    },
    {
     "name": "stderr",
     "output_type": "stream",
     "text": [
      "RWED: No price data found, symbol may be delisted (1d 2023-01-01 -> 2024-01-01)\n"
     ]
    },
    {
     "name": "stdout",
     "output_type": "stream",
     "text": [
      "6196. RWGV\n"
     ]
    },
    {
     "name": "stderr",
     "output_type": "stream",
     "text": [
      "RWGV: No price data found, symbol may be delisted (1d 2023-01-01 -> 2024-01-01)\n"
     ]
    },
    {
     "name": "stdout",
     "output_type": "stream",
     "text": [
      "6197. RWIU\n"
     ]
    },
    {
     "name": "stderr",
     "output_type": "stream",
     "text": [
      "RWIU: No price data found, symbol may be delisted (1d 2023-01-01 -> 2024-01-01)\n"
     ]
    },
    {
     "name": "stdout",
     "output_type": "stream",
     "text": [
      "6198. RWJ\n",
      "6199. RWK\n",
      "6200. RWL\n",
      "6201. RWLK\n",
      "6202. RWLS\n"
     ]
    },
    {
     "name": "stderr",
     "output_type": "stream",
     "text": [
      "RWLS: No price data found, symbol may be delisted (1d 2023-01-01 -> 2024-01-01)\n"
     ]
    },
    {
     "name": "stdout",
     "output_type": "stream",
     "text": [
      "6203. RWM\n",
      "6204. RWO\n",
      "6205. RWR\n",
      "6206. RWSL\n"
     ]
    },
    {
     "name": "stderr",
     "output_type": "stream",
     "text": [
      "RWSL: No price data found, symbol may be delisted (1d 2023-01-01 -> 2024-01-01)\n"
     ]
    },
    {
     "name": "stdout",
     "output_type": "stream",
     "text": [
      "6207. RWT\n",
      "6208. RWUI\n"
     ]
    },
    {
     "name": "stderr",
     "output_type": "stream",
     "text": [
      "RWUI: No price data found, symbol may be delisted (1d 2023-01-01 -> 2024-01-01)\n"
     ]
    },
    {
     "name": "stdout",
     "output_type": "stream",
     "text": [
      "6209. RWVG\n"
     ]
    },
    {
     "name": "stderr",
     "output_type": "stream",
     "text": [
      "RWVG: No price data found, symbol may be delisted (1d 2023-01-01 -> 2024-01-01)\n"
     ]
    },
    {
     "name": "stdout",
     "output_type": "stream",
     "text": [
      "6210. RWX\n",
      "6211. RXD\n",
      "6212. RXI\n",
      "6213. RXL\n",
      "6214. RXN\n"
     ]
    },
    {
     "name": "stderr",
     "output_type": "stream",
     "text": [
      "RXN: No timezone found, symbol may be delisted\n"
     ]
    },
    {
     "name": "stdout",
     "output_type": "stream",
     "text": [
      "6215. RY\n",
      "6216. RYAAY\n",
      "6217. RYAM\n",
      "6218. RYB\n"
     ]
    },
    {
     "name": "stderr",
     "output_type": "stream",
     "text": [
      "RYB: No timezone found, symbol may be delisted\n"
     ]
    },
    {
     "name": "stdout",
     "output_type": "stream",
     "text": [
      "6219. RYCE\n"
     ]
    },
    {
     "name": "stderr",
     "output_type": "stream",
     "text": [
      "RYCE: No timezone found, symbol may be delisted\n"
     ]
    },
    {
     "name": "stdout",
     "output_type": "stream",
     "text": [
      "6220. RYE\n",
      "6221. RYF\n",
      "6222. RYH\n",
      "6223. RYI\n",
      "6224. RYJ\n",
      "6225. RYLD\n",
      "6226. RYN\n",
      "6227. RYT\n",
      "6228. RYTM\n",
      "6229. RYU\n",
      "6230. RYZZ\n"
     ]
    },
    {
     "name": "stderr",
     "output_type": "stream",
     "text": [
      "RYZZ: No price data found, symbol may be delisted (1d 2023-01-01 -> 2024-01-01)\n"
     ]
    },
    {
     "name": "stdout",
     "output_type": "stream",
     "text": [
      "6231. RZA\n"
     ]
    },
    {
     "name": "stderr",
     "output_type": "stream",
     "text": [
      "RZA: No timezone found, symbol may be delisted\n"
     ]
    },
    {
     "name": "stdout",
     "output_type": "stream",
     "text": [
      "6232. RZB\n",
      "6233. RZG\n",
      "6234. RZV\n",
      "6235. SA\n",
      "6236. SAA\n",
      "6237. SABR\n",
      "6238. SACC\n",
      "6239. SACH\n",
      "6240. SAEX\n"
     ]
    },
    {
     "name": "stderr",
     "output_type": "stream",
     "text": [
      "SAEX: No timezone found, symbol may be delisted\n"
     ]
    },
    {
     "name": "stdout",
     "output_type": "stream",
     "text": [
      "6241. SAF\n"
     ]
    },
    {
     "name": "stderr",
     "output_type": "stream",
     "text": [
      "SAF: No price data found, symbol may be delisted (1d 2023-01-01 -> 2024-01-01)\n"
     ]
    },
    {
     "name": "stdout",
     "output_type": "stream",
     "text": [
      "6242. SAFE\n",
      "6243. SAFM\n"
     ]
    },
    {
     "name": "stderr",
     "output_type": "stream",
     "text": [
      "SAFM: No timezone found, symbol may be delisted\n"
     ]
    },
    {
     "name": "stdout",
     "output_type": "stream",
     "text": [
      "6244. SAFT\n",
      "6245. SAGE\n",
      "6246. SAH\n",
      "6247. SAIA\n",
      "6248. SAIC\n",
      "6249. SAIL\n"
     ]
    },
    {
     "name": "stderr",
     "output_type": "stream",
     "text": [
      "SAIL: No timezone found, symbol may be delisted\n"
     ]
    },
    {
     "name": "stdout",
     "output_type": "stream",
     "text": [
      "6250. SAL\n"
     ]
    },
    {
     "name": "stderr",
     "output_type": "stream",
     "text": [
      "SAL: No timezone found, symbol may be delisted\n",
      "404 Client Error: Not Found for url: https://query2.finance.yahoo.com/v10/finance/quoteSummary/SAL?modules=financialData%2CquoteType%2CdefaultKeyStatistics%2CassetProfile%2CsummaryDetail&corsDomain=finance.yahoo.com&formatted=false&symbol=SAL&crumb=KUwSGfMjWIw\n"
     ]
    },
    {
     "name": "stdout",
     "output_type": "stream",
     "text": [
      "6251. SALM\n",
      "6252. SALT\n"
     ]
    },
    {
     "name": "stderr",
     "output_type": "stream",
     "text": [
      "SALT: No timezone found, symbol may be delisted\n"
     ]
    },
    {
     "name": "stdout",
     "output_type": "stream",
     "text": [
      "6253. SAM\n",
      "6254. SAMA\n"
     ]
    },
    {
     "name": "stderr",
     "output_type": "stream",
     "text": [
      "SAMA: No timezone found, symbol may be delisted\n",
      "404 Client Error: Not Found for url: https://query2.finance.yahoo.com/v10/finance/quoteSummary/SAMA?modules=financialData%2CquoteType%2CdefaultKeyStatistics%2CassetProfile%2CsummaryDetail&corsDomain=finance.yahoo.com&formatted=false&symbol=SAMA&crumb=KUwSGfMjWIw\n"
     ]
    },
    {
     "name": "stdout",
     "output_type": "stream",
     "text": [
      "6255. SAMAU\n"
     ]
    },
    {
     "name": "stderr",
     "output_type": "stream",
     "text": [
      "SAMAU: No timezone found, symbol may be delisted\n",
      "404 Client Error: Not Found for url: https://query2.finance.yahoo.com/v10/finance/quoteSummary/SAMAU?modules=financialData%2CquoteType%2CdefaultKeyStatistics%2CassetProfile%2CsummaryDetail&corsDomain=finance.yahoo.com&formatted=false&symbol=SAMAU&crumb=KUwSGfMjWIw\n"
     ]
    },
    {
     "name": "stdout",
     "output_type": "stream",
     "text": [
      "6256. SAMG\n",
      "6257. SAN\n",
      "6258. SAND\n",
      "6259. SANM\n",
      "6260. SANW\n",
      "6261. SAP\n",
      "6262. SAQN\n"
     ]
    },
    {
     "name": "stderr",
     "output_type": "stream",
     "text": [
      "SAQN: No timezone found, symbol may be delisted\n"
     ]
    },
    {
     "name": "stdout",
     "output_type": "stream",
     "text": [
      "6263. SAQNU\n"
     ]
    },
    {
     "name": "stderr",
     "output_type": "stream",
     "text": [
      "SAQNU: No timezone found, symbol may be delisted\n"
     ]
    },
    {
     "name": "stdout",
     "output_type": "stream",
     "text": [
      "6264. SAR\n",
      "6265. SASR\n",
      "6266. SATS\n",
      "6267. SAVA\n",
      "6268. SAVE\n",
      "6269. SB\n",
      "6270. SBAC\n",
      "6271. SBB\n",
      "6272. SBBP\n"
     ]
    },
    {
     "name": "stderr",
     "output_type": "stream",
     "text": [
      "SBBP: No timezone found, symbol may be delisted\n"
     ]
    },
    {
     "name": "stdout",
     "output_type": "stream",
     "text": [
      "6273. SBBX\n"
     ]
    },
    {
     "name": "stderr",
     "output_type": "stream",
     "text": [
      "SBBX: No timezone found, symbol may be delisted\n"
     ]
    },
    {
     "name": "stdout",
     "output_type": "stream",
     "text": [
      "6274. SBCF\n",
      "6275. SBE\n"
     ]
    },
    {
     "name": "stderr",
     "output_type": "stream",
     "text": [
      "SBE: No timezone found, symbol may be delisted\n"
     ]
    },
    {
     "name": "stdout",
     "output_type": "stream",
     "text": [
      "6276. SBFG\n",
      "6277. SBGI\n",
      "6278. SBH\n",
      "6279. SBI\n",
      "6280. SBIO\n",
      "6281. SBLK\n",
      "6282. SBLKZ\n"
     ]
    },
    {
     "name": "stderr",
     "output_type": "stream",
     "text": [
      "SBLKZ: No timezone found, symbol may be delisted\n"
     ]
    },
    {
     "name": "stdout",
     "output_type": "stream",
     "text": [
      "6283. SBM\n"
     ]
    },
    {
     "name": "stderr",
     "output_type": "stream",
     "text": [
      "SBM: No price data found, symbol may be delisted (1d 2023-01-01 -> 2024-01-01)\n"
     ]
    },
    {
     "name": "stdout",
     "output_type": "stream",
     "text": [
      "6284. SBNA\n"
     ]
    },
    {
     "name": "stderr",
     "output_type": "stream",
     "text": [
      "SBNA: No timezone found, symbol may be delisted\n"
     ]
    },
    {
     "name": "stdout",
     "output_type": "stream",
     "text": [
      "6285. SBNY\n",
      "6286. SBOW\n",
      "6287. SBPH\n"
     ]
    },
    {
     "name": "stderr",
     "output_type": "stream",
     "text": [
      "SBPH: No timezone found, symbol may be delisted\n"
     ]
    },
    {
     "name": "stdout",
     "output_type": "stream",
     "text": [
      "6288. SBRA\n",
      "6289. SBS\n",
      "6290. SBSI\n",
      "6291. SBT\n",
      "6292. SBUX\n",
      "6293. SC\n"
     ]
    },
    {
     "name": "stderr",
     "output_type": "stream",
     "text": [
      "SC: No timezone found, symbol may be delisted\n"
     ]
    },
    {
     "name": "stdout",
     "output_type": "stream",
     "text": [
      "6294. SCA\n"
     ]
    },
    {
     "name": "stderr",
     "output_type": "stream",
     "text": [
      "SCA: No price data found, symbol may be delisted (1d 2023-01-01 -> 2024-01-01)\n"
     ]
    },
    {
     "name": "stdout",
     "output_type": "stream",
     "text": [
      "6295. SCAP\n",
      "6296. SCC\n",
      "6297. SCCB\n",
      "6298. SCCO\n",
      "6299. SCD\n",
      "6300. SCHA\n",
      "6301. SCHB\n",
      "6302. SCHC\n",
      "6303. SCHD\n",
      "6304. SCHE\n",
      "6305. SCHF\n",
      "6306. SCHG\n",
      "6307. SCHH\n",
      "6308. SCHI\n",
      "6309. SCHJ\n",
      "6310. SCHK\n",
      "6311. SCHL\n",
      "6312. SCHM\n",
      "6313. SCHN\n"
     ]
    },
    {
     "name": "stderr",
     "output_type": "stream",
     "text": [
      "SCHN: No timezone found, symbol may be delisted\n",
      "404 Client Error: Not Found for url: https://query2.finance.yahoo.com/v10/finance/quoteSummary/SCHN?modules=financialData%2CquoteType%2CdefaultKeyStatistics%2CassetProfile%2CsummaryDetail&corsDomain=finance.yahoo.com&formatted=false&symbol=SCHN&crumb=KUwSGfMjWIw\n"
     ]
    },
    {
     "name": "stdout",
     "output_type": "stream",
     "text": [
      "6314. SCHO\n",
      "6315. SCHP\n",
      "6316. SCHQ\n",
      "6317. SCHR\n",
      "6318. SCHV\n",
      "6319. SCHW\n",
      "6320. SCHX\n",
      "6321. SCHZ\n",
      "6322. SCI\n",
      "6323. SCID\n"
     ]
    },
    {
     "name": "stderr",
     "output_type": "stream",
     "text": [
      "SCID: No price data found, symbol may be delisted (1d 2023-01-01 -> 2024-01-01)\n"
     ]
    },
    {
     "name": "stdout",
     "output_type": "stream",
     "text": [
      "6324. SCIF\n",
      "6325. SCIJ\n"
     ]
    },
    {
     "name": "stderr",
     "output_type": "stream",
     "text": [
      "SCIJ: No price data found, symbol may be delisted (1d 2023-01-01 -> 2024-01-01)\n"
     ]
    },
    {
     "name": "stdout",
     "output_type": "stream",
     "text": [
      "6326. SCIU\n"
     ]
    },
    {
     "name": "stderr",
     "output_type": "stream",
     "text": [
      "SCIU: No price data found, symbol may be delisted (1d 2023-01-01 -> 2024-01-01)\n"
     ]
    },
    {
     "name": "stdout",
     "output_type": "stream",
     "text": [
      "6327. SCIX\n"
     ]
    },
    {
     "name": "stderr",
     "output_type": "stream",
     "text": [
      "SCIX: No price data found, symbol may be delisted (1d 2023-01-01 -> 2024-01-01)\n"
     ]
    },
    {
     "name": "stdout",
     "output_type": "stream",
     "text": [
      "6328. SCJ\n",
      "6329. SCKT\n",
      "6330. SCL\n",
      "6331. SCM\n",
      "6332. SCO\n",
      "6333. SCON\n"
     ]
    },
    {
     "name": "stderr",
     "output_type": "stream",
     "text": [
      "SCON: No timezone found, symbol may be delisted\n"
     ]
    },
    {
     "name": "stdout",
     "output_type": "stream",
     "text": [
      "6334. SCOR\n",
      "6335. SCPE\n"
     ]
    },
    {
     "name": "stderr",
     "output_type": "stream",
     "text": [
      "SCPE: No timezone found, symbol may be delisted\n"
     ]
    },
    {
     "name": "stdout",
     "output_type": "stream",
     "text": [
      "6336. SCPH\n",
      "6337. SCPL\n"
     ]
    },
    {
     "name": "stderr",
     "output_type": "stream",
     "text": [
      "SCPL: No timezone found, symbol may be delisted\n",
      "404 Client Error: Not Found for url: https://query2.finance.yahoo.com/v10/finance/quoteSummary/SCPL?modules=financialData%2CquoteType%2CdefaultKeyStatistics%2CassetProfile%2CsummaryDetail&corsDomain=finance.yahoo.com&formatted=false&symbol=SCPL&crumb=KUwSGfMjWIw\n"
     ]
    },
    {
     "name": "stdout",
     "output_type": "stream",
     "text": [
      "6338. SCS\n",
      "6339. SCSC\n",
      "6340. SCU\n"
     ]
    },
    {
     "name": "stderr",
     "output_type": "stream",
     "text": [
      "SCU: No timezone found, symbol may be delisted\n",
      "404 Client Error: Not Found for url: https://query2.finance.yahoo.com/v10/finance/quoteSummary/SCU?modules=financialData%2CquoteType%2CdefaultKeyStatistics%2CassetProfile%2CsummaryDetail&corsDomain=finance.yahoo.com&formatted=false&symbol=SCU&crumb=KUwSGfMjWIw\n"
     ]
    },
    {
     "name": "stdout",
     "output_type": "stream",
     "text": [
      "6341. SCVX\n"
     ]
    },
    {
     "name": "stderr",
     "output_type": "stream",
     "text": [
      "SCVX: No timezone found, symbol may be delisted\n"
     ]
    },
    {
     "name": "stdout",
     "output_type": "stream",
     "text": [
      "6342. SCWX\n",
      "6343. SCX\n",
      "6344. SCYX\n",
      "6345. SCZ\n",
      "6346. SD\n",
      "6347. SDAG\n"
     ]
    },
    {
     "name": "stderr",
     "output_type": "stream",
     "text": [
      "SDAG: No price data found, symbol may be delisted (1d 2023-01-01 -> 2024-01-01)\n"
     ]
    },
    {
     "name": "stdout",
     "output_type": "stream",
     "text": [
      "6348. SDC\n"
     ]
    },
    {
     "name": "stderr",
     "output_type": "stream",
     "text": [
      "SDC: No timezone found, symbol may be delisted\n",
      "404 Client Error: Not Found for url: https://query2.finance.yahoo.com/v10/finance/quoteSummary/SDC?modules=financialData%2CquoteType%2CdefaultKeyStatistics%2CassetProfile%2CsummaryDetail&corsDomain=finance.yahoo.com&formatted=false&symbol=SDC&crumb=KUwSGfMjWIw\n"
     ]
    },
    {
     "name": "stdout",
     "output_type": "stream",
     "text": [
      "6349. SDCI\n",
      "6350. SDD\n",
      "6351. SDEM\n",
      "6352. SDG\n",
      "6353. SDGA\n",
      "6354. SDGR\n",
      "6355. SDI\n"
     ]
    },
    {
     "name": "stderr",
     "output_type": "stream",
     "text": [
      "SDI: No timezone found, symbol may be delisted\n"
     ]
    },
    {
     "name": "stdout",
     "output_type": "stream",
     "text": [
      "6356. SDIV\n",
      "6357. SDOG\n",
      "6358. SDOW\n",
      "6359. SDP\n",
      "6360. SDPI\n",
      "6361. SDRL\n",
      "6362. SDS\n",
      "6363. SDVY\n",
      "6364. SDY\n",
      "6365. SDYL\n"
     ]
    },
    {
     "name": "stderr",
     "output_type": "stream",
     "text": [
      "SDYL: No price data found, symbol may be delisted (1d 2023-01-01 -> 2024-01-01)\n"
     ]
    },
    {
     "name": "stdout",
     "output_type": "stream",
     "text": [
      "6366. SE\n",
      "6367. SEAC\n",
      "6368. SEAS\n",
      "6369. SEB\n",
      "6370. SECO\n",
      "6371. SECT\n",
      "6372. SEDG\n",
      "6373. SEE\n",
      "6374. SEED\n",
      "6375. SEEL\n",
      "6376. SEF\n",
      "6377. SEIC\n",
      "6378. SEIX\n",
      "6379. SELB\n"
     ]
    },
    {
     "name": "stderr",
     "output_type": "stream",
     "text": [
      "SELB: No timezone found, symbol may be delisted\n",
      "404 Client Error: Not Found for url: https://query2.finance.yahoo.com/v10/finance/quoteSummary/SELB?modules=financialData%2CquoteType%2CdefaultKeyStatistics%2CassetProfile%2CsummaryDetail&corsDomain=finance.yahoo.com&formatted=false&symbol=SELB&crumb=KUwSGfMjWIw\n"
     ]
    },
    {
     "name": "stdout",
     "output_type": "stream",
     "text": [
      "6380. SELF\n",
      "6381. SEM\n",
      "6382. SENEA\n",
      "6383. SENEB\n",
      "6384. SENS\n",
      "6385. SERV\n"
     ]
    },
    {
     "name": "stderr",
     "output_type": "stream",
     "text": [
      "SERV: No timezone found, symbol may be delisted\n"
     ]
    },
    {
     "name": "stdout",
     "output_type": "stream",
     "text": [
      "6386. SES\n",
      "6387. SESN\n"
     ]
    },
    {
     "name": "stderr",
     "output_type": "stream",
     "text": [
      "SESN: No timezone found, symbol may be delisted\n"
     ]
    },
    {
     "name": "stdout",
     "output_type": "stream",
     "text": [
      "6388. SF\n",
      "6389. SFBC\n",
      "6390. SFBS\n",
      "6391. SFE\n",
      "6392. SFET\n"
     ]
    },
    {
     "name": "stderr",
     "output_type": "stream",
     "text": [
      "SFET: No timezone found, symbol may be delisted\n"
     ]
    },
    {
     "name": "stdout",
     "output_type": "stream",
     "text": [
      "6393. SFHY\n"
     ]
    },
    {
     "name": "stderr",
     "output_type": "stream",
     "text": [
      "SFHY: No price data found, symbol may be delisted (1d 2023-01-01 -> 2024-01-01)\n"
     ]
    },
    {
     "name": "stdout",
     "output_type": "stream",
     "text": [
      "6394. SFIG\n",
      "6395. SFIX\n",
      "6396. SFL\n",
      "6397. SFM\n",
      "6398. SFNC\n",
      "6399. SFST\n",
      "6400. SFTW\n"
     ]
    },
    {
     "name": "stderr",
     "output_type": "stream",
     "text": [
      "SFTW: No timezone found, symbol may be delisted\n"
     ]
    },
    {
     "name": "stdout",
     "output_type": "stream",
     "text": [
      "6401. SFUN\n"
     ]
    },
    {
     "name": "stderr",
     "output_type": "stream",
     "text": [
      "SFUN: No timezone found, symbol may be delisted\n"
     ]
    },
    {
     "name": "stdout",
     "output_type": "stream",
     "text": [
      "6402. SFY\n",
      "6403. SFYF\n",
      "6404. SFYX\n",
      "6405. SG\n",
      "6406. SGA\n",
      "6407. SGB\n"
     ]
    },
    {
     "name": "stderr",
     "output_type": "stream",
     "text": [
      "SGB: No timezone found, symbol may be delisted\n"
     ]
    },
    {
     "name": "stdout",
     "output_type": "stream",
     "text": [
      "6408. SGBX\n",
      "6409. SGC\n",
      "6410. SGDJ\n",
      "6411. SGDM\n",
      "6412. SGEN\n",
      "6413. SGG\n",
      "6414. SGH\n",
      "6415. SGLB\n"
     ]
    },
    {
     "name": "stderr",
     "output_type": "stream",
     "text": [
      "SGLB: No timezone found, symbol may be delisted\n"
     ]
    },
    {
     "name": "stdout",
     "output_type": "stream",
     "text": [
      "6416. SGMA\n",
      "6417. SGMO\n",
      "6418. SGMS\n"
     ]
    },
    {
     "name": "stderr",
     "output_type": "stream",
     "text": [
      "SGMS: No timezone found, symbol may be delisted\n"
     ]
    },
    {
     "name": "stdout",
     "output_type": "stream",
     "text": [
      "6419. SGOC\n"
     ]
    },
    {
     "name": "stderr",
     "output_type": "stream",
     "text": [
      "SGOC: No timezone found, symbol may be delisted\n"
     ]
    },
    {
     "name": "stdout",
     "output_type": "stream",
     "text": [
      "6420. SGOL\n",
      "6421. SGRP\n",
      "6422. SGRY\n",
      "6423. SGU\n",
      "6424. SH\n",
      "6425. SHAG\n",
      "6426. SHAK\n",
      "6427. SHBI\n",
      "6428. SHE\n",
      "6429. SHEN\n",
      "6430. SHG\n",
      "6431. SHI\n"
     ]
    },
    {
     "name": "stderr",
     "output_type": "stream",
     "text": [
      "SHI: No timezone found, symbol may be delisted\n"
     ]
    },
    {
     "name": "stdout",
     "output_type": "stream",
     "text": [
      "6432. SHIP\n",
      "6433. SHLL\n"
     ]
    },
    {
     "name": "stderr",
     "output_type": "stream",
     "text": [
      "SHLL: No timezone found, symbol may be delisted\n"
     ]
    },
    {
     "name": "stdout",
     "output_type": "stream",
     "text": [
      "6434. SHLO\n"
     ]
    },
    {
     "name": "stderr",
     "output_type": "stream",
     "text": [
      "SHLO: No timezone found, symbol may be delisted\n"
     ]
    },
    {
     "name": "stdout",
     "output_type": "stream",
     "text": [
      "6435. SHLX\n"
     ]
    },
    {
     "name": "stderr",
     "output_type": "stream",
     "text": [
      "SHLX: No timezone found, symbol may be delisted\n"
     ]
    },
    {
     "name": "stdout",
     "output_type": "stream",
     "text": [
      "6436. SHM\n",
      "6437. SHO\n",
      "6438. SHOO\n",
      "6439. SHOP\n",
      "6440. SHSP\n"
     ]
    },
    {
     "name": "stderr",
     "output_type": "stream",
     "text": [
      "SHSP: No timezone found, symbol may be delisted\n"
     ]
    },
    {
     "name": "stdout",
     "output_type": "stream",
     "text": [
      "6441. SHV\n",
      "6442. SHW\n",
      "6443. SHY\n",
      "6444. SHYD\n",
      "6445. SHYG\n",
      "6446. SHYL\n",
      "6447. SI\n"
     ]
    },
    {
     "name": "stderr",
     "output_type": "stream",
     "text": [
      "SI: No timezone found, symbol may be delisted\n"
     ]
    },
    {
     "name": "stdout",
     "output_type": "stream",
     "text": [
      "6448. SIBN\n",
      "6449. SIC\n"
     ]
    },
    {
     "name": "stderr",
     "output_type": "stream",
     "text": [
      "SIC: No price data found, symbol may be delisted (1d 2023-01-01 -> 2024-01-01)\n"
     ]
    },
    {
     "name": "stdout",
     "output_type": "stream",
     "text": [
      "6450. SID\n",
      "6451. SIEB\n",
      "6452. SIEN\n",
      "6453. SIF\n",
      "6454. SIFY\n",
      "6455. SIG\n",
      "6456. SIGA\n",
      "6457. SIGI\n",
      "6458. SIJ\n",
      "6459. SIL\n",
      "6460. SILC\n",
      "6461. SILJ\n",
      "6462. SILK\n",
      "6463. SILV\n",
      "6464. SIM\n",
      "6465. SIMO\n",
      "6466. SIMS\n",
      "6467. SINA\n"
     ]
    },
    {
     "name": "stderr",
     "output_type": "stream",
     "text": [
      "SINA: No timezone found, symbol may be delisted\n"
     ]
    },
    {
     "name": "stdout",
     "output_type": "stream",
     "text": [
      "6468. SINO\n"
     ]
    },
    {
     "name": "stderr",
     "output_type": "stream",
     "text": [
      "SINO: No timezone found, symbol may be delisted\n"
     ]
    },
    {
     "name": "stdout",
     "output_type": "stream",
     "text": [
      "6469. SINT\n",
      "6470. SIRI\n",
      "6471. SITC\n",
      "6472. SITE\n",
      "6473. SITM\n",
      "6474. SIVB\n"
     ]
    },
    {
     "name": "stderr",
     "output_type": "stream",
     "text": [
      "SIVB: No timezone found, symbol may be delisted\n"
     ]
    },
    {
     "name": "stdout",
     "output_type": "stream",
     "text": [
      "6475. SIVBP\n"
     ]
    },
    {
     "name": "stderr",
     "output_type": "stream",
     "text": [
      "SIVBP: No timezone found, symbol may be delisted\n"
     ]
    },
    {
     "name": "stdout",
     "output_type": "stream",
     "text": [
      "6476. SIVR\n",
      "6477. SIX\n",
      "6478. SIZE\n",
      "6479. SJB\n",
      "6480. SJI\n"
     ]
    },
    {
     "name": "stderr",
     "output_type": "stream",
     "text": [
      "SJI: No timezone found, symbol may be delisted\n"
     ]
    },
    {
     "name": "stdout",
     "output_type": "stream",
     "text": [
      "6481. SJIJ\n"
     ]
    },
    {
     "name": "stderr",
     "output_type": "stream",
     "text": [
      "SJIJ: No timezone found, symbol may be delisted\n"
     ]
    },
    {
     "name": "stdout",
     "output_type": "stream",
     "text": [
      "6482. SJIU\n"
     ]
    },
    {
     "name": "stderr",
     "output_type": "stream",
     "text": [
      "SJIU: No timezone found, symbol may be delisted\n"
     ]
    },
    {
     "name": "stdout",
     "output_type": "stream",
     "text": [
      "6483. SJM\n",
      "6484. SJNK\n",
      "6485. SJR\n"
     ]
    },
    {
     "name": "stderr",
     "output_type": "stream",
     "text": [
      "SJR: No timezone found, symbol may be delisted\n"
     ]
    },
    {
     "name": "stdout",
     "output_type": "stream",
     "text": [
      "6486. SJT\n",
      "6487. SKF\n",
      "6488. SKM\n",
      "6489. SKOR\n",
      "6490. SKT\n",
      "6491. SKX\n",
      "6492. SKY\n",
      "6493. SKYS\n"
     ]
    },
    {
     "name": "stderr",
     "output_type": "stream",
     "text": [
      "SKYS: No timezone found, symbol may be delisted\n"
     ]
    },
    {
     "name": "stdout",
     "output_type": "stream",
     "text": [
      "6494. SKYW\n",
      "6495. SKYY\n",
      "6496. SLAB\n",
      "6497. SLB\n",
      "6498. SLCA\n",
      "6499. SLCT\n"
     ]
    },
    {
     "name": "stderr",
     "output_type": "stream",
     "text": [
      "SLCT: No timezone found, symbol may be delisted\n"
     ]
    },
    {
     "name": "stdout",
     "output_type": "stream",
     "text": [
      "6500. SLDB\n",
      "6501. SLF\n",
      "6502. SLG\n",
      "6503. SLGG\n"
     ]
    },
    {
     "name": "stderr",
     "output_type": "stream",
     "text": [
      "SLGG: No timezone found, symbol may be delisted\n",
      "404 Client Error: Not Found for url: https://query2.finance.yahoo.com/v10/finance/quoteSummary/SLGG?modules=financialData%2CquoteType%2CdefaultKeyStatistics%2CassetProfile%2CsummaryDetail&corsDomain=finance.yahoo.com&formatted=false&symbol=SLGG&crumb=KUwSGfMjWIw\n"
     ]
    },
    {
     "name": "stdout",
     "output_type": "stream",
     "text": [
      "6504. SLGL\n",
      "6505. SLGN\n",
      "6506. SLM\n",
      "6507. SLMBP\n",
      "6508. SLNO\n",
      "6509. SLP\n",
      "6510. SLQD\n",
      "6511. SLRC\n",
      "6512. SLRX\n",
      "6513. SLS\n",
      "6514. SLT\n"
     ]
    },
    {
     "name": "stderr",
     "output_type": "stream",
     "text": [
      "SLT: No price data found, symbol may be delisted (1d 2023-01-01 -> 2024-01-01)\n"
     ]
    },
    {
     "name": "stdout",
     "output_type": "stream",
     "text": [
      "6515. SLV\n",
      "6516. SLVO\n",
      "6517. SLVP\n",
      "6518. SLX\n",
      "6519. SLY\n",
      "6520. SLYG\n",
      "6521. SLYV\n",
      "6522. SM\n",
      "6523. SMAR\n",
      "6524. SMB\n",
      "6525. SMBC\n",
      "6526. SMBK\n",
      "6527. SMCI\n",
      "6528. SMCP\n",
      "6529. SMDD\n",
      "6530. SMDV\n",
      "6531. SMDY\n",
      "6532. SMED\n"
     ]
    },
    {
     "name": "stderr",
     "output_type": "stream",
     "text": [
      "SMED: No timezone found, symbol may be delisted\n"
     ]
    },
    {
     "name": "stdout",
     "output_type": "stream",
     "text": [
      "6533. SMEZ\n"
     ]
    },
    {
     "name": "stderr",
     "output_type": "stream",
     "text": [
      "SMEZ: No price data found, symbol may be delisted (1d 2023-01-01 -> 2024-01-01)\n"
     ]
    },
    {
     "name": "stdout",
     "output_type": "stream",
     "text": [
      "6534. SMFG\n",
      "6535. SMG\n",
      "6536. SMH\n",
      "6537. SMHB\n",
      "6538. SMHI\n",
      "6539. SMIT\n",
      "6540. SMLF\n",
      "6541. SMLL\n"
     ]
    },
    {
     "name": "stderr",
     "output_type": "stream",
     "text": [
      "SMLL: No price data found, symbol may be delisted (1d 2023-01-01 -> 2024-01-01)\n"
     ]
    },
    {
     "name": "stdout",
     "output_type": "stream",
     "text": [
      "6542. SMLP\n",
      "6543. SMLV\n",
      "6544. SMM\n"
     ]
    },
    {
     "name": "stderr",
     "output_type": "stream",
     "text": [
      "SMM: No timezone found, symbol may be delisted\n",
      "404 Client Error: Not Found for url: https://query2.finance.yahoo.com/v10/finance/quoteSummary/SMM?modules=financialData%2CquoteType%2CdefaultKeyStatistics%2CassetProfile%2CsummaryDetail&corsDomain=finance.yahoo.com&formatted=false&symbol=SMM&crumb=KUwSGfMjWIw\n"
     ]
    },
    {
     "name": "stdout",
     "output_type": "stream",
     "text": [
      "6545. SMMC\n"
     ]
    },
    {
     "name": "stderr",
     "output_type": "stream",
     "text": [
      "SMMC: No timezone found, symbol may be delisted\n"
     ]
    },
    {
     "name": "stdout",
     "output_type": "stream",
     "text": [
      "6546. SMMCU\n"
     ]
    },
    {
     "name": "stderr",
     "output_type": "stream",
     "text": [
      "SMMCU: No timezone found, symbol may be delisted\n"
     ]
    },
    {
     "name": "stdout",
     "output_type": "stream",
     "text": [
      "6547. SMMD\n",
      "6548. SMMF\n",
      "6549. SMMT\n",
      "6550. SMMU\n",
      "6551. SMMV\n",
      "6552. SMN\n",
      "6553. SMOG\n",
      "6554. SMP\n",
      "6555. SMPL\n",
      "6556. SMRT\n",
      "6557. SMSI\n",
      "6558. SMTC\n",
      "6559. SMTS\n"
     ]
    },
    {
     "name": "stderr",
     "output_type": "stream",
     "text": [
      "SMTS: No timezone found, symbol may be delisted\n"
     ]
    },
    {
     "name": "stdout",
     "output_type": "stream",
     "text": [
      "6560. SMTX\n"
     ]
    },
    {
     "name": "stderr",
     "output_type": "stream",
     "text": [
      "SMTX: No timezone found, symbol may be delisted\n"
     ]
    },
    {
     "name": "stdout",
     "output_type": "stream",
     "text": [
      "6561. SNA\n",
      "6562. SNAP\n",
      "6563. SNBR\n",
      "6564. SNCA\n"
     ]
    },
    {
     "name": "stderr",
     "output_type": "stream",
     "text": [
      "SNCA: No timezone found, symbol may be delisted\n"
     ]
    },
    {
     "name": "stdout",
     "output_type": "stream",
     "text": [
      "6565. SNCR\n",
      "6566. SND\n",
      "6567. SNDE\n"
     ]
    },
    {
     "name": "stderr",
     "output_type": "stream",
     "text": [
      "SNDE: No timezone found, symbol may be delisted\n"
     ]
    },
    {
     "name": "stdout",
     "output_type": "stream",
     "text": [
      "6568. SNDL\n",
      "6569. SNDR\n",
      "6570. SNDX\n",
      "6571. SNE\n"
     ]
    },
    {
     "name": "stderr",
     "output_type": "stream",
     "text": [
      "SNE: No timezone found, symbol may be delisted\n"
     ]
    },
    {
     "name": "stdout",
     "output_type": "stream",
     "text": [
      "6572. SNES\n",
      "6573. SNFCA\n",
      "6574. SNGX\n",
      "6575. SNLN\n",
      "6576. SNMP\n",
      "6577. SNN\n",
      "6578. SNOA\n",
      "6579. SNP\n"
     ]
    },
    {
     "name": "stderr",
     "output_type": "stream",
     "text": [
      "SNP: No timezone found, symbol may be delisted\n"
     ]
    },
    {
     "name": "stdout",
     "output_type": "stream",
     "text": [
      "6580. SNPE\n",
      "6581. SNPS\n",
      "6582. SNR\n"
     ]
    },
    {
     "name": "stderr",
     "output_type": "stream",
     "text": [
      "SNR: No timezone found, symbol may be delisted\n"
     ]
    },
    {
     "name": "stdout",
     "output_type": "stream",
     "text": [
      "6583. SNSR\n",
      "6584. SNSS\n"
     ]
    },
    {
     "name": "stderr",
     "output_type": "stream",
     "text": [
      "SNSS: No timezone found, symbol may be delisted\n"
     ]
    },
    {
     "name": "stdout",
     "output_type": "stream",
     "text": [
      "6585. SNUG\n"
     ]
    },
    {
     "name": "stderr",
     "output_type": "stream",
     "text": [
      "SNUG: No price data found, symbol may be delisted (1d 2023-01-01 -> 2024-01-01)\n"
     ]
    },
    {
     "name": "stdout",
     "output_type": "stream",
     "text": [
      "6586. SNV\n",
      "6587. SNX\n",
      "6588. SNY\n",
      "6589. SO\n",
      "6590. SOCL\n",
      "6591. SOGO\n"
     ]
    },
    {
     "name": "stderr",
     "output_type": "stream",
     "text": [
      "SOGO: No timezone found, symbol may be delisted\n"
     ]
    },
    {
     "name": "stdout",
     "output_type": "stream",
     "text": [
      "6592. SOHO\n",
      "6593. SOHOB\n",
      "6594. SOHON\n",
      "6595. SOHOO\n",
      "6596. SOHU\n",
      "6597. SOI\n",
      "6598. SOIL\n",
      "6599. SOJA\n"
     ]
    },
    {
     "name": "stderr",
     "output_type": "stream",
     "text": [
      "SOJA: No price data found, symbol may be delisted (1d 2023-01-01 -> 2024-01-01)\n"
     ]
    },
    {
     "name": "stdout",
     "output_type": "stream",
     "text": [
      "6600. SOJB\n"
     ]
    },
    {
     "name": "stderr",
     "output_type": "stream",
     "text": [
      "SOJB: No price data found, symbol may be delisted (1d 2023-01-01 -> 2024-01-01)\n"
     ]
    },
    {
     "name": "stdout",
     "output_type": "stream",
     "text": [
      "6601. SOJC\n",
      "6602. SOJD\n",
      "6603. SOL\n",
      "6604. SOLN\n"
     ]
    },
    {
     "name": "stderr",
     "output_type": "stream",
     "text": [
      "SOLN: No timezone found, symbol may be delisted\n"
     ]
    },
    {
     "name": "stdout",
     "output_type": "stream",
     "text": [
      "6605. SOLO\n",
      "6606. SOLY\n"
     ]
    },
    {
     "name": "stderr",
     "output_type": "stream",
     "text": [
      "SOLY: No timezone found, symbol may be delisted\n"
     ]
    },
    {
     "name": "stdout",
     "output_type": "stream",
     "text": [
      "6607. SON\n",
      "6608. SONA\n"
     ]
    },
    {
     "name": "stderr",
     "output_type": "stream",
     "text": [
      "SONA: No timezone found, symbol may be delisted\n"
     ]
    },
    {
     "name": "stdout",
     "output_type": "stream",
     "text": [
      "6609. SONG\n",
      "6610. SONM\n",
      "6611. SONO\n",
      "6612. SOR\n",
      "6613. SORL\n"
     ]
    },
    {
     "name": "stderr",
     "output_type": "stream",
     "text": [
      "SORL: No timezone found, symbol may be delisted\n"
     ]
    },
    {
     "name": "stdout",
     "output_type": "stream",
     "text": [
      "6614. SOVB\n",
      "6615. SOXL\n",
      "6616. SOXS\n",
      "6617. SOXX\n",
      "6618. SOYB\n",
      "6619. SP\n",
      "6620. SPAB\n",
      "6621. SPAQ\n",
      "6622. SPAR\n"
     ]
    },
    {
     "name": "stderr",
     "output_type": "stream",
     "text": [
      "SPAR: No timezone found, symbol may be delisted\n"
     ]
    },
    {
     "name": "stdout",
     "output_type": "stream",
     "text": [
      "6623. SPB\n",
      "6624. SPBO\n",
      "6625. SPCB\n",
      "6626. SPCE\n",
      "6627. SPDN\n",
      "6628. SPDV\n",
      "6629. SPDW\n",
      "6630. SPE\n",
      "6631. SPEM\n",
      "6632. SPEU\n",
      "6633. SPFF\n",
      "6634. SPFI\n",
      "6635. SPG\n",
      "6636. SPGI\n",
      "6637. SPGM\n",
      "6638. SPGP\n",
      "6639. SPH\n",
      "6640. SPHB\n",
      "6641. SPHD\n",
      "6642. SPHQ\n",
      "6643. SPHY\n",
      "6644. SPI\n",
      "6645. SPIB\n",
      "6646. SPIP\n",
      "6647. SPKE\n"
     ]
    },
    {
     "name": "stderr",
     "output_type": "stream",
     "text": [
      "SPKE: No timezone found, symbol may be delisted\n"
     ]
    },
    {
     "name": "stdout",
     "output_type": "stream",
     "text": [
      "6648. SPKEP\n"
     ]
    },
    {
     "name": "stderr",
     "output_type": "stream",
     "text": [
      "SPKEP: No timezone found, symbol may be delisted\n"
     ]
    },
    {
     "name": "stdout",
     "output_type": "stream",
     "text": [
      "6649. SPLB\n",
      "6650. SPLG\n",
      "6651. SPLK\n",
      "6652. SPLP\n",
      "6653. SPLV\n",
      "6654. SPMB\n",
      "6655. SPMD\n",
      "6656. SPMO\n",
      "6657. SPMV\n",
      "6658. SPN\n"
     ]
    },
    {
     "name": "stderr",
     "output_type": "stream",
     "text": [
      "SPN: No timezone found, symbol may be delisted\n"
     ]
    },
    {
     "name": "stdout",
     "output_type": "stream",
     "text": [
      "6659. SPNE\n"
     ]
    },
    {
     "name": "stderr",
     "output_type": "stream",
     "text": [
      "SPNE: No timezone found, symbol may be delisted\n"
     ]
    },
    {
     "name": "stdout",
     "output_type": "stream",
     "text": [
      "6660. SPNS\n",
      "6661. SPOK\n",
      "6662. SPOT\n",
      "6663. SPPI\n"
     ]
    },
    {
     "name": "stderr",
     "output_type": "stream",
     "text": [
      "SPPI: No timezone found, symbol may be delisted\n",
      "404 Client Error: Not Found for url: https://query2.finance.yahoo.com/v10/finance/quoteSummary/SPPI?modules=financialData%2CquoteType%2CdefaultKeyStatistics%2CassetProfile%2CsummaryDetail&corsDomain=finance.yahoo.com&formatted=false&symbol=SPPI&crumb=KUwSGfMjWIw\n"
     ]
    },
    {
     "name": "stdout",
     "output_type": "stream",
     "text": [
      "6664. SPPP\n",
      "6665. SPR\n",
      "6666. SPRO\n",
      "6667. SPRT\n"
     ]
    },
    {
     "name": "stderr",
     "output_type": "stream",
     "text": [
      "SPRT: No timezone found, symbol may be delisted\n"
     ]
    },
    {
     "name": "stdout",
     "output_type": "stream",
     "text": [
      "6668. SPSB\n",
      "6669. SPSC\n",
      "6670. SPSK\n",
      "6671. SPSM\n",
      "6672. SPT\n",
      "6673. SPTI\n",
      "6674. SPTL\n",
      "6675. SPTM\n",
      "6676. SPTN\n",
      "6677. SPTS\n",
      "6678. SPUS\n",
      "6679. SPUU\n",
      "6680. SPVM\n",
      "6681. SPVU\n",
      "6682. SPWH\n",
      "6683. SPWR\n",
      "6684. SPXB\n",
      "6685. SPXC\n",
      "6686. SPXE\n",
      "6687. SPXL\n",
      "6688. SPXN\n",
      "6689. SPXS\n",
      "6690. SPXT\n",
      "6691. SPXU\n",
      "6692. SPXV\n",
      "6693. SPXX\n",
      "6694. SPY\n",
      "6695. SPYB\n"
     ]
    },
    {
     "name": "stderr",
     "output_type": "stream",
     "text": [
      "SPYB: No price data found, symbol may be delisted (1d 2023-01-01 -> 2024-01-01)\n"
     ]
    },
    {
     "name": "stdout",
     "output_type": "stream",
     "text": [
      "6696. SPYD\n",
      "6697. SPYG\n",
      "6698. SPYV\n",
      "6699. SPYX\n",
      "6700. SQ\n",
      "6701. SQBG\n"
     ]
    },
    {
     "name": "stderr",
     "output_type": "stream",
     "text": [
      "SQBG: No timezone found, symbol may be delisted\n"
     ]
    },
    {
     "name": "stdout",
     "output_type": "stream",
     "text": [
      "6702. SQLV\n",
      "6703. SQM\n",
      "6704. SQNS\n",
      "6705. SQQQ\n",
      "6706. SR\n",
      "6707. SRAC\n"
     ]
    },
    {
     "name": "stderr",
     "output_type": "stream",
     "text": [
      "SRAC: No timezone found, symbol may be delisted\n"
     ]
    },
    {
     "name": "stdout",
     "output_type": "stream",
     "text": [
      "6708. SRACU\n"
     ]
    },
    {
     "name": "stderr",
     "output_type": "stream",
     "text": [
      "SRACU: No timezone found, symbol may be delisted\n"
     ]
    },
    {
     "name": "stdout",
     "output_type": "stream",
     "text": [
      "6709. SRAX\n",
      "6710. SRC\n",
      "6711. SRCE\n",
      "6712. SRCL\n",
      "6713. SRDX\n",
      "6714. SRE\n",
      "6715. SREA\n",
      "6716. SRET\n",
      "6717. SREV\n"
     ]
    },
    {
     "name": "stderr",
     "output_type": "stream",
     "text": [
      "SREV: No timezone found, symbol may be delisted\n"
     ]
    },
    {
     "name": "stdout",
     "output_type": "stream",
     "text": [
      "6718. SRF\n"
     ]
    },
    {
     "name": "stderr",
     "output_type": "stream",
     "text": [
      "SRF: No timezone found, symbol may be delisted\n"
     ]
    },
    {
     "name": "stdout",
     "output_type": "stream",
     "text": [
      "6719. SRG\n",
      "6720. SRI\n",
      "6721. SRL\n",
      "6722. SRLN\n",
      "6723. SRLP\n"
     ]
    },
    {
     "name": "stderr",
     "output_type": "stream",
     "text": [
      "SRLP: No timezone found, symbol may be delisted\n"
     ]
    },
    {
     "name": "stdout",
     "output_type": "stream",
     "text": [
      "6724. SRNE\n"
     ]
    },
    {
     "name": "stderr",
     "output_type": "stream",
     "text": [
      "SRNE: No timezone found, symbol may be delisted\n"
     ]
    },
    {
     "name": "stdout",
     "output_type": "stream",
     "text": [
      "6725. SRPT\n",
      "6726. SRRA\n"
     ]
    },
    {
     "name": "stderr",
     "output_type": "stream",
     "text": [
      "SRRA: No timezone found, symbol may be delisted\n"
     ]
    },
    {
     "name": "stdout",
     "output_type": "stream",
     "text": [
      "6727. SRRK\n",
      "6728. SRS\n",
      "6729. SRT\n",
      "6730. SRTS\n",
      "6731. SRTY\n",
      "6732. SRV\n",
      "6733. SRVR\n",
      "6734. SSB\n",
      "6735. SSBI\n",
      "6736. SSD\n",
      "6737. SSG\n",
      "6738. SSI\n"
     ]
    },
    {
     "name": "stderr",
     "output_type": "stream",
     "text": [
      "SSI: No timezone found, symbol may be delisted\n"
     ]
    },
    {
     "name": "stdout",
     "output_type": "stream",
     "text": [
      "6739. SSKN\n",
      "6740. SSL\n",
      "6741. SSNC\n",
      "6742. SSNT\n",
      "6743. SSO\n",
      "6744. SSP\n",
      "6745. SSPK\n"
     ]
    },
    {
     "name": "stderr",
     "output_type": "stream",
     "text": [
      "SSPK: No timezone found, symbol may be delisted\n"
     ]
    },
    {
     "name": "stdout",
     "output_type": "stream",
     "text": [
      "6746. SSPKU\n"
     ]
    },
    {
     "name": "stderr",
     "output_type": "stream",
     "text": [
      "SSPKU: No timezone found, symbol may be delisted\n"
     ]
    },
    {
     "name": "stdout",
     "output_type": "stream",
     "text": [
      "6747. SSRM\n",
      "6748. SSSS\n",
      "6749. SSTI\n",
      "6750. SSTK\n",
      "6751. SSUS\n",
      "6752. SSY\n",
      "6753. SSYS\n",
      "6754. ST\n",
      "6755. STAA\n",
      "6756. STAF\n",
      "6757. STAG\n",
      "6758. STAR\n"
     ]
    },
    {
     "name": "stderr",
     "output_type": "stream",
     "text": [
      "STAR: No timezone found, symbol may be delisted\n"
     ]
    },
    {
     "name": "stdout",
     "output_type": "stream",
     "text": [
      "6759. STAY\n"
     ]
    },
    {
     "name": "stderr",
     "output_type": "stream",
     "text": [
      "STAY: No timezone found, symbol may be delisted\n"
     ]
    },
    {
     "name": "stdout",
     "output_type": "stream",
     "text": [
      "6760. STBA\n",
      "6761. STC\n",
      "6762. STCN\n",
      "6763. STE\n",
      "6764. STFC\n"
     ]
    },
    {
     "name": "stderr",
     "output_type": "stream",
     "text": [
      "STFC: No timezone found, symbol may be delisted\n"
     ]
    },
    {
     "name": "stdout",
     "output_type": "stream",
     "text": [
      "6765. STG\n",
      "6766. STIM\n",
      "6767. STIP\n",
      "6768. STK\n",
      "6769. STKL\n",
      "6770. STKS\n",
      "6771. STL\n"
     ]
    },
    {
     "name": "stderr",
     "output_type": "stream",
     "text": [
      "STL: No timezone found, symbol may be delisted\n"
     ]
    },
    {
     "name": "stdout",
     "output_type": "stream",
     "text": [
      "6772. STLD\n",
      "6773. STLG\n",
      "6774. STLV\n",
      "6775. STM\n",
      "6776. STML\n"
     ]
    },
    {
     "name": "stderr",
     "output_type": "stream",
     "text": [
      "STML: No timezone found, symbol may be delisted\n"
     ]
    },
    {
     "name": "stdout",
     "output_type": "stream",
     "text": [
      "6777. STMP\n"
     ]
    },
    {
     "name": "stderr",
     "output_type": "stream",
     "text": [
      "STMP: No timezone found, symbol may be delisted\n"
     ]
    },
    {
     "name": "stdout",
     "output_type": "stream",
     "text": [
      "6778. STN\n",
      "6779. STND\n"
     ]
    },
    {
     "name": "stderr",
     "output_type": "stream",
     "text": [
      "STND: No timezone found, symbol may be delisted\n"
     ]
    },
    {
     "name": "stdout",
     "output_type": "stream",
     "text": [
      "6780. STNE\n",
      "6781. STNG\n",
      "6782. STOK\n",
      "6783. STON\n"
     ]
    },
    {
     "name": "stderr",
     "output_type": "stream",
     "text": [
      "STON: No timezone found, symbol may be delisted\n"
     ]
    },
    {
     "name": "stdout",
     "output_type": "stream",
     "text": [
      "6784. STOR\n"
     ]
    },
    {
     "name": "stderr",
     "output_type": "stream",
     "text": [
      "STOR: No timezone found, symbol may be delisted\n"
     ]
    },
    {
     "name": "stdout",
     "output_type": "stream",
     "text": [
      "6785. STOT\n",
      "6786. STPP\n"
     ]
    },
    {
     "name": "stderr",
     "output_type": "stream",
     "text": [
      "STPP: No price data found, symbol may be delisted (1d 2023-01-01 -> 2024-01-01)\n"
     ]
    },
    {
     "name": "stdout",
     "output_type": "stream",
     "text": [
      "6787. STPZ\n",
      "6788. STRA\n",
      "6789. STRL\n",
      "6790. STRM\n",
      "6791. STRO\n",
      "6792. STRS\n",
      "6793. STRT\n",
      "6794. STSA\n"
     ]
    },
    {
     "name": "stderr",
     "output_type": "stream",
     "text": [
      "STSA: No timezone found, symbol may be delisted\n"
     ]
    },
    {
     "name": "stdout",
     "output_type": "stream",
     "text": [
      "6795. STT\n",
      "6796. STWD\n",
      "6797. STX\n",
      "6798. STXB\n"
     ]
    },
    {
     "name": "stderr",
     "output_type": "stream",
     "text": [
      "STXB: No timezone found, symbol may be delisted\n"
     ]
    },
    {
     "name": "stdout",
     "output_type": "stream",
     "text": [
      "6799. STXS\n",
      "6800. STZ\n",
      "6801. SU\n",
      "6802. SUB\n",
      "6803. SUI\n",
      "6804. SUM\n",
      "6805. SUMR\n"
     ]
    },
    {
     "name": "stderr",
     "output_type": "stream",
     "text": [
      "SUMR: No timezone found, symbol may be delisted\n"
     ]
    },
    {
     "name": "stdout",
     "output_type": "stream",
     "text": [
      "6806. SUN\n",
      "6807. SUNS\n"
     ]
    },
    {
     "name": "stderr",
     "output_type": "stream",
     "text": [
      "SUNS: No timezone found, symbol may be delisted\n"
     ]
    },
    {
     "name": "stdout",
     "output_type": "stream",
     "text": [
      "6808. SUNW\n",
      "6809. SUP\n",
      "6810. SUPN\n",
      "6811. SUPV\n",
      "6812. SURF\n"
     ]
    },
    {
     "name": "stderr",
     "output_type": "stream",
     "text": [
      "SURF: No timezone found, symbol may be delisted\n",
      "404 Client Error: Not Found for url: https://query2.finance.yahoo.com/v10/finance/quoteSummary/SURF?modules=financialData%2CquoteType%2CdefaultKeyStatistics%2CassetProfile%2CsummaryDetail&corsDomain=finance.yahoo.com&formatted=false&symbol=SURF&crumb=KUwSGfMjWIw\n"
     ]
    },
    {
     "name": "stdout",
     "output_type": "stream",
     "text": [
      "6813. SUSA\n",
      "6814. SUSB\n",
      "6815. SUSC\n",
      "6816. SUSL\n",
      "6817. SUZ\n",
      "6818. SVA\n",
      "6819. SVBI\n"
     ]
    },
    {
     "name": "stderr",
     "output_type": "stream",
     "text": [
      "SVBI: No timezone found, symbol may be delisted\n"
     ]
    },
    {
     "name": "stdout",
     "output_type": "stream",
     "text": [
      "6820. SVC\n",
      "6821. SVM\n",
      "6822. SVMK\n"
     ]
    },
    {
     "name": "stderr",
     "output_type": "stream",
     "text": [
      "SVMK: No timezone found, symbol may be delisted\n"
     ]
    },
    {
     "name": "stdout",
     "output_type": "stream",
     "text": [
      "6823. SVRA\n",
      "6824. SVT\n",
      "6825. SVVC\n",
      "6826. SVXY\n",
      "6827. SWAN\n",
      "6828. SWAV\n",
      "6829. SWCH\n"
     ]
    },
    {
     "name": "stderr",
     "output_type": "stream",
     "text": [
      "SWCH: No timezone found, symbol may be delisted\n"
     ]
    },
    {
     "name": "stdout",
     "output_type": "stream",
     "text": [
      "6830. SWI\n",
      "6831. SWIR\n"
     ]
    },
    {
     "name": "stderr",
     "output_type": "stream",
     "text": [
      "SWIR: No timezone found, symbol may be delisted\n"
     ]
    },
    {
     "name": "stdout",
     "output_type": "stream",
     "text": [
      "6832. SWK\n",
      "6833. SWKH\n",
      "6834. SWKS\n",
      "6835. SWM\n"
     ]
    },
    {
     "name": "stderr",
     "output_type": "stream",
     "text": [
      "SWM: No timezone found, symbol may be delisted\n"
     ]
    },
    {
     "name": "stdout",
     "output_type": "stream",
     "text": [
      "6836. SWN\n",
      "6837. SWP\n"
     ]
    },
    {
     "name": "stderr",
     "output_type": "stream",
     "text": [
      "SWP: No timezone found, symbol may be delisted\n"
     ]
    },
    {
     "name": "stdout",
     "output_type": "stream",
     "text": [
      "6838. SWT\n"
     ]
    },
    {
     "name": "stderr",
     "output_type": "stream",
     "text": [
      "SWT: No timezone found, symbol may be delisted\n",
      "404 Client Error: Not Found for url: https://query2.finance.yahoo.com/v10/finance/quoteSummary/SWT?modules=financialData%2CquoteType%2CdefaultKeyStatistics%2CassetProfile%2CsummaryDetail&corsDomain=finance.yahoo.com&formatted=false&symbol=SWT&crumb=KUwSGfMjWIw\n"
     ]
    },
    {
     "name": "stdout",
     "output_type": "stream",
     "text": [
      "6839. SWTX\n",
      "6840. SWX\n",
      "6841. SWZ\n",
      "6842. SXC\n",
      "6843. SXI\n",
      "6844. SXT\n",
      "6845. SXTC\n",
      "6846. SY\n",
      "6847. SYBT\n",
      "6848. SYBX\n",
      "6849. SYE\n"
     ]
    },
    {
     "name": "stderr",
     "output_type": "stream",
     "text": [
      "SYE: No price data found, symbol may be delisted (1d 2023-01-01 -> 2024-01-01)\n"
     ]
    },
    {
     "name": "stdout",
     "output_type": "stream",
     "text": [
      "6850. SYF\n",
      "6851. SYG\n"
     ]
    },
    {
     "name": "stderr",
     "output_type": "stream",
     "text": [
      "SYG: No price data found, symbol may be delisted (1d 2023-01-01 -> 2024-01-01)\n"
     ]
    },
    {
     "name": "stdout",
     "output_type": "stream",
     "text": [
      "6852. SYK\n",
      "6853. SYKE\n"
     ]
    },
    {
     "name": "stderr",
     "output_type": "stream",
     "text": [
      "SYKE: No timezone found, symbol may be delisted\n"
     ]
    },
    {
     "name": "stdout",
     "output_type": "stream",
     "text": [
      "6854. SYLD\n",
      "6855. SYN\n"
     ]
    },
    {
     "name": "stderr",
     "output_type": "stream",
     "text": [
      "SYN: No timezone found, symbol may be delisted\n"
     ]
    },
    {
     "name": "stdout",
     "output_type": "stream",
     "text": [
      "6856. SYNA\n",
      "6857. SYNC\n"
     ]
    },
    {
     "name": "stderr",
     "output_type": "stream",
     "text": [
      "SYNC: No timezone found, symbol may be delisted\n"
     ]
    },
    {
     "name": "stdout",
     "output_type": "stream",
     "text": [
      "6858. SYNH\n"
     ]
    },
    {
     "name": "stderr",
     "output_type": "stream",
     "text": [
      "SYNH: No timezone found, symbol may be delisted\n",
      "404 Client Error: Not Found for url: https://query2.finance.yahoo.com/v10/finance/quoteSummary/SYNH?modules=financialData%2CquoteType%2CdefaultKeyStatistics%2CassetProfile%2CsummaryDetail&corsDomain=finance.yahoo.com&formatted=false&symbol=SYNH&crumb=KUwSGfMjWIw\n"
     ]
    },
    {
     "name": "stdout",
     "output_type": "stream",
     "text": [
      "6859. SYNL\n"
     ]
    },
    {
     "name": "stderr",
     "output_type": "stream",
     "text": [
      "SYNL: No timezone found, symbol may be delisted\n"
     ]
    },
    {
     "name": "stdout",
     "output_type": "stream",
     "text": [
      "6860. SYPR\n",
      "6861. SYRS\n",
      "6862. SYV\n"
     ]
    },
    {
     "name": "stderr",
     "output_type": "stream",
     "text": [
      "SYV: No price data found, symbol may be delisted (1d 2023-01-01 -> 2024-01-01)\n"
     ]
    },
    {
     "name": "stdout",
     "output_type": "stream",
     "text": [
      "6863. SYX\n"
     ]
    },
    {
     "name": "stderr",
     "output_type": "stream",
     "text": [
      "SYX: No timezone found, symbol may be delisted\n"
     ]
    },
    {
     "name": "stdout",
     "output_type": "stream",
     "text": [
      "6864. SYY\n",
      "6865. SZC\n"
     ]
    },
    {
     "name": "stderr",
     "output_type": "stream",
     "text": [
      "SZC: No timezone found, symbol may be delisted\n"
     ]
    },
    {
     "name": "stdout",
     "output_type": "stream",
     "text": [
      "6866. SZK\n",
      "6867. SZNE\n",
      "6868. T\n",
      "6869. TA\n"
     ]
    },
    {
     "name": "stderr",
     "output_type": "stream",
     "text": [
      "TA: No timezone found, symbol may be delisted\n"
     ]
    },
    {
     "name": "stdout",
     "output_type": "stream",
     "text": [
      "6870. TAC\n",
      "6871. TACO\n"
     ]
    },
    {
     "name": "stderr",
     "output_type": "stream",
     "text": [
      "TACO: No price data found, symbol may be delisted (1d 2023-01-01 -> 2024-01-01)\n"
     ]
    },
    {
     "name": "stdout",
     "output_type": "stream",
     "text": [
      "6872. TACT\n",
      "6873. TAGS\n",
      "6874. TAIL\n",
      "6875. TAIT\n",
      "6876. TAK\n",
      "6877. TAL\n",
      "6878. TALO\n",
      "6879. TAN\n",
      "6880. TANH\n",
      "6881. TANNI\n"
     ]
    },
    {
     "name": "stderr",
     "output_type": "stream",
     "text": [
      "TANNI: No timezone found, symbol may be delisted\n",
      "404 Client Error: Not Found for url: https://query2.finance.yahoo.com/v10/finance/quoteSummary/TANNI?modules=financialData%2CquoteType%2CdefaultKeyStatistics%2CassetProfile%2CsummaryDetail&corsDomain=finance.yahoo.com&formatted=false&symbol=TANNI&crumb=KUwSGfMjWIw\n"
     ]
    },
    {
     "name": "stdout",
     "output_type": "stream",
     "text": [
      "6882. TANNL\n"
     ]
    },
    {
     "name": "stderr",
     "output_type": "stream",
     "text": [
      "TANNL: No timezone found, symbol may be delisted\n",
      "404 Client Error: Not Found for url: https://query2.finance.yahoo.com/v10/finance/quoteSummary/TANNL?modules=financialData%2CquoteType%2CdefaultKeyStatistics%2CassetProfile%2CsummaryDetail&corsDomain=finance.yahoo.com&formatted=false&symbol=TANNL&crumb=KUwSGfMjWIw\n"
     ]
    },
    {
     "name": "stdout",
     "output_type": "stream",
     "text": [
      "6883. TANNZ\n"
     ]
    },
    {
     "name": "stderr",
     "output_type": "stream",
     "text": [
      "TANNZ: No timezone found, symbol may be delisted\n",
      "404 Client Error: Not Found for url: https://query2.finance.yahoo.com/v10/finance/quoteSummary/TANNZ?modules=financialData%2CquoteType%2CdefaultKeyStatistics%2CassetProfile%2CsummaryDetail&corsDomain=finance.yahoo.com&formatted=false&symbol=TANNZ&crumb=KUwSGfMjWIw\n"
     ]
    },
    {
     "name": "stdout",
     "output_type": "stream",
     "text": [
      "6884. TAOP\n",
      "6885. TAP\n",
      "6886. TAPR\n"
     ]
    },
    {
     "name": "stderr",
     "output_type": "stream",
     "text": [
      "TAPR: No price data found, symbol may be delisted (1d 2023-01-01 -> 2024-01-01)\n"
     ]
    },
    {
     "name": "stdout",
     "output_type": "stream",
     "text": [
      "6887. TARA\n",
      "6888. TARO\n",
      "6889. TAST\n",
      "6890. TAT\n"
     ]
    },
    {
     "name": "stderr",
     "output_type": "stream",
     "text": [
      "TAT: No timezone found, symbol may be delisted\n"
     ]
    },
    {
     "name": "stdout",
     "output_type": "stream",
     "text": [
      "6891. TATT\n",
      "6892. TAWK\n"
     ]
    },
    {
     "name": "stderr",
     "output_type": "stream",
     "text": [
      "TAWK: No price data found, symbol may be delisted (1d 2023-01-01 -> 2024-01-01)\n"
     ]
    },
    {
     "name": "stdout",
     "output_type": "stream",
     "text": [
      "6893. TAXF\n",
      "6894. TAYD\n",
      "6895. TBB\n",
      "6896. TBBK\n",
      "6897. TBC\n",
      "6898. TBF\n",
      "6899. TBI\n",
      "6900. TBIO\n",
      "6901. TBK\n"
     ]
    },
    {
     "name": "stderr",
     "output_type": "stream",
     "text": [
      "TBK: No timezone found, symbol may be delisted\n"
     ]
    },
    {
     "name": "stdout",
     "output_type": "stream",
     "text": [
      "6902. TBLT\n",
      "6903. TBLTW\n"
     ]
    },
    {
     "name": "stderr",
     "output_type": "stream",
     "text": [
      "TBLTW: No timezone found, symbol may be delisted\n",
      "404 Client Error: Not Found for url: https://query2.finance.yahoo.com/v10/finance/quoteSummary/TBLTW?modules=financialData%2CquoteType%2CdefaultKeyStatistics%2CassetProfile%2CsummaryDetail&corsDomain=finance.yahoo.com&formatted=false&symbol=TBLTW&crumb=KUwSGfMjWIw\n"
     ]
    },
    {
     "name": "stdout",
     "output_type": "stream",
     "text": [
      "6904. TBLU\n",
      "6905. TBND\n"
     ]
    },
    {
     "name": "stderr",
     "output_type": "stream",
     "text": [
      "TBND: No price data found, symbol may be delisted (1d 2023-01-01 -> 2024-01-01)\n"
     ]
    },
    {
     "name": "stdout",
     "output_type": "stream",
     "text": [
      "6906. TBNK\n",
      "6907. TBPH\n",
      "6908. TBT\n",
      "6909. TBX\n",
      "6910. TC\n",
      "6911. TCBI\n",
      "6912. TCBIL\n"
     ]
    },
    {
     "name": "stderr",
     "output_type": "stream",
     "text": [
      "TCBIL: No timezone found, symbol may be delisted\n"
     ]
    },
    {
     "name": "stdout",
     "output_type": "stream",
     "text": [
      "6913. TCBIP\n"
     ]
    },
    {
     "name": "stderr",
     "output_type": "stream",
     "text": [
      "TCBIP: No timezone found, symbol may be delisted\n"
     ]
    },
    {
     "name": "stdout",
     "output_type": "stream",
     "text": [
      "6914. TCBK\n",
      "6915. TCCO\n",
      "6916. TCDA\n"
     ]
    },
    {
     "name": "stderr",
     "output_type": "stream",
     "text": [
      "TCDA: No timezone found, symbol may be delisted\n"
     ]
    },
    {
     "name": "stdout",
     "output_type": "stream",
     "text": [
      "6917. TCF\n"
     ]
    },
    {
     "name": "stderr",
     "output_type": "stream",
     "text": [
      "TCF: No timezone found, symbol may be delisted\n"
     ]
    },
    {
     "name": "stdout",
     "output_type": "stream",
     "text": [
      "6918. TCFC\n"
     ]
    },
    {
     "name": "stderr",
     "output_type": "stream",
     "text": [
      "TCFC: No timezone found, symbol may be delisted\n",
      "404 Client Error: Not Found for url: https://query2.finance.yahoo.com/v10/finance/quoteSummary/TCFC?modules=financialData%2CquoteType%2CdefaultKeyStatistics%2CassetProfile%2CsummaryDetail&corsDomain=finance.yahoo.com&formatted=false&symbol=TCFC&crumb=KUwSGfMjWIw\n"
     ]
    },
    {
     "name": "stdout",
     "output_type": "stream",
     "text": [
      "6919. TCFCP\n"
     ]
    },
    {
     "name": "stderr",
     "output_type": "stream",
     "text": [
      "TCFCP: No timezone found, symbol may be delisted\n"
     ]
    },
    {
     "name": "stdout",
     "output_type": "stream",
     "text": [
      "6920. TCI\n",
      "6921. TCMD\n",
      "6922. TCO\n"
     ]
    },
    {
     "name": "stderr",
     "output_type": "stream",
     "text": [
      "TCO: No timezone found, symbol may be delisted\n"
     ]
    },
    {
     "name": "stdout",
     "output_type": "stream",
     "text": [
      "6923. TCOM\n",
      "6924. TCON\n",
      "6925. TCP\n"
     ]
    },
    {
     "name": "stderr",
     "output_type": "stream",
     "text": [
      "TCP: No timezone found, symbol may be delisted\n"
     ]
    },
    {
     "name": "stdout",
     "output_type": "stream",
     "text": [
      "6926. TCPC\n",
      "6927. TCRD\n"
     ]
    },
    {
     "name": "stderr",
     "output_type": "stream",
     "text": [
      "TCRD: No timezone found, symbol may be delisted\n"
     ]
    },
    {
     "name": "stdout",
     "output_type": "stream",
     "text": [
      "6928. TCRR\n"
     ]
    },
    {
     "name": "stderr",
     "output_type": "stream",
     "text": [
      "TCRR: No timezone found, symbol may be delisted\n"
     ]
    },
    {
     "name": "stdout",
     "output_type": "stream",
     "text": [
      "6929. TCRW\n"
     ]
    },
    {
     "name": "stderr",
     "output_type": "stream",
     "text": [
      "TCRW: No timezone found, symbol may be delisted\n",
      "404 Client Error: Not Found for url: https://query2.finance.yahoo.com/v10/finance/quoteSummary/TCRW?modules=financialData%2CquoteType%2CdefaultKeyStatistics%2CassetProfile%2CsummaryDetail&corsDomain=finance.yahoo.com&formatted=false&symbol=TCRW&crumb=KUwSGfMjWIw\n"
     ]
    },
    {
     "name": "stdout",
     "output_type": "stream",
     "text": [
      "6930. TCRZ\n"
     ]
    },
    {
     "name": "stderr",
     "output_type": "stream",
     "text": [
      "TCRZ: No price data found, symbol may be delisted (1d 2023-01-01 -> 2024-01-01)\n"
     ]
    },
    {
     "name": "stdout",
     "output_type": "stream",
     "text": [
      "6931. TCS\n",
      "6932. TCTL\n"
     ]
    },
    {
     "name": "stderr",
     "output_type": "stream",
     "text": [
      "TCTL: No price data found, symbol may be delisted (1d 2023-01-01 -> 2024-01-01)\n"
     ]
    },
    {
     "name": "stdout",
     "output_type": "stream",
     "text": [
      "6933. TCX\n",
      "6934. TD\n",
      "6935. TDA\n"
     ]
    },
    {
     "name": "stderr",
     "output_type": "stream",
     "text": [
      "TDA: No timezone found, symbol may be delisted\n",
      "404 Client Error: Not Found for url: https://query2.finance.yahoo.com/v10/finance/quoteSummary/TDA?modules=financialData%2CquoteType%2CdefaultKeyStatistics%2CassetProfile%2CsummaryDetail&corsDomain=finance.yahoo.com&formatted=false&symbol=TDA&crumb=KUwSGfMjWIw\n"
     ]
    },
    {
     "name": "stdout",
     "output_type": "stream",
     "text": [
      "6936. TDAC\n"
     ]
    },
    {
     "name": "stderr",
     "output_type": "stream",
     "text": [
      "TDAC: No timezone found, symbol may be delisted\n"
     ]
    },
    {
     "name": "stdout",
     "output_type": "stream",
     "text": [
      "6937. TDACU\n"
     ]
    },
    {
     "name": "stderr",
     "output_type": "stream",
     "text": [
      "TDACU: No timezone found, symbol may be delisted\n"
     ]
    },
    {
     "name": "stdout",
     "output_type": "stream",
     "text": [
      "6938. TDC\n",
      "6939. TDE\n"
     ]
    },
    {
     "name": "stderr",
     "output_type": "stream",
     "text": [
      "TDE: No timezone found, symbol may be delisted\n"
     ]
    },
    {
     "name": "stdout",
     "output_type": "stream",
     "text": [
      "6940. TDF\n",
      "6941. TDG\n",
      "6942. TDI\n",
      "6943. TDIV\n",
      "6944. TDJ\n"
     ]
    },
    {
     "name": "stderr",
     "output_type": "stream",
     "text": [
      "TDJ: No timezone found, symbol may be delisted\n",
      "404 Client Error: Not Found for url: https://query2.finance.yahoo.com/v10/finance/quoteSummary/TDJ?modules=financialData%2CquoteType%2CdefaultKeyStatistics%2CassetProfile%2CsummaryDetail&corsDomain=finance.yahoo.com&formatted=false&symbol=TDJ&crumb=KUwSGfMjWIw\n"
     ]
    },
    {
     "name": "stdout",
     "output_type": "stream",
     "text": [
      "6945. TDOC\n",
      "6946. TDS\n",
      "6947. TDTF\n",
      "6948. TDTT\n",
      "6949. TDV\n",
      "6950. TDW\n",
      "6951. TDY\n",
      "6952. TEAF\n",
      "6953. TEAM\n",
      "6954. TECB\n",
      "6955. TECD\n"
     ]
    },
    {
     "name": "stderr",
     "output_type": "stream",
     "text": [
      "TECD: No timezone found, symbol may be delisted\n"
     ]
    },
    {
     "name": "stdout",
     "output_type": "stream",
     "text": [
      "6956. TECH\n",
      "6957. TECK\n",
      "6958. TECL\n",
      "6959. TECS\n",
      "6960. TECTP\n",
      "6961. TEDU\n",
      "6962. TEF\n",
      "6963. TEI\n",
      "6964. TEL\n",
      "6965. TELA\n",
      "6966. TELL\n",
      "6967. TEN\n"
     ]
    },
    {
     "name": "stderr",
     "output_type": "stream",
     "text": [
      "TEN: No timezone found, symbol may be delisted\n"
     ]
    },
    {
     "name": "stdout",
     "output_type": "stream",
     "text": [
      "6968. TENB\n",
      "6969. TENX\n",
      "6970. TEO\n",
      "6971. TER\n",
      "6972. TERM\n"
     ]
    },
    {
     "name": "stderr",
     "output_type": "stream",
     "text": [
      "TERM: No price data found, symbol may be delisted (1d 2023-01-01 -> 2024-01-01)\n"
     ]
    },
    {
     "name": "stdout",
     "output_type": "stream",
     "text": [
      "6973. TERP\n"
     ]
    },
    {
     "name": "stderr",
     "output_type": "stream",
     "text": [
      "TERP: No timezone found, symbol may be delisted\n"
     ]
    },
    {
     "name": "stdout",
     "output_type": "stream",
     "text": [
      "6974. TESS\n"
     ]
    },
    {
     "name": "stderr",
     "output_type": "stream",
     "text": [
      "TESS: No timezone found, symbol may be delisted\n",
      "404 Client Error: Not Found for url: https://query2.finance.yahoo.com/v10/finance/quoteSummary/TESS?modules=financialData%2CquoteType%2CdefaultKeyStatistics%2CassetProfile%2CsummaryDetail&corsDomain=finance.yahoo.com&formatted=false&symbol=TESS&crumb=KUwSGfMjWIw\n"
     ]
    },
    {
     "name": "stdout",
     "output_type": "stream",
     "text": [
      "6975. TEUM\n"
     ]
    },
    {
     "name": "stderr",
     "output_type": "stream",
     "text": [
      "TEUM: No timezone found, symbol may be delisted\n"
     ]
    },
    {
     "name": "stdout",
     "output_type": "stream",
     "text": [
      "6976. TEVA\n",
      "6977. TEX\n",
      "6978. TFC\n",
      "6979. TFFP\n",
      "6980. TFI\n",
      "6981. TFII\n",
      "6982. TFIV\n"
     ]
    },
    {
     "name": "stderr",
     "output_type": "stream",
     "text": [
      "TFIV: No price data found, symbol may be delisted (1d 2023-01-01 -> 2024-01-01)\n"
     ]
    },
    {
     "name": "stdout",
     "output_type": "stream",
     "text": [
      "6983. TFLO\n",
      "6984. TFLT\n"
     ]
    },
    {
     "name": "stderr",
     "output_type": "stream",
     "text": [
      "TFLT: No price data found, symbol may be delisted (1d 2023-01-01 -> 2024-01-01)\n"
     ]
    },
    {
     "name": "stdout",
     "output_type": "stream",
     "text": [
      "6985. TFSL\n",
      "6986. TFX\n",
      "6987. TG\n",
      "6988. TGA\n"
     ]
    },
    {
     "name": "stderr",
     "output_type": "stream",
     "text": [
      "TGA: No timezone found, symbol may be delisted\n"
     ]
    },
    {
     "name": "stdout",
     "output_type": "stream",
     "text": [
      "6989. TGB\n",
      "6990. TGC\n"
     ]
    },
    {
     "name": "stderr",
     "output_type": "stream",
     "text": [
      "TGC: No timezone found, symbol may be delisted\n"
     ]
    },
    {
     "name": "stdout",
     "output_type": "stream",
     "text": [
      "6991. TGE\n"
     ]
    },
    {
     "name": "stderr",
     "output_type": "stream",
     "text": [
      "TGE: No timezone found, symbol may be delisted\n"
     ]
    },
    {
     "name": "stdout",
     "output_type": "stream",
     "text": [
      "6992. TGEN\n",
      "6993. TGH\n",
      "6994. TGI\n",
      "6995. TGLS\n",
      "6996. TGNA\n",
      "6997. TGP\n"
     ]
    },
    {
     "name": "stderr",
     "output_type": "stream",
     "text": [
      "TGP: No timezone found, symbol may be delisted\n"
     ]
    },
    {
     "name": "stdout",
     "output_type": "stream",
     "text": [
      "6998. TGS\n",
      "6999. TGT\n",
      "7000. TGTX\n",
      "7001. TH\n",
      "7002. THBR\n"
     ]
    },
    {
     "name": "stderr",
     "output_type": "stream",
     "text": [
      "THBR: No timezone found, symbol may be delisted\n"
     ]
    },
    {
     "name": "stdout",
     "output_type": "stream",
     "text": [
      "7003. THBRU\n"
     ]
    },
    {
     "name": "stderr",
     "output_type": "stream",
     "text": [
      "THBRU: No timezone found, symbol may be delisted\n"
     ]
    },
    {
     "name": "stdout",
     "output_type": "stream",
     "text": [
      "7004. THC\n",
      "7005. THCA\n"
     ]
    },
    {
     "name": "stderr",
     "output_type": "stream",
     "text": [
      "THCA: No timezone found, symbol may be delisted\n"
     ]
    },
    {
     "name": "stdout",
     "output_type": "stream",
     "text": [
      "7006. THCAU\n"
     ]
    },
    {
     "name": "stderr",
     "output_type": "stream",
     "text": [
      "THCAU: No timezone found, symbol may be delisted\n"
     ]
    },
    {
     "name": "stdout",
     "output_type": "stream",
     "text": [
      "7007. THCB\n"
     ]
    },
    {
     "name": "stderr",
     "output_type": "stream",
     "text": [
      "THCB: No timezone found, symbol may be delisted\n"
     ]
    },
    {
     "name": "stdout",
     "output_type": "stream",
     "text": [
      "7008. THCBU\n"
     ]
    },
    {
     "name": "stderr",
     "output_type": "stream",
     "text": [
      "THCBU: No timezone found, symbol may be delisted\n"
     ]
    },
    {
     "name": "stdout",
     "output_type": "stream",
     "text": [
      "7009. THCX\n",
      "7010. THD\n",
      "7011. THFF\n",
      "7012. THG\n",
      "7013. THGA\n"
     ]
    },
    {
     "name": "stderr",
     "output_type": "stream",
     "text": [
      "THGA: No timezone found, symbol may be delisted\n",
      "404 Client Error: Not Found for url: https://query2.finance.yahoo.com/v10/finance/quoteSummary/THGA?modules=financialData%2CquoteType%2CdefaultKeyStatistics%2CassetProfile%2CsummaryDetail&corsDomain=finance.yahoo.com&formatted=false&symbol=THGA&crumb=KUwSGfMjWIw\n"
     ]
    },
    {
     "name": "stdout",
     "output_type": "stream",
     "text": [
      "7014. THM\n",
      "7015. THMO\n",
      "7016. THO\n",
      "7017. THQ\n",
      "7018. THR\n",
      "7019. THRM\n",
      "7020. THS\n",
      "7021. THTX\n",
      "7022. THW\n",
      "7023. TIF\n"
     ]
    },
    {
     "name": "stderr",
     "output_type": "stream",
     "text": [
      "TIF: No timezone found, symbol may be delisted\n"
     ]
    },
    {
     "name": "stdout",
     "output_type": "stream",
     "text": [
      "7024. TIGO\n",
      "7025. TIGR\n",
      "7026. TILE\n",
      "7027. TILT\n",
      "7028. TIP\n",
      "7029. TIPT\n",
      "7030. TIPX\n",
      "7031. TIPZ\n",
      "7032. TISI\n",
      "7033. TITN\n",
      "7034. TIVO\n"
     ]
    },
    {
     "name": "stderr",
     "output_type": "stream",
     "text": [
      "TIVO: No timezone found, symbol may be delisted\n"
     ]
    },
    {
     "name": "stdout",
     "output_type": "stream",
     "text": [
      "7035. TJX\n",
      "7036. TKAT\n"
     ]
    },
    {
     "name": "stderr",
     "output_type": "stream",
     "text": [
      "TKAT: No timezone found, symbol may be delisted\n",
      "404 Client Error: Not Found for url: https://query2.finance.yahoo.com/v10/finance/quoteSummary/TKAT?modules=financialData%2CquoteType%2CdefaultKeyStatistics%2CassetProfile%2CsummaryDetail&corsDomain=finance.yahoo.com&formatted=false&symbol=TKAT&crumb=KUwSGfMjWIw\n"
     ]
    },
    {
     "name": "stdout",
     "output_type": "stream",
     "text": [
      "7037. TKC\n",
      "7038. TKR\n",
      "7039. TLC\n"
     ]
    },
    {
     "name": "stderr",
     "output_type": "stream",
     "text": [
      "TLC: No timezone found, symbol may be delisted\n"
     ]
    },
    {
     "name": "stdout",
     "output_type": "stream",
     "text": [
      "7040. TLDH\n"
     ]
    },
    {
     "name": "stderr",
     "output_type": "stream",
     "text": [
      "TLDH: No price data found, symbol may be delisted (1d 2023-01-01 -> 2024-01-01)\n"
     ]
    },
    {
     "name": "stdout",
     "output_type": "stream",
     "text": [
      "7041. TLEH\n"
     ]
    },
    {
     "name": "stderr",
     "output_type": "stream",
     "text": [
      "TLEH: No price data found, symbol may be delisted (1d 2023-01-01 -> 2024-01-01)\n"
     ]
    },
    {
     "name": "stdout",
     "output_type": "stream",
     "text": [
      "7042. TLF\n",
      "7043. TLGT\n"
     ]
    },
    {
     "name": "stderr",
     "output_type": "stream",
     "text": [
      "TLGT: No timezone found, symbol may be delisted\n"
     ]
    },
    {
     "name": "stdout",
     "output_type": "stream",
     "text": [
      "7044. TLH\n",
      "7045. TLI\n"
     ]
    },
    {
     "name": "stderr",
     "output_type": "stream",
     "text": [
      "TLI: No timezone found, symbol may be delisted\n"
     ]
    },
    {
     "name": "stdout",
     "output_type": "stream",
     "text": [
      "7046. TLK\n",
      "7047. TLND\n"
     ]
    },
    {
     "name": "stderr",
     "output_type": "stream",
     "text": [
      "TLND: No timezone found, symbol may be delisted\n"
     ]
    },
    {
     "name": "stdout",
     "output_type": "stream",
     "text": [
      "7048. TLRD\n"
     ]
    },
    {
     "name": "stderr",
     "output_type": "stream",
     "text": [
      "TLRD: No timezone found, symbol may be delisted\n"
     ]
    },
    {
     "name": "stdout",
     "output_type": "stream",
     "text": [
      "7049. TLRY\n",
      "7050. TLSA\n",
      "7051. TLT\n",
      "7052. TLTD\n",
      "7053. TLTE\n",
      "7054. TLYS\n",
      "7055. TM\n",
      "7056. TMDI\n"
     ]
    },
    {
     "name": "stderr",
     "output_type": "stream",
     "text": [
      "TMDI: No timezone found, symbol may be delisted\n"
     ]
    },
    {
     "name": "stdout",
     "output_type": "stream",
     "text": [
      "7057. TMDV\n",
      "7058. TMDX\n",
      "7059. TME\n",
      "7060. TMF\n",
      "7061. TMFC\n",
      "7062. TMHC\n",
      "7063. TMO\n",
      "7064. TMP\n",
      "7065. TMQ\n",
      "7066. TMSR\n"
     ]
    },
    {
     "name": "stderr",
     "output_type": "stream",
     "text": [
      "TMSR: No timezone found, symbol may be delisted\n"
     ]
    },
    {
     "name": "stdout",
     "output_type": "stream",
     "text": [
      "7067. TMST\n",
      "7068. TMUS\n",
      "7069. TMV\n",
      "7070. TNA\n",
      "7071. TNAV\n"
     ]
    },
    {
     "name": "stderr",
     "output_type": "stream",
     "text": [
      "TNAV: No timezone found, symbol may be delisted\n"
     ]
    },
    {
     "name": "stdout",
     "output_type": "stream",
     "text": [
      "7072. TNC\n",
      "7073. TNDM\n",
      "7074. TNET\n",
      "7075. TNK\n",
      "7076. TNP\n",
      "7077. TNXP\n",
      "7078. TOCA\n"
     ]
    },
    {
     "name": "stderr",
     "output_type": "stream",
     "text": [
      "TOCA: No timezone found, symbol may be delisted\n"
     ]
    },
    {
     "name": "stdout",
     "output_type": "stream",
     "text": [
      "7079. TOK\n",
      "7080. TOKE\n",
      "7081. TOL\n",
      "7082. TOLZ\n",
      "7083. TOPS\n",
      "7084. TORC\n"
     ]
    },
    {
     "name": "stderr",
     "output_type": "stream",
     "text": [
      "TORC: No timezone found, symbol may be delisted\n"
     ]
    },
    {
     "name": "stdout",
     "output_type": "stream",
     "text": [
      "7085. TOT\n"
     ]
    },
    {
     "name": "stderr",
     "output_type": "stream",
     "text": [
      "TOT: No timezone found, symbol may be delisted\n"
     ]
    },
    {
     "name": "stdout",
     "output_type": "stream",
     "text": [
      "7086. TOTA\n"
     ]
    },
    {
     "name": "stderr",
     "output_type": "stream",
     "text": [
      "TOTA: No timezone found, symbol may be delisted\n"
     ]
    },
    {
     "name": "stdout",
     "output_type": "stream",
     "text": [
      "7087. TOTAU\n"
     ]
    },
    {
     "name": "stderr",
     "output_type": "stream",
     "text": [
      "TOTAU: No timezone found, symbol may be delisted\n"
     ]
    },
    {
     "name": "stdout",
     "output_type": "stream",
     "text": [
      "7088. TOTL\n",
      "7089. TOUR\n",
      "7090. TOWN\n",
      "7091. TPAY\n"
     ]
    },
    {
     "name": "stderr",
     "output_type": "stream",
     "text": [
      "TPAY: No price data found, symbol may be delisted (1d 2023-01-01 -> 2024-01-01)\n"
     ]
    },
    {
     "name": "stdout",
     "output_type": "stream",
     "text": [
      "7092. TPB\n",
      "7093. TPC\n",
      "7094. TPCO\n"
     ]
    },
    {
     "name": "stderr",
     "output_type": "stream",
     "text": [
      "TPCO: No timezone found, symbol may be delisted\n"
     ]
    },
    {
     "name": "stdout",
     "output_type": "stream",
     "text": [
      "7095. TPH\n",
      "7096. TPHD\n",
      "7097. TPHS\n",
      "7098. TPIC\n",
      "7099. TPIF\n",
      "7100. TPL\n",
      "7101. TPLC\n",
      "7102. TPOR\n",
      "7103. TPR\n",
      "7104. TPRE\n"
     ]
    },
    {
     "name": "stderr",
     "output_type": "stream",
     "text": [
      "TPRE: No timezone found, symbol may be delisted\n"
     ]
    },
    {
     "name": "stdout",
     "output_type": "stream",
     "text": [
      "7105. TPSC\n",
      "7106. TPTX\n"
     ]
    },
    {
     "name": "stderr",
     "output_type": "stream",
     "text": [
      "TPTX: No timezone found, symbol may be delisted\n"
     ]
    },
    {
     "name": "stdout",
     "output_type": "stream",
     "text": [
      "7107. TPVG\n",
      "7108. TPVY\n"
     ]
    },
    {
     "name": "stderr",
     "output_type": "stream",
     "text": [
      "TPVY: No price data found, symbol may be delisted (1d 2023-01-01 -> 2024-01-01)\n"
     ]
    },
    {
     "name": "stdout",
     "output_type": "stream",
     "text": [
      "7109. TPX\n",
      "7110. TPYP\n",
      "7111. TPZ\n",
      "7112. TQQQ\n",
      "7113. TR\n",
      "7114. TRC\n",
      "7115. TRCH\n"
     ]
    },
    {
     "name": "stderr",
     "output_type": "stream",
     "text": [
      "TRCH: No timezone found, symbol may be delisted\n"
     ]
    },
    {
     "name": "stdout",
     "output_type": "stream",
     "text": [
      "7116. TREC\n"
     ]
    },
    {
     "name": "stderr",
     "output_type": "stream",
     "text": [
      "TREC: No timezone found, symbol may be delisted\n"
     ]
    },
    {
     "name": "stdout",
     "output_type": "stream",
     "text": [
      "7117. TREE\n",
      "7118. TREX\n",
      "7119. TRGP\n",
      "7120. TRHC\n"
     ]
    },
    {
     "name": "stderr",
     "output_type": "stream",
     "text": [
      "TRHC: No timezone found, symbol may be delisted\n",
      "404 Client Error: Not Found for url: https://query2.finance.yahoo.com/v10/finance/quoteSummary/TRHC?modules=financialData%2CquoteType%2CdefaultKeyStatistics%2CassetProfile%2CsummaryDetail&corsDomain=finance.yahoo.com&formatted=false&symbol=TRHC&crumb=KUwSGfMjWIw\n"
     ]
    },
    {
     "name": "stdout",
     "output_type": "stream",
     "text": [
      "7121. TRI\n",
      "7122. TRIB\n",
      "7123. TRIL\n"
     ]
    },
    {
     "name": "stderr",
     "output_type": "stream",
     "text": [
      "TRIL: No timezone found, symbol may be delisted\n"
     ]
    },
    {
     "name": "stdout",
     "output_type": "stream",
     "text": [
      "7124. TRIP\n",
      "7125. TRMB\n",
      "7126. TRMD\n",
      "7127. TRMK\n",
      "7128. TRMT\n"
     ]
    },
    {
     "name": "stderr",
     "output_type": "stream",
     "text": [
      "TRMT: No timezone found, symbol may be delisted\n"
     ]
    },
    {
     "name": "stdout",
     "output_type": "stream",
     "text": [
      "7129. TRN\n",
      "7130. TRND\n",
      "7131. TRNE\n"
     ]
    },
    {
     "name": "stderr",
     "output_type": "stream",
     "text": [
      "TRNE: No timezone found, symbol may be delisted\n"
     ]
    },
    {
     "name": "stdout",
     "output_type": "stream",
     "text": [
      "7132. TRNO\n",
      "7133. TRNS\n",
      "7134. TRNX\n"
     ]
    },
    {
     "name": "stderr",
     "output_type": "stream",
     "text": [
      "TRNX: No timezone found, symbol may be delisted\n"
     ]
    },
    {
     "name": "stdout",
     "output_type": "stream",
     "text": [
      "7135. TROV\n"
     ]
    },
    {
     "name": "stderr",
     "output_type": "stream",
     "text": [
      "TROV: No timezone found, symbol may be delisted\n"
     ]
    },
    {
     "name": "stdout",
     "output_type": "stream",
     "text": [
      "7136. TROW\n",
      "7137. TROX\n",
      "7138. TRP\n",
      "7139. TRPX\n"
     ]
    },
    {
     "name": "stderr",
     "output_type": "stream",
     "text": [
      "TRPX: No timezone found, symbol may be delisted\n"
     ]
    },
    {
     "name": "stdout",
     "output_type": "stream",
     "text": [
      "7140. TRQ\n"
     ]
    },
    {
     "name": "stderr",
     "output_type": "stream",
     "text": [
      "TRQ: No timezone found, symbol may be delisted\n"
     ]
    },
    {
     "name": "stdout",
     "output_type": "stream",
     "text": [
      "7141. TRS\n",
      "7142. TRST\n",
      "7143. TRT\n",
      "7144. TRTN\n"
     ]
    },
    {
     "name": "stderr",
     "output_type": "stream",
     "text": [
      "TRTN: No timezone found, symbol may be delisted\n",
      "404 Client Error: Not Found for url: https://query2.finance.yahoo.com/v10/finance/quoteSummary/TRTN?modules=financialData%2CquoteType%2CdefaultKeyStatistics%2CassetProfile%2CsummaryDetail&corsDomain=finance.yahoo.com&formatted=false&symbol=TRTN&crumb=KUwSGfMjWIw\n"
     ]
    },
    {
     "name": "stdout",
     "output_type": "stream",
     "text": [
      "7145. TRTX\n",
      "7146. TRTY\n",
      "7147. TRU\n",
      "7148. TRUE\n",
      "7149. TRUP\n",
      "7150. TRV\n",
      "7151. TRVG\n",
      "7152. TRVI\n",
      "7153. TRVN\n",
      "7154. TRWH\n"
     ]
    },
    {
     "name": "stderr",
     "output_type": "stream",
     "text": [
      "TRWH: No timezone found, symbol may be delisted\n"
     ]
    },
    {
     "name": "stdout",
     "output_type": "stream",
     "text": [
      "7155. TRX\n",
      "7156. TRXC\n"
     ]
    },
    {
     "name": "stderr",
     "output_type": "stream",
     "text": [
      "TRXC: No timezone found, symbol may be delisted\n"
     ]
    },
    {
     "name": "stdout",
     "output_type": "stream",
     "text": [
      "7157. TS\n",
      "7158. TSBK\n",
      "7159. TSC\n"
     ]
    },
    {
     "name": "stderr",
     "output_type": "stream",
     "text": [
      "TSC: No timezone found, symbol may be delisted\n"
     ]
    },
    {
     "name": "stdout",
     "output_type": "stream",
     "text": [
      "7160. TSCAP\n"
     ]
    },
    {
     "name": "stderr",
     "output_type": "stream",
     "text": [
      "TSCAP: No timezone found, symbol may be delisted\n"
     ]
    },
    {
     "name": "stdout",
     "output_type": "stream",
     "text": [
      "7161. TSCBP\n"
     ]
    },
    {
     "name": "stderr",
     "output_type": "stream",
     "text": [
      "TSCBP: No timezone found, symbol may be delisted\n"
     ]
    },
    {
     "name": "stdout",
     "output_type": "stream",
     "text": [
      "7162. TSCO\n",
      "7163. TSE\n",
      "7164. TSEM\n",
      "7165. TSG\n"
     ]
    },
    {
     "name": "stderr",
     "output_type": "stream",
     "text": [
      "TSG: No timezone found, symbol may be delisted\n"
     ]
    },
    {
     "name": "stdout",
     "output_type": "stream",
     "text": [
      "7166. TSI\n",
      "7167. TSLA\n",
      "7168. TSLF\n"
     ]
    },
    {
     "name": "stderr",
     "output_type": "stream",
     "text": [
      "TSLF: No timezone found, symbol may be delisted\n"
     ]
    },
    {
     "name": "stdout",
     "output_type": "stream",
     "text": [
      "7169. TSLX\n",
      "7170. TSM\n",
      "7171. TSN\n",
      "7172. TSQ\n",
      "7173. TSRI\n",
      "7174. TSU\n"
     ]
    },
    {
     "name": "stderr",
     "output_type": "stream",
     "text": [
      "TSU: No timezone found, symbol may be delisted\n"
     ]
    },
    {
     "name": "stdout",
     "output_type": "stream",
     "text": [
      "7175. TT\n",
      "7176. TTAC\n",
      "7177. TTAI\n",
      "7178. TTC\n",
      "7179. TTD\n",
      "7180. TTEC\n",
      "7181. TTEK\n",
      "7182. TTGT\n",
      "7183. TTI\n",
      "7184. TTM\n"
     ]
    },
    {
     "name": "stderr",
     "output_type": "stream",
     "text": [
      "TTM: No timezone found, symbol may be delisted\n"
     ]
    },
    {
     "name": "stdout",
     "output_type": "stream",
     "text": [
      "7185. TTMI\n",
      "7186. TTNP\n",
      "7187. TTOO\n",
      "7188. TTP\n",
      "7189. TTPH\n"
     ]
    },
    {
     "name": "stderr",
     "output_type": "stream",
     "text": [
      "TTPH: No timezone found, symbol may be delisted\n"
     ]
    },
    {
     "name": "stdout",
     "output_type": "stream",
     "text": [
      "7190. TTT\n",
      "7191. TTTN\n"
     ]
    },
    {
     "name": "stderr",
     "output_type": "stream",
     "text": [
      "TTTN: No price data found, symbol may be delisted (1d 2023-01-01 -> 2024-01-01)\n"
     ]
    },
    {
     "name": "stdout",
     "output_type": "stream",
     "text": [
      "7192. TTWO\n",
      "7193. TUES\n"
     ]
    },
    {
     "name": "stderr",
     "output_type": "stream",
     "text": [
      "TUES: No timezone found, symbol may be delisted\n"
     ]
    },
    {
     "name": "stdout",
     "output_type": "stream",
     "text": [
      "7194. TUFN\n"
     ]
    },
    {
     "name": "stderr",
     "output_type": "stream",
     "text": [
      "TUFN: No timezone found, symbol may be delisted\n"
     ]
    },
    {
     "name": "stdout",
     "output_type": "stream",
     "text": [
      "7195. TUP\n",
      "7196. TUR\n",
      "7197. TURN\n",
      "7198. TUSA\n",
      "7199. TUSK\n",
      "7200. TV\n",
      "7201. TVC\n",
      "7202. TVE\n",
      "7203. TVIX\n",
      "7204. TVTY\n"
     ]
    },
    {
     "name": "stderr",
     "output_type": "stream",
     "text": [
      "TVTY: No timezone found, symbol may be delisted\n"
     ]
    },
    {
     "name": "stdout",
     "output_type": "stream",
     "text": [
      "7205. TW\n",
      "7206. TWI\n",
      "7207. TWIN\n",
      "7208. TWLO\n",
      "7209. TWM\n",
      "7210. TWMC\n"
     ]
    },
    {
     "name": "stderr",
     "output_type": "stream",
     "text": [
      "TWMC: No timezone found, symbol may be delisted\n"
     ]
    },
    {
     "name": "stdout",
     "output_type": "stream",
     "text": [
      "7211. TWN\n",
      "7212. TWNK\n"
     ]
    },
    {
     "name": "stderr",
     "output_type": "stream",
     "text": [
      "TWNK: No timezone found, symbol may be delisted\n"
     ]
    },
    {
     "name": "stdout",
     "output_type": "stream",
     "text": [
      "7213. TWNKW\n"
     ]
    },
    {
     "name": "stderr",
     "output_type": "stream",
     "text": [
      "TWNKW: No price data found, symbol may be delisted (1d 2023-01-01 -> 2024-01-01)\n"
     ]
    },
    {
     "name": "stdout",
     "output_type": "stream",
     "text": [
      "7214. TWO\n",
      "7215. TWOU\n",
      "7216. TWTR\n"
     ]
    },
    {
     "name": "stderr",
     "output_type": "stream",
     "text": [
      "TWTR: No timezone found, symbol may be delisted\n"
     ]
    },
    {
     "name": "stdout",
     "output_type": "stream",
     "text": [
      "7217. TX\n",
      "7218. TXG\n",
      "7219. TXMD\n",
      "7220. TXN\n",
      "7221. TXRH\n",
      "7222. TXT\n",
      "7223. TY\n",
      "7224. TYBS\n"
     ]
    },
    {
     "name": "stderr",
     "output_type": "stream",
     "text": [
      "TYBS: No price data found, symbol may be delisted (1d 2023-01-01 -> 2024-01-01)\n"
     ]
    },
    {
     "name": "stdout",
     "output_type": "stream",
     "text": [
      "7225. TYD\n",
      "7226. TYG\n",
      "7227. TYHT\n"
     ]
    },
    {
     "name": "stderr",
     "output_type": "stream",
     "text": [
      "TYHT: No timezone found, symbol may be delisted\n"
     ]
    },
    {
     "name": "stdout",
     "output_type": "stream",
     "text": [
      "7228. TYL\n",
      "7229. TYME\n"
     ]
    },
    {
     "name": "stderr",
     "output_type": "stream",
     "text": [
      "TYME: No timezone found, symbol may be delisted\n"
     ]
    },
    {
     "name": "stdout",
     "output_type": "stream",
     "text": [
      "7230. TYO\n",
      "7231. TZA\n",
      "7232. TZAC\n"
     ]
    },
    {
     "name": "stderr",
     "output_type": "stream",
     "text": [
      "TZAC: No timezone found, symbol may be delisted\n"
     ]
    },
    {
     "name": "stdout",
     "output_type": "stream",
     "text": [
      "7233. TZACU\n"
     ]
    },
    {
     "name": "stderr",
     "output_type": "stream",
     "text": [
      "TZACU: No timezone found, symbol may be delisted\n"
     ]
    },
    {
     "name": "stdout",
     "output_type": "stream",
     "text": [
      "7234. TZOO\n",
      "7235. UA\n",
      "7236. UAA\n",
      "7237. UAE\n",
      "7238. UAG\n"
     ]
    },
    {
     "name": "stderr",
     "output_type": "stream",
     "text": [
      "UAG: No price data found, symbol may be delisted (1d 2023-01-01 -> 2024-01-01)\n"
     ]
    },
    {
     "name": "stdout",
     "output_type": "stream",
     "text": [
      "7239. UAL\n",
      "7240. UAMY\n",
      "7241. UAN\n",
      "7242. UAPR\n",
      "7243. UAUD\n"
     ]
    },
    {
     "name": "stderr",
     "output_type": "stream",
     "text": [
      "UAUD: No price data found, symbol may be delisted (1d 2023-01-01 -> 2024-01-01)\n"
     ]
    },
    {
     "name": "stdout",
     "output_type": "stream",
     "text": [
      "7244. UAUG\n",
      "7245. UAVS\n",
      "7246. UBA\n"
     ]
    },
    {
     "name": "stderr",
     "output_type": "stream",
     "text": [
      "UBA: No timezone found, symbol may be delisted\n",
      "404 Client Error: Not Found for url: https://query2.finance.yahoo.com/v10/finance/quoteSummary/UBA?modules=financialData%2CquoteType%2CdefaultKeyStatistics%2CassetProfile%2CsummaryDetail&corsDomain=finance.yahoo.com&formatted=false&symbol=UBA&crumb=KUwSGfMjWIw\n"
     ]
    },
    {
     "name": "stdout",
     "output_type": "stream",
     "text": [
      "7247. UBCP\n",
      "7248. UBER\n",
      "7249. UBFO\n",
      "7250. UBG\n"
     ]
    },
    {
     "name": "stderr",
     "output_type": "stream",
     "text": [
      "UBG: No price data found, symbol may be delisted (1d 2023-01-01 -> 2024-01-01)\n"
     ]
    },
    {
     "name": "stdout",
     "output_type": "stream",
     "text": [
      "7251. UBOH\n",
      "7252. UBOT\n",
      "7253. UBP\n"
     ]
    },
    {
     "name": "stderr",
     "output_type": "stream",
     "text": [
      "UBP: No timezone found, symbol may be delisted\n",
      "404 Client Error: Not Found for url: https://query2.finance.yahoo.com/v10/finance/quoteSummary/UBP?modules=financialData%2CquoteType%2CdefaultKeyStatistics%2CassetProfile%2CsummaryDetail&corsDomain=finance.yahoo.com&formatted=false&symbol=UBP&crumb=KUwSGfMjWIw\n"
     ]
    },
    {
     "name": "stdout",
     "output_type": "stream",
     "text": [
      "7254. UBR\n",
      "7255. UBS\n",
      "7256. UBSI\n",
      "7257. UBT\n",
      "7258. UBX\n",
      "7259. UCBI\n",
      "7260. UCC\n",
      "7261. UCHF\n"
     ]
    },
    {
     "name": "stderr",
     "output_type": "stream",
     "text": [
      "UCHF: No price data found, symbol may be delisted (1d 2023-01-01 -> 2024-01-01)\n"
     ]
    },
    {
     "name": "stdout",
     "output_type": "stream",
     "text": [
      "7262. UCI\n"
     ]
    },
    {
     "name": "stderr",
     "output_type": "stream",
     "text": [
      "UCI: No price data found, symbol may be delisted (1d 2023-01-01 -> 2024-01-01)\n"
     ]
    },
    {
     "name": "stdout",
     "output_type": "stream",
     "text": [
      "7263. UCIB\n",
      "7264. UCO\n",
      "7265. UCON\n",
      "7266. UCTT\n",
      "7267. UDEC\n",
      "7268. UDN\n",
      "7269. UDOW\n",
      "7270. UDR\n",
      "7271. UE\n",
      "7272. UEC\n",
      "7273. UEIC\n",
      "7274. UEPS\n"
     ]
    },
    {
     "name": "stderr",
     "output_type": "stream",
     "text": [
      "UEPS: No timezone found, symbol may be delisted\n"
     ]
    },
    {
     "name": "stdout",
     "output_type": "stream",
     "text": [
      "7275. UEUR\n"
     ]
    },
    {
     "name": "stderr",
     "output_type": "stream",
     "text": [
      "UEUR: No price data found, symbol may be delisted (1d 2023-01-01 -> 2024-01-01)\n"
     ]
    },
    {
     "name": "stdout",
     "output_type": "stream",
     "text": [
      "7276. UEVM\n",
      "7277. UFAB\n"
     ]
    },
    {
     "name": "stderr",
     "output_type": "stream",
     "text": [
      "UFAB: No timezone found, symbol may be delisted\n",
      "404 Client Error: Not Found for url: https://query2.finance.yahoo.com/v10/finance/quoteSummary/UFAB?modules=financialData%2CquoteType%2CdefaultKeyStatistics%2CassetProfile%2CsummaryDetail&corsDomain=finance.yahoo.com&formatted=false&symbol=UFAB&crumb=KUwSGfMjWIw\n"
     ]
    },
    {
     "name": "stdout",
     "output_type": "stream",
     "text": [
      "7278. UFCS\n",
      "7279. UFEB\n",
      "7280. UFI\n",
      "7281. UFO\n",
      "7282. UFPI\n",
      "7283. UFPT\n",
      "7284. UFS\n"
     ]
    },
    {
     "name": "stderr",
     "output_type": "stream",
     "text": [
      "UFS: No timezone found, symbol may be delisted\n"
     ]
    },
    {
     "name": "stdout",
     "output_type": "stream",
     "text": [
      "7285. UG\n",
      "7286. UGA\n",
      "7287. UGAZ\n",
      "7288. UGBP\n"
     ]
    },
    {
     "name": "stderr",
     "output_type": "stream",
     "text": [
      "UGBP: No price data found, symbol may be delisted (1d 2023-01-01 -> 2024-01-01)\n"
     ]
    },
    {
     "name": "stdout",
     "output_type": "stream",
     "text": [
      "7289. UGE\n",
      "7290. UGI\n",
      "7291. UGL\n",
      "7292. UGLD\n",
      "7293. UGP\n",
      "7294. UHAL\n",
      "7295. UHS\n",
      "7296. UHT\n",
      "7297. UI\n",
      "7298. UIHC\n"
     ]
    },
    {
     "name": "stderr",
     "output_type": "stream",
     "text": [
      "UIHC: No timezone found, symbol may be delisted\n",
      "404 Client Error: Not Found for url: https://query2.finance.yahoo.com/v10/finance/quoteSummary/UIHC?modules=financialData%2CquoteType%2CdefaultKeyStatistics%2CassetProfile%2CsummaryDetail&corsDomain=finance.yahoo.com&formatted=false&symbol=UIHC&crumb=KUwSGfMjWIw\n"
     ]
    },
    {
     "name": "stdout",
     "output_type": "stream",
     "text": [
      "7299. UIS\n",
      "7300. UITB\n",
      "7301. UIVM\n",
      "7302. UJAN\n",
      "7303. UJB\n",
      "7304. UJPY\n"
     ]
    },
    {
     "name": "stderr",
     "output_type": "stream",
     "text": [
      "UJPY: No price data found, symbol may be delisted (1d 2023-01-01 -> 2024-01-01)\n"
     ]
    },
    {
     "name": "stdout",
     "output_type": "stream",
     "text": [
      "7305. UJUL\n",
      "7306. UJUN\n",
      "7307. UL\n",
      "7308. ULBI\n",
      "7309. ULBR\n"
     ]
    },
    {
     "name": "stderr",
     "output_type": "stream",
     "text": [
      "ULBR: No price data found, symbol may be delisted (1d 2023-01-01 -> 2024-01-01)\n"
     ]
    },
    {
     "name": "stdout",
     "output_type": "stream",
     "text": [
      "7310. ULE\n",
      "7311. ULH\n",
      "7312. ULST\n",
      "7313. ULTA\n",
      "7314. ULVM\n",
      "7315. UMAR\n",
      "7316. UMBF\n",
      "7317. UMC\n",
      "7318. UMDD\n",
      "7319. UMH\n",
      "7320. UMPQ\n"
     ]
    },
    {
     "name": "stderr",
     "output_type": "stream",
     "text": [
      "UMPQ: No timezone found, symbol may be delisted\n"
     ]
    },
    {
     "name": "stdout",
     "output_type": "stream",
     "text": [
      "7321. UMRX\n"
     ]
    },
    {
     "name": "stderr",
     "output_type": "stream",
     "text": [
      "UMRX: No timezone found, symbol may be delisted\n"
     ]
    },
    {
     "name": "stdout",
     "output_type": "stream",
     "text": [
      "7322. UN\n"
     ]
    },
    {
     "name": "stderr",
     "output_type": "stream",
     "text": [
      "UN: No timezone found, symbol may be delisted\n"
     ]
    },
    {
     "name": "stdout",
     "output_type": "stream",
     "text": [
      "7323. UNAM\n",
      "7324. UNB\n",
      "7325. UNF\n",
      "7326. UNFI\n",
      "7327. UNG\n",
      "7328. UNH\n",
      "7329. UNIT\n",
      "7330. UNL\n",
      "7331. UNM\n",
      "7332. UNMA\n",
      "7333. UNOV\n",
      "7334. UNP\n",
      "7335. UNT\n"
     ]
    },
    {
     "name": "stderr",
     "output_type": "stream",
     "text": [
      "UNT: No timezone found, symbol may be delisted\n"
     ]
    },
    {
     "name": "stdout",
     "output_type": "stream",
     "text": [
      "7336. UNTY\n",
      "7337. UNVR\n"
     ]
    },
    {
     "name": "stderr",
     "output_type": "stream",
     "text": [
      "UNVR: No timezone found, symbol may be delisted\n",
      "404 Client Error: Not Found for url: https://query2.finance.yahoo.com/v10/finance/quoteSummary/UNVR?modules=financialData%2CquoteType%2CdefaultKeyStatistics%2CassetProfile%2CsummaryDetail&corsDomain=finance.yahoo.com&formatted=false&symbol=UNVR&crumb=KUwSGfMjWIw\n"
     ]
    },
    {
     "name": "stdout",
     "output_type": "stream",
     "text": [
      "7338. UOCT\n",
      "7339. UONE\n",
      "7340. UONEK\n",
      "7341. UPLD\n",
      "7342. UPRO\n",
      "7343. UPS\n",
      "7344. UPV\n",
      "7345. UPW\n",
      "7346. UPWK\n",
      "7347. URA\n",
      "7348. URBN\n",
      "7349. URE\n",
      "7350. URG\n",
      "7351. URGN\n",
      "7352. URI\n",
      "7353. URNM\n",
      "7354. UROV\n"
     ]
    },
    {
     "name": "stderr",
     "output_type": "stream",
     "text": [
      "UROV: No timezone found, symbol may be delisted\n"
     ]
    },
    {
     "name": "stdout",
     "output_type": "stream",
     "text": [
      "7355. URR\n"
     ]
    },
    {
     "name": "stderr",
     "output_type": "stream",
     "text": [
      "URR: No price data found, symbol may be delisted (1d 2023-01-01 -> 2024-01-01)\n"
     ]
    },
    {
     "name": "stdout",
     "output_type": "stream",
     "text": [
      "7356. URTH\n",
      "7357. URTY\n",
      "7358. USA\n",
      "7359. USAC\n",
      "7360. USAI\n",
      "7361. USAK\n"
     ]
    },
    {
     "name": "stderr",
     "output_type": "stream",
     "text": [
      "USAK: No timezone found, symbol may be delisted\n"
     ]
    },
    {
     "name": "stdout",
     "output_type": "stream",
     "text": [
      "7362. USAP\n",
      "7363. USAS\n",
      "7364. USAU\n",
      "7365. USB\n",
      "7366. USCI\n",
      "7367. USCR\n"
     ]
    },
    {
     "name": "stderr",
     "output_type": "stream",
     "text": [
      "USCR: No timezone found, symbol may be delisted\n"
     ]
    },
    {
     "name": "stdout",
     "output_type": "stream",
     "text": [
      "7368. USD\n",
      "7369. USDP\n",
      "7370. USDU\n",
      "7371. USDY\n"
     ]
    },
    {
     "name": "stderr",
     "output_type": "stream",
     "text": [
      "USDY: No price data found, symbol may be delisted (1d 2023-01-01 -> 2024-01-01)\n"
     ]
    },
    {
     "name": "stdout",
     "output_type": "stream",
     "text": [
      "7372. USEG\n",
      "7373. USEP\n",
      "7374. USEQ\n",
      "7375. USFD\n",
      "7376. USFR\n",
      "7377. USHG\n"
     ]
    },
    {
     "name": "stderr",
     "output_type": "stream",
     "text": [
      "USHG: No price data found, symbol may be delisted (1d 2023-01-01 -> 2024-01-01)\n"
     ]
    },
    {
     "name": "stdout",
     "output_type": "stream",
     "text": [
      "7378. USHY\n",
      "7379. USI\n",
      "7380. USIG\n",
      "7381. USIO\n",
      "7382. USL\n",
      "7383. USLB\n",
      "7384. USLM\n",
      "7385. USLV\n",
      "7386. USM\n",
      "7387. USMC\n",
      "7388. USMF\n",
      "7389. USMV\n",
      "7390. USNA\n",
      "7391. USO\n",
      "7392. USOI\n",
      "7393. USPH\n",
      "7394. USRT\n",
      "7395. USSG\n",
      "7396. UST\n",
      "7397. USTB\n",
      "7398. USV\n"
     ]
    },
    {
     "name": "stderr",
     "output_type": "stream",
     "text": [
      "USV: No price data found, symbol may be delisted (1d 2023-01-01 -> 2024-01-01)\n"
     ]
    },
    {
     "name": "stdout",
     "output_type": "stream",
     "text": [
      "7399. USWS\n"
     ]
    },
    {
     "name": "stderr",
     "output_type": "stream",
     "text": [
      "USWS: No timezone found, symbol may be delisted\n"
     ]
    },
    {
     "name": "stdout",
     "output_type": "stream",
     "text": [
      "7400. USX\n"
     ]
    },
    {
     "name": "stderr",
     "output_type": "stream",
     "text": [
      "USX: No timezone found, symbol may be delisted\n",
      "404 Client Error: Not Found for url: https://query2.finance.yahoo.com/v10/finance/quoteSummary/USX?modules=financialData%2CquoteType%2CdefaultKeyStatistics%2CassetProfile%2CsummaryDetail&corsDomain=finance.yahoo.com&formatted=false&symbol=USX&crumb=KUwSGfMjWIw\n"
     ]
    },
    {
     "name": "stdout",
     "output_type": "stream",
     "text": [
      "7401. UTES\n",
      "7402. UTF\n",
      "7403. UTG\n",
      "7404. UTHR\n",
      "7405. UTI\n",
      "7406. UTL\n",
      "7407. UTMD\n",
      "7408. UTRN\n",
      "7409. UTSI\n",
      "7410. UTSL\n",
      "7411. UTX\n"
     ]
    },
    {
     "name": "stderr",
     "output_type": "stream",
     "text": [
      "UTX: No timezone found, symbol may be delisted\n"
     ]
    },
    {
     "name": "stdout",
     "output_type": "stream",
     "text": [
      "7412. UTX.V\n"
     ]
    },
    {
     "name": "stderr",
     "output_type": "stream",
     "text": [
      "UTX.V: No timezone found, symbol may be delisted\n",
      "404 Client Error: Not Found for url: https://query2.finance.yahoo.com/v10/finance/quoteSummary/UTX.V?modules=financialData%2CquoteType%2CdefaultKeyStatistics%2CassetProfile%2CsummaryDetail&corsDomain=finance.yahoo.com&formatted=false&symbol=UTX.V&crumb=KUwSGfMjWIw\n"
     ]
    },
    {
     "name": "stdout",
     "output_type": "stream",
     "text": [
      "7413. UUP\n",
      "7414. UUU\n",
      "7415. UUUU\n",
      "7416. UVE\n",
      "7417. UVSP\n",
      "7418. UVV\n",
      "7419. UVXY\n",
      "7420. UWM\n",
      "7421. UWT\n"
     ]
    },
    {
     "name": "stderr",
     "output_type": "stream",
     "text": [
      "UWT: No price data found, symbol may be delisted (1d 2023-01-01 -> 2024-01-01)\n"
     ]
    },
    {
     "name": "stdout",
     "output_type": "stream",
     "text": [
      "7422. UXI\n",
      "7423. UXIN\n",
      "7424. UYG\n",
      "7425. UYM\n",
      "7426. UZA\n"
     ]
    },
    {
     "name": "stderr",
     "output_type": "stream",
     "text": [
      "UZA: No timezone found, symbol may be delisted\n",
      "404 Client Error: Not Found for url: https://query2.finance.yahoo.com/v10/finance/quoteSummary/UZA?modules=financialData%2CquoteType%2CdefaultKeyStatistics%2CassetProfile%2CsummaryDetail&corsDomain=finance.yahoo.com&formatted=false&symbol=UZA&crumb=KUwSGfMjWIw\n"
     ]
    },
    {
     "name": "stdout",
     "output_type": "stream",
     "text": [
      "7427. UZB\n"
     ]
    },
    {
     "name": "stderr",
     "output_type": "stream",
     "text": [
      "UZB: No price data found, symbol may be delisted (1d 2023-01-01 -> 2024-01-01)\n"
     ]
    },
    {
     "name": "stdout",
     "output_type": "stream",
     "text": [
      "7428. UZC\n"
     ]
    },
    {
     "name": "stderr",
     "output_type": "stream",
     "text": [
      "UZC: No timezone found, symbol may be delisted\n",
      "404 Client Error: Not Found for url: https://query2.finance.yahoo.com/v10/finance/quoteSummary/UZC?modules=financialData%2CquoteType%2CdefaultKeyStatistics%2CassetProfile%2CsummaryDetail&corsDomain=finance.yahoo.com&formatted=false&symbol=UZC&crumb=KUwSGfMjWIw\n"
     ]
    },
    {
     "name": "stdout",
     "output_type": "stream",
     "text": [
      "7429. V\n",
      "7430. VAC\n",
      "7431. VAL\n",
      "7432. VALE\n",
      "7433. VALQ\n",
      "7434. VALT\n",
      "7435. VALU\n",
      "7436. VALX\n"
     ]
    },
    {
     "name": "stderr",
     "output_type": "stream",
     "text": [
      "VALX: No price data found, symbol may be delisted (1d 2023-01-01 -> 2024-01-01)\n"
     ]
    },
    {
     "name": "stdout",
     "output_type": "stream",
     "text": [
      "7437. VAM\n"
     ]
    },
    {
     "name": "stderr",
     "output_type": "stream",
     "text": [
      "VAM: No timezone found, symbol may be delisted\n"
     ]
    },
    {
     "name": "stdout",
     "output_type": "stream",
     "text": [
      "7438. VAMO\n",
      "7439. VAPO\n",
      "7440. VAR\n"
     ]
    },
    {
     "name": "stderr",
     "output_type": "stream",
     "text": [
      "VAR: No timezone found, symbol may be delisted\n"
     ]
    },
    {
     "name": "stdout",
     "output_type": "stream",
     "text": [
      "7441. VAW\n",
      "7442. VB\n",
      "7443. VBF\n",
      "7444. VBFC\n",
      "7445. VBIV\n",
      "7446. VBK\n",
      "7447. VBLT\n"
     ]
    },
    {
     "name": "stderr",
     "output_type": "stream",
     "text": [
      "VBLT: No timezone found, symbol may be delisted\n"
     ]
    },
    {
     "name": "stdout",
     "output_type": "stream",
     "text": [
      "7448. VBND\n",
      "7449. VBR\n",
      "7450. VBTX\n",
      "7451. VC\n",
      "7452. VCEL\n",
      "7453. VCF\n"
     ]
    },
    {
     "name": "stderr",
     "output_type": "stream",
     "text": [
      "VCF: No timezone found, symbol may be delisted\n"
     ]
    },
    {
     "name": "stdout",
     "output_type": "stream",
     "text": [
      "7454. VCIF\n"
     ]
    },
    {
     "name": "stderr",
     "output_type": "stream",
     "text": [
      "VCIF: No timezone found, symbol may be delisted\n",
      "404 Client Error: Not Found for url: https://query2.finance.yahoo.com/v10/finance/quoteSummary/VCIF?modules=financialData%2CquoteType%2CdefaultKeyStatistics%2CassetProfile%2CsummaryDetail&corsDomain=finance.yahoo.com&formatted=false&symbol=VCIF&crumb=KUwSGfMjWIw\n"
     ]
    },
    {
     "name": "stdout",
     "output_type": "stream",
     "text": [
      "7455. VCIT\n",
      "7456. VCLT\n",
      "7457. VCNX\n",
      "7458. VCR\n",
      "7459. VCRA\n"
     ]
    },
    {
     "name": "stderr",
     "output_type": "stream",
     "text": [
      "VCRA: No timezone found, symbol may be delisted\n"
     ]
    },
    {
     "name": "stdout",
     "output_type": "stream",
     "text": [
      "7460. VCSH\n",
      "7461. VCTR\n",
      "7462. VCV\n",
      "7463. VCYT\n",
      "7464. VDC\n",
      "7465. VDE\n",
      "7466. VEA\n",
      "7467. VEC\n"
     ]
    },
    {
     "name": "stderr",
     "output_type": "stream",
     "text": [
      "VEC: No timezone found, symbol may be delisted\n"
     ]
    },
    {
     "name": "stdout",
     "output_type": "stream",
     "text": [
      "7468. VECO\n",
      "7469. VEDL\n"
     ]
    },
    {
     "name": "stderr",
     "output_type": "stream",
     "text": [
      "VEDL: No timezone found, symbol may be delisted\n"
     ]
    },
    {
     "name": "stdout",
     "output_type": "stream",
     "text": [
      "7470. VEEV\n",
      "7471. VEGA\n",
      "7472. VEGI\n",
      "7473. VEGN\n",
      "7474. VEL\n",
      "7475. VEON\n",
      "7476. VER\n"
     ]
    },
    {
     "name": "stderr",
     "output_type": "stream",
     "text": [
      "VER: No timezone found, symbol may be delisted\n"
     ]
    },
    {
     "name": "stdout",
     "output_type": "stream",
     "text": [
      "7477. VERB\n",
      "7478. VERI\n",
      "7479. VERO\n",
      "7480. VERU\n",
      "7481. VERY\n",
      "7482. VET\n",
      "7483. VETS\n"
     ]
    },
    {
     "name": "stderr",
     "output_type": "stream",
     "text": [
      "VETS: No price data found, symbol may be delisted (1d 2023-01-01 -> 2024-01-01)\n"
     ]
    },
    {
     "name": "stdout",
     "output_type": "stream",
     "text": [
      "7484. VEU\n",
      "7485. VFC\n",
      "7486. VFF\n",
      "7487. VFH\n",
      "7488. VFL\n",
      "7489. VFLQ\n"
     ]
    },
    {
     "name": "stderr",
     "output_type": "stream",
     "text": [
      "VFLQ: No price data found, symbol may be delisted (1d 2023-01-01 -> 2024-01-01)\n"
     ]
    },
    {
     "name": "stdout",
     "output_type": "stream",
     "text": [
      "7490. VFMF\n",
      "7491. VFMO\n",
      "7492. VFMV\n",
      "7493. VFQY\n",
      "7494. VFVA\n",
      "7495. VG\n"
     ]
    },
    {
     "name": "stderr",
     "output_type": "stream",
     "text": [
      "VG: No timezone found, symbol may be delisted\n"
     ]
    },
    {
     "name": "stdout",
     "output_type": "stream",
     "text": [
      "7496. VGFO\n",
      "7497. VGI\n",
      "7498. VGIT\n",
      "7499. VGK\n",
      "7500. VGLT\n",
      "7501. VGM\n",
      "7502. VGR\n",
      "7503. VGSH\n",
      "7504. VGT\n",
      "7505. VGZ\n",
      "7506. VHC\n",
      "7507. VHI\n",
      "7508. VHT\n",
      "7509. VIAC\n"
     ]
    },
    {
     "name": "stderr",
     "output_type": "stream",
     "text": [
      "VIAC: No timezone found, symbol may be delisted\n"
     ]
    },
    {
     "name": "stdout",
     "output_type": "stream",
     "text": [
      "7510. VIACA\n"
     ]
    },
    {
     "name": "stderr",
     "output_type": "stream",
     "text": [
      "VIACA: No timezone found, symbol may be delisted\n"
     ]
    },
    {
     "name": "stdout",
     "output_type": "stream",
     "text": [
      "7511. VIAV\n",
      "7512. VICI\n",
      "7513. VICR\n",
      "7514. VIDI\n",
      "7515. VIE\n"
     ]
    },
    {
     "name": "stderr",
     "output_type": "stream",
     "text": [
      "VIE: No timezone found, symbol may be delisted\n"
     ]
    },
    {
     "name": "stdout",
     "output_type": "stream",
     "text": [
      "7516. VIG\n",
      "7517. VIGI\n",
      "7518. VIIX\n",
      "7519. VIOG\n",
      "7520. VIOO\n",
      "7521. VIOT\n",
      "7522. VIOV\n",
      "7523. VIR\n",
      "7524. VIRC\n",
      "7525. VIRT\n",
      "7526. VIS\n",
      "7527. VISL\n",
      "7528. VIST\n",
      "7529. VIV\n",
      "7530. VIVE\n",
      "7531. VIVO\n"
     ]
    },
    {
     "name": "stderr",
     "output_type": "stream",
     "text": [
      "VIVO: No timezone found, symbol may be delisted\n"
     ]
    },
    {
     "name": "stdout",
     "output_type": "stream",
     "text": [
      "7532. VIXM\n",
      "7533. VIXY\n",
      "7534. VJET\n",
      "7535. VKI\n",
      "7536. VKQ\n",
      "7537. VKTX\n",
      "7538. VLGEA\n",
      "7539. VLO\n",
      "7540. VLRS\n",
      "7541. VLT\n",
      "7542. VLU\n",
      "7543. VLUE\n",
      "7544. VLY\n",
      "7545. VLYPO\n",
      "7546. VLYPP\n",
      "7547. VMBS\n",
      "7548. VMC\n",
      "7549. VMD\n",
      "7550. VMI\n",
      "7551. VMM\n"
     ]
    },
    {
     "name": "stderr",
     "output_type": "stream",
     "text": [
      "VMM: No timezone found, symbol may be delisted\n"
     ]
    },
    {
     "name": "stdout",
     "output_type": "stream",
     "text": [
      "7552. VMO\n",
      "7553. VMOT\n",
      "7554. VMW\n",
      "7555. VNCE\n",
      "7556. VNDA\n",
      "7557. VNE\n"
     ]
    },
    {
     "name": "stderr",
     "output_type": "stream",
     "text": [
      "VNE: No timezone found, symbol may be delisted\n"
     ]
    },
    {
     "name": "stdout",
     "output_type": "stream",
     "text": [
      "7558. VNET\n",
      "7559. VNLA\n",
      "7560. VNM\n",
      "7561. VNO\n",
      "7562. VNOM\n",
      "7563. VNQ\n",
      "7564. VNQI\n",
      "7565. VNRX\n",
      "7566. VNTR\n"
     ]
    },
    {
     "name": "stderr",
     "output_type": "stream",
     "text": [
      "VNTR: No timezone found, symbol may be delisted\n"
     ]
    },
    {
     "name": "stdout",
     "output_type": "stream",
     "text": [
      "7567. VO\n",
      "7568. VOC\n",
      "7569. VOD\n",
      "7570. VOE\n",
      "7571. VOLT\n"
     ]
    },
    {
     "name": "stderr",
     "output_type": "stream",
     "text": [
      "VOLT: No timezone found, symbol may be delisted\n"
     ]
    },
    {
     "name": "stdout",
     "output_type": "stream",
     "text": [
      "7572. VONE\n",
      "7573. VONG\n",
      "7574. VONV\n",
      "7575. VOO\n",
      "7576. VOOG\n",
      "7577. VOOV\n",
      "7578. VOT\n",
      "7579. VOX\n",
      "7580. VOXX\n",
      "7581. VOYA\n",
      "7582. VPC\n",
      "7583. VPG\n",
      "7584. VPL\n",
      "7585. VPU\n",
      "7586. VPV\n",
      "7587. VQT\n"
     ]
    },
    {
     "name": "stderr",
     "output_type": "stream",
     "text": [
      "VQT: No price data found, symbol may be delisted (1d 2023-01-01 -> 2024-01-01)\n"
     ]
    },
    {
     "name": "stdout",
     "output_type": "stream",
     "text": [
      "7588. VRA\n",
      "7589. VRAI\n",
      "7590. VRAY\n"
     ]
    },
    {
     "name": "stderr",
     "output_type": "stream",
     "text": [
      "VRAY: No timezone found, symbol may be delisted\n",
      "404 Client Error: Not Found for url: https://query2.finance.yahoo.com/v10/finance/quoteSummary/VRAY?modules=financialData%2CquoteType%2CdefaultKeyStatistics%2CassetProfile%2CsummaryDetail&corsDomain=finance.yahoo.com&formatted=false&symbol=VRAY&crumb=KUwSGfMjWIw\n"
     ]
    },
    {
     "name": "stdout",
     "output_type": "stream",
     "text": [
      "7591. VRCA\n",
      "7592. VREX\n",
      "7593. VRIG\n",
      "7594. VRML\n"
     ]
    },
    {
     "name": "stderr",
     "output_type": "stream",
     "text": [
      "VRML: No timezone found, symbol may be delisted\n"
     ]
    },
    {
     "name": "stdout",
     "output_type": "stream",
     "text": [
      "7595. VRNA\n",
      "7596. VRNS\n",
      "7597. VRNT\n",
      "7598. VRP\n",
      "7599. VRRM\n",
      "7600. VRS\n"
     ]
    },
    {
     "name": "stderr",
     "output_type": "stream",
     "text": [
      "VRS: No timezone found, symbol may be delisted\n"
     ]
    },
    {
     "name": "stdout",
     "output_type": "stream",
     "text": [
      "7601. VRSK\n",
      "7602. VRSN\n",
      "7603. VRT\n",
      "7604. VRTS\n",
      "7605. VRTU\n"
     ]
    },
    {
     "name": "stderr",
     "output_type": "stream",
     "text": [
      "VRTU: No timezone found, symbol may be delisted\n"
     ]
    },
    {
     "name": "stdout",
     "output_type": "stream",
     "text": [
      "7606. VRTV\n",
      "7607. VRTX\n",
      "7608. VSAT\n",
      "7609. VSDA\n",
      "7610. VSEC\n",
      "7611. VSGX\n",
      "7612. VSH\n",
      "7613. VSL\n"
     ]
    },
    {
     "name": "stderr",
     "output_type": "stream",
     "text": [
      "VSL: No price data found, symbol may be delisted (1d 2023-01-01 -> 2024-01-01)\n"
     ]
    },
    {
     "name": "stdout",
     "output_type": "stream",
     "text": [
      "7614. VSLR\n"
     ]
    },
    {
     "name": "stderr",
     "output_type": "stream",
     "text": [
      "VSLR: No timezone found, symbol may be delisted\n"
     ]
    },
    {
     "name": "stdout",
     "output_type": "stream",
     "text": [
      "7615. VSMV\n",
      "7616. VSS\n",
      "7617. VST\n",
      "7618. VSTM\n",
      "7619. VSTO\n",
      "7620. VT\n",
      "7621. VTA\n"
     ]
    },
    {
     "name": "stderr",
     "output_type": "stream",
     "text": [
      "VTA: No timezone found, symbol may be delisted\n"
     ]
    },
    {
     "name": "stdout",
     "output_type": "stream",
     "text": [
      "7622. VTC\n",
      "7623. VTEB\n",
      "7624. VTGN\n",
      "7625. VTHR\n",
      "7626. VTI\n",
      "7627. VTIP\n",
      "7628. VTIQ\n"
     ]
    },
    {
     "name": "stderr",
     "output_type": "stream",
     "text": [
      "VTIQ: No timezone found, symbol may be delisted\n"
     ]
    },
    {
     "name": "stdout",
     "output_type": "stream",
     "text": [
      "7629. VTIQU\n"
     ]
    },
    {
     "name": "stderr",
     "output_type": "stream",
     "text": [
      "VTIQU: No timezone found, symbol may be delisted\n"
     ]
    },
    {
     "name": "stdout",
     "output_type": "stream",
     "text": [
      "7630. VTIQW\n"
     ]
    },
    {
     "name": "stderr",
     "output_type": "stream",
     "text": [
      "VTIQW: No timezone found, symbol may be delisted\n"
     ]
    },
    {
     "name": "stdout",
     "output_type": "stream",
     "text": [
      "7631. VTN\n",
      "7632. VTNR\n",
      "7633. VTR\n",
      "7634. VTSI\n",
      "7635. VTV\n",
      "7636. VTVT\n",
      "7637. VTWG\n",
      "7638. VTWO\n",
      "7639. VTWV\n",
      "7640. VUG\n",
      "7641. VUSE\n",
      "7642. VUZI\n",
      "7643. VV\n",
      "7644. VVI\n",
      "7645. VVNT\n"
     ]
    },
    {
     "name": "stderr",
     "output_type": "stream",
     "text": [
      "VVNT: No timezone found, symbol may be delisted\n"
     ]
    },
    {
     "name": "stdout",
     "output_type": "stream",
     "text": [
      "7646. VVPR\n",
      "7647. VVR\n",
      "7648. VVUS\n"
     ]
    },
    {
     "name": "stderr",
     "output_type": "stream",
     "text": [
      "VVUS: No timezone found, symbol may be delisted\n"
     ]
    },
    {
     "name": "stdout",
     "output_type": "stream",
     "text": [
      "7649. VVV\n",
      "7650. VWO\n",
      "7651. VWOB\n",
      "7652. VXF\n",
      "7653. VXRT\n",
      "7654. VXUS\n",
      "7655. VXX\n",
      "7656. VXZ\n",
      "7657. VYGR\n",
      "7658. VYM\n",
      "7659. VYMI\n",
      "7660. VZ\n",
      "7661. W\n",
      "7662. WAB\n",
      "7663. WABC\n",
      "7664. WAFD\n",
      "7665. WAFU\n",
      "7666. WAL\n",
      "7667. WALA\n"
     ]
    },
    {
     "name": "stderr",
     "output_type": "stream",
     "text": [
      "WALA: No price data found, symbol may be delisted (1d 2023-01-01 -> 2024-01-01)\n"
     ]
    },
    {
     "name": "stdout",
     "output_type": "stream",
     "text": [
      "7668. WANT\n",
      "7669. WASH\n",
      "7670. WAT\n",
      "7671. WATT\n",
      "7672. WB\n",
      "7673. WBA\n",
      "7674. WBAI\n"
     ]
    },
    {
     "name": "stderr",
     "output_type": "stream",
     "text": [
      "WBAI: No timezone found, symbol may be delisted\n"
     ]
    },
    {
     "name": "stdout",
     "output_type": "stream",
     "text": [
      "7675. WBC\n"
     ]
    },
    {
     "name": "stderr",
     "output_type": "stream",
     "text": [
      "WBC: No timezone found, symbol may be delisted\n"
     ]
    },
    {
     "name": "stdout",
     "output_type": "stream",
     "text": [
      "7676. WBIE\n"
     ]
    },
    {
     "name": "stderr",
     "output_type": "stream",
     "text": [
      "WBIE: No price data found, symbol may be delisted (1d 2023-01-01 -> 2024-01-01)\n"
     ]
    },
    {
     "name": "stdout",
     "output_type": "stream",
     "text": [
      "7677. WBIF\n",
      "7678. WBIG\n",
      "7679. WBII\n"
     ]
    },
    {
     "name": "stderr",
     "output_type": "stream",
     "text": [
      "WBII: No price data found, symbol may be delisted (1d 2023-01-01 -> 2024-01-01)\n"
     ]
    },
    {
     "name": "stdout",
     "output_type": "stream",
     "text": [
      "7680. WBIL\n",
      "7681. WBIN\n"
     ]
    },
    {
     "name": "stderr",
     "output_type": "stream",
     "text": [
      "WBIN: No price data found, symbol may be delisted (1d 2023-01-01 -> 2024-01-01)\n"
     ]
    },
    {
     "name": "stdout",
     "output_type": "stream",
     "text": [
      "7682. WBIT\n"
     ]
    },
    {
     "name": "stderr",
     "output_type": "stream",
     "text": [
      "WBIT: No price data found, symbol may be delisted (1d 2023-01-01 -> 2024-01-01)\n"
     ]
    },
    {
     "name": "stdout",
     "output_type": "stream",
     "text": [
      "7683. WBIY\n",
      "7684. WBK\n"
     ]
    },
    {
     "name": "stderr",
     "output_type": "stream",
     "text": [
      "WBK: No timezone found, symbol may be delisted\n"
     ]
    },
    {
     "name": "stdout",
     "output_type": "stream",
     "text": [
      "7685. WBND\n",
      "7686. WBS\n",
      "7687. WBT\n"
     ]
    },
    {
     "name": "stderr",
     "output_type": "stream",
     "text": [
      "WBT: No timezone found, symbol may be delisted\n"
     ]
    },
    {
     "name": "stdout",
     "output_type": "stream",
     "text": [
      "7688. WCC\n",
      "7689. WCHN\n"
     ]
    },
    {
     "name": "stderr",
     "output_type": "stream",
     "text": [
      "WCHN: No price data found, symbol may be delisted (1d 2023-01-01 -> 2024-01-01)\n"
     ]
    },
    {
     "name": "stdout",
     "output_type": "stream",
     "text": [
      "7690. WCLD\n",
      "7691. WCN\n",
      "7692. WD\n",
      "7693. WDAY\n",
      "7694. WDC\n",
      "7695. WDFC\n",
      "7696. WDIV\n",
      "7697. WDR\n"
     ]
    },
    {
     "name": "stderr",
     "output_type": "stream",
     "text": [
      "WDR: No timezone found, symbol may be delisted\n"
     ]
    },
    {
     "name": "stdout",
     "output_type": "stream",
     "text": [
      "7698. WEA\n",
      "7699. WEAT\n",
      "7700. WEBK\n"
     ]
    },
    {
     "name": "stderr",
     "output_type": "stream",
     "text": [
      "WEBK: No timezone found, symbol may be delisted\n"
     ]
    },
    {
     "name": "stdout",
     "output_type": "stream",
     "text": [
      "7701. WEBL\n",
      "7702. WEBS\n",
      "7703. WEC\n",
      "7704. WEI\n"
     ]
    },
    {
     "name": "stderr",
     "output_type": "stream",
     "text": [
      "WEI: No timezone found, symbol may be delisted\n"
     ]
    },
    {
     "name": "stdout",
     "output_type": "stream",
     "text": [
      "7705. WELL\n",
      "7706. WEN\n",
      "7707. WERN\n",
      "7708. WES\n",
      "7709. WETF\n"
     ]
    },
    {
     "name": "stderr",
     "output_type": "stream",
     "text": [
      "WETF: No timezone found, symbol may be delisted\n"
     ]
    },
    {
     "name": "stdout",
     "output_type": "stream",
     "text": [
      "7710. WEX\n",
      "7711. WEYS\n",
      "7712. WF\n",
      "7713. WFC\n",
      "7714. WFHY\n",
      "7715. WFIG\n",
      "7716. WGO\n",
      "7717. WH\n",
      "7718. WHD\n",
      "7719. WHF\n",
      "7720. WHFBZ\n"
     ]
    },
    {
     "name": "stderr",
     "output_type": "stream",
     "text": [
      "WHFBZ: No price data found, symbol may be delisted (1d 2023-01-01 -> 2024-01-01)\n"
     ]
    },
    {
     "name": "stdout",
     "output_type": "stream",
     "text": [
      "7721. WHG\n",
      "7722. WHLM\n",
      "7723. WHLR\n",
      "7724. WHLRD\n",
      "7725. WHLRP\n",
      "7726. WHR\n",
      "7727. WIA\n",
      "7728. WIFI\n"
     ]
    },
    {
     "name": "stderr",
     "output_type": "stream",
     "text": [
      "WIFI: No timezone found, symbol may be delisted\n"
     ]
    },
    {
     "name": "stdout",
     "output_type": "stream",
     "text": [
      "7729. WIL\n",
      "7730. WILC\n",
      "7731. WINA\n",
      "7732. WINC\n",
      "7733. WING\n",
      "7734. WINS\n"
     ]
    },
    {
     "name": "stderr",
     "output_type": "stream",
     "text": [
      "WINS: No timezone found, symbol may be delisted\n"
     ]
    },
    {
     "name": "stdout",
     "output_type": "stream",
     "text": [
      "7735. WIP\n",
      "7736. WIRE\n",
      "7737. WISA\n",
      "7738. WIT\n",
      "7739. WIW\n",
      "7740. WIX\n",
      "7741. WIZ\n",
      "7742. WK\n",
      "7743. WKEY\n",
      "7744. WKHS\n",
      "7745. WLDN\n",
      "7746. WLDR\n",
      "7747. WLFC\n",
      "7748. WLK\n",
      "7749. WLKP\n",
      "7750. WLTW\n"
     ]
    },
    {
     "name": "stderr",
     "output_type": "stream",
     "text": [
      "WLTW: No timezone found, symbol may be delisted\n"
     ]
    },
    {
     "name": "stdout",
     "output_type": "stream",
     "text": [
      "7751. WM\n",
      "7752. WMB\n",
      "7753. WMC\n",
      "7754. WMGI\n"
     ]
    },
    {
     "name": "stderr",
     "output_type": "stream",
     "text": [
      "WMGI: No timezone found, symbol may be delisted\n"
     ]
    },
    {
     "name": "stdout",
     "output_type": "stream",
     "text": [
      "7755. WMK\n",
      "7756. WMS\n",
      "7757. WMT\n",
      "7758. WNC\n",
      "7759. WNEB\n",
      "7760. WNS\n",
      "7761. WOMN\n",
      "7762. WOOD\n",
      "7763. WOR\n",
      "7764. WORK\n"
     ]
    },
    {
     "name": "stderr",
     "output_type": "stream",
     "text": [
      "WORK: No timezone found, symbol may be delisted\n"
     ]
    },
    {
     "name": "stdout",
     "output_type": "stream",
     "text": [
      "7765. WORX\n",
      "7766. WOW\n",
      "7767. WPC\n",
      "7768. WPG\n"
     ]
    },
    {
     "name": "stderr",
     "output_type": "stream",
     "text": [
      "WPG: No timezone found, symbol may be delisted\n"
     ]
    },
    {
     "name": "stdout",
     "output_type": "stream",
     "text": [
      "7769. WPM\n",
      "7770. WPP\n",
      "7771. WPRT\n",
      "7772. WPS\n",
      "7773. WPX\n"
     ]
    },
    {
     "name": "stderr",
     "output_type": "stream",
     "text": [
      "WPX: No timezone found, symbol may be delisted\n"
     ]
    },
    {
     "name": "stdout",
     "output_type": "stream",
     "text": [
      "7774. WRB\n",
      "7775. WRE\n"
     ]
    },
    {
     "name": "stderr",
     "output_type": "stream",
     "text": [
      "WRE: No timezone found, symbol may be delisted\n"
     ]
    },
    {
     "name": "stdout",
     "output_type": "stream",
     "text": [
      "7776. WRI\n"
     ]
    },
    {
     "name": "stderr",
     "output_type": "stream",
     "text": [
      "WRI: No timezone found, symbol may be delisted\n"
     ]
    },
    {
     "name": "stdout",
     "output_type": "stream",
     "text": [
      "7777. WRK\n",
      "7778. WRLD\n",
      "7779. WRLS\n"
     ]
    },
    {
     "name": "stderr",
     "output_type": "stream",
     "text": [
      "WRLS: No timezone found, symbol may be delisted\n"
     ]
    },
    {
     "name": "stdout",
     "output_type": "stream",
     "text": [
      "7780. WRLSU\n"
     ]
    },
    {
     "name": "stderr",
     "output_type": "stream",
     "text": [
      "WRLSU: No timezone found, symbol may be delisted\n"
     ]
    },
    {
     "name": "stdout",
     "output_type": "stream",
     "text": [
      "7781. WRN\n",
      "7782. WRTC\n"
     ]
    },
    {
     "name": "stderr",
     "output_type": "stream",
     "text": [
      "WRTC: No timezone found, symbol may be delisted\n"
     ]
    },
    {
     "name": "stdout",
     "output_type": "stream",
     "text": [
      "7783. WSBC\n",
      "7784. WSBF\n",
      "7785. WSC\n",
      "7786. WSFS\n",
      "7787. WSG\n"
     ]
    },
    {
     "name": "stderr",
     "output_type": "stream",
     "text": [
      "WSG: No timezone found, symbol may be delisted\n"
     ]
    },
    {
     "name": "stdout",
     "output_type": "stream",
     "text": [
      "7788. WSM\n",
      "7789. WSO\n",
      "7790. WSR\n",
      "7791. WST\n",
      "7792. WSTG\n"
     ]
    },
    {
     "name": "stderr",
     "output_type": "stream",
     "text": [
      "WSTG: No timezone found, symbol may be delisted\n"
     ]
    },
    {
     "name": "stdout",
     "output_type": "stream",
     "text": [
      "7793. WSTL\n",
      "7794. WTBA\n",
      "7795. WTER\n",
      "7796. WTFC\n",
      "7797. WTFCM\n",
      "7798. WTI\n",
      "7799. WTIU\n",
      "7800. WTM\n",
      "7801. WTMF\n",
      "7802. WTRE\n",
      "7803. WTREP\n"
     ]
    },
    {
     "name": "stderr",
     "output_type": "stream",
     "text": [
      "WTREP: No timezone found, symbol may be delisted\n"
     ]
    },
    {
     "name": "stdout",
     "output_type": "stream",
     "text": [
      "7804. WTRG\n",
      "7805. WTRH\n"
     ]
    },
    {
     "name": "stderr",
     "output_type": "stream",
     "text": [
      "WTRH: No timezone found, symbol may be delisted\n"
     ]
    },
    {
     "name": "stdout",
     "output_type": "stream",
     "text": [
      "7806. WTRU\n"
     ]
    },
    {
     "name": "stderr",
     "output_type": "stream",
     "text": [
      "WTRU: No timezone found, symbol may be delisted\n"
     ]
    },
    {
     "name": "stdout",
     "output_type": "stream",
     "text": [
      "7807. WTS\n",
      "7808. WTT\n"
     ]
    },
    {
     "name": "stderr",
     "output_type": "stream",
     "text": [
      "WTT: No timezone found, symbol may be delisted\n",
      "404 Client Error: Not Found for url: https://query2.finance.yahoo.com/v10/finance/quoteSummary/WTT?modules=financialData%2CquoteType%2CdefaultKeyStatistics%2CassetProfile%2CsummaryDetail&corsDomain=finance.yahoo.com&formatted=false&symbol=WTT&crumb=KUwSGfMjWIw\n"
     ]
    },
    {
     "name": "stdout",
     "output_type": "stream",
     "text": [
      "7809. WTTR\n",
      "7810. WU\n",
      "7811. WUBA\n"
     ]
    },
    {
     "name": "stderr",
     "output_type": "stream",
     "text": [
      "WUBA: No timezone found, symbol may be delisted\n"
     ]
    },
    {
     "name": "stdout",
     "output_type": "stream",
     "text": [
      "7812. WVE\n",
      "7813. WVFC\n",
      "7814. WVVI\n",
      "7815. WVVIP\n",
      "7816. WW\n",
      "7817. WWD\n",
      "7818. WWE\n"
     ]
    },
    {
     "name": "stderr",
     "output_type": "stream",
     "text": [
      "WWE: No timezone found, symbol may be delisted\n",
      "404 Client Error: Not Found for url: https://query2.finance.yahoo.com/v10/finance/quoteSummary/WWE?modules=financialData%2CquoteType%2CdefaultKeyStatistics%2CassetProfile%2CsummaryDetail&corsDomain=finance.yahoo.com&formatted=false&symbol=WWE&crumb=KUwSGfMjWIw\n"
     ]
    },
    {
     "name": "stdout",
     "output_type": "stream",
     "text": [
      "7819. WWJD\n",
      "7820. WWR\n",
      "7821. WWW\n",
      "7822. WY\n",
      "7823. WYND\n"
     ]
    },
    {
     "name": "stderr",
     "output_type": "stream",
     "text": [
      "WYND: No timezone found, symbol may be delisted\n"
     ]
    },
    {
     "name": "stdout",
     "output_type": "stream",
     "text": [
      "7824. WYNN\n",
      "7825. WYY\n",
      "7826. X\n",
      "7827. XAIR\n",
      "7828. XAN\n"
     ]
    },
    {
     "name": "stderr",
     "output_type": "stream",
     "text": [
      "XAN: No timezone found, symbol may be delisted\n"
     ]
    },
    {
     "name": "stdout",
     "output_type": "stream",
     "text": [
      "7829. XAR\n",
      "7830. XBI\n",
      "7831. XBIO\n",
      "7832. XBIOW\n",
      "7833. XBIT\n",
      "7834. XBUY\n",
      "7835. XCEM\n",
      "7836. XCOM\n"
     ]
    },
    {
     "name": "stderr",
     "output_type": "stream",
     "text": [
      "XCOM: No price data found, symbol may be delisted (1d 2023-01-01 -> 2024-01-01)\n"
     ]
    },
    {
     "name": "stdout",
     "output_type": "stream",
     "text": [
      "7837. XCUR\n",
      "7838. XDIV\n"
     ]
    },
    {
     "name": "stderr",
     "output_type": "stream",
     "text": [
      "XDIV: No price data found, symbol may be delisted (1d 2023-01-01 -> 2024-01-01)\n"
     ]
    },
    {
     "name": "stdout",
     "output_type": "stream",
     "text": [
      "7839. XEC\n"
     ]
    },
    {
     "name": "stderr",
     "output_type": "stream",
     "text": [
      "XEC: No timezone found, symbol may be delisted\n"
     ]
    },
    {
     "name": "stdout",
     "output_type": "stream",
     "text": [
      "7840. XEL\n",
      "7841. XELA\n",
      "7842. XELB\n",
      "7843. XENE\n",
      "7844. XENT\n"
     ]
    },
    {
     "name": "stderr",
     "output_type": "stream",
     "text": [
      "XENT: No timezone found, symbol may be delisted\n"
     ]
    },
    {
     "name": "stdout",
     "output_type": "stream",
     "text": [
      "7845. XERS\n",
      "7846. XES\n",
      "7847. XFLT\n",
      "7848. XFOR\n",
      "7849. XGN\n",
      "7850. XHB\n",
      "7851. XHE\n",
      "7852. XHR\n",
      "7853. XHS\n",
      "7854. XIN\n",
      "7855. XITK\n",
      "7856. XLB\n",
      "7857. XLC\n",
      "7858. XLE\n",
      "7859. XLF\n",
      "7860. XLG\n",
      "7861. XLI\n",
      "7862. XLK\n",
      "7863. XLNX\n"
     ]
    },
    {
     "name": "stderr",
     "output_type": "stream",
     "text": [
      "XLNX: No timezone found, symbol may be delisted\n"
     ]
    },
    {
     "name": "stdout",
     "output_type": "stream",
     "text": [
      "7864. XLP\n",
      "7865. XLRE\n",
      "7866. XLRN\n"
     ]
    },
    {
     "name": "stderr",
     "output_type": "stream",
     "text": [
      "XLRN: No timezone found, symbol may be delisted\n"
     ]
    },
    {
     "name": "stdout",
     "output_type": "stream",
     "text": [
      "7867. XLSR\n",
      "7868. XLU\n",
      "7869. XLV\n",
      "7870. XLY\n",
      "7871. XME\n",
      "7872. XMHQ\n",
      "7873. XMLV\n",
      "7874. XMMO\n",
      "7875. XMPT\n",
      "7876. XMVM\n",
      "7877. XNCR\n",
      "7878. XNET\n",
      "7879. XNTK\n",
      "7880. XOG\n"
     ]
    },
    {
     "name": "stderr",
     "output_type": "stream",
     "text": [
      "XOG: No timezone found, symbol may be delisted\n"
     ]
    },
    {
     "name": "stdout",
     "output_type": "stream",
     "text": [
      "7881. XOM\n",
      "7882. XOMA\n",
      "7883. XONE\n",
      "7884. XOP\n",
      "7885. XOUT\n",
      "7886. XP\n",
      "7887. XPEL\n",
      "7888. XPER\n",
      "7889. XPH\n",
      "7890. XPL\n",
      "7891. XPO\n",
      "7892. XPP\n",
      "7893. XRAY\n",
      "7894. XRF\n"
     ]
    },
    {
     "name": "stderr",
     "output_type": "stream",
     "text": [
      "XRF: No timezone found, symbol may be delisted\n"
     ]
    },
    {
     "name": "stdout",
     "output_type": "stream",
     "text": [
      "7895. XRLV\n",
      "7896. XRT\n",
      "7897. XRX\n",
      "7898. XSD\n",
      "7899. XSHD\n",
      "7900. XSHQ\n",
      "7901. XSLV\n",
      "7902. XSMO\n",
      "7903. XSOE\n",
      "7904. XSPA\n"
     ]
    },
    {
     "name": "stderr",
     "output_type": "stream",
     "text": [
      "XSPA: No timezone found, symbol may be delisted\n"
     ]
    },
    {
     "name": "stdout",
     "output_type": "stream",
     "text": [
      "7905. XSVM\n",
      "7906. XSW\n",
      "7907. XT\n",
      "7908. XTH\n"
     ]
    },
    {
     "name": "stderr",
     "output_type": "stream",
     "text": [
      "XTH: No price data found, symbol may be delisted (1d 2023-01-01 -> 2024-01-01)\n"
     ]
    },
    {
     "name": "stdout",
     "output_type": "stream",
     "text": [
      "7909. XTL\n",
      "7910. XTLB\n",
      "7911. XTN\n",
      "7912. XTNT\n",
      "7913. XVZ\n"
     ]
    },
    {
     "name": "stderr",
     "output_type": "stream",
     "text": [
      "XVZ: No price data found, symbol may be delisted (1d 2023-01-01 -> 2024-01-01)\n"
     ]
    },
    {
     "name": "stdout",
     "output_type": "stream",
     "text": [
      "7914. XWEB\n",
      "7915. XXII\n",
      "7916. XYF\n",
      "7917. XYL\n",
      "7918. Y\n"
     ]
    },
    {
     "name": "stderr",
     "output_type": "stream",
     "text": [
      "Y: No timezone found, symbol may be delisted\n"
     ]
    },
    {
     "name": "stdout",
     "output_type": "stream",
     "text": [
      "7919. YANG\n",
      "7920. YCBD\n",
      "7921. YCL\n",
      "7922. YCOM\n"
     ]
    },
    {
     "name": "stderr",
     "output_type": "stream",
     "text": [
      "YCOM: No price data found, symbol may be delisted (1d 2023-01-01 -> 2024-01-01)\n"
     ]
    },
    {
     "name": "stdout",
     "output_type": "stream",
     "text": [
      "7923. YCS\n",
      "7924. YELP\n",
      "7925. YETI\n",
      "7926. YEXT\n",
      "7927. YGRN\n"
     ]
    },
    {
     "name": "stderr",
     "output_type": "stream",
     "text": [
      "YGRN: No price data found, symbol may be delisted (1d 2023-01-01 -> 2024-01-01)\n"
     ]
    },
    {
     "name": "stdout",
     "output_type": "stream",
     "text": [
      "7928. YGYI\n",
      "7929. YGYIP\n"
     ]
    },
    {
     "name": "stderr",
     "output_type": "stream",
     "text": [
      "YGYIP: No price data found, symbol may be delisted (1d 2023-01-01 -> 2024-01-01)\n"
     ]
    },
    {
     "name": "stdout",
     "output_type": "stream",
     "text": [
      "7930. YI\n",
      "7931. YIN\n"
     ]
    },
    {
     "name": "stderr",
     "output_type": "stream",
     "text": [
      "YIN: No timezone found, symbol may be delisted\n"
     ]
    },
    {
     "name": "stdout",
     "output_type": "stream",
     "text": [
      "7932. YINN\n",
      "7933. YJ\n",
      "7934. YLCO\n",
      "7935. YLD\n",
      "7936. YLDE\n",
      "7937. YMAB\n",
      "7938. YNDX\n",
      "7939. YOLO\n",
      "7940. YORW\n",
      "7941. YPF\n",
      "7942. YRCW\n"
     ]
    },
    {
     "name": "stderr",
     "output_type": "stream",
     "text": [
      "YRCW: No timezone found, symbol may be delisted\n"
     ]
    },
    {
     "name": "stdout",
     "output_type": "stream",
     "text": [
      "7943. YRD\n",
      "7944. YTEN\n",
      "7945. YTRA\n",
      "7946. YUM\n",
      "7947. YUMA\n"
     ]
    },
    {
     "name": "stderr",
     "output_type": "stream",
     "text": [
      "YUMA: No timezone found, symbol may be delisted\n"
     ]
    },
    {
     "name": "stdout",
     "output_type": "stream",
     "text": [
      "7948. YUMC\n",
      "7949. YVR\n"
     ]
    },
    {
     "name": "stderr",
     "output_type": "stream",
     "text": [
      "YVR: No timezone found, symbol may be delisted\n",
      "404 Client Error: Not Found for url: https://query2.finance.yahoo.com/v10/finance/quoteSummary/YVR?modules=financialData%2CquoteType%2CdefaultKeyStatistics%2CassetProfile%2CsummaryDetail&corsDomain=finance.yahoo.com&formatted=false&symbol=YVR&crumb=KUwSGfMjWIw\n"
     ]
    },
    {
     "name": "stdout",
     "output_type": "stream",
     "text": [
      "7950. YXI\n",
      "7951. YY\n",
      "7952. YYY\n",
      "7953. Z\n",
      "7954. ZAGG\n"
     ]
    },
    {
     "name": "stderr",
     "output_type": "stream",
     "text": [
      "ZAGG: No timezone found, symbol may be delisted\n"
     ]
    },
    {
     "name": "stdout",
     "output_type": "stream",
     "text": [
      "7955. ZBH\n",
      "7956. ZBRA\n",
      "7957. ZCAN\n"
     ]
    },
    {
     "name": "stderr",
     "output_type": "stream",
     "text": [
      "ZCAN: No price data found, symbol may be delisted (1d 2023-01-01 -> 2024-01-01)\n"
     ]
    },
    {
     "name": "stdout",
     "output_type": "stream",
     "text": [
      "7958. ZCMD\n",
      "7959. ZDEU\n"
     ]
    },
    {
     "name": "stderr",
     "output_type": "stream",
     "text": [
      "ZDEU: No price data found, symbol may be delisted (1d 2023-01-01 -> 2024-01-01)\n"
     ]
    },
    {
     "name": "stdout",
     "output_type": "stream",
     "text": [
      "7960. ZDGE\n",
      "7961. ZEAL\n"
     ]
    },
    {
     "name": "stderr",
     "output_type": "stream",
     "text": [
      "ZEAL: No timezone found, symbol may be delisted\n"
     ]
    },
    {
     "name": "stdout",
     "output_type": "stream",
     "text": [
      "7962. ZEN\n"
     ]
    },
    {
     "name": "stderr",
     "output_type": "stream",
     "text": [
      "ZEN: No timezone found, symbol may be delisted\n"
     ]
    },
    {
     "name": "stdout",
     "output_type": "stream",
     "text": [
      "7963. ZEUS\n",
      "7964. ZFGN\n"
     ]
    },
    {
     "name": "stderr",
     "output_type": "stream",
     "text": [
      "ZFGN: No timezone found, symbol may be delisted\n"
     ]
    },
    {
     "name": "stdout",
     "output_type": "stream",
     "text": [
      "7965. ZG\n",
      "7966. ZGBR\n"
     ]
    },
    {
     "name": "stderr",
     "output_type": "stream",
     "text": [
      "ZGBR: No price data found, symbol may be delisted (1d 2023-01-01 -> 2024-01-01)\n"
     ]
    },
    {
     "name": "stdout",
     "output_type": "stream",
     "text": [
      "7967. ZGNX\n"
     ]
    },
    {
     "name": "stderr",
     "output_type": "stream",
     "text": [
      "ZGNX: No timezone found, symbol may be delisted\n"
     ]
    },
    {
     "name": "stdout",
     "output_type": "stream",
     "text": [
      "7968. ZGYHU\n"
     ]
    },
    {
     "name": "stderr",
     "output_type": "stream",
     "text": [
      "ZGYHU: No timezone found, symbol may be delisted\n"
     ]
    },
    {
     "name": "stdout",
     "output_type": "stream",
     "text": [
      "7969. ZHOK\n"
     ]
    },
    {
     "name": "stderr",
     "output_type": "stream",
     "text": [
      "ZHOK: No price data found, symbol may be delisted (1d 2023-01-01 -> 2024-01-01)\n"
     ]
    },
    {
     "name": "stdout",
     "output_type": "stream",
     "text": [
      "7970. ZIG\n",
      "7971. ZION\n",
      "7972. ZIONL\n",
      "7973. ZIONN\n"
     ]
    },
    {
     "name": "stderr",
     "output_type": "stream",
     "text": [
      "ZIONN: No timezone found, symbol may be delisted\n"
     ]
    },
    {
     "name": "stdout",
     "output_type": "stream",
     "text": [
      "7974. ZIONO\n",
      "7975. ZIONP\n",
      "7976. ZIONW\n"
     ]
    },
    {
     "name": "stderr",
     "output_type": "stream",
     "text": [
      "ZIONW: No timezone found, symbol may be delisted\n"
     ]
    },
    {
     "name": "stdout",
     "output_type": "stream",
     "text": [
      "7977. ZIOP\n"
     ]
    },
    {
     "name": "stderr",
     "output_type": "stream",
     "text": [
      "ZIOP: No timezone found, symbol may be delisted\n"
     ]
    },
    {
     "name": "stdout",
     "output_type": "stream",
     "text": [
      "7978. ZIV\n",
      "7979. ZIXI\n"
     ]
    },
    {
     "name": "stderr",
     "output_type": "stream",
     "text": [
      "ZIXI: No timezone found, symbol may be delisted\n"
     ]
    },
    {
     "name": "stdout",
     "output_type": "stream",
     "text": [
      "7980. ZJPN\n"
     ]
    },
    {
     "name": "stderr",
     "output_type": "stream",
     "text": [
      "ZJPN: No price data found, symbol may be delisted (1d 2023-01-01 -> 2024-01-01)\n"
     ]
    },
    {
     "name": "stdout",
     "output_type": "stream",
     "text": [
      "7981. ZKIN\n",
      "7982. ZLAB\n",
      "7983. ZM\n",
      "7984. ZMLP\n"
     ]
    },
    {
     "name": "stderr",
     "output_type": "stream",
     "text": [
      "ZMLP: No price data found, symbol may be delisted (1d 2023-01-01 -> 2024-01-01)\n"
     ]
    },
    {
     "name": "stdout",
     "output_type": "stream",
     "text": [
      "7985. ZN\n"
     ]
    },
    {
     "name": "stderr",
     "output_type": "stream",
     "text": [
      "ZN: No timezone found, symbol may be delisted\n"
     ]
    },
    {
     "name": "stdout",
     "output_type": "stream",
     "text": [
      "7986. ZNGA\n"
     ]
    },
    {
     "name": "stderr",
     "output_type": "stream",
     "text": [
      "ZNGA: No timezone found, symbol may be delisted\n"
     ]
    },
    {
     "name": "stdout",
     "output_type": "stream",
     "text": [
      "7987. ZNH\n"
     ]
    },
    {
     "name": "stderr",
     "output_type": "stream",
     "text": [
      "ZNH: No timezone found, symbol may be delisted\n"
     ]
    },
    {
     "name": "stdout",
     "output_type": "stream",
     "text": [
      "7988. ZOM\n",
      "7989. ZROZ\n",
      "7990. ZS\n",
      "7991. ZSL\n",
      "7992. ZTO\n",
      "7993. ZTR\n",
      "7994. ZTS\n",
      "7995. ZUMZ\n",
      "7996. ZUO\n",
      "7997. ZVO\n"
     ]
    },
    {
     "name": "stderr",
     "output_type": "stream",
     "text": [
      "ZVO: No timezone found, symbol may be delisted\n"
     ]
    },
    {
     "name": "stdout",
     "output_type": "stream",
     "text": [
      "7998. ZYME\n",
      "7999. ZYNE\n"
     ]
    },
    {
     "name": "stderr",
     "output_type": "stream",
     "text": [
      "ZYNE: No timezone found, symbol may be delisted\n",
      "404 Client Error: Not Found for url: https://query2.finance.yahoo.com/v10/finance/quoteSummary/ZYNE?modules=financialData%2CquoteType%2CdefaultKeyStatistics%2CassetProfile%2CsummaryDetail&corsDomain=finance.yahoo.com&formatted=false&symbol=ZYNE&crumb=KUwSGfMjWIw\n"
     ]
    },
    {
     "name": "stdout",
     "output_type": "stream",
     "text": [
      "8000. ZYXI\n"
     ]
    }
   ],
   "source": [
    "def propogate(company):\n",
    "    balance=yfinance.Ticker(company).balance_sheet.T\n",
    "    income=yfinance.Ticker(company).income_stmt.T\n",
    "    price=yfinance.Ticker(company).history(start='2023-01-01',end='2024-01-01')\n",
    "    try:\n",
    "        beta=yfinance.Ticker(company).info['beta']\n",
    "    except:\n",
    "        beta=0\n",
    "    else:\n",
    "        beta=yfinance.Ticker(company).info['beta']\n",
    "    \n",
    "    roe.append(get_roe(balance,income))\n",
    "    current.append(get_current(balance))\n",
    "    turnover.append(get_turnover(balance,income))\n",
    "    wacc.append(get_wacc(balance,income,beta))\n",
    "    div.append(get_div(income,cashflow,price))\n",
    "    earning.append(get_earnings(income,price))\n",
    "    rev.append(get_rev(income))\n",
    "    ni.append(get_ni(income))\n",
    "    price_change.append(get_price(price))\n",
    "    \n",
    "for stocks in stocks_list[2093:]:\n",
    "    print(str(int(stocks_list.index(stocks)+1))+\". \"+stocks)\n",
    "    propogate(stocks)"
   ]
  },
  {
   "cell_type": "code",
   "execution_count": 66,
   "id": "584d4884",
   "metadata": {
    "scrolled": true
   },
   "outputs": [
    {
     "name": "stdout",
     "output_type": "stream",
     "text": [
      "8000\n"
     ]
    }
   ],
   "source": [
    "print(len(price_change))"
   ]
  },
  {
   "cell_type": "code",
   "execution_count": 68,
   "id": "155c11b7",
   "metadata": {},
   "outputs": [],
   "source": [
    "stocks=pandas.DataFrame()"
   ]
  },
  {
   "cell_type": "code",
   "execution_count": 70,
   "id": "5b543638",
   "metadata": {},
   "outputs": [],
   "source": [
    "stocks=stocks.assign(Stock_Title=stocks_list)"
   ]
  },
  {
   "cell_type": "code",
   "execution_count": 73,
   "id": "568e869d",
   "metadata": {},
   "outputs": [],
   "source": [
    "stocks=stocks.assign(Return_On_Equity=roe)\n",
    "stocks=stocks.assign(Current_Ratio=current)\n",
    "stocks=stocks.assign(Asster_Turnover=turnover)\n",
    "stocks=stocks.assign(WACC=wacc)\n",
    "stocks=stocks.assign(Dividend_Yield=div)\n",
    "stocks=stocks.assign(Earnings_Yield=earning)\n",
    "stocks=stocks.assign(Revenue_Change=rev)\n",
    "stocks=stocks.assign(Net_Income_Change=ni)\n",
    "stocks=stocks.assign(Price_Change=price_change)"
   ]
  },
  {
   "cell_type": "code",
   "execution_count": 74,
   "id": "0bb5603f",
   "metadata": {},
   "outputs": [
    {
     "data": {
      "text/html": [
       "<div>\n",
       "<style scoped>\n",
       "    .dataframe tbody tr th:only-of-type {\n",
       "        vertical-align: middle;\n",
       "    }\n",
       "\n",
       "    .dataframe tbody tr th {\n",
       "        vertical-align: top;\n",
       "    }\n",
       "\n",
       "    .dataframe thead th {\n",
       "        text-align: right;\n",
       "    }\n",
       "</style>\n",
       "<table border=\"1\" class=\"dataframe\">\n",
       "  <thead>\n",
       "    <tr style=\"text-align: right;\">\n",
       "      <th></th>\n",
       "      <th>Stock_Title</th>\n",
       "      <th>Return_On_Equity</th>\n",
       "      <th>Current_Ratio</th>\n",
       "      <th>Asster_Turnover</th>\n",
       "      <th>WACC</th>\n",
       "      <th>Dividend_Yield</th>\n",
       "      <th>Earnings_Yield</th>\n",
       "      <th>Revenue_Change</th>\n",
       "      <th>Net_Income_Change</th>\n",
       "      <th>Price_Change</th>\n",
       "    </tr>\n",
       "  </thead>\n",
       "  <tbody>\n",
       "    <tr>\n",
       "      <th>0</th>\n",
       "      <td>A</td>\n",
       "      <td>0.212147</td>\n",
       "      <td>2.611354</td>\n",
       "      <td>0.634860</td>\n",
       "      <td>0.082986</td>\n",
       "      <td>0.006051</td>\n",
       "      <td>0.030353</td>\n",
       "      <td>0.997810</td>\n",
       "      <td>0.988836</td>\n",
       "      <td>0.012797</td>\n",
       "    </tr>\n",
       "    <tr>\n",
       "      <th>1</th>\n",
       "      <td>AA</td>\n",
       "      <td>-0.024232</td>\n",
       "      <td>1.747670</td>\n",
       "      <td>0.843792</td>\n",
       "      <td>0.130444</td>\n",
       "      <td>0.033233</td>\n",
       "      <td>-0.020000</td>\n",
       "      <td>1.024605</td>\n",
       "      <td>-0.286713</td>\n",
       "      <td>0.026694</td>\n",
       "    </tr>\n",
       "    <tr>\n",
       "      <th>2</th>\n",
       "      <td>AAAU</td>\n",
       "      <td>NaN</td>\n",
       "      <td>NaN</td>\n",
       "      <td>NaN</td>\n",
       "      <td>NaN</td>\n",
       "      <td>0.000000</td>\n",
       "      <td>0.000000</td>\n",
       "      <td>NaN</td>\n",
       "      <td>NaN</td>\n",
       "      <td>0.001645</td>\n",
       "    </tr>\n",
       "    <tr>\n",
       "      <th>3</th>\n",
       "      <td>AACG</td>\n",
       "      <td>-0.334683</td>\n",
       "      <td>0.223087</td>\n",
       "      <td>0.435904</td>\n",
       "      <td>0.079257</td>\n",
       "      <td>6.702935</td>\n",
       "      <td>-1.310345</td>\n",
       "      <td>1.022805</td>\n",
       "      <td>1.423283</td>\n",
       "      <td>-0.031746</td>\n",
       "    </tr>\n",
       "    <tr>\n",
       "      <th>4</th>\n",
       "      <td>AADR</td>\n",
       "      <td>NaN</td>\n",
       "      <td>NaN</td>\n",
       "      <td>NaN</td>\n",
       "      <td>NaN</td>\n",
       "      <td>0.000000</td>\n",
       "      <td>0.000000</td>\n",
       "      <td>NaN</td>\n",
       "      <td>NaN</td>\n",
       "      <td>0.013774</td>\n",
       "    </tr>\n",
       "    <tr>\n",
       "      <th>...</th>\n",
       "      <td>...</td>\n",
       "      <td>...</td>\n",
       "      <td>...</td>\n",
       "      <td>...</td>\n",
       "      <td>...</td>\n",
       "      <td>...</td>\n",
       "      <td>...</td>\n",
       "      <td>...</td>\n",
       "      <td>...</td>\n",
       "      <td>...</td>\n",
       "    </tr>\n",
       "    <tr>\n",
       "      <th>7995</th>\n",
       "      <td>ZUO</td>\n",
       "      <td>-2.037567</td>\n",
       "      <td>1.664058</td>\n",
       "      <td>0.592414</td>\n",
       "      <td>0.122577</td>\n",
       "      <td>0.310171</td>\n",
       "      <td>-0.160638</td>\n",
       "      <td>1.142324</td>\n",
       "      <td>1.991149</td>\n",
       "      <td>-0.007692</td>\n",
       "    </tr>\n",
       "    <tr>\n",
       "      <th>7996</th>\n",
       "      <td>ZVO</td>\n",
       "      <td>NaN</td>\n",
       "      <td>NaN</td>\n",
       "      <td>NaN</td>\n",
       "      <td>NaN</td>\n",
       "      <td>NaN</td>\n",
       "      <td>NaN</td>\n",
       "      <td>NaN</td>\n",
       "      <td>NaN</td>\n",
       "      <td>NaN</td>\n",
       "    </tr>\n",
       "    <tr>\n",
       "      <th>7997</th>\n",
       "      <td>ZYME</td>\n",
       "      <td>0.252235</td>\n",
       "      <td>5.696272</td>\n",
       "      <td>0.635835</td>\n",
       "      <td>0.094126</td>\n",
       "      <td>0.539091</td>\n",
       "      <td>0.183831</td>\n",
       "      <td>15.460345</td>\n",
       "      <td>-0.586949</td>\n",
       "      <td>0.054377</td>\n",
       "    </tr>\n",
       "    <tr>\n",
       "      <th>7998</th>\n",
       "      <td>ZYNE</td>\n",
       "      <td>NaN</td>\n",
       "      <td>NaN</td>\n",
       "      <td>NaN</td>\n",
       "      <td>NaN</td>\n",
       "      <td>NaN</td>\n",
       "      <td>NaN</td>\n",
       "      <td>NaN</td>\n",
       "      <td>NaN</td>\n",
       "      <td>NaN</td>\n",
       "    </tr>\n",
       "    <tr>\n",
       "      <th>7999</th>\n",
       "      <td>ZYXI</td>\n",
       "      <td>0.256909</td>\n",
       "      <td>3.298824</td>\n",
       "      <td>1.358053</td>\n",
       "      <td>0.056539</td>\n",
       "      <td>0.496327</td>\n",
       "      <td>0.040404</td>\n",
       "      <td>1.213859</td>\n",
       "      <td>0.996784</td>\n",
       "      <td>0.020893</td>\n",
       "    </tr>\n",
       "  </tbody>\n",
       "</table>\n",
       "<p>8000 rows × 10 columns</p>\n",
       "</div>"
      ],
      "text/plain": [
       "     Stock_Title  Return_On_Equity  Current_Ratio  Asster_Turnover      WACC  \\\n",
       "0              A          0.212147       2.611354         0.634860  0.082986   \n",
       "1             AA         -0.024232       1.747670         0.843792  0.130444   \n",
       "2           AAAU               NaN            NaN              NaN       NaN   \n",
       "3           AACG         -0.334683       0.223087         0.435904  0.079257   \n",
       "4           AADR               NaN            NaN              NaN       NaN   \n",
       "...          ...               ...            ...              ...       ...   \n",
       "7995         ZUO         -2.037567       1.664058         0.592414  0.122577   \n",
       "7996         ZVO               NaN            NaN              NaN       NaN   \n",
       "7997        ZYME          0.252235       5.696272         0.635835  0.094126   \n",
       "7998        ZYNE               NaN            NaN              NaN       NaN   \n",
       "7999        ZYXI          0.256909       3.298824         1.358053  0.056539   \n",
       "\n",
       "      Dividend_Yield  Earnings_Yield  Revenue_Change  Net_Income_Change  \\\n",
       "0           0.006051        0.030353        0.997810           0.988836   \n",
       "1           0.033233       -0.020000        1.024605          -0.286713   \n",
       "2           0.000000        0.000000             NaN                NaN   \n",
       "3           6.702935       -1.310345        1.022805           1.423283   \n",
       "4           0.000000        0.000000             NaN                NaN   \n",
       "...              ...             ...             ...                ...   \n",
       "7995        0.310171       -0.160638        1.142324           1.991149   \n",
       "7996             NaN             NaN             NaN                NaN   \n",
       "7997        0.539091        0.183831       15.460345          -0.586949   \n",
       "7998             NaN             NaN             NaN                NaN   \n",
       "7999        0.496327        0.040404        1.213859           0.996784   \n",
       "\n",
       "      Price_Change  \n",
       "0         0.012797  \n",
       "1         0.026694  \n",
       "2         0.001645  \n",
       "3        -0.031746  \n",
       "4         0.013774  \n",
       "...            ...  \n",
       "7995     -0.007692  \n",
       "7996           NaN  \n",
       "7997      0.054377  \n",
       "7998           NaN  \n",
       "7999      0.020893  \n",
       "\n",
       "[8000 rows x 10 columns]"
      ]
     },
     "execution_count": 74,
     "metadata": {},
     "output_type": "execute_result"
    }
   ],
   "source": [
    "stocks"
   ]
  },
  {
   "cell_type": "markdown",
   "id": "44be13de",
   "metadata": {},
   "source": [
    "3765 missing stocks. nearly 50%. What this means is that intonation will need to be used, or the 2022 data will be needed to be used to double the stock data. This will lead to 7970 total cases. Imputation will be used first for the preliminary model, with the refining being done with the 2022 data."
   ]
  },
  {
   "cell_type": "markdown",
   "id": "f965dd7d",
   "metadata": {},
   "source": [
    "Note for cleaning phase: Imputate all dividend and earnings yeilds with nan with 0, since that is the logical imputation given the context"
   ]
  },
  {
   "cell_type": "code",
   "execution_count": 75,
   "id": "b2f57154",
   "metadata": {},
   "outputs": [
    {
     "data": {
      "text/plain": [
       "3944"
      ]
     },
     "execution_count": 75,
     "metadata": {},
     "output_type": "execute_result"
    }
   ],
   "source": [
    "roe.count(None)"
   ]
  },
  {
   "cell_type": "code",
   "execution_count": 76,
   "id": "05385a27",
   "metadata": {},
   "outputs": [],
   "source": [
    "stocks.to_csv('Stock_Dataset.csv')"
   ]
  },
  {
   "cell_type": "code",
   "execution_count": null,
   "id": "26d6e34f",
   "metadata": {},
   "outputs": [],
   "source": []
  }
 ],
 "metadata": {
  "kernelspec": {
   "display_name": "Python 3 (ipykernel)",
   "language": "python",
   "name": "python3"
  },
  "language_info": {
   "codemirror_mode": {
    "name": "ipython",
    "version": 3
   },
   "file_extension": ".py",
   "mimetype": "text/x-python",
   "name": "python",
   "nbconvert_exporter": "python",
   "pygments_lexer": "ipython3",
   "version": "3.11.5"
  }
 },
 "nbformat": 4,
 "nbformat_minor": 5
}
